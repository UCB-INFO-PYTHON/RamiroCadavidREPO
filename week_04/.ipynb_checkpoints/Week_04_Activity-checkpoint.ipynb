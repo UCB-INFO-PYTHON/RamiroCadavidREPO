{
 "cells": [
  {
   "cell_type": "markdown",
   "metadata": {},
   "source": [
    "# Unit 4 Live Session - Breakout Activities\n",
    "\n",
    "\n",
    "###  1. Psudocoding"
   ]
  },
  {
   "cell_type": "markdown",
   "metadata": {},
   "source": [
    "## Activity 1 - Psudocoding\n",
    "\n",
    "In class, your instructor walked you through how to psudocode the first part of the Palindrome problem from homework.  For reference, that problem asked you:\n",
    "\n",
    "Pascal's triangle is a triangle of numbers that is computed as follows.  The first row contains a 1.  Each row after that begins and ends with a 1, and every other number is the sum of the two numbers above it.  The first six rows of Pascal's triangle are shown below.\n",
    "```\n",
    "      1\n",
    "     1 1\n",
    "    1 2 1\n",
    "  1  3 3  1\n",
    " 1 4  6  4 1\n",
    "1 5 10 10 5 1\n",
    "```\n",
    "Write a script to compute and print the *n*th row of Pascal's triangle. Do not spend time trying to print the entire triangle in the format above (it is for illustrative purposes only).\n",
    "\n"
   ]
  },
  {
   "cell_type": "markdown",
   "metadata": {},
   "source": [
    "#### Question 1-1:\n",
    "Below is the Psudocode started in class.  This code, for any row \"last_row\", can calculate the next row of Pascal's triangle.  Please update the psudocode to explain how to print the *n*th of Pascal's triangle, instead of just getting the \"next\" row."
   ]
  },
  {
   "cell_type": "code",
   "execution_count": null,
   "metadata": {
    "collapsed": true
   },
   "outputs": [],
   "source": [
    "## We will use two arrays, one for the \"last row\" one for \"current row\"\n",
    "## Insight: Each pass through the loop, we can set \"current row\" to \"last row\". Then we can build a new \"current row\".\n",
    "## We first initialize the two arrays to [1] and [1,1] for rows 1 and 2\n",
    "## We then loop through an algorythm as follows:\n",
    "\n",
    "## 1. Replace \"last_row\" with the contents of \"current_row\" so we can create a new \"current_row\".\n",
    "## 2. Clear out \"current_row\" to have nothing in it.\n",
    "## 3. The 0 digit in current_row is 1\n",
    "## 4. Start a \"While\" loop that iterates until len(current_row) == len(last_row)\n",
    "    ## 5. Use a counter (n) that starts at 1 and increments by 1 each time through the loop\n",
    "    ## 6. Use \"append\" to set current_row[n] = last_row[n] + last_row[n-1]\n",
    "## 7. After exiting the loop, add the final \"1\"\n",
    "\n",
    "## Now wait, what is the problem? This only builds one row. Go into breakouts and, starting with\n",
    "    ## this psudocode, update the psudocode to find the \"N\"th line, as required in the problem. "
   ]
  },
  {
   "cell_type": "markdown",
   "metadata": {},
   "source": [
    "#### Question 1-2:\n",
    "Below is an implementation of the psudocode explained in class. Please update this code to include the steps you added above.  The code below does not have psudocode as comments for clarity, but feel free to use your psudocode as the comments in your solution.   "
   ]
  },
  {
   "cell_type": "code",
   "execution_count": null,
   "metadata": {},
   "outputs": [],
   "source": [
    "# Initalize\n",
    "last_row = [1, 1]\n",
    "current_row = []\n",
    "\n",
    "# First digit of any row is 1\n",
    "current_row.append(1)\n",
    "n = 1\n",
    "# Calculate values of next row\n",
    "while len(current_row) < len(last_row):\n",
    "    current_row.append(last_row[n] + last_row[n-1])\n",
    "    n += 1\n",
    "# Last digit of any row is 1\n",
    "current_row.append(1)\n",
    "\n",
    "print(last_row)\n",
    "print(current_row)"
   ]
  },
  {
   "cell_type": "markdown",
   "metadata": {
    "collapsed": true
   },
   "source": [
    "### Activity 2 - \"For\" vs. \"While\" loops\n",
    "\n",
    "#### Question 2-1: \"For\" Loop\n",
    "The list \"basket\" below is made up of fruit and pokemon.  Using a **for** loop, please iterate through the list and print, once per object, if it is a pokemon or a fruit.\n",
    "\n",
    "Sample output:\n",
    ">`apple is a fruit!\n",
    "jigglypuff is a pokemon!\n",
    "grape is a fruit!\n",
    "pineapple is a fruit!\n",
    "pikachu is a pokemon!`"
   ]
  },
  {
   "cell_type": "code",
   "execution_count": 4,
   "metadata": {},
   "outputs": [],
   "source": [
    "basket = ['apple', 'jigglypuff', 'grape', 'pineapple', 'pikachu']\n",
    "fruit = ['apple', 'grape', 'pineapple']\n",
    "pokemon = ['jigglypuff', 'pikachu']"
   ]
  },
  {
   "cell_type": "code",
   "execution_count": 5,
   "metadata": {},
   "outputs": [
    {
     "name": "stdout",
     "output_type": "stream",
     "text": [
      "apple is a fruit!\n",
      "jigglypuff is a pokemon!\n",
      "grape is a fruit!\n",
      "pineapple is a fruit!\n",
      "pikachu is a pokemon!\n"
     ]
    }
   ],
   "source": [
    "for item in basket:\n",
    "    if item in fruit:\n",
    "        print(item, 'is a fruit!')\n",
    "    elif item in pokemon:\n",
    "        print(item, 'is a pokemon!')\n",
    "    else:\n",
    "        print('What is this?')"
   ]
  },
  {
   "cell_type": "markdown",
   "metadata": {},
   "source": [
    "#### Question 2-2: \"While\" Loop\n",
    "\n",
    "Now, please try to implement the same program using a **while** loop.  Again, your output should be:\n",
    "\n",
    "Sample output:\n",
    ">`apple is a fruit!\n",
    "jigglypuff is a pokemon!\n",
    "grape is a fruit!\n",
    "pineapple is a fruit!\n",
    "pikachu is a pokemon!`"
   ]
  },
  {
   "cell_type": "code",
   "execution_count": null,
   "metadata": {
    "collapsed": true
   },
   "outputs": [],
   "source": [
    "basket = ['apple', 'jigglypuff', 'grape', 'pineapple', 'pikachu']\n",
    "fruit = ['apple', 'grape', 'pineapple']\n",
    "pokemon = ['jigglypuff', 'pikachu']"
   ]
  },
  {
   "cell_type": "code",
   "execution_count": 6,
   "metadata": {},
   "outputs": [
    {
     "name": "stdout",
     "output_type": "stream",
     "text": [
      "apple is a fruit!\n",
      "jigglypuff is a pokemon!\n",
      "grape is a fruit!\n",
      "pineapple is a fruit!\n",
      "pikachu is a pokemon!\n"
     ]
    }
   ],
   "source": [
    "count = 0\n",
    "while count < len(basket):\n",
    "    item = basket[count]\n",
    "    if item in fruit:\n",
    "        print(item, 'is a fruit!')\n",
    "    elif item in pokemon:\n",
    "        print(item, 'is a pokemon!')\n",
    "    else:\n",
    "        print('TF is this')\n",
    "    count += 1"
   ]
  },
  {
   "cell_type": "markdown",
   "metadata": {},
   "source": [
    "#### Question 2-3\n",
    "In your own words, when is it better to use a \"for\" loop than a \"while\" loop?  When is it better to use a \"while\" loop?"
   ]
  },
  {
   "cell_type": "markdown",
   "metadata": {},
   "source": [
    "[Put answer here]"
   ]
  },
  {
   "cell_type": "markdown",
   "metadata": {},
   "source": [
    "### Activity 3 - Comprehensions"
   ]
  },
  {
   "cell_type": "markdown",
   "metadata": {},
   "source": [
    "**Question 3-1**\n",
    "\n",
    "Build list comprehensions to do the following:\n",
    "\n",
    "1. Create a list 'a' that multiplies each element of the sample_list by itself (x^2).\n",
    "2. Create a list 'b' that multiplies each element of the sample_list by itself, if the number is less than or equal to 4.\n",
    "3. Create a list 'c' of tuples (x^2, x^3) for each element of the sample_list.\n",
    "4. Create a list 'd' that extracts the second element from each tuple in list 'c'."
   ]
  },
  {
   "cell_type": "code",
   "execution_count": 11,
   "metadata": {},
   "outputs": [
    {
     "name": "stdout",
     "output_type": "stream",
     "text": [
      "[1, 4, 9, 16, 25, 36]\n",
      "[1, 4, 9, 16]\n",
      "[(1, 1), (4, 8), (9, 27), (16, 64), (25, 125), (36, 216)]\n",
      "[1, 8, 27, 64, 125, 216]\n"
     ]
    }
   ],
   "source": [
    "sample_list = [1, 2, 3, 4, 5, 6]\n",
    "\n",
    "a = [x ** 2 for x in sample_list]\n",
    "b = [x ** 2 for x in sample_list if x <= 4]\n",
    "c = [(x**2, x**3) for x in sample_list]\n",
    "d = [i[1] for i in c]\n",
    "\n",
    "print(a)\n",
    "print(b)\n",
    "print(c)\n",
    "print(d)"
   ]
  },
  {
   "cell_type": "markdown",
   "metadata": {
    "collapsed": true
   },
   "source": [
    "**Question 3-2** \n",
    "\n",
    "Load in the data that is available in this repository! Here's how to get started with loading in the data.\n",
    "\n",
    "```python\n",
    "import json\n",
    "\n",
    "with open(\"data.json\") as f:\n",
    "     temp = json.load(f)\n",
    "     data = temp['data']\n",
    "     cols = temp['cols']\n",
    "```"
   ]
  },
  {
   "cell_type": "code",
   "execution_count": 18,
   "metadata": {},
   "outputs": [
    {
     "name": "stdout",
     "output_type": "stream",
     "text": [
      "<class 'list'>\n",
      "['Name', 'Phone', 'Address', 'City', 'State', 'Zip']\n",
      "<class 'list'>\n",
      "[['Reed', '1-186-988-9663', 'P.O. Box 371, 4863 Sed, St.', 'Iowa City', 'Iowa', '18517'], ['Clark', '757-2680', 'P.O. Box 220, 8838 Ligula Street', 'Jacksonville', 'FL', '43572'], ['Demetrius', '1-707-814-6484', '282-6791 Lorem Rd.', 'Reading', 'PA', '80187'], ['Davis', '424-2014', 'P.O. Box 578, 2683 In Av.', 'College', 'Alaska', '99758'], ['Hammett', '1-718-960-0437', 'Ap #240-3360 At Av.', 'Columbus', 'Georgia', '92331'], ['Ivor', '123-7017', '8729 Ut Av.', 'Duluth', 'MN', '20605'], ['Drew', '1-864-949-9484', '6801 Phasellus Rd.', 'Joliet', 'IL', '58819'], ['Quentin', '121-5941', '308-2050 Mauris St.', 'Austin', 'TX', '81392'], ['Giacomo', '806-4546', '7404 Ornare, Ave', 'Springfield', 'MA', '34013'], ['Avram', '261-1266', '330-9816 Feugiat Rd.', 'Cleveland', 'Ohio', '70968'], ['Neil', '903-5893', 'Ap #540-7554 Dui. Av.', 'Lansing', 'MI', '55196'], ['Jerry', '1-807-896-0508', '494-2099 Metus. Avenue', 'Pittsburgh', 'Pennsylvania', '33939'], ['Ulysses', '666-5671', '8307 Non Avenue', 'Tacoma', 'Washington', '52060'], ['Armando', '552-1617', 'P.O. Box 196, 2227 Eu Street', 'Essex', 'VT', '18631'], ['Derek', '456-5056', '4241 Sagittis Street', 'Sterling Heights', 'Michigan', '38290'], ['Jamal', '961-4557', 'P.O. Box 872, 1391 Aliquam Av.', 'Laramie', 'Wyoming', '61590'], ['Vance', '1-661-742-0429', 'Ap #332-5985 Nec Rd.', 'Phoenix', 'AZ', '86555'], ['Galvin', '1-220-754-5143', '317-1624 Nulla St.', 'Saint Paul', 'Minnesota', '35233'], ['Kenyon', '1-499-480-0820', 'P.O. Box 628, 4669 Quisque Rd.', 'Jackson', 'MS', '82712'], ['James', '1-367-530-4094', 'Ap #569-4793 Egestas. Rd.', 'Colorado Springs', 'CO', '47146'], ['Phillip', '1-540-873-0092', 'Ap #638-9403 Lorem Av.', 'Fort Worth', 'Texas', '71275'], ['Brody', '295-4026', '696 Suspendisse Rd.', 'Annapolis', 'Maryland', '47001'], ['Emery', '1-312-628-6993', 'Ap #296-9173 Nonummy. Road', 'Austin', 'TX', '65851'], ['Jarrod', '100-1188', 'P.O. Box 198, 1857 Neque. Ave', 'Topeka', 'Kansas', '85506'], ['Nolan', '829-2667', 'P.O. Box 997, 6495 Nibh Av.', 'Jefferson City', 'MO', '89781'], ['Yoshio', '1-334-245-3017', 'Ap #117-7654 Magna. Rd.', 'South Portland', 'ME', '94574'], ['Norman', '1-414-646-2244', '2850 Nibh. Street', 'Athens', 'GA', '24643'], ['Thomas', '386-9355', '457-8793 Curabitur Road', 'Missoula', 'Montana', '51813'], ['Burton', '537-4363', '4244 Urna, Rd.', 'Billings', 'MT', '89820'], ['Clayton', '1-310-760-5764', '824 Nec, Rd.', 'Boise', 'ID', '22360'], ['Vladimir', '1-260-313-0585', 'Ap #108-7232 Sit Avenue', 'Fresno', 'California', '92883'], ['Lionel', '1-138-741-7479', 'P.O. Box 283, 7163 Nec St.', 'Bellevue', 'WA', '14400'], ['Dalton', '1-554-675-1599', '6833 Vulputate Avenue', 'West Jordan', 'Utah', '96861'], ['Joseph', '526-5432', '7201 Nec Rd.', 'New Orleans', 'LA', '85965'], ['Hoyt', '383-4839', 'P.O. Box 549, 9557 Mauris. Rd.', 'Cincinnati', 'Ohio', '37035'], ['Tobias', '353-4286', 'P.O. Box 478, 6376 Aliquet, Av.', 'Olathe', 'KS', '77180'], ['Ferdinand', '1-393-182-6231', 'Ap #850-8466 Orci Ave', 'Springfield', 'Illinois', '33365'], ['Driscoll', '1-686-258-4283', 'P.O. Box 872, 4629 Dui. St.', 'Reno', 'Nevada', '66934'], ['Bert', '134-6092', '5941 Fusce Road', 'Provo', 'UT', '64165'], ['Noah', '898-6101', '2455 Malesuada Road', 'Stamford', 'CT', '75733'], ['Ulysses', '1-345-551-3794', '299-9419 Id St.', 'Green Bay', 'Wisconsin', '66829'], ['Keith', '1-382-215-8999', 'Ap #423-9206 Vitae Avenue', 'Kearney', 'Nebraska', '29432'], ['Drake', '1-384-930-7825', '567-7790 Ipsum Avenue', 'Springfield', 'Massachusetts', '53876'], ['George', '1-755-579-5717', '730-3499 Ut Rd.', 'Hillsboro', 'OR', '45357'], ['Christian', '279-2636', 'Ap #484-6588 Integer St.', 'Columbus', 'Ohio', '75444'], ['Yoshio', '1-860-795-5519', 'Ap #284-8791 Dictum Rd.', 'Gresham', 'OR', '47539'], ['Connor', '489-2835', '2434 Nulla. Rd.', 'Kailua', 'Hawaii', '98799'], ['Dylan', '1-596-569-0803', 'P.O. Box 582, 5112 Donec Street', 'Honolulu', 'Hawaii', '29377'], ['Amery', '271-7596', 'P.O. Box 268, 7841 Pede. St.', 'Savannah', 'Georgia', '25781'], ['Connor', '1-853-856-0196', 'Ap #884-7086 A, Street', 'Erie', 'Pennsylvania', '90627'], ['Ralph', '1-194-996-7310', '4330 Gravida Avenue', 'Gulfport', 'Mississippi', '14996'], ['Harlan', '1-854-959-2526', '254-3310 Eu, St.', 'Iowa City', 'IA', '92190'], ['Kennedy', '527-3998', 'P.O. Box 738, 7394 Ac St.', 'Minneapolis', 'Minnesota', '68057'], ['Alec', '750-5753', '553-4641 Volutpat. Road', 'Houston', 'TX', '89023'], ['Warren', '751-3918', 'P.O. Box 776, 5978 Nunc Ave', 'Colorado Springs', 'CO', '37248'], ['Talon', '213-4311', '664-777 Pellentesque Rd.', 'Naperville', 'IL', '52684'], ['Steven', '1-846-872-4914', '8432 Vestibulum Ave', 'Bowling Green', 'Kentucky', '69306'], ['Roth', '1-258-998-7158', 'P.O. Box 340, 6792 In Avenue', 'Wichita', 'KS', '74717'], ['Giacomo', '228-3039', '923-5412 Ullamcorper. Av.', 'Norman', 'Oklahoma', '45772'], ['Davis', '1-769-482-8286', 'Ap #674-3096 Sed Ave', 'Augusta', 'ME', '56077'], ['Dillon', '921-1181', 'P.O. Box 886, 5711 Auctor, St.', 'Cambridge', 'MA', '32147'], ['Aidan', '1-984-711-9462', '526-8302 Amet St.', 'Fayetteville', 'AR', '72381'], ['Ian', '336-8017', 'Ap #774-3952 Mauris, Rd.', 'Helena', 'Montana', '76988'], ['Bert', '315-6071', '910-4022 Amet, Rd.', 'Springdale', 'AR', '72073'], ['Alexander', '827-5102', 'Ap #837-2330 At, Rd.', 'Springfield', 'IL', '17251'], ['Logan', '1-274-570-4439', 'Ap #679-3965 Neque. Rd.', 'Virginia Beach', 'VA', '66764'], ['Hu', '291-5467', '198-1017 Elit Ave', 'Topeka', 'KS', '14973'], ['Benjamin', '1-149-920-6553', '605-385 Vestibulum Avenue', 'Kaneohe', 'HI', '14287'], ['Lucas', '1-523-649-1350', 'Ap #121-4837 Ullamcorper, Avenue', 'Clarksville', 'TN', '96850'], ['Austin', '1-526-554-4190', '383 Maecenas St.', 'Bellevue', 'Nebraska', '59550'], ['Lester', '510-1730', '205 Mi Av.', 'Bellevue', 'WA', '67814'], ['Joshua', '1-829-779-4013', 'P.O. Box 811, 8156 Tempus Rd.', 'Baton Rouge', 'Louisiana', '54525'], ['Cyrus', '224-1676', 'Ap #294-8649 Malesuada Ave', 'Eugene', 'Oregon', '51081'], ['Talon', '709-8727', '868-6392 Lectus Ave', 'Miami', 'FL', '56488'], ['Philip', '828-3727', '676-6523 Et St.', 'Springdale', 'Arkansas', '72140'], ['Clark', '701-9509', 'P.O. Box 804, 5436 Purus. St.', 'Casper', 'WY', '89686'], ['Dean', '1-251-143-2893', 'P.O. Box 301, 7184 Quis St.', 'Duluth', 'Minnesota', '75524'], ['Ulysses', '1-587-815-1654', 'P.O. Box 539, 6644 Enim St.', 'Lewiston', 'Maine', '88588'], ['Arsenio', '1-118-744-0704', '101-4540 Vulputate, Av.', 'Rockford', 'IL', '37322'], ['Macaulay', '1-502-585-1019', '869-1500 Lorem, St.', 'Hattiesburg', 'MS', '46640'], ['Marsden', '203-3348', 'P.O. Box 382, 5090 Quam St.', 'Olathe', 'Kansas', '70461'], ['Joel', '1-912-417-3765', '7331 Proin Street', 'Rockford', 'IL', '56702'], ['Lane', '1-374-935-1437', 'Ap #600-8662 Mollis Avenue', 'Worcester', 'MA', '97835'], ['Reese', '1-308-432-7528', 'Ap #263-736 Nunc Street', 'Sterling Heights', 'Michigan', '19674'], ['Ali', '1-133-956-0980', 'Ap #985-4369 Sed Rd.', 'Juneau', 'Alaska', '99991'], ['Marshall', '1-754-686-8473', '8055 Velit St.', 'Essex', 'Vermont', '29574'], ['Beck', '1-322-605-5384', '898-1178 Tristique St.', 'Rockford', 'IL', '51722'], ['Kenyon', '1-323-359-1986', 'P.O. Box 759, 563 Vivamus Rd.', 'Grand Rapids', 'MI', '55942'], ['Sean', '692-2058', 'P.O. Box 202, 6041 Semper, Rd.', 'Shreveport', 'LA', '73677'], ['David', '1-967-307-7419', '287-5334 Penatibus Avenue', 'Springfield', 'Massachusetts', '47421'], ['Brian', '621-4923', '3567 Id, St.', 'Duluth', 'Minnesota', '30356'], ['Thor', '760-7789', '970-9812 Duis Street', 'Lincoln', 'NE', '21016'], ['Carter', '474-8060', 'P.O. Box 719, 4379 Interdum Rd.', 'Fort Collins', 'Colorado', '28057'], ['Brady', '1-210-344-3611', '3842 Risus St.', 'Tallahassee', 'FL', '51907'], ['Ian', '1-540-597-1825', 'P.O. Box 574, 1476 A, St.', 'Norfolk', 'VA', '59800'], ['Kaseem', '873-6790', 'P.O. Box 269, 2958 Mauris, Av.', 'Fairbanks', 'AK', '99977'], ['Devin', '500-2505', '6713 Malesuada St.', 'San Antonio', 'Texas', '69500'], ['Drew', '1-569-640-0785', '803-7564 Vel Avenue', 'Hilo', 'Hawaii', '82964'], ['Xanthus', '939-9238', 'Ap #430-6607 A Ave', 'Salt Lake City', 'Utah', '16176'], ['Yasir', '737-8338', '794-3680 Ut Rd.', 'Des Moines', 'Iowa', '49774']]\n"
     ]
    }
   ],
   "source": [
    "import json\n",
    "\n",
    "with open(\"data.json\") as f:\n",
    "    temp = json.load(f)\n",
    "    data = temp['data']\n",
    "    cols = temp['cols']\n",
    "    \n",
    "print(type(cols))\n",
    "print(cols)\n",
    "print(type(data))\n",
    "print(data)"
   ]
  },
  {
   "cell_type": "markdown",
   "metadata": {},
   "source": [
    "- Write a comprehension that will extract out all the names and removes duplicates in doing so. The resulting data structure may be a list or a set.\n"
   ]
  },
  {
   "cell_type": "code",
   "execution_count": 21,
   "metadata": {},
   "outputs": [
    {
     "name": "stdout",
     "output_type": "stream",
     "text": [
      "{'Lucas', 'Talon', 'Vance', 'Devin', 'Alexander', 'Ali', 'Hammett', 'Tobias', 'George', 'Nolan', 'Sean', 'Logan', 'Philip', 'Yoshio', 'James', 'Connor', 'Lester', 'Vladimir', 'Macaulay', 'Marsden', 'Avram', 'Hu', 'Steven', 'Clayton', 'Lane', 'Drake', 'Joshua', 'Galvin', 'Dean', 'Hoyt', 'Drew', 'Arsenio', 'David', 'Clark', 'Kenyon', 'Bert', 'Dalton', 'Dylan', 'Brady', 'Austin', 'Noah', 'Jerry', 'Demetrius', 'Dillon', 'Davis', 'Burton', 'Driscoll', 'Neil', 'Marshall', 'Alec', 'Joel', 'Reese', 'Ferdinand', 'Keith', 'Brian', 'Cyrus', 'Roth', 'Armando', 'Norman', 'Amery', 'Kennedy', 'Christian', 'Carter', 'Ian', 'Ralph', 'Giacomo', 'Yasir', 'Thor', 'Xanthus', 'Ulysses', 'Brody', 'Kaseem', 'Ivor', 'Harlan', 'Benjamin', 'Jarrod', 'Lionel', 'Emery', 'Beck', 'Aidan', 'Jamal', 'Reed', 'Thomas', 'Phillip', 'Warren', 'Quentin', 'Joseph', 'Derek'}\n"
     ]
    }
   ],
   "source": [
    "names = set([entry[0] for entry in data])\n",
    "print(names)"
   ]
  },
  {
   "cell_type": "markdown",
   "metadata": {},
   "source": [
    "- Count the number of people in each state. There are several ways of doing this so I won't give any tips!"
   ]
  },
  {
   "cell_type": "code",
   "execution_count": 55,
   "metadata": {},
   "outputs": [
    {
     "name": "stdout",
     "output_type": "stream",
     "text": [
      "{'TX': 3, 'VT': 1, 'MS': 2, 'Nebraska': 2, 'Hawaii': 3, 'ME': 2, 'Iowa': 2, 'AK': 1, 'Georgia': 2, 'UT': 1, 'AR': 2, 'MA': 3, 'IA': 1, 'Washington': 1, 'VA': 2, 'MI': 2, 'Minnesota': 4, 'Mississippi': 1, 'MO': 1, 'PA': 1, 'Wyoming': 1, 'Texas': 2, 'Arkansas': 1, 'KS': 3, 'Illinois': 1, 'Wisconsin': 1, 'Massachusetts': 2, 'MT': 1, 'Oregon': 1, 'GA': 1, 'ID': 1, 'HI': 1, 'WY': 1, 'Colorado': 1, 'CO': 2, 'Oklahoma': 1, 'IL': 6, 'Pennsylvania': 2, 'Kentucky': 1, 'AZ': 1, 'NE': 1, 'Alaska': 2, 'WA': 2, 'Utah': 2, 'Vermont': 1, 'Maryland': 1, 'CT': 1, 'TN': 1, 'Nevada': 1, 'OR': 2, 'Louisiana': 1, 'MN': 1, 'Michigan': 2, 'Kansas': 2, 'California': 1, 'Montana': 2, 'Ohio': 3, 'LA': 2, 'FL': 3, 'Maine': 1}\n"
     ]
    }
   ],
   "source": [
    "# With only comprehensions\n",
    "states = list({entry[-2] for entry in data})\n",
    "state_rep = [entry[-2] for entry in data]\n",
    "state_count = {state: state_rep.count(state) for state in states}\n",
    "print(state_count)\n",
    "\n",
    "# # Without using only comprehensions\n",
    "# states = {entry[-2] for entry in data}\n",
    "# state_count = dict()\n",
    "# for state in states:\n",
    "#     count = 0\n",
    "#     for entry in data:\n",
    "#         if entry[-2] == state:\n",
    "#             count += 1\n",
    "#     state_count[state] = count\n",
    "# print(state_count)"
   ]
  },
  {
   "cell_type": "markdown",
   "metadata": {},
   "source": [
    "- Write a comprehension that will end up with a key of name and value of phone number. The result should be a dictionary."
   ]
  },
  {
   "cell_type": "code",
   "execution_count": 32,
   "metadata": {},
   "outputs": [
    {
     "name": "stdout",
     "output_type": "stream",
     "text": [
      "{'Reed': '1-186-988-9663', 'Clark': '701-9509', 'Demetrius': '1-707-814-6484', 'Davis': '1-769-482-8286', 'Hammett': '1-718-960-0437', 'Ivor': '123-7017', 'Drew': '1-569-640-0785', 'Quentin': '121-5941', 'Giacomo': '228-3039', 'Avram': '261-1266', 'Neil': '903-5893', 'Jerry': '1-807-896-0508', 'Ulysses': '1-587-815-1654', 'Armando': '552-1617', 'Derek': '456-5056', 'Jamal': '961-4557', 'Vance': '1-661-742-0429', 'Galvin': '1-220-754-5143', 'Kenyon': '1-323-359-1986', 'James': '1-367-530-4094', 'Phillip': '1-540-873-0092', 'Brody': '295-4026', 'Emery': '1-312-628-6993', 'Jarrod': '100-1188', 'Nolan': '829-2667', 'Yoshio': '1-860-795-5519', 'Norman': '1-414-646-2244', 'Thomas': '386-9355', 'Burton': '537-4363', 'Clayton': '1-310-760-5764', 'Vladimir': '1-260-313-0585', 'Lionel': '1-138-741-7479', 'Dalton': '1-554-675-1599', 'Joseph': '526-5432', 'Hoyt': '383-4839', 'Tobias': '353-4286', 'Ferdinand': '1-393-182-6231', 'Driscoll': '1-686-258-4283', 'Bert': '315-6071', 'Noah': '898-6101', 'Keith': '1-382-215-8999', 'Drake': '1-384-930-7825', 'George': '1-755-579-5717', 'Christian': '279-2636', 'Connor': '1-853-856-0196', 'Dylan': '1-596-569-0803', 'Amery': '271-7596', 'Ralph': '1-194-996-7310', 'Harlan': '1-854-959-2526', 'Kennedy': '527-3998', 'Alec': '750-5753', 'Warren': '751-3918', 'Talon': '709-8727', 'Steven': '1-846-872-4914', 'Roth': '1-258-998-7158', 'Dillon': '921-1181', 'Aidan': '1-984-711-9462', 'Ian': '1-540-597-1825', 'Alexander': '827-5102', 'Logan': '1-274-570-4439', 'Hu': '291-5467', 'Benjamin': '1-149-920-6553', 'Lucas': '1-523-649-1350', 'Austin': '1-526-554-4190', 'Lester': '510-1730', 'Joshua': '1-829-779-4013', 'Cyrus': '224-1676', 'Philip': '828-3727', 'Dean': '1-251-143-2893', 'Arsenio': '1-118-744-0704', 'Macaulay': '1-502-585-1019', 'Marsden': '203-3348', 'Joel': '1-912-417-3765', 'Lane': '1-374-935-1437', 'Reese': '1-308-432-7528', 'Ali': '1-133-956-0980', 'Marshall': '1-754-686-8473', 'Beck': '1-322-605-5384', 'Sean': '692-2058', 'David': '1-967-307-7419', 'Brian': '621-4923', 'Thor': '760-7789', 'Carter': '474-8060', 'Brady': '1-210-344-3611', 'Kaseem': '873-6790', 'Devin': '500-2505', 'Xanthus': '939-9238', 'Yasir': '737-8338'}\n"
     ]
    }
   ],
   "source": [
    "name_num = {entry[0]: entry[1] for entry in data}\n",
    "print(name_num)"
   ]
  },
  {
   "cell_type": "markdown",
   "metadata": {},
   "source": [
    "- Write a comprehension to find which letters of the alphabet (if any) are not used as the first letter in their names. Don't just list which ones we have, but which ones we are missing.\n",
    "\n",
    "Hint for this last one use:\n",
    "```python\n",
    "import string\n",
    "string.ascii_lowercase\n",
    "```"
   ]
  },
  {
   "cell_type": "code",
   "execution_count": 47,
   "metadata": {},
   "outputs": [
    {
     "name": "stdout",
     "output_type": "stream",
     "text": [
      "[{'a': True}, {'b': True}, {'c': True}, {'d': True}, {'e': True}, {'f': True}, {'g': True}, {'h': True}, {'i': True}, {'j': True}, {'k': True}, {'l': True}, {'m': True}, {'n': True}, {'o': False}, {'p': True}, {'q': True}, {'r': True}, {'s': True}, {'t': True}, {'u': True}, {'v': True}, {'w': True}, {'x': True}, {'y': True}, {'z': False}]\n"
     ]
    }
   ],
   "source": [
    "import string\n",
    "ascii = string.ascii_lowercase\n",
    "letters = [{letter: letter in {entry[0][0].lower() for entry in data}} for letter in ascii]\n",
    "print(letters)"
   ]
  }
 ],
 "metadata": {
  "anaconda-cloud": {},
  "kernelspec": {
   "display_name": "Python 3",
   "language": "python",
   "name": "python3"
  },
  "language_info": {
   "codemirror_mode": {
    "name": "ipython",
    "version": 3
   },
   "file_extension": ".py",
   "mimetype": "text/x-python",
   "name": "python",
   "nbconvert_exporter": "python",
   "pygments_lexer": "ipython3",
   "version": "3.6.4"
  }
 },
 "nbformat": 4,
 "nbformat_minor": 1
}
