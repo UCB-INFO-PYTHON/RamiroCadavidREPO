{
 "cells": [
  {
   "cell_type": "markdown",
   "metadata": {},
   "source": [
    "## Week 4 Assignment - W200 Python Fundamentals for Data Science, UC Berkeley MIDS"
   ]
  },
  {
   "cell_type": "markdown",
   "metadata": {},
   "source": [
    "Write code in this jupyter Notebook to solve the following problems. Please upload this **Notebook** with your solutions to your GitHub repository in your SUBMISSIONS/week_04 folder by 11:59PM PST the night before class."
   ]
  },
  {
   "cell_type": "markdown",
   "metadata": {},
   "source": [
    "## Objectives:\n",
    "\n",
    "- More practice with for & while loops, if statements and gathering user inputs\n",
    "- Demonstrate use of Python list comprehensions.\n",
    "- Understand the pseudo-coding and algorithm complexities"
   ]
  },
  {
   "cell_type": "markdown",
   "metadata": {},
   "source": [
    "## General Guidelines:\n",
    "\n",
    "- In each code block please fill in the ### comment at the top of a cell with your name  for ease of grading\n",
    "- Limited user input validation and error checking is encouraged on this assignment. Each question below will indicate the type of input that you can expect. (for example, if the question states the input will be an integer, you can expect the user to input an integer and do not need to check to ensure it is an integer versus a float or a string)\n",
    "- Adding comments in your code is strongly suggested but won't be graded.\n",
    "- The examples given are samples of how we will test/grade your code. Please ensure your code outputs the same information."
   ]
  },
  {
   "cell_type": "markdown",
   "metadata": {},
   "source": [
    "## 4-1. Loops\n",
    "### 4-1-1. For Loops\n",
    "\n",
    "Write a script that prompts the user for two words (two, one-word strings).  Print all the **unique** letters that are common to both words, in alphabetical order, using **for** loops in your solution.\n",
    "\n",
    "For example:\n",
    "```\n",
    "Enter one word: Home\n",
    "Enter another word: meter\n",
    "\n",
    "Letters in common: em\n",
    "```"
   ]
  },
  {
   "cell_type": "code",
   "execution_count": 12,
   "metadata": {},
   "outputs": [
    {
     "name": "stdout",
     "output_type": "stream",
     "text": [
      "Enter one word: Home\n",
      "Enter another word: meter\n",
      "Letters in common: me\n"
     ]
    }
   ],
   "source": [
    "### Ramiro Cadavid\n",
    "\n",
    "# Prompt user for two words\n",
    "word1 = set(input(\"Enter one word: \").lower())\n",
    "word2 = set(input(\"Enter another word: \").lower())\n",
    "common = []\n",
    "\n",
    "# For each letter in first word\n",
    "for letter in word1:\n",
    "    # If letter is in second word, add it to list\n",
    "    if letter in word2:\n",
    "        common.append(letter) \n",
    "\n",
    "# Print list\n",
    "print(\"Letters in common:\", ''.join(common))"
   ]
  },
  {
   "cell_type": "markdown",
   "metadata": {},
   "source": [
    "### 4-1-2. A Game of Chess\n",
    "You place a pawn at the top left corner of an n-by-n chess board, labeled (0,0).  For each move, you have a choice: move the pawn down a single space, or move the pawn down one space and right one space.  That is, if the pawn is at position (i,j), you can move the pawn to (i+1,j) or (i+1, j+1).\n",
    "\n",
    "Ask the user for the size of a chessboard, n (**integer**).  Find the number of different paths **starting from (0,0)** that the pawn could take to reach each position on the chess board.  For example, there are two different paths the pawn can take to reach (2,1). Look at the diagrams below to convince yourself of this. You can see the four paths that you can take by move 2.\n",
    "\n",
    "   Start| Move 1   |Move 2\n",
    "\n",
    "  (0,0)  -> (1,0)   ->(2,1)\n",
    "  \n",
    "  (0,0)  -> (1,0)   ->(2,0)\n",
    "  \n",
    "  (0,0)  -> (1,1)   ->(2,1)\n",
    "  \n",
    "  (0,0)  -> (1,1)   ->(2,2)\n",
    "\n",
    "Print the board with the number of ways to reach each square labeled as shown below.\n",
    "\n",
    "For example:\n",
    "```\n",
    "Enter a board size: 4\n",
    "\n",
    "1 0 0 0\n",
    "1 1 0 0\n",
    "1 2 1 0\n",
    "1 3 3 1\n",
    "```\n",
    "\n",
    "#### Please create pseudocode for this problem in the first cell then implement your solution in the second cell."
   ]
  },
  {
   "cell_type": "code",
   "execution_count": null,
   "metadata": {},
   "outputs": [],
   "source": [
    "### Ramiro Cadavid\n",
    "\n",
    "# Pseudocode Here\n",
    "\n",
    "# Ask user to enter a board size\n",
    "\n",
    "# Create a previous_list, with 'size' elements, first element has value 1, the rest 0\n",
    "# Print previous_list\n",
    "\n",
    "# Repeat the following steps, (size - 1) times:\n",
    "    # Create a list with one item, of value 1\n",
    "    # Add (size - 1) elements to the list created above, where the value of each item i is\\\n",
    "    #    item[i - 1] + item[i] of the previous_list\n",
    "    # Print current_list\n",
    "    # Make previous_list equal to current_list"
   ]
  },
  {
   "cell_type": "code",
   "execution_count": 2,
   "metadata": {
    "scrolled": true
   },
   "outputs": [
    {
     "name": "stdout",
     "output_type": "stream",
     "text": [
      "Enter a board size: 5\n",
      "1 0 0 0 0 \n",
      "1 1 0 0 0 \n",
      "1 2 1 0 0 \n",
      "1 3 3 1 0 \n",
      "1 4 6 4 1 \n"
     ]
    }
   ],
   "source": [
    "### Ramiro Cadavid\n",
    "\n",
    "# Implement Here\n",
    "# Ask user to enter a board size\n",
    "n = int(input(\"Enter a board size: \"))\n",
    "\n",
    "# Create a previous_list, with 'size' elements, first element has value 1, the rest 0\n",
    "previous_list = [0 for x in range(n)]\n",
    "previous_list[0] = 1\n",
    "# Print previous_list\n",
    "for item in previous_list:\n",
    "    print(item, end = ' ')\n",
    "print('')\n",
    "\n",
    "# Repeat the following steps, (size - 1) times:\n",
    "for line in range(n - 1):\n",
    "    # Create a list with one element (1)\n",
    "    current_list = [1]\n",
    "    # For each item from 1 to the size of the board:\n",
    "    for item in range(1, n):\n",
    "        # element[i] is equal to element[i - 1] + element[i] of previous_list\n",
    "        current_list.append(previous_list[item - 1] + previous_list[item])\n",
    "    # Print current_list\n",
    "    for i in current_list:\n",
    "        print(i, end = ' ')\n",
    "    print('')\n",
    "    # Make previous_list equal to current_list\n",
    "    previous_list = current_list"
   ]
  },
  {
   "cell_type": "markdown",
   "metadata": {},
   "source": [
    "## 4-2. Algorithms\n",
    "\n",
    "### 4-2-1. Fixing the Bisection Search\n",
    "\n",
    "The bisection code below finds the square root of a number. Try inputting 16 into the code to confirm it works. Next, try inputting 0.25 into the bisection search algorithm below and confirm that it doesn't work. Then correct the algorithm so that it works for all positive numbers, including decimals such as 0.25."
   ]
  },
  {
   "cell_type": "code",
   "execution_count": 26,
   "metadata": {},
   "outputs": [
    {
     "name": "stdout",
     "output_type": "stream",
     "text": [
      "enter a number:0.25\n",
      "low = 0.25 high = 1\n",
      "low = 0.25 high = 0.625\n",
      "low = 0.4375 high = 0.625\n",
      "low = 0.4375 high = 0.53125\n",
      "low = 0.484375 high = 0.53125\n",
      "low = 0.484375 high = 0.5078125\n",
      "low = 0.49609375 high = 0.5078125\n",
      "low = 0.49609375 high = 0.501953125\n",
      "low = 0.4990234375 high = 0.501953125\n",
      "low = 0.4990234375 high = 0.50048828125\n",
      "low = 0.499755859375 high = 0.50048828125\n",
      "low = 0.499755859375 high = 0.5001220703125\n",
      "low = 0.49993896484375 high = 0.5001220703125\n",
      "low = 0.49993896484375 high = 0.500030517578125\n",
      "low = 0.4999847412109375 high = 0.500030517578125\n",
      "low = 0.4999847412109375 high = 0.5000076293945312\n",
      "number of guesses = 16\n",
      "0.5000019073486328 is close to square root of 0.25\n"
     ]
    }
   ],
   "source": [
    "### Ramiro Cadavid\n",
    "## Please fix the code in this cell (that is don't make a new cell)\n",
    "## Bisection Search to Find a Square Root\n",
    "\n",
    "x = float(input(\"enter a number:\"))\n",
    "epsilon = 0.00001\n",
    "num_guesses = 0\n",
    "\n",
    "# Fixed in lines 10-15\n",
    "if x >= 1:\n",
    "    high = x\n",
    "    low = 0\n",
    "else:\n",
    "    high = 1\n",
    "    low = x\n",
    "\n",
    "ans = (high + low)/2.0\n",
    "while high - low >= 2 * epsilon:\n",
    "    print(\"low =\",low,\"high =\", high)\n",
    "    num_guesses += 1\n",
    "    if ans ** 2 < x:\n",
    "        low = ans\n",
    "    else:\n",
    "        high = ans\n",
    "    ans = (high + low)/2.0\n",
    "print('number of guesses =', num_guesses)\n",
    "print(ans, 'is close to square root of', x)"
   ]
  },
  {
   "cell_type": "markdown",
   "metadata": {},
   "source": [
    "### 4-2-2. Bisection Search Runtime\n",
    "\n",
    "The bisection search algorithm will find the square root of x to a precision of epsilon.  Derive a formula for how many loop iterations $n$ it takes for the algorithm to complete. \n",
    "Hints: \n",
    "- First suppose that x has the special value $epsilon * 2^n$, where n is an integer number of loops. Write your answer below.\n",
    "- Your answer should include those three variables $x, epsilon, n$ with the format $n = (answer)$"
   ]
  },
  {
   "cell_type": "markdown",
   "metadata": {},
   "source": [
    "### Ramiro Cadavid\n",
    "\n",
    "#### Answer\n",
    "The number of iterations $n$ that the bisection search algorithm takes to find the square root of $x$ is defined by the following formula:"
   ]
  },
  {
   "cell_type": "markdown",
   "metadata": {},
   "source": [
    "$n = \\frac{ln(x/\\epsilon)}{ln(2)}$"
   ]
  },
  {
   "cell_type": "markdown",
   "metadata": {},
   "source": [
    "#### How to derive the formula\n",
    "Suppose that x has the value $\\epsilon * 2^n$, then"
   ]
  },
  {
   "cell_type": "markdown",
   "metadata": {},
   "source": [
    "$x = \\epsilon * 2^n$"
   ]
  },
  {
   "cell_type": "markdown",
   "metadata": {},
   "source": [
    "$\\frac{x}{\\epsilon} = 2^n$"
   ]
  },
  {
   "cell_type": "markdown",
   "metadata": {},
   "source": [
    "$log$<sub>2</sub>$(\\frac{x}{\\epsilon}) =n*log$<sub>2</sub>$(2)$"
   ]
  },
  {
   "cell_type": "markdown",
   "metadata": {},
   "source": [
    "$n = log$<sub>2</sub>$(\\frac{x}{\\epsilon})$"
   ]
  },
  {
   "cell_type": "markdown",
   "metadata": {},
   "source": [
    "$n = \\frac{ln(x/\\epsilon)}{ln(2)}$"
   ]
  },
  {
   "cell_type": "markdown",
   "metadata": {},
   "source": [
    "### 4-2-3. Explaining the Bisection Search\n",
    "\n",
    "Please answer the following questions as a short answer discussion not more than 1-2 paragraphs.\n",
    "\n",
    "In your own words, why does the bisection search algorithm for finding square roots work faster on large numbers than the brute force algorithm? Write your answer below."
   ]
  },
  {
   "cell_type": "markdown",
   "metadata": {},
   "source": [
    "* Both algorithms start with the same set of possible solutions (any number between 0 and $x$, where $x^2 \\leq \\epsilon$ ). However, while the brute force algorithm tries one possible solution in each iteration until it finds one that meets the condition defined, the bisection search algorithm tries a set of half the possible solutions in each iteration. This allows this algorithm to discard approximately half the options in each iteration instead of only one and, thus, the larger the set of possible solutions (i.e. the higher the value of $x$), the faster the Bisection search algorithm will converge to the square root of $x$, compared to the Brute force algorithm."
   ]
  },
  {
   "cell_type": "markdown",
   "metadata": {},
   "source": [
    "In your own words, why does Newton's method for finding square roots outperform both the brute force and the bisection search algorithms? Write your answer below."
   ]
  },
  {
   "cell_type": "markdown",
   "metadata": {},
   "source": [
    "* Folowing the same reasoning, Newton's method outperforms the brute force algorithm because it doesn't search in all the possible solutions, but skips $(a_1 - a_0)/\\epsilon$ possible solutions in each iteration. \n",
    "* Also, Newton's method not only takes advantage of the fact that the solution space is ordered but of the knowledge of the function that describes the possible solutions to find the zero of the slope of the function as the next guess. This allows the guess to get closer faster to the solution with every iteration than discarding half the possible solutions."
   ]
  },
  {
   "cell_type": "markdown",
   "metadata": {},
   "source": [
    "### 4-2-4. Following Pseudo-code for an Algorithm\n",
    "\n",
    "Implement this digit-by-digit algorithm to find the square root of $x$ to a precision of epsilon.\n",
    "  1. Begin with a step of 1 and guess of zero.\n",
    "  2. Increase the guess by the step as long as doing so would not cause the guess$^2$ to exceed $x$. Repeat this until the next step will cause guess$^2$ to exceed $x$.\n",
    "  3. If the step is greater than epsilon, then divide the step by 10 and go back to step 2.\n",
    "\n",
    "Notice that once a digit has been found, it is not changed again.  Try using your script to find the square root of 10 to an epsilon of 10 decimal places.  This algorithm should not take over 30 seconds to run (if it does you have coded something incorrectly!)\n",
    "\n",
    "Hint: It might be helpful to write out by hand an easier example like '4' to understand how the algorithm works.\n",
    "\n",
    "Example output:\n",
    "\n",
    "```\n",
    "Enter a number to find the square root: 10\n",
    "The square root of 10 is 3.1622776601.\n",
    "```"
   ]
  },
  {
   "cell_type": "code",
   "execution_count": 18,
   "metadata": {},
   "outputs": [
    {
     "name": "stdout",
     "output_type": "stream",
     "text": [
      "Enter a number to find the square root: 10\n",
      "The square root of 10.0 is 3.1622776601\n"
     ]
    }
   ],
   "source": [
    "### Ramiro Cadavid\n",
    "\n",
    "import decimal\n",
    "x = float(input(\"Enter a number to find the square root: \"))\n",
    "\n",
    "step = 1\n",
    "guess = 0\n",
    "epsilon = 0.0000000001\n",
    "count = 0\n",
    "\n",
    "while True:\n",
    "    if (guess + step)**2 <= x:\n",
    "        guess += step\n",
    "    elif step > epsilon:\n",
    "        step = decimal.Decimal(step) / decimal.Decimal(10)\n",
    "    else:\n",
    "        break\n",
    "\n",
    "print(\"The square root of\", x, \"is\", guess)\n",
    "    "
   ]
  },
  {
   "cell_type": "markdown",
   "metadata": {},
   "source": [
    "## 4-3. List Comprehensions\n",
    "\n",
    "Each list comprehension below can be done in just one line/statement and needs to output one list. \n",
    "\n",
    "**4-3-1. Use a single comprehension** to make a list of the square numbers below 100 that give a remainder of 1 when divided by 3.\n",
    "\n",
    "Example output (these are the first two elements of the list - obviously not the full list!):\n",
    "```\n",
    "[1, 4, ... ]\n",
    "```"
   ]
  },
  {
   "cell_type": "code",
   "execution_count": 32,
   "metadata": {},
   "outputs": [
    {
     "name": "stdout",
     "output_type": "stream",
     "text": [
      "The square numbers below 100 that give a remainder of 1 when divided by 3 are [1, 4, 16, 25, 49, 64]\n"
     ]
    }
   ],
   "source": [
    "### Ramiro Cadavid\n",
    "\n",
    "nums = [number**2 for number in range(11) if number**2 < 100 and number**2 % 3 == 1]\n",
    "print(\"The square numbers below 100 that give a remainder of 1 when divided by 3 are\", nums)"
   ]
  },
  {
   "cell_type": "markdown",
   "metadata": {},
   "source": [
    "**4-3-2.** A string is defined in the code snippet below. **Use a single comprehension** to make a list of the first letters of each word in the snippet.\n",
    "\n",
    "Example output (these are the first two elements of the list - obviously not the full list!):\n",
    "```\n",
    "['I', 'l', ... ]\n",
    "```"
   ]
  },
  {
   "cell_type": "code",
   "execution_count": 3,
   "metadata": {},
   "outputs": [
    {
     "name": "stdout",
     "output_type": "stream",
     "text": [
      "The first letters of each word in the text are: I, l, m, l, a, q, m, a, a, t, N, e, m, n, t, m, n, t, s, n, m, t, a, a, t, b, F, t, t, s, o, l, I, f."
     ]
    }
   ],
   "source": [
    "### Ramiro Cadavid\n",
    "text = \"I live my life a quarter mile at a time. \\\n",
    "Nothing else matters: not the mortgage, not the store, \\\n",
    "not my team and all their bullshit. \\\n",
    "For those ten seconds or less, I’m free.\"\n",
    "# the slashes just mean that the string continues onto the next line\n",
    "# if you print the text, it will make no difference\n",
    "\n",
    "firsts = [list(word)[0] for word in text.split(' ')]\n",
    "print(\"The first letters of each word in the text are:\", ', '.join(firsts), end='.')\n"
   ]
  },
  {
   "cell_type": "markdown",
   "metadata": {},
   "source": [
    "**4-3-3.** A Pythagorean triple is a set (x,y,z), with positive integers x ≤ y ≤ z such that $x^2+y^2=z^2$. **Use a single comprehension** to make a list of all Pythagorean triples with numbers below 25.\n",
    "\n",
    "Example output (these are the first two elements of the list - obviously not the full list!):\n",
    "```\n",
    "[(3, 4, 5), (5, 12, 13), ... ]\n",
    "```"
   ]
  },
  {
   "cell_type": "code",
   "execution_count": 5,
   "metadata": {},
   "outputs": [
    {
     "name": "stdout",
     "output_type": "stream",
     "text": [
      "The pythagorean triples with numbers below 25 are: [(3, 4, 5), (5, 12, 13), (6, 8, 10), (8, 15, 17), (9, 12, 15), (12, 16, 20)]\n"
     ]
    }
   ],
   "source": [
    "## Ramiro Cadavid\n",
    "\n",
    "triples = [(x, y, z) for x in range(1,25) for y in range(1,25) for z in range(1,25)\\\n",
    "           if x<=y and y<=z and x**2 + y**2 == z**2]\n",
    "\n",
    "print(\"The pythagorean triples with numbers below 25 are:\", triples)"
   ]
  },
  {
   "cell_type": "markdown",
   "metadata": {},
   "source": [
    "**4-3-4.** Given a word, provided below, **use a single comprehension** to make a list of all strings that can be formed by deleting exactly one character from the word.\n",
    "\n",
    "Required output:\n",
    "```\n",
    "['elcomed', 'Wlcomed', 'Wecomed', 'Welomed', 'Welcmed', 'Welcoed', 'Welcomd', 'Welcome']\n",
    "```"
   ]
  },
  {
   "cell_type": "code",
   "execution_count": 7,
   "metadata": {},
   "outputs": [
    {
     "name": "stdout",
     "output_type": "stream",
     "text": [
      "By deleting one character from the word Welcomed we can form the words: elcomed, Wlcomed, Wecomed, Welomed, Welcmed, Welcoed, Welcomd and Welcome\n"
     ]
    }
   ],
   "source": [
    "### Ramiro Cadavid\n",
    "\n",
    "word = \"Welcomed\"\n",
    "combs = [word[:i] + word[i + 1:] for i in range(len(word))]\n",
    "\n",
    "print(\"By deleting one character from the word\", word, \"we can form the words:\", ', '.join(combs[0:-1]),\\\n",
    "     \"and\", combs[-1])"
   ]
  },
  {
   "cell_type": "markdown",
   "metadata": {},
   "source": [
    "**4-3-5.** Given a word, provided below, **use a single comprehension** to make a list of all strings that can be formed by replacing exactly one vowel in the word with a different vowel.\n",
    "\n",
    "Required output:\n",
    "```\n",
    "['Baoted', 'Beoted', 'Bioted', 'Booted', 'Buoted', 'Boated', 'Boeted', 'Boited', 'Booted', 'Bouted', 'Bootad', 'Booted', 'Bootid', 'Bootod', 'Bootud']\n",
    "```"
   ]
  },
  {
   "cell_type": "code",
   "execution_count": 9,
   "metadata": {},
   "outputs": [
    {
     "name": "stdout",
     "output_type": "stream",
     "text": [
      "The words that can be formed by replacing one vowel in the word Booted with a different vowel are Baoted, Beoted, Bioted, Booted, Buoted, Boated, Boeted, Boited, Booted, Bouted, Bootad, Booted, Bootid, Bootod and Bootud\n"
     ]
    }
   ],
   "source": [
    "### Ramiro Cadavid\n",
    "word = \"Booted\"\n",
    "strings = [word[:i] + vowel + word[i+1:] for i in range(len(word)) for vowel in 'aeiou' if word[i].lower() in 'aeiou']\n",
    "print(\"The words that can be formed by replacing one vowel in the word\", word, \"with a different vowel are\",\\\n",
    "      ', '.join(strings[:-1]), \"and\", strings[-1])"
   ]
  },
  {
   "cell_type": "markdown",
   "metadata": {},
   "source": [
    "## If you have feedback for this homework, please submit it using the link below:\n",
    "\n",
    "http://goo.gl/forms/74yCiQTf6k"
   ]
  }
 ],
 "metadata": {
  "kernelspec": {
   "display_name": "Python 3",
   "language": "python",
   "name": "python3"
  },
  "language_info": {
   "codemirror_mode": {
    "name": "ipython",
    "version": 3
   },
   "file_extension": ".py",
   "mimetype": "text/x-python",
   "name": "python",
   "nbconvert_exporter": "python",
   "pygments_lexer": "ipython3",
   "version": "3.6.4"
  }
 },
 "nbformat": 4,
 "nbformat_minor": 1
}
