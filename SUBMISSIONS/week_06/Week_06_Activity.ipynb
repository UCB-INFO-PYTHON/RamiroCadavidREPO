{
 "cells": [
  {
   "cell_type": "markdown",
   "metadata": {},
   "source": [
    "# Unit 6 Live Session - Breakout Activities\n",
    "\n",
    "## Activity 1 -  Packages and Modules"
   ]
  },
  {
   "cell_type": "markdown",
   "metadata": {},
   "source": [
    "For this breakout activity, you will build your first package and first module as a team!  Please start this activity by choosing two people who will email to the group their solutions to HW 5 (the homework on functions).  We will use these functions to build modules and packages!\n",
    "\n",
    "#### Modules\n",
    "\n",
    "First, let's create two modules. Start by creating two .py files in the same directory as this notebook.  Name one \"wraps.py\" and the other \"piggy.py\".\n",
    "\n",
    "-  Inside wraps.py, save each of the functions one member of your team wrote for problem 5-1-1, \"Nested Functions\".  Import your \"wraps.py\" module, and call each of the functions below:"
   ]
  },
  {
   "cell_type": "code",
   "execution_count": null,
   "metadata": {},
   "outputs": [],
   "source": [
    "import wraps"
   ]
  },
  {
   "cell_type": "markdown",
   "metadata": {},
   "source": [
    "\n",
    "- Insides piggy.py, save two different versions (e.g., one from each student shared) of the pig-latin function.  Make sure to give them unique names!  Below, import and call each of the pig latin functions!"
   ]
  },
  {
   "cell_type": "markdown",
   "metadata": {},
   "source": [
    "#### Packages!\n",
    "\n",
    "Please restart your kernel before completing this problem to clear out your imports from above.\n",
    "\n",
    "Now, let's make a package!  Create a subfolder, name it whatever you would like.  Make a copy of each of your modules inside this subfolder.  Then, make an \\__init__.py file.\n",
    "\n",
    "Use the \"help()\" command below to display the contents of your package and of each module in the package"
   ]
  },
  {
   "cell_type": "code",
   "execution_count": 1,
   "metadata": {},
   "outputs": [
    {
     "name": "stdout",
     "output_type": "stream",
     "text": [
      "Help on module piggy.piggy in piggy:\n",
      "\n",
      "NAME\n",
      "    piggy.piggy\n",
      "\n",
      "FUNCTIONS\n",
      "    is_consonant_j(char)\n",
      "        A function to check if a character is a consonant. Will return Boolean value\n",
      "    \n",
      "    is_consonant_k(letter)\n",
      "    \n",
      "    to_piglatin_j(words)\n",
      "        A script to translate a string of words or a sentence into pig latin.\n",
      "    \n",
      "    to_piglatin_k(word)\n",
      "\n",
      "FILE\n",
      "    c:\\users\\user\\google drive\\2-ciencia_de_datos\\uc_berkeley\\3-w200-python\\assignments\\assignments_upstream_summer18\\week_06\\piggy\\piggy.py\n",
      "\n",
      "\n"
     ]
    }
   ],
   "source": [
    "from piggy import piggy\n",
    "help(piggy)"
   ]
  },
  {
   "cell_type": "markdown",
   "metadata": {},
   "source": [
    "Run each function, from the package."
   ]
  },
  {
   "cell_type": "code",
   "execution_count": 2,
   "metadata": {},
   "outputs": [
    {
     "name": "stdout",
     "output_type": "stream",
     "text": [
      "False\n"
     ]
    }
   ],
   "source": [
    "print(piggy.is_consonant_j(\"a\"))"
   ]
  },
  {
   "cell_type": "markdown",
   "metadata": {},
   "source": [
    "***Discuss***: What is the purpose of \\__init__.py?"
   ]
  },
  {
   "cell_type": "markdown",
   "metadata": {},
   "source": [
    "**Discuss**: What does the command \"sys.path()\" do?"
   ]
  },
  {
   "cell_type": "markdown",
   "metadata": {},
   "source": [
    "Please go to several of the folders that you find when you run the link below.  Can you find the *numpy* package?"
   ]
  },
  {
   "cell_type": "code",
   "execution_count": null,
   "metadata": {},
   "outputs": [],
   "source": [
    "import sys\n",
    "for place in sys.path:\n",
    "    print(place)"
   ]
  },
  {
   "cell_type": "markdown",
   "metadata": {},
   "source": [
    "**Discuss** Please open the \\__init__ file in the numpy package.  What do you see?"
   ]
  },
  {
   "cell_type": "code",
   "execution_count": null,
   "metadata": {},
   "outputs": [],
   "source": []
  },
  {
   "cell_type": "code",
   "execution_count": null,
   "metadata": {},
   "outputs": [],
   "source": []
  },
  {
   "cell_type": "code",
   "execution_count": null,
   "metadata": {},
   "outputs": [],
   "source": []
  }
 ],
 "metadata": {
  "anaconda-cloud": {},
  "kernelspec": {
   "display_name": "Python 3",
   "language": "python",
   "name": "python3"
  },
  "language_info": {
   "codemirror_mode": {
    "name": "ipython",
    "version": 3
   },
   "file_extension": ".py",
   "mimetype": "text/x-python",
   "name": "python",
   "nbconvert_exporter": "python",
   "pygments_lexer": "ipython3",
   "version": "3.6.4"
  }
 },
 "nbformat": 4,
 "nbformat_minor": 1
}
