{
 "cells": [
  {
   "cell_type": "markdown",
   "metadata": {},
   "source": [
    "## MIDTERM - W200 Python for Data Science, UC Berkeley MIDS"
   ]
  },
  {
   "cell_type": "markdown",
   "metadata": {},
   "source": [
    "## Instructions\n",
    "The midterm exam is designed to evaluate your grasp of Python theory as well as Python coding.\n",
    "\n",
    "- This is an individual open book exam.\n",
    "- You have 24 hours to complete the exam and upload it back to ISVC, starting from the point when you first accessed it on ISVC.\n",
    "\n",
    "For the coding questions, follow best practices.  Partial credit may be given for submissions that are clearly commented and well organized."
   ]
  },
  {
   "cell_type": "markdown",
   "metadata": {},
   "source": [
    "# 1. Short Questions (15 pts)\n",
    "\n",
    "1.1. Python's dynamic typing allows one variable to refer to multiple types of objects within the same program execution.  This can speed program development.  Name one disadvantage of dynamic typing."
   ]
  },
  {
   "cell_type": "markdown",
   "metadata": {},
   "source": [
    "Duck typing, while making programming faster and more flexible, can also mask errors in the program. While static typing returns an error when the object assigned to a variable is not of the type defined when the variable was declared, duck typing does not return an error unless it causes an error at a later point. Fr example, if a method is called for this variable that is not defined for the class of the object that this variable is now incorrectly assigned to. If an error is returned, now the user/programmer needs to find where the error happened, which is less straightforward than receiving an error right after the variable was assigned to the wrong type of object.\n",
    "\n",
    "Even worst, the program may never return an error and may return values that are wrongly calculated or that do not make sense. Worst case scenario, the output is used and the decisions made based on this output will be based on wrong data and these decisions will not have the intended results."
   ]
  },
  {
   "cell_type": "markdown",
   "metadata": {},
   "source": [
    "1.2. Compiled languages typically offer faster performance than interpreted languages. List two reasons why would you choose an interpreted language like Python for the purpose of analyzing a data set instead of a compiled language."
   ]
  },
  {
   "cell_type": "markdown",
   "metadata": {
    "collapsed": true
   },
   "source": [
    "I would choose an interpreted language, first, if it already has packages available for making the type of analysis that I require (as is often the case with Python). Besides increasing the speed at which the code will be written and read, these packages have been created and approved by a community of experts and are constantly checked for bugs and inefficiencies by an even larger community of users, thus the modules in these packages are less likely to have errors than the code I can write that performs the same functions.\n",
    "\n",
    "Second, I would choose an interpreted language if efficiency is not a major issue when the program is run. It may be the case that the gains from writing less code that is easier to understand, enhanced and maintained outweight the gains in efficiency caused by having a compiled language. Furthermore, if I have an estimate of an interval of the size of the inputs that the code will use, know that the program runs fast enough with inputs within this interval, and have a high degree of confidence that these inputs will continue to have this size in the future, the efficiency gains from using a compiled program are even less relevant and more likely to be outweigth by the benefits of using an interpreted language."
   ]
  },
  {
   "cell_type": "markdown",
   "metadata": {},
   "source": [
    "1.3. We have gone over FOR and WHILE loops.  Discuss one reason to use a for loop over a while loop and one reason to use a while loop over a for loop. Please elaborate beyond a single word."
   ]
  },
  {
   "cell_type": "markdown",
   "metadata": {
    "collapsed": true
   },
   "source": [
    "A reason for using a FOR over a WHILE loop is readability. Usually the FOR loops are easier to read since it is clear what the loop is iterating over and most likely has less steps than a while loop that performs the same task.\n",
    "\n",
    "A reason for using a WHILE over a FOR loop is not knowing in advance the number of times that the loop has to iterate. For example, if I know that the loop should stop after one condition is met but do not know in advance the iteration at which it is met, I will need to use a WHILE loop."
   ]
  },
  {
   "cell_type": "markdown",
   "metadata": {},
   "source": [
    "# 2. Programming Styles (10 pts)\n",
    "\n",
    "We have taught you a number of ways to program in Python. These have included using scripts versus functions and using Jupyter notebooks versus calling .py files from the command line. Describe a scenario in which you would use .py files from the command line over a Jupyter notebook and the opposite. Describe a scenario in which you would use a script versus a function and the opposite.  There are four cases and each answer should be about 1-2 sentences."
   ]
  },
  {
   "cell_type": "markdown",
   "metadata": {},
   "source": [
    "2.1. I would use a jupyter notebook over .py files:"
   ]
  },
  {
   "cell_type": "markdown",
   "metadata": {},
   "source": [
    "If I am communicating my research findings and need to walk the audience through the steps I followed and the intermediate results of the analyses, explaining these steps using formatted text, mathematical notation and images."
   ]
  },
  {
   "cell_type": "markdown",
   "metadata": {},
   "source": [
    "2.2. I would use .py files over a jupyter notebook:"
   ]
  },
  {
   "cell_type": "markdown",
   "metadata": {},
   "source": [
    "If I want to create a set of modules that perform several complex and long computations, and the users of these do not need to understand how they work internally, then it is more useful to use .py files to save these modules than to dump all the code in a jupyter notebook"
   ]
  },
  {
   "cell_type": "markdown",
   "metadata": {},
   "source": [
    "2.3. I would use a script over a function:"
   ]
  },
  {
   "cell_type": "markdown",
   "metadata": {},
   "source": [
    "If I am performing a series of analyses where I drill down on specific findings to try to respond to the questions that arise from the previous findings, where the tasks in the subsequent steps are not the same than those made in previous steps and, thus, sections of the code are not similar to other sections."
   ]
  },
  {
   "cell_type": "markdown",
   "metadata": {},
   "source": [
    "2.4. I would use a function over a script:"
   ]
  },
  {
   "cell_type": "markdown",
   "metadata": {},
   "source": [
    "If I have a program that calculates a weather forecast several times and parameters of the formula to estimate this forecast have to be reestimated and adjusted frequentle, I would make this forecast calculation a function and then call it in the different places where I need it."
   ]
  },
  {
   "cell_type": "markdown",
   "metadata": {},
   "source": [
    "# 3. Dictionaries vs Lists (10 pts)\n",
    "\n",
    "Suppose we have the following problem.  We have a dictionary of names and ages and we would like to find the oldest person.\n",
    "\n",
    "```\n",
    "ages_dict = {'Bill':34, 'Fred':45, 'Alice':14, 'Betty':17}\n",
    "```"
   ]
  },
  {
   "cell_type": "markdown",
   "metadata": {},
   "source": [
    "### Dictionary approach\n",
    "Here is a loop that shows how to iterate through the dictionary:"
   ]
  },
  {
   "cell_type": "code",
   "execution_count": null,
   "metadata": {},
   "outputs": [],
   "source": [
    "ages_dict = {'Bill':34, 'Fred':45, 'Alice':14, 'Betty':17}\n",
    "\n",
    "max_age = 0\n",
    "max_name = ''\n",
    "for name,age in ages_dict.items():\n",
    "    if age > max_age:\n",
    "        max_age = age\n",
    "        max_name = name\n",
    "        \n",
    "print(max_name, \"is the oldest.\")    "
   ]
  },
  {
   "cell_type": "markdown",
   "metadata": {},
   "source": [
    "### List approach \n",
    "\n",
    "Your friend comes to you and thinks that this dictionary is difficult to deal with and instead offers a different plan using two lists.\n",
    "\n",
    "```\n",
    "names = ['Bill', 'Fred', 'Alice', 'Betty']\n",
    "ages = [34, 45, 14, 17]\n",
    "```"
   ]
  },
  {
   "cell_type": "markdown",
   "metadata": {},
   "source": [
    "Instead of using a loop, your friend writes this code to find the oldest person."
   ]
  },
  {
   "cell_type": "code",
   "execution_count": null,
   "metadata": {},
   "outputs": [],
   "source": [
    "names = ['Bill', 'Fred', 'Alice', 'Betty']\n",
    "ages = [34, 45, 14, 17]\n",
    "\n",
    "max_age = max(ages)\n",
    "index_max = ages.index(max_age)\n",
    "max_name = names[index_max]\n",
    "\n",
    "print(max_name, 'is the oldest.')"
   ]
  },
  {
   "cell_type": "markdown",
   "metadata": {},
   "source": [
    "### Discussion\n",
    "Discuss the advantages and disadvantages of each of the approaches.  \n",
    "\n",
    "3.1. Is one more efficient (i.e. faster in Big O notation) than the other?"
   ]
  },
  {
   "cell_type": "markdown",
   "metadata": {},
   "source": [
    "No, both approaches run in $O(N)$ time:\n",
    "- The for loop in the dictionary approach is executed N times and the other statements run in O(1) time; thus, this approach runs in $O(N)$ time.\n",
    "- The `max` and `index` functions in the lists approach run in $O(N)$ time, while the other statements run in O(1) time; thus, this approach also runs in $O(N)$ time."
   ]
  },
  {
   "cell_type": "markdown",
   "metadata": {},
   "source": [
    "3.2. Why would you prefer the dictionary?"
   ]
  },
  {
   "cell_type": "markdown",
   "metadata": {},
   "source": [
    "I would prefer the dictionary because I find it is easier to read, for two reasons:\n",
    "- First, the way the dictionary is created (and printed) makes the relationship between name and age very clear and it is not necessary to go back and forth between the two lists to find elements in the same position, as happens with the second approach. This is not only helpful to write the code but also to validate later if it is working correctly (visually, it is easier to identify if the maximum age corresponds to the correct name).\n",
    "- Second, the `if` statement in the first line of the `for` loop clearly indicates that the maximum value is updated when the age of the current person is higher than the maximum age found in all the previous iterations. On the contrary, it is not as straightforward to understand that the purpose of the `index_max` variable is to extract later the person located in the position where the maximum age was found."
   ]
  },
  {
   "cell_type": "markdown",
   "metadata": {},
   "source": [
    "3.3. Why would you prefer the two lists?"
   ]
  },
  {
   "cell_type": "markdown",
   "metadata": {},
   "source": [
    "For validation purposes (but only when the list is short enough), it will be easier to check if the maximum age found actually corresponds to the maximum age in the list."
   ]
  },
  {
   "cell_type": "markdown",
   "metadata": {},
   "source": [
    "# 4. Mutability Surprises (15 pts)\n",
    "\n",
    "4.1. In the asynchronous sessions, we discussed mutability. Please describe, in your own words, why mutability is a useful feature in Python lists and dictionaries."
   ]
  },
  {
   "cell_type": "markdown",
   "metadata": {},
   "source": [
    "In many cases, the use of memory will be significantly less when using mutable objects than when using immutable objects for the same task. \n",
    "\n",
    "For example, suppose that you have a variable that needs to be assigned to a sequence of characters and then you need to keep adding additional characters to this sequence. If you assign an immutable object to this variable, such as a string, a new object will be loaded into memory with every additional character added and another will be unloaded. \n",
    "\n",
    "However, if you choose a mutable object, such as a list, only one object will be loaded into memory and this same object can be modified as many times as needed without using additional space in memory from the creation of other objects."
   ]
  },
  {
   "cell_type": "markdown",
   "metadata": {},
   "source": [
    "Mutability can also lead to unexpected behavior - specifically when multiple variables point to the same object or when mutable objects are nested inside each other. \n",
    "\n",
    "4.2. Please write some code demonstrating a situation where mutability could lead to unexpected behavior. Specifically, show how updating just one object (list_a) can change the value when you print a second variable (list_b)."
   ]
  },
  {
   "cell_type": "code",
   "execution_count": 65,
   "metadata": {},
   "outputs": [
    {
     "name": "stdout",
     "output_type": "stream",
     "text": [
      "list_b is ['a', [1, 2, 3, 4, 5]]\n",
      "After changing list_a, list_b is ['a', [1, 2, 3, 4, 'only_a']]\n"
     ]
    }
   ],
   "source": [
    "# Starting with two variables, one that contains a list of numbers (list_a), and another that contains\n",
    "# a list with a string and the first list.\n",
    "list_a = [1, 2, 3, 4, 5]\n",
    "list_b = ['a', list_a]\n",
    "print('list_b is', list_b)\n",
    "\n",
    "# However, if I change the value of one of the elements in list_a, list_b will also change, even though\n",
    "# no changes were made to list_b directly\n",
    "list_a[4] = 'only_a'\n",
    "print('After changing list_a, list_b is', list_b)"
   ]
  },
  {
   "cell_type": "markdown",
   "metadata": {},
   "source": [
    "4.3. Show how \"copy\" or \"deepcopy\" could be used to prevent the unexpected problem you described, above."
   ]
  },
  {
   "cell_type": "code",
   "execution_count": 70,
   "metadata": {},
   "outputs": [
    {
     "name": "stdout",
     "output_type": "stream",
     "text": [
      "list_b is ['a', [1, 2, 3, 4, 5]]\n",
      "After changing list_a, list_b is ['a', [1, 2, 3, 4, 5]]\n"
     ]
    }
   ],
   "source": [
    "# The unexpected behavior described above can be prevented using copy, i.e. we can create a separate\n",
    "# list that contains the same elements than list_a.\n",
    "list_a = [1, 2, 3, 4, 5]\n",
    "list_b = ['a', list_a.copy()]\n",
    "print('list_b is', list_b)\n",
    "\n",
    "# Since the second element of list_b now points to a different object than list_a, making changes to\n",
    "# list_a now doesn't change list_b\n",
    "list_a[4] = 'only_a'\n",
    "print('After changing list_a, list_b is', list_b)"
   ]
  },
  {
   "cell_type": "markdown",
   "metadata": {},
   "source": [
    "4.4. Now, show the same problem using two dictionaries. Again show how \"copy\" or \"deepcopy\" can fix the issue."
   ]
  },
  {
   "cell_type": "code",
   "execution_count": 81,
   "metadata": {},
   "outputs": [
    {
     "name": "stdout",
     "output_type": "stream",
     "text": [
      "dict_b is {'d': 3, 'e': {'a': 1, 'b': 2, 'c': 2}}\n",
      "After changing dict_a, dict_b is {'d': 3, 'e': {'b': 2, 'c': 2}}\n",
      "\n",
      "After using copy and changing dict_a, dict_b is {'d': 3, 'e': {'a': 1, 'b': 2, 'c': 2}}\n"
     ]
    }
   ],
   "source": [
    "# Starting with two variables (dict_a and dict_b), where dict_a is assigned to a dictionary that\n",
    "# contains the number of times that a character is repeated in a given string; and dict_b contains\n",
    "# the times that the character 'd' is repeated in another string and dict_a as the value of the key 'e'.\n",
    "dict_a = {'a': 1, 'b': 2, 'c': 2}\n",
    "dict_b = {'d': 3, 'e': dict_a}\n",
    "print(\"dict_b is\", dict_b)\n",
    "\n",
    "# If I mutate dict_a, dict_b will also change\n",
    "dict_a.pop('a')\n",
    "print(\"After changing dict_a, dict_b is\", dict_b)\n",
    "print()\n",
    "\n",
    "# To prevent this unexpected behavior, I can use copy to pass a different object than dict_a,\n",
    "# but with the same values, into dict_b\n",
    "dict_a = {'a': 1, 'b': 2, 'c': 2}\n",
    "dict_b = {'d': 3, 'e': dict_a.copy()}\n",
    "\n",
    "# Now, since the object associated with the key 'e' in dict_b is different than dict_a, mutating\n",
    "# dict_a does not change dict_b\n",
    "dict_a.pop('a')\n",
    "print(\"After using copy and changing dict_a, dict_b is\", dict_b)"
   ]
  },
  {
   "cell_type": "markdown",
   "metadata": {},
   "source": [
    "4.5. Can this unexpected behavior problem occur with tuples? Why, or why not?"
   ]
  },
  {
   "cell_type": "markdown",
   "metadata": {},
   "source": [
    "No, because tuples are immutable, i.e. it is not possible to modify the tuple and any \"modification\" made to the object that a variable points to actually means that a new object will be created and assigned to that variable.\n",
    "\n",
    "For example,  if a tuple_b is assigned to tuple_a (i.e. both variables point to the same object), then making a change to tuple_a will not have an effect in the object that tuple_a (and tuple_b) is pointing to; therefore, tuple_a's value(s) will not change.\n",
    "```\n",
    ">>> tuple_a = (1, 2)\n",
    ">>> tuple_b = tuple_a\n",
    ">>> print(tuple_b)\n",
    "(1, 2)\n",
    ">>> tuple_a = tuple_a + (3, 4)\n",
    ">>> print(tuple_b)\n",
    "(1, 2)\n",
    "```"
   ]
  },
  {
   "cell_type": "markdown",
   "metadata": {},
   "source": [
    "# 5. Tweet Analysis (15 pts)\n",
    "\n",
    "A tweet is a string that is between 1 and 280 characters long (inclusive). A username is a string of letters and/or digits that is between 1 and 14 characters long (inclusive). A username is mentioned in a tweet by including @username in the tweet. A retweet is way to share another user's tweet, and can be identified by the string RT, followed by the original username who tweeted it.\n",
    "\n",
    "Your job is to fill in the function *count_retweets_by_username* so that it returns a frequency dictionary that indicates how many times each username was retweeted."
   ]
  },
  {
   "cell_type": "code",
   "execution_count": null,
   "metadata": {},
   "outputs": [],
   "source": [
    "tweets = [\"This is great! RT @fake_user: Can you believe this https://urldefense.proofpoint.com/v2/url?u=http-3A__some-2Dlink.com&d=DwIGAg&c=KqtxL2Lt1AKmPhqmvvNjR0MTQm8XwKWV11VtWfYv1LQ&r=2VcUQbUmLN6zU85f94-1ZxUreXcE3be7opAgeVcjVKw&m=QRTciz3RRNEnvaOI-5MeNFg-rEip99fe-tuwRpPYHXQ&s=4bVmRUg4nRvY2ejGvfChAKsG-ngQ-OnVhCy5lztO7Ks&e=\",\n",
    "         \"It's the refs! RT @dubsfan: Boo the refs and stuff wargarbal\",\n",
    "         \"That's right RT @ladodgers: The dodgers are destined to win the west!\",\n",
    "         \"RT @sportball: That sporting event was not cool\",\n",
    "         \"This is just a tweet about things @person, how could you\",\n",
    "         \"RT @ladodgers: The season is looking great!\",\n",
    "         \"RT @dubsfan: I can't believe it!\",\n",
    "         \"I can't believe it either! RT @dubsfan: I can't believe it\"]"
   ]
  },
  {
   "cell_type": "code",
   "execution_count": null,
   "metadata": {},
   "outputs": [],
   "source": [
    "def count_retweets_by_username(tweet_list):\n",
    "    \"\"\" (list of tweets) -> dict of {username: int}\n",
    "    Returns a dictionary in which each key is a username that was \n",
    "    retweeted in tweet_list and each value is the total number of times this \n",
    "    username was retweeted.\n",
    "    \"\"\"\n",
    "    import collections\n",
    "    \n",
    "    # Create a list that contains only the retweeted tweets (contain 'RT' substring)\n",
    "    rt_tweets = []\n",
    "    for tweet in tweet_list:\n",
    "        if tweet.count('RT') != 0:\n",
    "            rt_tweets.append(tweet)\n",
    "    \n",
    "    # Create list with username that was retweeted in each tweet (characters between 'RT @' and ':').\n",
    "    rt_usernames = []\n",
    "    for tweet in rt_tweets:\n",
    "        start = tweet.find('RT @')\n",
    "        end = tweet.find(':')\n",
    "        rt_usernames.append(tweet[start + 4:end])\n",
    "    \n",
    "    # Count occurrences of retweeted user names and return it as a dictionary\n",
    "    return dict(collections.Counter(rt_usernames))"
   ]
  },
  {
   "cell_type": "code",
   "execution_count": null,
   "metadata": {},
   "outputs": [],
   "source": [
    "# allow this code to work by implementing count_retweets_by_username function above\n",
    "print(count_retweets_by_username(tweets))"
   ]
  },
  {
   "cell_type": "markdown",
   "metadata": {},
   "source": [
    "# 6. Looking for Minerals (20 pts)\n",
    "\n",
    "A mining company conducts a survey of an n-by-n square grid of land.  Each row of land is numbered from 0 to n-1 where 0 is the top and n-1 is the bottom, and each column is also numbered from 0 to n-1 where 0 is the left and n-1 is the right.  The company wishes to record which squares of this grid contain mineral deposits.\n",
    "\n",
    "The company decides to use a list of tuples to store the location of each deposit.  The first item in each tuple is the row of the deposit.  The second item is the column.  The third item is a non-negative number representing the size of the deposit, in tons.  For example, the following code defines a sample representation of a set of deposits in an 8-by-8 grid."
   ]
  },
  {
   "cell_type": "code",
   "execution_count": 1,
   "metadata": {},
   "outputs": [],
   "source": [
    "deposits = [(0, 4, .3), (6, 2, 3), (3, 7, 2.2), (5, 5, .5), (3, 5, .8), (7, 7, .3)]"
   ]
  },
  {
   "cell_type": "markdown",
   "metadata": {},
   "source": [
    "6.1. Given a list of deposits like the one above, write a function to create a string representation for a rectangular sub-region of the land.  Your function should take a list of deposits, then a set of parameters denoting the top, bottom, left, and right edges of the sub-grid.  It should return a multi-line string in which grid squares without deposits are represented by \"-\" and grid squares with a deposit are represented by \"X\"."
   ]
  },
  {
   "cell_type": "code",
   "execution_count": null,
   "metadata": {},
   "outputs": [],
   "source": [
    "def display(deposits, top, bottom, left, right):\n",
    "    \"\"\"display a subgrid of the land, with rows starting at top and up to \n",
    "    but not including bottom, and columns starting at left and up to but\n",
    "    not including right.\"\"\"\n",
    "    \n",
    "    # Create a grid of '-' as a list of lists of size (top-bottom) x (right-left)\n",
    "    grid = []\n",
    "    for row in range(top, bottom):\n",
    "        grid.append([])\n",
    "        for column in range(left, right):\n",
    "            grid[row - top].append('-')\n",
    "\n",
    "    # For each deposit, replace the coordinates list_of_lists with X: list[row][column] = 'X'\n",
    "    for deposit in deposits:\n",
    "        if deposit[0] >= top and deposit[0] < bottom and deposit[1] >= left and deposit[1] < right:\n",
    "            grid[deposit[0] - top][deposit[1] - left] = 'X'\n",
    "\n",
    "    # Make the list a single string, adding a line break at the end of each sublist\n",
    "    for i in range(len(grid)):\n",
    "         grid[i] = ''.join(grid[i]) + '\\n'\n",
    "    ans = ''.join(grid)\n",
    "    \n",
    "    return ans"
   ]
  },
  {
   "cell_type": "markdown",
   "metadata": {},
   "source": [
    "For example, your function should replicate the following behavior for the example grid:\n",
    "```\n",
    "print(display(deposits, 0, 8, 0, 8))\n",
    "----X---\n",
    "--------\n",
    "--------\n",
    "-----X-X\n",
    "--------\n",
    "-----X--\n",
    "--X-----\n",
    "-------X\n",
    "\n",
    "print(display(deposits, 5, 8, 5, 8))\n",
    "X--\n",
    "---\n",
    "--X\n",
    "\n",
    "```\n"
   ]
  },
  {
   "cell_type": "markdown",
   "metadata": {},
   "source": [
    "6.2. Next, complete the following function to compute the total number of tons in a rectangular sub-region of the grid."
   ]
  },
  {
   "cell_type": "code",
   "execution_count": 5,
   "metadata": {},
   "outputs": [],
   "source": [
    "def tons_inside(deposits, top, bottom, left, right):\n",
    "    \"\"\"Returns the total number of tons of deposits for which the row is at least top,\n",
    "    but strictly less than bottom, and the column is at least left, but strictly\n",
    "    less than right.\"\"\"\n",
    "\n",
    "    # For each deposit, add size to a list if it is within the coordinates (Row: <top, >bottom. Column: >left, <right)\n",
    "    deposit_tons = []\n",
    "    for deposit in deposits:\n",
    "        if deposit[0] >= top and deposit[0] < bottom and deposit[1] >= left and deposit[1] < right:\n",
    "            deposit_tons.append(deposit[2])\n",
    "\n",
    "    # return sum of list of selected grids\n",
    "    return sum(deposit_tons)"
   ]
  },
  {
   "cell_type": "markdown",
   "metadata": {
    "collapsed": true
   },
   "source": [
    "## 7. Birthday planning (15 pts)\n",
    "\n",
    "Suppose you record a list of birthdays for your classmates, recorded as month day tuples.  An example is given below."
   ]
  },
  {
   "cell_type": "code",
   "execution_count": 165,
   "metadata": {},
   "outputs": [],
   "source": [
    "dates = [(3,14),(2,8),(10,25),(5,17),(3,2),(7,25),(4,30),(8,7),(2,8),(1,22)]"
   ]
  },
  {
   "cell_type": "markdown",
   "metadata": {},
   "source": [
    "You read about the famous birthday problem (https://urldefense.proofpoint.com/v2/url?u=https-3A__en.wikipedia.org_wiki_Birthday-5Fproblem&d=DwIGAg&c=KqtxL2Lt1AKmPhqmvvNjR0MTQm8XwKWV11VtWfYv1LQ&r=2VcUQbUmLN6zU85f94-1ZxUreXcE3be7opAgeVcjVKw&m=QRTciz3RRNEnvaOI-5MeNFg-rEip99fe-tuwRpPYHXQ&s=6x5De9u0G1P2JUGCw4HvpkCeo9AyL652ESu8tG1C-FA&e=) and you become interested in the number of pairs of classmates that share the same birthday.  Here is an algorithm you write to do this:"
   ]
  },
  {
   "cell_type": "code",
   "execution_count": 166,
   "metadata": {},
   "outputs": [
    {
     "name": "stdout",
     "output_type": "stream",
     "text": [
      "Total birthday pairs: 1\n"
     ]
    }
   ],
   "source": [
    "count = 0\n",
    "\n",
    "for person_a in dates:\n",
    "    for person_b in dates:\n",
    "        # Make sure we have different people\n",
    "        if person_a is person_b:\n",
    "            continue\n",
    "            \n",
    "        # Check both month and day\n",
    "        if person_a[0] == person_b[0] and person_a[1] == person_b[1]:\n",
    "            count += 1\n",
    "            \n",
    "# We counted each pair twice (e.g. jane-bob and bob-jane) so divide by 2:\n",
    "print(\"Total birthday pairs:\", count//2)"
   ]
  },
  {
   "cell_type": "markdown",
   "metadata": {},
   "source": [
    "7.1. What is the (tightest) Big-O running time bound for the above algorithm?  You may assume that simple operations like equality check, addition, and print take constant time."
   ]
  },
  {
   "cell_type": "markdown",
   "metadata": {
    "collapsed": true
   },
   "source": [
    "The first for loop iterates $N$ times, once for each tuple in the list, while the second for loop iterates $N$ times in each iteration of the first loop. Thus, we can express the total number of iterations $f(N)$ for both loops as\n",
    "\n",
    "$f(N) = N + N + ... + N$\n",
    "\n",
    "$f(N) = N(1 + 1 + ... + 1)$\n",
    "\n",
    "$f(N) = N^2$\n",
    "\n",
    "Therefore, the algorithm above runs in $N^2$ time."
   ]
  },
  {
   "cell_type": "markdown",
   "metadata": {},
   "source": [
    "7.2. You notice that your algorithm is inefficient in that it counts each pair twice.  For example, it will increment count once when person_a is Jane and person_b is Bob, and again when person_a is Bob and person_b is Jane.  Below, revise the algorithm so that it only looks at each pair once."
   ]
  },
  {
   "cell_type": "code",
   "execution_count": 167,
   "metadata": {},
   "outputs": [
    {
     "name": "stdout",
     "output_type": "stream",
     "text": [
      "Total birthday pairs: 1\n"
     ]
    }
   ],
   "source": [
    "# Your code here\n",
    "# Same code but pop first element of list in each iteration (use a while?)\n",
    "import copy\n",
    "\n",
    "dates2 = copy.deepcopy(dates)\n",
    "count = 0\n",
    "\n",
    "while len(dates2) > 0:\n",
    "    curr = dates2[0]\n",
    "    for person in dates2:\n",
    "        # Make sure we have different people\n",
    "        if curr is person:\n",
    "            continue\n",
    "            \n",
    "        # Check both month and day\n",
    "        if curr[0] == person[0] and curr[1] == person[1]:\n",
    "            count += 1\n",
    "    dates2.pop(0)\n",
    "\n",
    "print(\"Total birthday pairs:\", count)"
   ]
  },
  {
   "cell_type": "markdown",
   "metadata": {},
   "source": [
    "7.3. What is the (tightest) Big-O running time bound for your new algorithm?  What does this tell you about whether your revision was worth making?"
   ]
  },
  {
   "cell_type": "markdown",
   "metadata": {},
   "source": [
    "The while loop iterates $N$ times. The for loop inside the while loop iterates $N$ times in the first iteration of the while loop, $N - 1$ times in the second iteration, $N - 2$ in the third operation, and so forth.\n",
    "\n",
    "This relationship between the input size $N$ and the number of iterations of the while and for loops inside the algorithm is then given by the following function $f(N)$:\n",
    "\n",
    "$f(N) = N + N + (N - 1) + (N - 2) + ... + 1$\n",
    "\n",
    "$f(N) = (N + N + ... + N) - (1 + 2 + ... + (N - 1))$\n",
    "\n",
    "$f(N) = N^2 - \\frac{N(N - 1)}{2}$\n",
    "\n",
    "$f(N) = \\frac{2N^2 - N^2 + N}{2}$\n",
    "\n",
    "$f(N) = \\frac{N^2 + N}{2}$\n",
    "\n",
    "Therefore, the new algorithm still runs in $N^2$ time.\n",
    "\n",
    "Generally, this optimization is not worth making since the algorithm still runs in quadratic time. For small $N$ the gains are probably not even noticeable given the processing capacity of most computers today. And for large $N$ (i.e. asymptotically), any gains from having to do one iteration less of the for loop after each iteration of the while loop, will become negligible, since they do not reduce the higher order of the polynomial function that dictates the relationship between $N$ and run time."
   ]
  },
  {
   "cell_type": "markdown",
   "metadata": {},
   "source": [
    "7.4. Finally, create a third revision of your algorithm which has a faster Big-O running time bound that both the previous algorithms."
   ]
  },
  {
   "cell_type": "code",
   "execution_count": 169,
   "metadata": {},
   "outputs": [
    {
     "name": "stdout",
     "output_type": "stream",
     "text": [
      "Total birthday pairs: 1\n"
     ]
    }
   ],
   "source": [
    "# Part A\n",
    "# Create a dictionary that contains the months as keys and a list of the days\n",
    "# that appear in 'dates' for each month\n",
    "dict_dates = {}\n",
    "for i in range(1, 13):\n",
    "    temp_list = []\n",
    "    for month, day in dates:\n",
    "        if month == i:\n",
    "            temp_list.append(day)\n",
    "    dict_dates[i] = temp_list\n",
    "\n",
    "# Part B\n",
    "# Replace the values in dict_dates by another dictionary that contains the days\n",
    "# as keys and a list with n elements as values, where n is the number of\n",
    "# times that day appears in 'dates' for each of the months.\n",
    "for i in range(1, 13):\n",
    "    temp_dict = {}\n",
    "    for j in range(1, 32):\n",
    "        temp_list = []\n",
    "        for day in dict_dates[i]:\n",
    "            if day == j:\n",
    "                temp_list.append(1)\n",
    "        temp_dict[j] = temp_list    \n",
    "    dict_dates[i] = temp_dict\n",
    "\n",
    "# Part C\n",
    "# From the dictionary created, find the number of people in each day of each month\n",
    "# (p) and calculate the number of pairs that can be formed. Add them to count.\n",
    "count = 0\n",
    "for i in range(1, 13):\n",
    "    for j in range(1, 32):\n",
    "        if len(dict_dates[i][j]) > 1:\n",
    "            p = len(dict_dates[i][j])\n",
    "            # Number of pairs is equal to the sum of numbers between 0 and n - 1\n",
    "            count += p * (p - 1) / 2\n",
    "\n",
    "print(\"Total birthday pairs:\", int(count))"
   ]
  },
  {
   "cell_type": "markdown",
   "metadata": {},
   "source": [
    "7.5. What is the (tightest) Big-O running time bound for your last algorithm?  Explain what trade-off you made to have a faster running time."
   ]
  },
  {
   "cell_type": "markdown",
   "metadata": {
    "collapsed": true
   },
   "source": [
    "This algorithm runs in $O(N)$ time. Part A (see how the code above is divided in three parts, indicated by the comment 'Part X' at the beginning of each part) runs in $O(N)$ time, since the first loop always iterates 12 times and the second loop iterates $N$ times. Part B also runs in $O(N)$ time, since the first loop always iterates 12 times, the second always iterates 31 times and the third iterates $O(N)$ times. Finally, Part C runs in $O(1)$ time, since the first loop always iterates 12 times, the second iterates 31 times and the `len` function runs in constant time.\n",
    "\n",
    "To achieve a higher efficiency, I took advantage of the fact that the values in the tuples are bounded, however, a big trade-off I had to make is that the code became harder to read. The first two algorithms are shorter and easier to understand even without comments. The third algorithm is hard to read (and even to comment), the concept of the dictionaries inside dictionaries and then using the method to find the sum of all digits from $1$ to $N$ is not as easy to grasp than the direct comparison of different persons' dates as in the first two algorithms."
   ]
  }
 ],
 "metadata": {
  "kernelspec": {
   "display_name": "Python 3",
   "language": "python",
   "name": "python3"
  },
  "language_info": {
   "codemirror_mode": {
    "name": "ipython",
    "version": 3
   },
   "file_extension": ".py",
   "mimetype": "text/x-python",
   "name": "python",
   "nbconvert_exporter": "python",
   "pygments_lexer": "ipython3",
   "version": "3.6.4"
  },
  "widgets": {
   "state": {},
   "version": "1.1.2"
  }
 },
 "nbformat": 4,
 "nbformat_minor": 1
}
