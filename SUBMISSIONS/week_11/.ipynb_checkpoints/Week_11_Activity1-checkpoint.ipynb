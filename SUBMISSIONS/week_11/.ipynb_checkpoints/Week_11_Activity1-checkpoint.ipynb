{
 "cells": [
  {
   "cell_type": "markdown",
   "metadata": {},
   "source": [
    "# Week 11 Live Session - Breakout Activities\n",
    "\n",
    "Working through this will help you think through your homework. Using NumPy:\n",
    "1. Create a dataset of 50 random integers ranging from 0 and 100.\n",
    "2. Reshape the data to be 10x5.\n",
    "3. Create a dataset of 50 numbers between 0 and 100 using linspace()\n",
    "4. Reshape the data to be 10x5.\n",
    "5. Use vstack to stack the data for the two arrays call it \"vertstk\"\n",
    "6. Use hstack to stack the data for the two arrays call it \"hozstk\"\n",
    "7. for each array divide each element by 2:<br>\n",
    "    a. Use a functional approach (such as map or filter) for hozstk and a vectorized approach for vertstk<br>\n",
    "    b. for an extra challenge replace all values greater than 25 with 25\n",
    "8. get column and row means for hozstk and vertstk"
   ]
  },
  {
   "cell_type": "code",
   "execution_count": 1,
   "metadata": {},
   "outputs": [
    {
     "name": "stdout",
     "output_type": "stream",
     "text": [
      "1.14.0\n"
     ]
    }
   ],
   "source": [
    "import numpy as np\n",
    "print (np.__version__)"
   ]
  },
  {
   "cell_type": "code",
   "execution_count": 2,
   "metadata": {},
   "outputs": [],
   "source": [
    "np.random.seed(100)"
   ]
  },
  {
   "cell_type": "code",
   "execution_count": 5,
   "metadata": {},
   "outputs": [
    {
     "name": "stdout",
     "output_type": "stream",
     "text": [
      "[56 30 48 47 39 38 44 18 64 56 34 53 74 17 72 13 30 17 53 68 50 91 91 83\n",
      " 53 78  0 13 57 76  3 70  3 84 79 10 87 60  3 48 52 43 36  5 71 38 86 94\n",
      " 98 42]\n"
     ]
    }
   ],
   "source": [
    "ds1 = np.random.randint(0, 100, 50)\n",
    "print(ds1)"
   ]
  },
  {
   "cell_type": "code",
   "execution_count": 42,
   "metadata": {},
   "outputs": [],
   "source": [
    "ds1 = ds1.reshape(10, 5)"
   ]
  },
  {
   "cell_type": "code",
   "execution_count": 39,
   "metadata": {},
   "outputs": [
    {
     "name": "stdout",
     "output_type": "stream",
     "text": [
      "[  0.           2.04081633   4.08163265   6.12244898   8.16326531\n",
      "  10.20408163  12.24489796  14.28571429  16.32653061  18.36734694\n",
      "  20.40816327  22.44897959  24.48979592  26.53061224  28.57142857\n",
      "  30.6122449   32.65306122  34.69387755  36.73469388  38.7755102\n",
      "  40.81632653  42.85714286  44.89795918  46.93877551  48.97959184\n",
      "  51.02040816  53.06122449  55.10204082  57.14285714  59.18367347\n",
      "  61.2244898   63.26530612  65.30612245  67.34693878  69.3877551\n",
      "  71.42857143  73.46938776  75.51020408  77.55102041  79.59183673\n",
      "  81.63265306  83.67346939  85.71428571  87.75510204  89.79591837\n",
      "  91.83673469  93.87755102  95.91836735  97.95918367 100.        ]\n"
     ]
    }
   ],
   "source": [
    "ds2 = np.linspace(0, 100, 50)\n",
    "print(ds2)"
   ]
  },
  {
   "cell_type": "code",
   "execution_count": 43,
   "metadata": {},
   "outputs": [],
   "source": [
    "ds2 = ds2.reshape(10, 5)"
   ]
  },
  {
   "cell_type": "code",
   "execution_count": 44,
   "metadata": {},
   "outputs": [
    {
     "name": "stdout",
     "output_type": "stream",
     "text": [
      "[[ 56.          30.          48.          47.          39.        ]\n",
      " [ 38.          44.          18.          64.          56.        ]\n",
      " [ 34.          53.          74.          17.          72.        ]\n",
      " [ 13.          30.          17.          53.          68.        ]\n",
      " [ 50.          91.          91.          83.          53.        ]\n",
      " [ 78.           0.          13.          57.          76.        ]\n",
      " [  3.          70.           3.          84.          79.        ]\n",
      " [ 10.          87.          60.           3.          48.        ]\n",
      " [ 52.          43.          36.           5.          71.        ]\n",
      " [ 38.          86.          94.          98.          42.        ]\n",
      " [  0.           2.04081633   4.08163265   6.12244898   8.16326531]\n",
      " [ 10.20408163  12.24489796  14.28571429  16.32653061  18.36734694]\n",
      " [ 20.40816327  22.44897959  24.48979592  26.53061224  28.57142857]\n",
      " [ 30.6122449   32.65306122  34.69387755  36.73469388  38.7755102 ]\n",
      " [ 40.81632653  42.85714286  44.89795918  46.93877551  48.97959184]\n",
      " [ 51.02040816  53.06122449  55.10204082  57.14285714  59.18367347]\n",
      " [ 61.2244898   63.26530612  65.30612245  67.34693878  69.3877551 ]\n",
      " [ 71.42857143  73.46938776  75.51020408  77.55102041  79.59183673]\n",
      " [ 81.63265306  83.67346939  85.71428571  87.75510204  89.79591837]\n",
      " [ 91.83673469  93.87755102  95.91836735  97.95918367 100.        ]]\n"
     ]
    }
   ],
   "source": [
    "vertstk = np.vstack((ds1, ds2))\n",
    "print(vertstk)"
   ]
  },
  {
   "cell_type": "code",
   "execution_count": 45,
   "metadata": {},
   "outputs": [
    {
     "name": "stdout",
     "output_type": "stream",
     "text": [
      "[[ 56.          30.          48.          47.          39.\n",
      "    0.           2.04081633   4.08163265   6.12244898   8.16326531]\n",
      " [ 38.          44.          18.          64.          56.\n",
      "   10.20408163  12.24489796  14.28571429  16.32653061  18.36734694]\n",
      " [ 34.          53.          74.          17.          72.\n",
      "   20.40816327  22.44897959  24.48979592  26.53061224  28.57142857]\n",
      " [ 13.          30.          17.          53.          68.\n",
      "   30.6122449   32.65306122  34.69387755  36.73469388  38.7755102 ]\n",
      " [ 50.          91.          91.          83.          53.\n",
      "   40.81632653  42.85714286  44.89795918  46.93877551  48.97959184]\n",
      " [ 78.           0.          13.          57.          76.\n",
      "   51.02040816  53.06122449  55.10204082  57.14285714  59.18367347]\n",
      " [  3.          70.           3.          84.          79.\n",
      "   61.2244898   63.26530612  65.30612245  67.34693878  69.3877551 ]\n",
      " [ 10.          87.          60.           3.          48.\n",
      "   71.42857143  73.46938776  75.51020408  77.55102041  79.59183673]\n",
      " [ 52.          43.          36.           5.          71.\n",
      "   81.63265306  83.67346939  85.71428571  87.75510204  89.79591837]\n",
      " [ 38.          86.          94.          98.          42.\n",
      "   91.83673469  93.87755102  95.91836735  97.95918367 100.        ]]\n"
     ]
    }
   ],
   "source": [
    "hozstk = np.hstack((ds1, ds2))\n",
    "print(hozstk)"
   ]
  },
  {
   "cell_type": "code",
   "execution_count": 46,
   "metadata": {},
   "outputs": [
    {
     "data": {
      "text/plain": [
       "[array([28. , 15. , 24. , 23.5, 19.5]),\n",
       " array([19., 22.,  9., 32., 28.]),\n",
       " array([17. , 26.5, 37. ,  8.5, 36. ]),\n",
       " array([ 6.5, 15. ,  8.5, 26.5, 34. ]),\n",
       " array([25. , 45.5, 45.5, 41.5, 26.5]),\n",
       " array([39. ,  0. ,  6.5, 28.5, 38. ]),\n",
       " array([ 1.5, 35. ,  1.5, 42. , 39.5]),\n",
       " array([ 5. , 43.5, 30. ,  1.5, 24. ]),\n",
       " array([26. , 21.5, 18. ,  2.5, 35.5]),\n",
       " array([19., 43., 47., 49., 21.])]"
      ]
     },
     "execution_count": 46,
     "metadata": {},
     "output_type": "execute_result"
    }
   ],
   "source": [
    "list(map(lambda x: x / 2, ds1))"
   ]
  },
  {
   "cell_type": "code",
   "execution_count": 47,
   "metadata": {},
   "outputs": [
    {
     "data": {
      "text/plain": [
       "array([[ 0.        ,  1.02040816,  2.04081633,  3.06122449,  4.08163265],\n",
       "       [ 5.10204082,  6.12244898,  7.14285714,  8.16326531,  9.18367347],\n",
       "       [10.20408163, 11.2244898 , 12.24489796, 13.26530612, 14.28571429],\n",
       "       [15.30612245, 16.32653061, 17.34693878, 18.36734694, 19.3877551 ],\n",
       "       [20.40816327, 21.42857143, 22.44897959, 23.46938776, 24.48979592],\n",
       "       [25.51020408, 26.53061224, 27.55102041, 28.57142857, 29.59183673],\n",
       "       [30.6122449 , 31.63265306, 32.65306122, 33.67346939, 34.69387755],\n",
       "       [35.71428571, 36.73469388, 37.75510204, 38.7755102 , 39.79591837],\n",
       "       [40.81632653, 41.83673469, 42.85714286, 43.87755102, 44.89795918],\n",
       "       [45.91836735, 46.93877551, 47.95918367, 48.97959184, 50.        ]])"
      ]
     },
     "execution_count": 47,
     "metadata": {},
     "output_type": "execute_result"
    }
   ],
   "source": [
    "def div_two(num):\n",
    "    return num / 2\n",
    "\n",
    "div_two_v = np.vectorize(div_two)\n",
    "\n",
    "div_two_v(ds2)"
   ]
  },
  {
   "cell_type": "code",
   "execution_count": 51,
   "metadata": {},
   "outputs": [
    {
     "ename": "TypeError",
     "evalue": "'>' not supported between instances of 'list' and 'int'",
     "output_type": "error",
     "traceback": [
      "\u001b[1;31m---------------------------------------------------------------------------\u001b[0m",
      "\u001b[1;31mTypeError\u001b[0m                                 Traceback (most recent call last)",
      "\u001b[1;32m<ipython-input-51-9bcee64215f3>\u001b[0m in \u001b[0;36m<module>\u001b[1;34m()\u001b[0m\n\u001b[0;32m      4\u001b[0m     \u001b[1;32mreturn\u001b[0m \u001b[0mnum\u001b[0m \u001b[1;33m/\u001b[0m \u001b[1;36m2\u001b[0m\u001b[1;33m\u001b[0m\u001b[0m\n\u001b[0;32m      5\u001b[0m \u001b[1;33m\u001b[0m\u001b[0m\n\u001b[1;32m----> 6\u001b[1;33m \u001b[1;33m[\u001b[0m\u001b[0mx\u001b[0m \u001b[1;33m/\u001b[0m \u001b[1;36m2\u001b[0m \u001b[1;32mfor\u001b[0m \u001b[0mx\u001b[0m \u001b[1;32min\u001b[0m \u001b[0mds1\u001b[0m\u001b[1;33m]\u001b[0m\u001b[1;33m[\u001b[0m\u001b[1;33m[\u001b[0m\u001b[0mx\u001b[0m \u001b[1;33m/\u001b[0m \u001b[1;36m2\u001b[0m \u001b[1;32mfor\u001b[0m \u001b[0mx\u001b[0m \u001b[1;32min\u001b[0m \u001b[0mds1\u001b[0m\u001b[1;33m]\u001b[0m \u001b[1;33m>\u001b[0m \u001b[1;36m25\u001b[0m\u001b[1;33m]\u001b[0m \u001b[1;33m=\u001b[0m \u001b[1;36m25\u001b[0m\u001b[1;33m\u001b[0m\u001b[0m\n\u001b[0m",
      "\u001b[1;31mTypeError\u001b[0m: '>' not supported between instances of 'list' and 'int'"
     ]
    }
   ],
   "source": [
    "def div_two(num):\n",
    "    if num.any() > 25:\n",
    "        return 25\n",
    "    return num / 2\n",
    "\n",
    "[x / 2 for x in ds1][[x / 2 for x in ds1] > 25] = 25"
   ]
  },
  {
   "cell_type": "code",
   "execution_count": 52,
   "metadata": {},
   "outputs": [
    {
     "data": {
      "text/plain": [
       "array([[ 0.        ,  1.02040816,  2.04081633,  3.06122449,  4.08163265],\n",
       "       [ 5.10204082,  6.12244898,  7.14285714,  8.16326531,  9.18367347],\n",
       "       [10.20408163, 11.2244898 , 12.24489796, 25.        , 25.        ],\n",
       "       [25.        , 25.        , 25.        , 25.        , 25.        ],\n",
       "       [25.        , 25.        , 25.        , 25.        , 25.        ],\n",
       "       [25.        , 25.        , 25.        , 25.        , 25.        ],\n",
       "       [25.        , 25.        , 25.        , 25.        , 25.        ],\n",
       "       [25.        , 25.        , 25.        , 25.        , 25.        ],\n",
       "       [25.        , 25.        , 25.        , 25.        , 25.        ],\n",
       "       [25.        , 25.        , 25.        , 25.        , 25.        ]])"
      ]
     },
     "execution_count": 52,
     "metadata": {},
     "output_type": "execute_result"
    }
   ],
   "source": [
    "def div_two(num):\n",
    "    if num > 25:\n",
    "        return 25\n",
    "    return num / 2\n",
    "\n",
    "div_two_v = np.vectorize(div_two)\n",
    "\n",
    "div_two_v(ds2)"
   ]
  },
  {
   "cell_type": "code",
   "execution_count": 53,
   "metadata": {},
   "outputs": [
    {
     "data": {
      "text/plain": [
       "array([37.2       , 53.4       , 45.4       , 51.1       , 60.4       ,\n",
       "       45.91836735, 47.95918367, 50.        , 52.04081633, 54.08163265])"
      ]
     },
     "execution_count": 53,
     "metadata": {},
     "output_type": "execute_result"
    }
   ],
   "source": [
    "hozstk.mean(axis = 0)"
   ]
  },
  {
   "cell_type": "code",
   "execution_count": 54,
   "metadata": {},
   "outputs": [
    {
     "data": {
      "text/plain": [
       "array([24.04081633, 29.14285714, 37.24489796, 35.44693878, 59.24897959,\n",
       "       49.95102041, 56.55306122, 58.55510204, 63.55714286, 83.75918367])"
      ]
     },
     "execution_count": 54,
     "metadata": {},
     "output_type": "execute_result"
    }
   ],
   "source": [
    "hozstk.mean(axis = 1)"
   ]
  },
  {
   "cell_type": "code",
   "execution_count": 55,
   "metadata": {},
   "outputs": [
    {
     "data": {
      "text/plain": [
       "array([41.55918367, 50.67959184, 47.7       , 51.57040816, 57.24081633])"
      ]
     },
     "execution_count": 55,
     "metadata": {},
     "output_type": "execute_result"
    }
   ],
   "source": [
    "vertstk.mean(axis = 0)"
   ]
  },
  {
   "cell_type": "code",
   "execution_count": 56,
   "metadata": {},
   "outputs": [
    {
     "data": {
      "text/plain": [
       "array([44.        , 44.        , 50.        , 36.2       , 73.6       ,\n",
       "       44.8       , 47.8       , 41.6       , 41.4       , 71.6       ,\n",
       "        4.08163265, 14.28571429, 24.48979592, 34.69387755, 44.89795918,\n",
       "       55.10204082, 65.30612245, 75.51020408, 85.71428571, 95.91836735])"
      ]
     },
     "execution_count": 56,
     "metadata": {},
     "output_type": "execute_result"
    }
   ],
   "source": [
    "vertstk.mean(axis = 1)"
   ]
  }
 ],
 "metadata": {
  "kernelspec": {
   "display_name": "Python 3",
   "language": "python",
   "name": "python3"
  },
  "language_info": {
   "codemirror_mode": {
    "name": "ipython",
    "version": 3
   },
   "file_extension": ".py",
   "mimetype": "text/x-python",
   "name": "python",
   "nbconvert_exporter": "python",
   "pygments_lexer": "ipython3",
   "version": "3.6.4"
  }
 },
 "nbformat": 4,
 "nbformat_minor": 1
}
