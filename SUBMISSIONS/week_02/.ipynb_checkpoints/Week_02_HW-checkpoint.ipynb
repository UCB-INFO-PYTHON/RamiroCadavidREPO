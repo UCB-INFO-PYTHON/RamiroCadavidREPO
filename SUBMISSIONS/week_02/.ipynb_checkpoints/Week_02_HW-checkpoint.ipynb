{
 "cells": [
  {
   "cell_type": "markdown",
   "metadata": {},
   "source": [
    "## Week 2 Assignment - W200 Python Fundamentals for Data Science, UC Berkeley MIDS"
   ]
  },
  {
   "cell_type": "markdown",
   "metadata": {},
   "source": [
    "## Python Coding\n",
    "\n",
    "Write a script to solve each of the following problems.  Please save each problem as it's own separate .py file, named according to each problem. Please upload these five .py scripts to your GitHub repository in your SUBMISSIONS/week_02 folder.\n",
    "\n",
    "Assignment due date: 11:59PM PST the night before the Week 3 Live Session."
   ]
  },
  {
   "cell_type": "markdown",
   "metadata": {},
   "source": [
    "## Objectives:\n",
    "\n",
    "- Demonstrate how to obtain user input into a Python script\n",
    "- Comprehend how to save a Python script to a .py file\n",
    "- Understand how to run a Python script from the command line\n",
    "- Demonstrate outputting useful information to the user in the correct format\n",
    "- Use Python numerical and string variables to calculate values and output these to the user\n",
    "- Demonstrate use of the while loop and if statements"
   ]
  },
  {
   "cell_type": "markdown",
   "metadata": {},
   "source": [
    "## General Guidelines:\n",
    "\n",
    "- Even though your final submission must be individual .py files, it may be helpful to first solve the problems in this jupyter notebook, then translate the files into .py form.\n",
    "- Please format your input and output strings to be user friendly.  For tips on how to do this, see the python string formatting cookbook at: https://mkaz.tech/code/python-string-format-cookbook/.  For example, in the first problem below, format the tip to two decimal places like 15.25 instead of 15.25000001.\n",
    "- Limited user input validation and error checking is encouraged on this assignment. Each question below will indicate the type of input that you can expect. (for example, if the question states the input will be an integer you can expect the user to input an integer and do not need to check to ensure it is an integer versus a float or a string)\n",
    "- Adding comments in your code is strongly suggested but won't be graded.\n",
    "- The examples given are samples of how we will test/grade your code. Please ensure your scripts output the same information.\n",
    "- If you are stuck on a problem or do not understand a question - please come to office hours or ask questions to the class Google group (please don't post your code though). If it is a coding problem send a private email to all of the instructors. "
   ]
  },
  {
   "cell_type": "markdown",
   "metadata": {},
   "source": [
    "### 2-1. Tip Calculator\n",
    "\n",
    "Below, you can see the script we wrote to compute the tip for a meal.  Fix it so that it works correctly. Expect the input to be a **number.** \n",
    "\n",
    "Save your result as the file: tip.py."
   ]
  },
  {
   "cell_type": "code",
   "execution_count": 2,
   "metadata": {},
   "outputs": [
    {
     "name": "stdout",
     "output_type": "stream",
     "text": [
      "Enter the price of a meal:800\n",
      "A 16% tip would be 128.00\n",
      "The total including tip would be 928.00\n"
     ]
    }
   ],
   "source": [
    "# Request price from user\n",
    "price = input(\"Enter the price of a meal: \")\n",
    "\n",
    "# Calculate tip and total\n",
    "tip = float(price) * 0.16\n",
    "total = float(price) + tip\n",
    "\n",
    "# Return tip and total to user\n",
    "print(\"A 16% tip would be\", \"{:.2f}\".format(tip))\n",
    "print(\"The total including tip would be\", '{:.2f}'.format(total))"
   ]
  },
  {
   "cell_type": "markdown",
   "metadata": {},
   "source": [
    "### 2-2. Gas Pump Informer\n",
    "\n",
    "Write a script that prompts the user for a **number** of gallons of gasoline. Reprint that value, along with its conversion to other measurements:\n",
    "\n",
    "- Equivalent number of liters (format to 4 decimals)\n",
    "- Number of barrels of oil required to produce it (format to 3 decimals)\n",
    "- Price in U.S. dollars (format to 2 decimals)\n",
    "\n",
    "Figures to use:\n",
    "\n",
    "- 1 gallon is equivalent to 3.7854 liters.\n",
    "- 1 barrel of oil produces 19.5 gallons of gas.\n",
    "- The average price of gas is approximately $3.65 per gallon.\n",
    "\n",
    "Save your script as: gas.py"
   ]
  },
  {
   "cell_type": "code",
   "execution_count": 5,
   "metadata": {},
   "outputs": [
    {
     "name": "stdout",
     "output_type": "stream",
     "text": [
      "Enter number of gallons of gasoline: 100\n",
      "100.0 gallons of gasoline is equivalent to 378.5400 liters, which require 5.128 barrels to be produced, and its price is $365.00 U.S. dollars\n"
     ]
    }
   ],
   "source": [
    "# Request gallons and convert to equivalent units\n",
    "gallons = float(input(\"Enter number of gallons of gasoline: \"))\n",
    "liters = gallons * 3.7854\n",
    "barrels = gallons / 19.5\n",
    "price = gallons * 3.65\n",
    "\n",
    "# Print gallons and equivalent units\n",
    "print(gallons, \"gallons of gasoline is equivalent to\", \"{:.4f}\".format(liters), \"liters, which require\", \\\n",
    "      \"{:.3f}\".format(barrels), \"barrels to be produced, and its price is\", \"${:.2f}\".format(price), \"U.S. dollars\")"
   ]
  },
  {
   "cell_type": "markdown",
   "metadata": {},
   "source": [
    "### 2-3. Number Averager\n",
    "\n",
    "Write a script that prompts the user for **two numbers**, a and b.  Then, prompt the user to enter a type of average out of the three options below. Make it so the user would just type in a **number** 1, 2 or 3 for the average (i.e. 1 for arithmetic mean, 2 for geometric mean, or 3 for root-mean-square). Output the correct average, based on what the user selected.\n",
    "\n",
    "1. The arithmetic mean:  $(a + b) / 2 $\n",
    "2. The geometric mean:  $\\sqrt{ab}$\n",
    "3. The root-mean-square: $\\sqrt{\\frac{a^2 + b^2}{2}}$\n",
    "\n",
    "Save your script as: averages.py"
   ]
  },
  {
   "cell_type": "code",
   "execution_count": 5,
   "metadata": {},
   "outputs": [
    {
     "name": "stdout",
     "output_type": "stream",
     "text": [
      "Enter number a: 2\n",
      "Enter number b: 3\n",
      "Enter an average type (1 for Arithmetic, 2 for geometric, and 3 for root-mean-square): 3\n",
      "The root-mean-square of 2.0 and 3.0 is 2.5495097567963922 (rounded to 4 decimals, it is equal to 2.5495 )\n"
     ]
    }
   ],
   "source": [
    "# Request input from user\n",
    "a = float(input(\"Enter number a: \"))\n",
    "b = float(input(\"Enter number b: \"))\n",
    "numType = int(input(\"Enter an average type (1 for Arithmetic, 2 for geometric, and 3 for root-mean-square): \"))\n",
    "\n",
    "# Calculate and output average based on type selected by user\n",
    "if numType == 1:\n",
    "    avg = (a + b) / 2\n",
    "    type = \"arithmetic mean\"\n",
    "elif numType == 2:\n",
    "    avg = (a * b) ** 0.5\n",
    "    type = \"geometric mean\"\n",
    "else:\n",
    "    avg = ((a**2 + b**2)/2) ** 0.5\n",
    "    type = \"root-mean-square\"\n",
    "print(\"The\", type, \"of\", a, \"and\", b, \"is\", avg, \"(rounded to 4 decimals, it is equal to\", '{:.4f}'.format(avg), \")\")"
   ]
  },
  {
   "cell_type": "markdown",
   "metadata": {},
   "source": [
    "### 2-4. Income Tax\n",
    "\n",
    "The mythical island nation of Laskoatu has a rather simple tax code.  The first \\$1000 of income is taxed at 5%.  The next \\$1000 is taxed at 10%.  Any income beyond the first \\$2000 is taxed at 15%.  Complete the following script so that it asks the user for his or her income (an **integer** as seen below) and outputs the amount of tax owed. \n",
    "\n",
    "Example:\n",
    "```\n",
    "Please enter your income: 1500\n",
    "\n",
    "The tax owed is: $100 \n",
    "```\n",
    "\n",
    "Save your script as: tax.py"
   ]
  },
  {
   "cell_type": "code",
   "execution_count": 6,
   "metadata": {},
   "outputs": [
    {
     "name": "stdout",
     "output_type": "stream",
     "text": [
      "Please enter your income: 1500\n",
      "The tax owed is: $100\n"
     ]
    }
   ],
   "source": [
    "# Request income\n",
    "income = int(input(\"Please enter your income: \"))\n",
    "\n",
    "# Calculate tax owed\n",
    "if income <= 1000:\n",
    "    tax = income * 0.05\n",
    "elif income <= 2000:\n",
    "    tax = (1000 * 0.05) + ((income - 1000) * 0.1)\n",
    "else:\n",
    "    tax = (1000 * 0.05) + (1000 * 0.1) + ((income - 2000) * 0.15)\n",
    "        \n",
    "# Return tax owed\n",
    "print(\"The tax owed is:\", \"${:.0f}\".format(tax))"
   ]
  },
  {
   "cell_type": "markdown",
   "metadata": {},
   "source": [
    "### 2-5. Palindrome\n",
    "\n",
    "Write a script that prompts the user for their name (this input will be a **1 word string**). Using a while loop that counts downwards (instead of using the 'reverse' function or the string slicing [::-1] method), print the letters of the name reversed (hint: use print(var, end='') in each iteration of the loop). You should use s.lower() and s.upper(), as appropriate, to change the string to lowercase and print it out with only the first letter of the reversed word in uppercase. If the name is the same forward and backwards, print \"Palindrome!\" on the next line. Make sure your code prints the sample examples exactly as shown below.\n",
    "\n",
    "Examples:\n",
    "```\n",
    "Enter your name: Paul\n",
    "Luap\n",
    "\n",
    "Enter your name: ANA\n",
    "Ana\n",
    "Palindrome!\n",
    "```\n",
    "\n",
    "Save your script as: palindrome.py"
   ]
  },
  {
   "cell_type": "code",
   "execution_count": 9,
   "metadata": {},
   "outputs": [
    {
     "name": "stdout",
     "output_type": "stream",
     "text": [
      "Please enter your first name (please enter only one word. If your name is composedof more than one word, enter only the first): Ramiro\n",
      "Orimar\n"
     ]
    }
   ],
   "source": [
    "# Request name\n",
    "name = input(\"Please enter your first name (please enter only one word. If your name is composed\\\n",
    " of more than one word, enter only the first): \")\n",
    "\n",
    "## Invert name (using print(, end=\"\"))\n",
    "#count = len(name)\n",
    "#while count > 0:\n",
    "#    letter = name[count - 1:count]\n",
    "#    if count == len(name):\n",
    "#        print(letter.upper(), end=\"\") \n",
    "#    else:\n",
    "#        print(letter.lower(), end=\"\")\n",
    "#    count -= 1\n",
    "  \n",
    "# Invert name (much shorter than the commented segment above)\n",
    "count = len(name)\n",
    "inv = \"\"\n",
    "while count > 0:\n",
    "    inv += name[count - 1: count]\n",
    "    count -= 1\n",
    "print(inv.capitalize())\n",
    "\n",
    "# Check if name is a palindrome\n",
    "if inv.lower() == name.lower():\n",
    "    print(\"Palindrome!\")"
   ]
  },
  {
   "cell_type": "markdown",
   "metadata": {
    "collapsed": true
   },
   "source": [
    "## If you have feedback for this homework, please submit it using the link below:\n",
    "\n",
    "http://goo.gl/forms/74yCiQTf6k"
   ]
  }
 ],
 "metadata": {
  "anaconda-cloud": {},
  "kernelspec": {
   "display_name": "Python 3",
   "language": "python",
   "name": "python3"
  },
  "language_info": {
   "codemirror_mode": {
    "name": "ipython",
    "version": 3
   },
   "file_extension": ".py",
   "mimetype": "text/x-python",
   "name": "python",
   "nbconvert_exporter": "python",
   "pygments_lexer": "ipython3",
   "version": "3.6.4"
  }
 },
 "nbformat": 4,
 "nbformat_minor": 1
}
