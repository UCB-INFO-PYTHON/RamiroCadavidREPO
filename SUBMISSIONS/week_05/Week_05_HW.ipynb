{
 "cells": [
  {
   "cell_type": "markdown",
   "metadata": {
    "deletable": false,
    "editable": false,
    "nbgrader": {
     "checksum": "a564a475369fb3f55d28fbe02a695f8e",
     "grade": false,
     "grade_id": "cell-4cc0ffd6a5810c6d",
     "locked": true,
     "schema_version": 1,
     "solution": false
    }
   },
   "source": [
    "## Week 5 Assignment - W200 Python for Data Science, UC Berkeley MIDS"
   ]
  },
  {
   "cell_type": "markdown",
   "metadata": {
    "deletable": false,
    "editable": false,
    "nbgrader": {
     "checksum": "1cf85e0ec46dbd509e4c38f494751466",
     "grade": false,
     "grade_id": "cell-1f3ffd327d56ecbc",
     "locked": true,
     "schema_version": 1,
     "solution": false
    }
   },
   "source": [
    "Write code in this jupyter Notebook to solve each of the following problems. Each problem should have its solution in a separate cell. Please upload this **Notebook** with your solutions to your GitHub repository in your SUBMISSIONS/week_05 folder by 11:59PM PST the night before class."
   ]
  },
  {
   "cell_type": "markdown",
   "metadata": {
    "deletable": false,
    "editable": false,
    "nbgrader": {
     "checksum": "b6451066bcf587bf0e54b0d80b5cf0b3",
     "grade": false,
     "grade_id": "cell-c398835a920065f4",
     "locked": true,
     "schema_version": 1,
     "solution": false
    }
   },
   "source": [
    "## Objectives:\n",
    "\n",
    "- Demonstrate how to define functions \n",
    "- Understand how to call functions from within other functions\n",
    "- Understand how to return results from a function\n",
    "- Use the Python namespace to configure variables\n",
    "- Use functions as objects to pass to other functions\n",
    "- Design and implement a recursive function\n",
    "- Demonstrate knowledge of the Try/Except error checking statements"
   ]
  },
  {
   "cell_type": "markdown",
   "metadata": {
    "deletable": false,
    "editable": false,
    "nbgrader": {
     "checksum": "3aeb5e3481bdd69a30756207cc9101c0",
     "grade": false,
     "grade_id": "cell-bc58b3da65c5de3c",
     "locked": true,
     "schema_version": 1,
     "solution": false
    }
   },
   "source": [
    "## General Guidelines:\n",
    "\n",
    "- All calculations need to be done in the functions (that includes any formatting of the output)\n",
    "- Name your functions exactly as written in the problem statement\n",
    "- Please have your functions return the answer rather than printing it inside the function\n",
    "- Do not make a separate input() statement.  The functions will be passed the input as shown in the examples\n",
    "- The examples given are samples of how we will test/grade your code. Please ensure your functions output the same information\n",
    "- Answer format is graded - please match the examples\n",
    "- Other than for Part 5, user / function inputs do not need to be validated or checked. (For example, if the problem states input an integer we will check it by inputting an integer)\n",
    "- Docstrings and comments in your code are strongly suggested but won't be graded\n",
    "- This homework is mostly auto-graded.  The blank code blocks are the auto-grading scripts - please do not delete these!\n",
    "- Your code needs to be written in the #Your Code Here blocks or it wont be graded correctly."
   ]
  },
  {
   "cell_type": "markdown",
   "metadata": {
    "deletable": false,
    "editable": false,
    "nbgrader": {
     "checksum": "0cf1e854861e645d66b8e0ff70130135",
     "grade": false,
     "grade_id": "cell-855c75985f9edefd",
     "locked": true,
     "schema_version": 1,
     "solution": false
    }
   },
   "source": [
    "## 5-1. Function Exercises\n",
    "\n",
    "### 5-1-1. Nested (\"Wrapped\") Functions\n",
    "For this question, please write three functions as follows:\n",
    "\n",
    "- `sum_digits`:   a function which takes an `int` and returns the sum of its (positive value) digits. \n",
    "\n",
    "- `diff_sum_digits`:   a function that \"wraps\" `sum_digits` in that it calls `sum_digits` from within it. Use the `diff_sum_digits` function to compute the absolute value of the input number minus the sum of digits of the input number.\n",
    "\n",
    "- `wraps_diff_sum_digits`:   a function that \"wraps\" `diff_sum_digits`. If `diff_sum_digits` returns a result that has more than one digit have this new function replace the result with the sum of the digits of the result. Do this repeatedly until the result has just one digit, then display it.\n",
    "\n",
    "To illustrate this with an example:\n",
    "- The input number is 20 as in: wraps_diff_sum_digits(20)\n",
    "- wraps_diff_sum_digits calls diff_sum_digits(20) which calls sum_digits(20)\n",
    "- sum_digits adds the numbers (2+0 = 2) returns a 2, diff_sum_digits subtracts (20-2 = 18) and returns this to wraps_diff_sum_digits\n",
    "- wraps_diff_sum_digits sees that the number 18 stills has 2 digits and calls diff_sum_digits(18) which calls sum_digits(18)\n",
    "- sum_digits add the numbers (1+8 = 9) returns a 9, diff_sum_digits subtracts (18-9 = 9) and returns this to wraps_diff_sum_digits\n",
    "- wraps_diff_sum_digits sees that the number 9 only has 1 digit - stops and returns the value 9.\n",
    "\n",
    "Below you'll find an example of what we mean when we say \"wraps\"."
   ]
  },
  {
   "cell_type": "code",
   "execution_count": null,
   "metadata": {
    "collapsed": true,
    "deletable": false,
    "editable": false,
    "nbgrader": {
     "checksum": "c02d1826d05a9a1c104d364c97b90b07",
     "grade": false,
     "grade_id": "cell-dfddd13006f81c36",
     "locked": true,
     "schema_version": 1,
     "solution": false
    }
   },
   "outputs": [],
   "source": [
    "def example_base_func(x):\n",
    "    \"Returns the value of the input * -1\"\n",
    "    return -1 * x\n",
    "\n",
    "def wraps_example_base_func(x):\n",
    "    temp_val = example_base_func(x)\n",
    "    if temp_val < 0:\n",
    "        return \"trivial example\"\n",
    "    \n",
    "print(example_base_func(5))\n",
    "print(wraps_example_base_func(5))"
   ]
  },
  {
   "cell_type": "markdown",
   "metadata": {
    "deletable": false,
    "editable": false,
    "nbgrader": {
     "checksum": "ae1eb2a63de304c1317c941186df455b",
     "grade": false,
     "grade_id": "cell-51fb42552364a106",
     "locked": true,
     "schema_version": 1,
     "solution": false
    }
   },
   "source": [
    "You can use the sample output in this cell to sanity check your work.\n",
    "\n",
    "\n",
    "```python\n",
    "print(sum_digits(54321))\n",
    "print(sum_digits(-54321))\n",
    "print(diff_sum_digits(54321))\n",
    "print('final value: ' + str(wraps_diff_sum_digits(54321)))\n",
    "\n",
    "15\n",
    "15\n",
    "54306\n",
    "final value: 9\n",
    "```"
   ]
  },
  {
   "cell_type": "code",
   "execution_count": 2,
   "metadata": {
    "deletable": false,
    "nbgrader": {
     "checksum": "0c8b16cc83870574b0fc9c791aa2b0d5",
     "grade": false,
     "grade_id": "cell-c373bf43a4b7ada6",
     "locked": false,
     "schema_version": 1,
     "solution": true
    }
   },
   "outputs": [
    {
     "name": "stdout",
     "output_type": "stream",
     "text": [
      "15\n",
      "15\n",
      "54306\n",
      "final value: 9\n"
     ]
    }
   ],
   "source": [
    "# Ramiro Cadavid\n",
    "\n",
    "def sum_digits(integer):\n",
    "    \"\"\"takes an int and returns the sum of its (positive value) digits.\n",
    "    \"\"\"\n",
    "    total = 0\n",
    "    digits = str(abs(integer))\n",
    "    \n",
    "    for digit in digits:\n",
    "        total += int(digit)\n",
    "    return total\n",
    "\n",
    "print(sum_digits(54321))\n",
    "print(sum_digits(-54321))\n",
    "\n",
    "def diff_sum_digits(integer):\n",
    "    \"\"\"compute the absolute value of the input number minus \n",
    "       the sum of digits of the input number.\n",
    "    \"\"\"\n",
    "    return abs(integer) - sum_digits(integer)\n",
    "\n",
    "print(diff_sum_digits(54321))\n",
    "\n",
    "def wraps_diff_sum_digits(integer):\n",
    "    \"\"\"If diff_sum_digits returns a result that has more than one digit this\n",
    "       function replaces the result with the sum of the digits of the result.\n",
    "       Does this repeatedly until the result has just one digit, then display it.\n",
    "    \"\"\"\n",
    "    result = diff_sum_digits(integer) \n",
    "    while result > 9 or result < -9:\n",
    "        result = sum_digits(result)\n",
    "    return result\n",
    "\n",
    "print('final value: ' + str(wraps_diff_sum_digits(54321)))"
   ]
  },
  {
   "cell_type": "code",
   "execution_count": null,
   "metadata": {
    "collapsed": true,
    "deletable": false,
    "editable": false,
    "nbgrader": {
     "checksum": "1eaa5c47b5aa13bc26c8f469e22c74cd",
     "grade": true,
     "grade_id": "cell-88242cbaef2afe19",
     "locked": true,
     "points": 2,
     "schema_version": 1,
     "solution": false
    }
   },
   "outputs": [],
   "source": []
  },
  {
   "cell_type": "code",
   "execution_count": null,
   "metadata": {
    "collapsed": true,
    "deletable": false,
    "editable": false,
    "nbgrader": {
     "checksum": "f7284ed16420e262902a9d5ff7be3f08",
     "grade": true,
     "grade_id": "cell-257a5430df922fd1",
     "locked": true,
     "points": 2,
     "schema_version": 1,
     "solution": false
    }
   },
   "outputs": [],
   "source": []
  },
  {
   "cell_type": "code",
   "execution_count": null,
   "metadata": {
    "collapsed": true,
    "deletable": false,
    "editable": false,
    "nbgrader": {
     "checksum": "9ebf8019a92592c4bc889883415418ba",
     "grade": true,
     "grade_id": "cell-90fd0a6f7ef73ec9",
     "locked": true,
     "points": 3,
     "schema_version": 1,
     "solution": false
    }
   },
   "outputs": [],
   "source": []
  },
  {
   "cell_type": "code",
   "execution_count": null,
   "metadata": {
    "collapsed": true,
    "deletable": false,
    "editable": false,
    "nbgrader": {
     "checksum": "c2661462b486672ea7fac6598675ff13",
     "grade": true,
     "grade_id": "cell-58c35e06fc9646e9",
     "locked": true,
     "points": 3,
     "schema_version": 1,
     "solution": false
    }
   },
   "outputs": [],
   "source": []
  },
  {
   "cell_type": "markdown",
   "metadata": {
    "deletable": false,
    "editable": false,
    "nbgrader": {
     "checksum": "35f8bf168f3e004ec68b21085f634d8b",
     "grade": false,
     "grade_id": "cell-4fe5ba9f67aac0d8",
     "locked": true,
     "schema_version": 1,
     "solution": false
    }
   },
   "source": [
    "### 5-1-2. Pigs, Continued\n",
    "\n",
    "Write a function `is_consonant` that takes a character and returns `True` if it is a consonant.\n",
    "\n",
    "Use your function to create a new function `to_piglatin` that takes a word, moves all starting consonants (all consonants before the first vowel) to the end of the word, then adds *ay* to the end and returns the result. You may expect that the input to the function will be just one word. (we know this isn't **true** pig latin - please do not change this basic algorithm). For a single word input the first letter is capitalized and the rest are lower case as shown in the example below.\n",
    "\n",
    "*Extra Credit (5 points): Have the 'to_piglatin' function check whether or not the input is multiple words and return the whole sentence in pig latin. For this you may assume that a sentence always ends with a period and the input is always one sentence, never more than one. Make these changes in the 'to_piglatin' function - that is, if you want to do the extra credit the 'to_piglatin' function needs to work for both a single word and a sentence.*\n",
    "\n",
    "Examples:\n",
    "```\n",
    "(format is: function call -> returns)\n",
    "\n",
    "to_piglatin('stay') -> aystay\n",
    "to_piglatin('Jared') -> Aredjay \n",
    "to_piglatin('and') -> anday\n",
    "to_piglatin('car') -> arcay\n",
    "```"
   ]
  },
  {
   "cell_type": "code",
   "execution_count": 10,
   "metadata": {
    "deletable": false,
    "nbgrader": {
     "checksum": "6384901e4c4c6996551ca77ba0e02f78",
     "grade": false,
     "grade_id": "cell-2eef38fa43df4ac5",
     "locked": false,
     "schema_version": 1,
     "solution": true
    }
   },
   "outputs": [
    {
     "name": "stdout",
     "output_type": "stream",
     "text": [
      "aystay\n",
      "Aredjay\n",
      "anday\n",
      "arcay\n",
      "\n",
      "aystay, aredjay.\n",
      "Urelysay ouyay areay okingjay, Mray. Eynmanfay\n"
     ]
    }
   ],
   "source": [
    "# Ramiro Cadavid\n",
    "\n",
    "# YOUR CODE HERE\n",
    "def is_consonant(character):\n",
    "    \"\"\"Takes a character and returns True if it is a consonant\n",
    "    \"\"\"\n",
    "    if character not in 'aeiou':\n",
    "        return True\n",
    "\n",
    "def to_piglatin(string):\n",
    "    \"\"\"Takes a character and, for each word, moves all starting consonants\n",
    "       (all consonants before the first vowel) to the end of the word, then\n",
    "       adds ay to the end and returns the result.\n",
    "    \"\"\"\n",
    "    # Define function that translates words to piglatin\n",
    "    def word_to_piglatin(word):\n",
    "        \n",
    "        for character in list(word):\n",
    "            if not is_consonant(character):\n",
    "                first_vowel = word.find(character)\n",
    "                break\n",
    "        # If no vowel is found\n",
    "        else:\n",
    "            first_vowel = len(word)\n",
    "        \n",
    "        # Create piglatin word\n",
    "        piglatin_word = word[first_vowel:] + word[: first_vowel] + 'ay'\n",
    "        # If word is capitalized, return capitalized pig latin word\n",
    "        if word[0].isupper():\n",
    "            return piglatin_word.title()\n",
    "        else:\n",
    "            return piglatin_word.lower()\n",
    "    \n",
    "    '''Create a list of words from string and calls to_piglatin on \n",
    "       each word (while managing punctution marks)'''\n",
    "    words = string.split(' ')\n",
    "    piglist = []\n",
    "    for word in string.split():         \n",
    "        # Remove punctuation marks (to be added later)\n",
    "        punct = ''\n",
    "        for mark in ',.':\n",
    "            if mark in word:\n",
    "                punct = mark\n",
    "                word = word.replace(mark, '')\n",
    "        # Add word in pig latin to list of words, add punctuation mark\n",
    "        piglist.append(word_to_piglatin(word) + punct)\n",
    "    return (' '.join(piglist))\n",
    "\n",
    "# Test single words\n",
    "print(to_piglatin('stay'))\n",
    "print(to_piglatin('Jared'))\n",
    "print(to_piglatin('and'))\n",
    "print(to_piglatin('car'))\n",
    "# Test sentences\n",
    "print()\n",
    "print(to_piglatin(\"stay, jared.\"))\n",
    "print(to_piglatin(\"Surely you are joking, Mr. Feynman\"))"
   ]
  },
  {
   "cell_type": "code",
   "execution_count": null,
   "metadata": {
    "collapsed": true,
    "deletable": false,
    "editable": false,
    "nbgrader": {
     "checksum": "b0a2658adf2cd8d9bc4627b6efc3e23b",
     "grade": true,
     "grade_id": "cell-5ee412cb4b703023",
     "locked": true,
     "points": 2,
     "schema_version": 1,
     "solution": false
    }
   },
   "outputs": [],
   "source": []
  },
  {
   "cell_type": "code",
   "execution_count": null,
   "metadata": {
    "collapsed": true,
    "deletable": false,
    "editable": false,
    "nbgrader": {
     "checksum": "38b0b0b42003cd91464fcf8e7040e036",
     "grade": true,
     "grade_id": "cell-954080f6af7c07aa",
     "locked": true,
     "points": 2,
     "schema_version": 1,
     "solution": false
    }
   },
   "outputs": [],
   "source": []
  },
  {
   "cell_type": "code",
   "execution_count": null,
   "metadata": {
    "collapsed": true,
    "deletable": false,
    "editable": false,
    "nbgrader": {
     "checksum": "5fbb07777ccbe0396a862193dcd2f2c8",
     "grade": true,
     "grade_id": "cell-68acd2e1a791ca95",
     "locked": true,
     "points": 2,
     "schema_version": 1,
     "solution": false
    }
   },
   "outputs": [],
   "source": []
  },
  {
   "cell_type": "code",
   "execution_count": null,
   "metadata": {
    "collapsed": true,
    "deletable": false,
    "editable": false,
    "nbgrader": {
     "checksum": "bd842778ccc526b921c18a01faccd09c",
     "grade": true,
     "grade_id": "cell-e39d29342e27b90c",
     "locked": true,
     "points": 2,
     "schema_version": 1,
     "solution": false
    }
   },
   "outputs": [],
   "source": []
  },
  {
   "cell_type": "code",
   "execution_count": null,
   "metadata": {
    "collapsed": true,
    "deletable": false,
    "editable": false,
    "nbgrader": {
     "checksum": "7b25a7947d0e7c54dca1e90b934304fc",
     "grade": true,
     "grade_id": "cell-5512005b0518cb19",
     "locked": true,
     "points": 2,
     "schema_version": 1,
     "solution": false
    }
   },
   "outputs": [],
   "source": []
  },
  {
   "cell_type": "code",
   "execution_count": null,
   "metadata": {
    "collapsed": true,
    "deletable": false,
    "editable": false,
    "nbgrader": {
     "checksum": "ebbda7b2850c4adcf4ed6cd98b8143a9",
     "grade": true,
     "grade_id": "cell-ba4425be60b298fb",
     "locked": true,
     "points": 5,
     "schema_version": 1,
     "solution": false
    }
   },
   "outputs": [],
   "source": []
  },
  {
   "cell_type": "markdown",
   "metadata": {
    "deletable": false,
    "editable": false,
    "nbgrader": {
     "checksum": "b9e6d43aae6b0171cb98f2c5faa59969",
     "grade": false,
     "grade_id": "cell-95fcefa2ff403faf",
     "locked": true,
     "schema_version": 1,
     "solution": false
    }
   },
   "source": [
    "## 5-2. Namespace Exercise\n",
    "\n",
    "### 5-2-1. Process Order\n",
    "\n",
    "The following script defines a list of customer orders.  Each item in the list is a tuple containing the name of the item, the number requested, and the price per item.\n",
    "\n",
    "Fill in just the `process_order` function below without changing any other code. This function should remove one of the elements of the order list and print a nice message about it each time through the loop. Finally, make sure that the final print statement correctly displays the total price for the entire list.\n",
    "\n",
    "Example:\n",
    "```\n",
    "You filled an order for 1 antacid for a total of $5.33\n",
    "You filled an order for 3 sour bites for a total of $6.99\n",
    "You filled an order for 1 gummy bears for a total of $1.99\n",
    "You filled an order for 4 oranges for a total of $12.88\n",
    "Total price: $27.19\n",
    "```"
   ]
  },
  {
   "cell_type": "code",
   "execution_count": 4,
   "metadata": {
    "deletable": false,
    "nbgrader": {
     "checksum": "092858c63904eb4ec8ad010fd3d71c72",
     "grade": false,
     "grade_id": "cell-74a84f91e3b3e716",
     "locked": false,
     "schema_version": 1,
     "solution": true
    }
   },
   "outputs": [
    {
     "name": "stdout",
     "output_type": "stream",
     "text": [
      "You filled an order for 1 antacid for a total of $5.33\n",
      "You filled an order for 3 sour bites for a total of $6.99\n",
      "You filled an order for 1 gummy bears for a total of $1.99\n",
      "You filled an order for 4 oranges for a total of $12.88\n",
      "Total price: $27.19\n"
     ]
    }
   ],
   "source": [
    "### Ramiro Cadavid\n",
    "\n",
    "total = 0\n",
    "\n",
    "def process_order(x_list):\n",
    "    \"\"\"Removes one of the elements of the order list and print a nice\n",
    "       message about it each time through the loop. Lastly, it\n",
    "       displays the total price for the entire list\n",
    "    \"\"\"\n",
    "    item = x_list.pop()\n",
    "    print('You filled an order for', item[1], item[0], 'for a total of', '${:.2f}'.format(item[1] * item[2]))\n",
    "    global total\n",
    "    total += item[1] * item[2]\n",
    "    \n",
    "\n",
    "######################################################################################################\n",
    "# DO NOT CHANGE ANY OF THE CODE BELOW HERE                                                           #\n",
    "######################################################################################################\n",
    "\n",
    "x = [(\"oranges\", 4, 3.22),(\"gummy bears\",1,1.99),(\"sour bites\", 3, 2.33), (\"antacid\", 1, 5.33)]\n",
    "while(len(x)>0):\n",
    "    process_order(x)\n",
    "\n",
    "print(\"Total price: ${:.2f}\".format(total))"
   ]
  },
  {
   "cell_type": "code",
   "execution_count": null,
   "metadata": {
    "collapsed": true,
    "deletable": false,
    "editable": false,
    "nbgrader": {
     "checksum": "74edee6c4c263ffa446c9f80755ce446",
     "grade": true,
     "grade_id": "cell-b7c581157c7c15f0",
     "locked": true,
     "points": 20,
     "schema_version": 1,
     "solution": false
    }
   },
   "outputs": [],
   "source": []
  },
  {
   "cell_type": "markdown",
   "metadata": {
    "deletable": false,
    "editable": false,
    "nbgrader": {
     "checksum": "e44002a953a856b203a503f50bc43f65",
     "grade": false,
     "grade_id": "cell-93cde9372690d753",
     "locked": true,
     "schema_version": 1,
     "solution": false
    }
   },
   "source": [
    "## 5-3. Functions as Objects\n",
    "\n",
    "### 5-3-1. A Flexible \"Scoring\" Function\n",
    "\n",
    "The following code defines a list of names and also contains a header for the function `best`.  The `best` function takes two arguments: a generic scoring function, score, and a list of strings, names.  Fill in the function so that it applies a score function to each string in the names list and returns the name with the highest score. If there are ties in the list, your function should return the first item with the maximum score. The `best` function needs to be designed so that it can take any scoring function and return the name with the highest score.\n",
    "\n",
    "For this question, call the score function `len_score` and make this function return the length of the word.\n",
    "\n",
    "Example:\n",
    "```\n",
    "print(best(len_score, names), \"has the longest name.\")\n",
    "    \n",
    "McJagger has the longest name.\n",
    "```"
   ]
  },
  {
   "cell_type": "code",
   "execution_count": 12,
   "metadata": {
    "deletable": false,
    "nbgrader": {
     "checksum": "50da5ffc457f048f6949832b4b0b014f",
     "grade": false,
     "grade_id": "cell-08cb8d30cb563aba",
     "locked": false,
     "schema_version": 1,
     "solution": true
    }
   },
   "outputs": [
    {
     "name": "stdout",
     "output_type": "stream",
     "text": [
      "McJagger has the longest name.\n"
     ]
    }
   ],
   "source": [
    "### Ramiro Cadavid\n",
    "\n",
    "def best(score, names):\n",
    "    \"\"\"Takes two arguments: a generic scoring function, score, and a list of strings, names.\n",
    "        Applies a score function to each string in the names list and returns the name with\n",
    "        the highest score.\n",
    "    \"\"\"\n",
    "    highest = ''\n",
    "    for i in range(len(names)):\n",
    "        if score(names[i]) > score(highest):\n",
    "            highest = names[i]\n",
    "    return highest\n",
    "\n",
    "def len_score(word):\n",
    "    return len(word)\n",
    "\n",
    "names = [\"Ben\", \"April\", \"Zaber\", \"Alexis\", \"McJagger\", \"J.J.\", \"Madonna\"]\n",
    "\n",
    "# Test\n",
    "print(best(len_score, names), \"has the longest name.\")"
   ]
  },
  {
   "cell_type": "code",
   "execution_count": null,
   "metadata": {
    "collapsed": true,
    "deletable": false,
    "editable": false,
    "nbgrader": {
     "checksum": "9e60953010d7b7559c49a4c83639a00f",
     "grade": true,
     "grade_id": "cell-31e3eba0fe34124e",
     "locked": true,
     "points": 5,
     "schema_version": 1,
     "solution": false
    }
   },
   "outputs": [],
   "source": []
  },
  {
   "cell_type": "markdown",
   "metadata": {
    "deletable": false,
    "editable": false,
    "nbgrader": {
     "checksum": "0695835da2adbd83c8371bd6a71f8111",
     "grade": false,
     "grade_id": "cell-6bfd049ec823610f",
     "locked": true,
     "schema_version": 1,
     "solution": false
    }
   },
   "source": [
    "### 5-3-2. Using Our Flexible Function\n",
    "\n",
    "**NOTE: Do not change your best function from the answer in 5-3-1 above! The best function should be able to take any scoring function and return the result.** (you also do not need to copy your best function from above - we will run the cell above and then this cell in succession) \n",
    "\n",
    "Define a function, `number_of_vowels`, that returns the number of vowels in a string.  Use it with your `best` function to find the name in `names` with the most vowels.\n",
    "\n",
    "See how easy it is to change the score function for different functionalities!\n",
    "\n",
    "Example: \n",
    "```\n",
    "print(best(number_of_vowels, names), \"has the most vowels.\")\n",
    "\n",
    "Alexis has the most vowels.\n",
    "```"
   ]
  },
  {
   "cell_type": "code",
   "execution_count": 13,
   "metadata": {
    "deletable": false,
    "nbgrader": {
     "checksum": "6c6410c009268e56d7a3adc602d1a053",
     "grade": false,
     "grade_id": "cell-be845cc598786484",
     "locked": false,
     "schema_version": 1,
     "solution": true
    }
   },
   "outputs": [
    {
     "name": "stdout",
     "output_type": "stream",
     "text": [
      "Alexis has the most vowels.\n"
     ]
    }
   ],
   "source": [
    "# Ramiro Cadavid\n",
    "\n",
    "def number_of_vowels(string):\n",
    "    \"\"\"Returns the number of vowels in a string\"\"\"\n",
    "    vowels = sum([1 for char in list(string) if char.lower() in 'aeiou'])\n",
    "    return vowels\n",
    "\n",
    "print(best(number_of_vowels, names), \"has the most vowels.\")"
   ]
  },
  {
   "cell_type": "code",
   "execution_count": null,
   "metadata": {
    "collapsed": true,
    "deletable": false,
    "editable": false,
    "nbgrader": {
     "checksum": "200ead8772799fa6241f8d12585b0661",
     "grade": true,
     "grade_id": "cell-5223c7b3911dd60c",
     "locked": true,
     "points": 5,
     "schema_version": 1,
     "solution": false
    }
   },
   "outputs": [],
   "source": []
  },
  {
   "cell_type": "markdown",
   "metadata": {
    "deletable": false,
    "editable": false,
    "nbgrader": {
     "checksum": "445b642366ad32eb7f890474b9797a31",
     "grade": false,
     "grade_id": "cell-49c9810bbb46b54f",
     "locked": true,
     "schema_version": 1,
     "solution": false
    }
   },
   "source": [
    "### 5-3-3 Using Our Flexible Function with a Lambda Function \n",
    "\n",
    "**NOTE: Do not change your best function from the answer in 5-3-1 above! The best function should be able to take any scoring function and return the result.** (you also do not need to copy your best function from above - we will run the cells above and then this cell in succession) \n",
    "\n",
    "Now pass a `lambda` function into your `best` function to find the name in `names` with the highest number of a's.  This needs to be a lambda function and should only be one line!\n",
    "\n",
    "Example output: \n",
    "```\n",
    "Madonna has the most a's.\n",
    "```"
   ]
  },
  {
   "cell_type": "code",
   "execution_count": 15,
   "metadata": {
    "deletable": false,
    "nbgrader": {
     "checksum": "c81bcdc5ca61535f87d4b5d0825f9ece",
     "grade": true,
     "grade_id": "cell-8e077c8a6f05a83c",
     "locked": false,
     "points": 0,
     "schema_version": 1,
     "solution": true
    }
   },
   "outputs": [
    {
     "name": "stdout",
     "output_type": "stream",
     "text": [
      "Madonna has the most a's.\n"
     ]
    }
   ],
   "source": [
    "# Ramiro Cadavid\n",
    "\n",
    "print(best(lambda name: sum([1 for letter in list(name) if letter.lower() == 'a']) , names), \"has the most a's.\")"
   ]
  },
  {
   "cell_type": "code",
   "execution_count": null,
   "metadata": {
    "collapsed": true,
    "deletable": false,
    "editable": false,
    "nbgrader": {
     "checksum": "e01202f2d2425870d58d73c9ac22035f",
     "grade": true,
     "grade_id": "cell-352e42191201e17e",
     "locked": true,
     "points": 10,
     "schema_version": 1,
     "solution": false
    }
   },
   "outputs": [],
   "source": []
  },
  {
   "cell_type": "markdown",
   "metadata": {
    "deletable": false,
    "editable": false,
    "nbgrader": {
     "checksum": "3958d29c61e645170db6851b9b909c2b",
     "grade": false,
     "grade_id": "cell-5de8992f4f2eb7d1",
     "locked": true,
     "schema_version": 1,
     "solution": false
    }
   },
   "source": [
    "## 5-4. Recursion Basics\n",
    "\n",
    "### 5-4-1. Computing Fibonacci Numbers\n",
    "\n",
    "You are probably familiar (from two homework ago!) with the famous Fibonacci sequence of numbers, which begins like this:\n",
    "```\n",
    "1, 1, 2, 3, 5, 8, 13, 21...\n",
    "```\n",
    "We'll index from 0, so the 0th and 1st numbers are both 1.  The 2nd Fibonacci number is found by summing the 0th and 1st: 1 + 1 = 2.  The 3rd is found by summing the 1st and 2nd: 1 + 2 = 3.  After this point, each Fibonacci number is found by summing the previous two numbers.\n",
    "\n",
    "You are to write a recursive function to compute the nth Fibonacci number.  This means that your function will call itself and will **NOT** include explicit loops.\n",
    "\n",
    "Hint: Your function should include a line that looks a lot like the mathematical definition of the nth Fibonacci number.\n",
    "\n",
    "Another Hint: It's possible for a recursive function to call itself more than once.\n",
    "\n",
    "Example: \n",
    "```\n",
    "print(Fibonacci(1))\n",
    "\n",
    "1\n",
    "```"
   ]
  },
  {
   "cell_type": "code",
   "execution_count": 82,
   "metadata": {
    "deletable": false,
    "nbgrader": {
     "checksum": "29bd1574a86cb8751f5984647f8d80da",
     "grade": false,
     "grade_id": "cell-908240fb166237b7",
     "locked": false,
     "schema_version": 1,
     "solution": true
    }
   },
   "outputs": [
    {
     "data": {
      "text/plain": [
       "13"
      ]
     },
     "execution_count": 82,
     "metadata": {},
     "output_type": "execute_result"
    }
   ],
   "source": [
    "### Ramiro Cadavid\n",
    "\n",
    "def Fibonacci(n):\n",
    "    if n < 2:\n",
    "        return 1\n",
    "    return Fibonacci(n - 1) + Fibonacci(n - 2)\n",
    "\n",
    "# Test\n",
    "Fibonacci(6)"
   ]
  },
  {
   "cell_type": "code",
   "execution_count": null,
   "metadata": {
    "collapsed": true,
    "deletable": false,
    "editable": false,
    "nbgrader": {
     "checksum": "3f295a80faccbe3191f490593a75a921",
     "grade": true,
     "grade_id": "cell-dc54b9bfecb04cf3",
     "locked": true,
     "points": 5,
     "schema_version": 1,
     "solution": false
    }
   },
   "outputs": [],
   "source": []
  },
  {
   "cell_type": "code",
   "execution_count": null,
   "metadata": {
    "collapsed": true,
    "deletable": false,
    "editable": false,
    "nbgrader": {
     "checksum": "ae66276c251a7473e6332be080a45c4d",
     "grade": true,
     "grade_id": "cell-51d06362f92a61dd",
     "locked": true,
     "points": 5,
     "schema_version": 1,
     "solution": false
    }
   },
   "outputs": [],
   "source": []
  },
  {
   "cell_type": "code",
   "execution_count": null,
   "metadata": {
    "collapsed": true,
    "deletable": false,
    "editable": false,
    "nbgrader": {
     "checksum": "290714def2b32b726878fec067aabcdd",
     "grade": true,
     "grade_id": "cell-751b7f716567b5ce",
     "locked": true,
     "points": 10,
     "schema_version": 1,
     "solution": false
    }
   },
   "outputs": [],
   "source": []
  },
  {
   "cell_type": "markdown",
   "metadata": {
    "deletable": false,
    "editable": false,
    "nbgrader": {
     "checksum": "c6c643b53246a19dbb2b56528ad54c55",
     "grade": false,
     "grade_id": "cell-cf9b054249129489",
     "locked": true,
     "schema_version": 1,
     "solution": false
    }
   },
   "source": [
    "### 5-4-2. Computing Fibonacci Numbers (part 2)\n",
    "\n",
    "Once you are done, think about whether your recursive function is efficient.  Compare it to a non-recursive implementation (from homework 3). Which is more efficient?  Why? Please fill in your answer below."
   ]
  },
  {
   "cell_type": "markdown",
   "metadata": {
    "deletable": false,
    "nbgrader": {
     "checksum": "d3a8deee6eb026f07a4b0630c40307cc",
     "grade": true,
     "grade_id": "cell-aa13d77f4cd1437c",
     "locked": false,
     "points": 0,
     "schema_version": 1,
     "solution": true
    }
   },
   "source": [
    "Depending on the number $N$ that we want to get, the recursive or the looping approach may be more effcient.\n",
    "* To obtain the first two items in the sequence, the recursive strategy only takes four steps, while the looping strategy takes six.\n",
    "* To obtain any item $N > 0$ in the sequence, the recursive strategy takes more steps than the looping strategy.\n",
    "\n",
    "The reason why the recursive strategy is inneficient compared to the looping strategy, for $N > 2$, is that the former has to calculate the same steps several times. For example, \n",
    "* $(N) =  (N-1) + (N-2)$\n",
    "* ($N-1) = (N-2) + (N-3)$\n",
    "* ($N-2) = (N-3) + (N-4)$\n",
    "* ($N-3) = (N-5) + (N-5)$\n",
    "\n",
    "So, the recursive strategy ends up calculating the same $N - x$ several times, while the looping strategy only does this once."
   ]
  },
  {
   "cell_type": "markdown",
   "metadata": {},
   "source": [
    "It is also possible to show this by modifying the code for these approaches to count the number of steps taken by each algorithm, for a given $N$, as shown below."
   ]
  },
  {
   "cell_type": "code",
   "execution_count": 99,
   "metadata": {},
   "outputs": [
    {
     "name": "stdout",
     "output_type": "stream",
     "text": [
      "N: 0, Recursive: 4 , Loop: 6\n",
      "N: 1, Recursive: 4 , Loop: 6\n",
      "N: 2 Recursive: 11 , Loop: 9\n",
      "N: 3 Recursive: 18 , Loop: 13\n",
      "N: 6, Recursive: 88 , Loop: 25\n",
      "N: 7, Recursive: 144 , Loop: 29\n"
     ]
    }
   ],
   "source": [
    "# RECURSIVE\n",
    "def Fibonacci_rec(n):\n",
    "    global steps_rec\n",
    "    steps_rec += 1\n",
    "    if n < 2:\n",
    "        steps_rec += 3\n",
    "        return 1\n",
    "    steps_rec += 2\n",
    "    return Fibonacci_rec(n - 1) + Fibonacci_rec(n - 2)\n",
    "\n",
    "# LOOP\n",
    "def Fibonacci_loop(n):\n",
    "    last = 1\n",
    "    second_last = 1\n",
    "    nxt_num = 2\n",
    "    fibon = ['1', '1']\n",
    "    global steps_loop\n",
    "    steps_loop = 5\n",
    "    # While next number calculated is <= n\n",
    "    if n < 2:\n",
    "        steps_loop += 1\n",
    "        return 1\n",
    "    while last + second_last <= n:\n",
    "        steps_loop += 4\n",
    "        current = last + second_last\n",
    "        fibon.append(str(current))\n",
    "        second_last = last\n",
    "        last = current\n",
    "    return current\n",
    "\n",
    "# COMPARISON\n",
    "steps_rec = 0; steps_loop = 0; Fibonacci_rec(0); Fibonacci_loop(0); print(\"N: 0, Recursive:\", steps_rec, \", Loop:\", steps_loop)\n",
    "steps_rec = 0; steps_loop = 0; Fibonacci_rec(1); Fibonacci_loop(1); print(\"N: 1, Recursive:\", steps_rec, \", Loop:\", steps_loop)\n",
    "steps_rec = 0; steps_loop = 0; Fibonacci_rec(2); Fibonacci_loop(2); print(\"N: 2 Recursive:\", steps_rec, \", Loop:\", steps_loop)\n",
    "steps_rec = 0; steps_loop = 0; Fibonacci_rec(3); Fibonacci_loop(3); print(\"N: 3 Recursive:\", steps_rec, \", Loop:\", steps_loop)\n",
    "steps_rec = 0; steps_loop = 0; Fibonacci_rec(6); Fibonacci_loop(15); print(\"N: 6, Recursive:\", steps_rec, \", Loop:\", steps_loop)\n",
    "steps_rec = 0; steps_loop = 0; Fibonacci_rec(7); Fibonacci_loop(21); print(\"N: 7, Recursive:\", steps_rec, \", Loop:\", steps_loop)\n"
   ]
  },
  {
   "cell_type": "markdown",
   "metadata": {
    "deletable": false,
    "editable": false,
    "nbgrader": {
     "checksum": "f288336bb5a8e804a1d13de96064e43d",
     "grade": false,
     "grade_id": "cell-9ee7b96231fea756",
     "locked": true,
     "schema_version": 1,
     "solution": false
    }
   },
   "source": [
    "## 5-5. Exceptions Exercises\n",
    "\n",
    "### 5-5-1. Re-factoring for Exceptions\n",
    "Re-factor the code below that attempts to compute a reciprocal so that it keeps prompting the user for a number repeatedly until the user successfully enters a valid number.  If the user enters 0, the program should print that zero does not have a reciprocal, then terminate."
   ]
  },
  {
   "cell_type": "code",
   "execution_count": null,
   "metadata": {
    "collapsed": true,
    "deletable": false,
    "editable": false,
    "nbgrader": {
     "checksum": "9cee1e0538700485e50951ff293c398d",
     "grade": true,
     "grade_id": "cell-92457557ef030651",
     "locked": true,
     "points": 0,
     "schema_version": 1,
     "solution": false
    }
   },
   "outputs": [],
   "source": []
  },
  {
   "cell_type": "code",
   "execution_count": 93,
   "metadata": {
    "deletable": false,
    "nbgrader": {
     "checksum": "f10e78ed8a33d9212c219c654a207d64",
     "grade": true,
     "grade_id": "cell-c78e5f25c8aff22e",
     "locked": false,
     "points": 0,
     "schema_version": 1,
     "solution": true
    }
   },
   "outputs": [
    {
     "name": "stdout",
     "output_type": "stream",
     "text": [
      "Enter a number: a\n",
      "You did not enter a valid number.\n",
      "Enter a number: b\n",
      "You did not enter a valid number.\n",
      "Enter a number: c\n",
      "You did not enter a valid number.\n",
      "Enter a number: ;;;;\n",
      "You did not enter a valid number.\n",
      "Enter a number: 0\n",
      "Zero does not have a reciprocal\n"
     ]
    }
   ],
   "source": [
    "# Ramiro Cadavid\n",
    "\n",
    "while True:\n",
    "    try:\n",
    "        x = float(input(\"Enter a number: \"))\n",
    "        print(\"The reciprocal of your number is\", 1/x)\n",
    "        break\n",
    "    except ValueError:\n",
    "        print(\"You did not enter a valid number.\")\n",
    "    except ZeroDivisionError:\n",
    "        print(\"Zero does not have a reciprocal\")\n",
    "        break\n",
    "    except:\n",
    "        print(\"something else went wrong.\")"
   ]
  },
  {
   "cell_type": "markdown",
   "metadata": {
    "deletable": false,
    "editable": false,
    "nbgrader": {
     "checksum": "90379a1a51255fd73c219ffed3f17076",
     "grade": false,
     "grade_id": "cell-b738e6d3309e57ef",
     "locked": true,
     "schema_version": 1,
     "solution": false
    }
   },
   "source": [
    "### 5-5-2 Raising Custom Exceptions\n",
    "\n",
    "Write a function called `weighted_avg` that takes a list of grades and a corresponding list of weights and returns the weighted average of the grades.  Your function should raise an exception if:\n",
    "- a weight is less than 0 or greater than 100\n",
    "- the weights do not add to 100\n",
    "- the number of weights and grades are not equal\n",
    "- a grade is below 0 (grades above 100 would be considered extra credit and are acceptable)\n",
    "\n",
    "Run your function on `grades1` with `weights1` and `grades2` with `weights2` and `grades3` with `weights3` and `grades4` with `weights4`, defined below.  Catch the errors generated in each case as an exception and print a useful message for the user.  \n",
    "\n",
    "Hint: The first 3 test cases should return an exception!\n",
    "\n",
    "Example:\n",
    "\n",
    "```\n",
    "weighted_avg(grades4, weights4) \n",
    "\n",
    "85.0\n",
    "```"
   ]
  },
  {
   "cell_type": "code",
   "execution_count": 11,
   "metadata": {
    "deletable": false,
    "nbgrader": {
     "checksum": "f39398e69574a35f803e0e02cb315d1a",
     "grade": false,
     "grade_id": "cell-67380fa0fe8c0b2b",
     "locked": false,
     "schema_version": 1,
     "solution": true
    }
   },
   "outputs": [
    {
     "ename": "Exception",
     "evalue": "Weights do not add to 100",
     "output_type": "error",
     "traceback": [
      "\u001b[1;31m---------------------------------------------------------------------------\u001b[0m",
      "\u001b[1;31mException\u001b[0m                                 Traceback (most recent call last)",
      "\u001b[1;32m<ipython-input-11-6034c7b66b0f>\u001b[0m in \u001b[0;36m<module>\u001b[1;34m()\u001b[0m\n\u001b[0;32m     23\u001b[0m \u001b[0mweights4\u001b[0m \u001b[1;33m=\u001b[0m \u001b[1;33m[\u001b[0m\u001b[1;36m20\u001b[0m\u001b[1;33m,\u001b[0m \u001b[1;36m25\u001b[0m\u001b[1;33m,\u001b[0m \u001b[1;36m25\u001b[0m\u001b[1;33m,\u001b[0m \u001b[1;36m30\u001b[0m\u001b[1;33m]\u001b[0m\u001b[1;33m\u001b[0m\u001b[0m\n\u001b[0;32m     24\u001b[0m \u001b[1;33m\u001b[0m\u001b[0m\n\u001b[1;32m---> 25\u001b[1;33m \u001b[0mweighted_avg\u001b[0m\u001b[1;33m(\u001b[0m\u001b[0mgrades1\u001b[0m\u001b[1;33m,\u001b[0m \u001b[0mweights1\u001b[0m\u001b[1;33m)\u001b[0m\u001b[1;33m\u001b[0m\u001b[0m\n\u001b[0m",
      "\u001b[1;32m<ipython-input-11-6034c7b66b0f>\u001b[0m in \u001b[0;36mweighted_avg\u001b[1;34m(grades, weights)\u001b[0m\n\u001b[0;32m      4\u001b[0m         \u001b[1;32mraise\u001b[0m \u001b[0mException\u001b[0m\u001b[1;33m(\u001b[0m\u001b[1;34m'At least one weight value is lower than 0 or higher than 100'\u001b[0m\u001b[1;33m)\u001b[0m\u001b[1;33m\u001b[0m\u001b[0m\n\u001b[0;32m      5\u001b[0m     \u001b[1;32melif\u001b[0m \u001b[0msum\u001b[0m\u001b[1;33m(\u001b[0m\u001b[0mweights\u001b[0m\u001b[1;33m)\u001b[0m \u001b[1;33m!=\u001b[0m \u001b[1;36m100\u001b[0m\u001b[1;33m:\u001b[0m\u001b[1;33m\u001b[0m\u001b[0m\n\u001b[1;32m----> 6\u001b[1;33m         \u001b[1;32mraise\u001b[0m \u001b[0mException\u001b[0m\u001b[1;33m(\u001b[0m\u001b[1;34m'Weights do not add to 100'\u001b[0m\u001b[1;33m)\u001b[0m\u001b[1;33m\u001b[0m\u001b[0m\n\u001b[0m\u001b[0;32m      7\u001b[0m     \u001b[1;32melif\u001b[0m \u001b[0mlen\u001b[0m\u001b[1;33m(\u001b[0m\u001b[0mgrades\u001b[0m\u001b[1;33m)\u001b[0m \u001b[1;33m!=\u001b[0m \u001b[0mlen\u001b[0m\u001b[1;33m(\u001b[0m\u001b[0mweights\u001b[0m\u001b[1;33m)\u001b[0m\u001b[1;33m:\u001b[0m\u001b[1;33m\u001b[0m\u001b[0m\n\u001b[0;32m      8\u001b[0m         \u001b[1;32mraise\u001b[0m \u001b[0mException\u001b[0m\u001b[1;33m(\u001b[0m\u001b[1;34m'The number of grades is different than the number of weights'\u001b[0m\u001b[1;33m)\u001b[0m\u001b[1;33m\u001b[0m\u001b[0m\n",
      "\u001b[1;31mException\u001b[0m: Weights do not add to 100"
     ]
    }
   ],
   "source": [
    "# Ramiro Cadavid\n",
    "\n",
    "def weighted_avg(grades, weights):\n",
    "    \"\"\"Calculates weighted average of grades\"\"\"\n",
    "    if min(weights) < 0 or max(weights) > 100:\n",
    "        raise Exception('At least one weight value is lower than 0 or higher than 100')\n",
    "    elif sum(weights) != 100:\n",
    "        raise Exception('Weights do not add to 100')\n",
    "    elif len(grades) != len(weights):\n",
    "        raise Exception('The number of grades is different than the number of weights')\n",
    "    elif min(grades) < 0:\n",
    "        raise Exception('At least one grade is below 0')\n",
    "    return sum([grades[i] * weights[i] for i in range(len(grades))]) / sum(weights)\n",
    "\n",
    "grades1 = [88,99,100,70]\n",
    "weights1 = [30, 30, 30, 5]\n",
    "\n",
    "grades2 = [78, 75, 80, 99]\n",
    "weights2 = [110, 10, -20, 0]\n",
    "\n",
    "grades3 = [84, 80, 67, 97]\n",
    "weights3 = [50, 25, 25]\n",
    "\n",
    "grades4 = [100, 80, 90, 75]\n",
    "weights4 = [20, 25, 25, 30]\n",
    "\n",
    "weighted_avg(grades1, weights1)"
   ]
  },
  {
   "cell_type": "code",
   "execution_count": null,
   "metadata": {
    "collapsed": true,
    "deletable": false,
    "editable": false,
    "nbgrader": {
     "checksum": "9c248e2051c0758bdbc20a0c1465038b",
     "grade": true,
     "grade_id": "cell-95422c0a969fe204",
     "locked": true,
     "points": 5,
     "schema_version": 1,
     "solution": false
    }
   },
   "outputs": [],
   "source": []
  },
  {
   "cell_type": "code",
   "execution_count": null,
   "metadata": {
    "collapsed": true,
    "deletable": false,
    "editable": false,
    "nbgrader": {
     "checksum": "efa399d990bef7e12464b2abc3d516b6",
     "grade": true,
     "grade_id": "cell-6f64ab4288079047",
     "locked": true,
     "points": 5,
     "schema_version": 1,
     "solution": false
    }
   },
   "outputs": [],
   "source": []
  },
  {
   "cell_type": "code",
   "execution_count": null,
   "metadata": {
    "collapsed": true,
    "deletable": false,
    "editable": false,
    "nbgrader": {
     "checksum": "1b0c7ead4bac6acd134cf65117d5337d",
     "grade": true,
     "grade_id": "cell-70fe59b4d7ff1dcd",
     "locked": true,
     "points": 5,
     "schema_version": 1,
     "solution": false
    }
   },
   "outputs": [],
   "source": []
  },
  {
   "cell_type": "code",
   "execution_count": null,
   "metadata": {
    "collapsed": true,
    "deletable": false,
    "editable": false,
    "nbgrader": {
     "checksum": "9c00447c19bb45d79f5e58bf099aa80a",
     "grade": true,
     "grade_id": "cell-429e12fb80ce822a",
     "locked": true,
     "points": 5,
     "schema_version": 1,
     "solution": false
    }
   },
   "outputs": [],
   "source": []
  },
  {
   "cell_type": "markdown",
   "metadata": {
    "deletable": false,
    "editable": false,
    "nbgrader": {
     "checksum": "6f49f6d626a8ae3490a60cd776569bb4",
     "grade": false,
     "grade_id": "cell-c81ec0d9746e1153",
     "locked": true,
     "schema_version": 1,
     "solution": false
    }
   },
   "source": [
    "## If you have feedback for this homework, please submit it using the link below:\n",
    "\n",
    "http://goo.gl/forms/74yCiQTf6k"
   ]
  }
 ],
 "metadata": {
  "anaconda-cloud": {},
  "kernelspec": {
   "display_name": "Python 3",
   "language": "python",
   "name": "python3"
  },
  "language_info": {
   "codemirror_mode": {
    "name": "ipython",
    "version": 3
   },
   "file_extension": ".py",
   "mimetype": "text/x-python",
   "name": "python",
   "nbconvert_exporter": "python",
   "pygments_lexer": "ipython3",
   "version": "3.6.4"
  }
 },
 "nbformat": 4,
 "nbformat_minor": 1
}
