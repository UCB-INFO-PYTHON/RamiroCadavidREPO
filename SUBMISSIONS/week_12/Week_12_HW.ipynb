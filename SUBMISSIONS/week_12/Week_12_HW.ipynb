{
 "cells": [
  {
   "cell_type": "markdown",
   "metadata": {},
   "source": [
    "## Week 12 Assignment - W200 Python Fundamentals for Data Science, UC Berkeley MIDS\n",
    "\n",
    "Write code in this Jupyter Notebook to solve the following problems. Please upload this **Notebook** with your solutions to your GitHub repository in your SUBMISSIONS/week_12 folder by 11:59PM PST the night before class."
   ]
  },
  {
   "cell_type": "markdown",
   "metadata": {},
   "source": [
    "This homework assignment is Week 12 which corresponds to the Unit #11 async. If you turn-in anything on ISVC please do so under the Week 12 Assignment category. (Apologies for the confusion)"
   ]
  },
  {
   "cell_type": "markdown",
   "metadata": {},
   "source": [
    "## Objectives\n",
    "\n",
    "- Explore and get insights from a real dataset using pandas\n",
    "- Practice the use of pandas for: exploratory analysis, information gathering and discovery\n",
    "- Use matplotlib for plotting charts from the data"
   ]
  },
  {
   "cell_type": "markdown",
   "metadata": {},
   "source": [
    "## Data files\n",
    "\n",
    "In this assignment you will apply what you are learning to answer questions about campaign contributions in the Democratic presidential primary race. We will use the csv file located here: https://drive.google.com/file/d/1Lgg-PwXQ6TQLDowd6XyBxZw5g1NGWPjB/view?usp=sharing. You will need to download and save the csv in the same folder as this notebook. This file originally came from the U.S. Federal Election Commission (https://www.fec.gov/).\n",
    "\n",
    "** REMEMBER -- DO NOT PUT THIS DATA IN YOUR GITHUB REPO ! **\n",
    "\n",
    "Documentation for this data file can be found here: https://drive.google.com/file/d/11o_SByceenv0NgNMstM-dxC1jL7I9fHL/view?usp=sharing"
   ]
  },
  {
   "cell_type": "markdown",
   "metadata": {},
   "source": [
    "## General Guidelines:\n",
    "\n",
    "- This is a **real** dataset and so it contains errors and other pecularities to work through\n",
    "- The data is ~218mb which will take some time to load (and probably won't load in google sheets or Excel)\n",
    "- If you make assumptions please annotate them in your answer\n",
    "- While we've left one code/markdown cell for you after each question as a placeholder, some of your answers will require multiple cells to fully respond\n",
    "- Double click the markdown cells where it says YOUR ANSWER HERE to enter your written answers; if you need more cells for your written answers, please make them markdown cells (rather than code cells)"
   ]
  },
  {
   "cell_type": "markdown",
   "metadata": {},
   "source": [
    "## Setup\n",
    "\n",
    "First, run the two cells below. \n",
    "\n",
    "The first cell will load in the data to a pandas dataframe named 'contrib'. Note we define a custom date parser to speed up import (we could have Python guess the date format, but this can make the load a lot slower).  \n",
    "\n",
    "The second cell subsets the data to look at the primary period.  Otherwise, we would see general election donations which would make it harder to draw conclusions about the primaries.  We will analyze through May 2016."
   ]
  },
  {
   "cell_type": "code",
   "execution_count": 1,
   "metadata": {},
   "outputs": [
    {
     "name": "stderr",
     "output_type": "stream",
     "text": [
      "C:\\Users\\user\\Anaconda3\\lib\\site-packages\\IPython\\core\\interactiveshell.py:2728: DtypeWarning: Columns (6,11,12) have mixed types. Specify dtype option on import or set low_memory=False.\n",
      "  interactivity=interactivity, compiler=compiler, result=result)\n"
     ]
    }
   ],
   "source": [
    "# import the data\n",
    "import pandas as pd\n",
    "import matplotlib.pyplot as plt\n",
    "\n",
    "pd.options.display.float_format = '{:,.2f}'.format\n",
    "%matplotlib inline\n",
    "\n",
    "# Create date parser to pass to read_csv\n",
    "import datetime\n",
    "d = lambda x: pd.datetime.strptime(x, '%d-%b-%y')\n",
    "\n",
    "contrib = pd.read_csv('./P00000001-CA.csv', index_col=False, parse_dates = ['contb_receipt_dt'], date_parser=d)\n",
    "\n",
    "# Note - for now, it is okay to ignore the warning about mixed types.  "
   ]
  },
  {
   "cell_type": "code",
   "execution_count": 2,
   "metadata": {},
   "outputs": [
    {
     "name": "stdout",
     "output_type": "stream",
     "text": [
      "(1125659, 18)\n",
      "(654502, 18)\n"
     ]
    }
   ],
   "source": [
    "# Subset data to primary period \n",
    "print(contrib.shape)\n",
    "\n",
    "contrib = contrib.copy()[contrib['contb_receipt_dt'] <= datetime.datetime(2016, 5, 31)]\n",
    "print(contrib.shape)"
   ]
  },
  {
   "cell_type": "markdown",
   "metadata": {},
   "source": [
    "## 1. Data Exploration\n",
    "\n",
    "**1a.** First, let's take a preliminary look at our data:\n",
    "- Print the *shape* of the data. What does this tell you about the number of variables and rows you have?\n",
    "- Print a list of column names. \n",
    "- Review the documentation for this dataset (linked above). Do you have all of the columns you expect to have?\n",
    "- Sometimes variable names are not clear unless we read the documentation. In your own words, based on the documentation, what information does the \"election_tp\" variable contain?"
   ]
  },
  {
   "cell_type": "code",
   "execution_count": 3,
   "metadata": {
    "deletable": false,
    "nbgrader": {
     "checksum": "9f7a7938e43b14d3c7c49d6a278b0bb1",
     "grade": true,
     "grade_id": "cell-5d017805206f18b1",
     "locked": false,
     "points": 0,
     "schema_version": 1,
     "solution": true
    }
   },
   "outputs": [
    {
     "name": "stdout",
     "output_type": "stream",
     "text": [
      "Shape: (654502, 18)\n",
      "Columns: Index(['cmte_id', 'cand_id', 'cand_nm', 'contbr_nm', 'contbr_city',\n",
      "       'contbr_st', 'contbr_zip', 'contbr_employer', 'contbr_occupation',\n",
      "       'contb_receipt_amt', 'contb_receipt_dt', 'receipt_desc', 'memo_cd',\n",
      "       'memo_text', 'form_tp', 'file_num', 'tran_id', 'election_tp'],\n",
      "      dtype='object')\n"
     ]
    }
   ],
   "source": [
    "print(\"Shape:\", contrib.shape)\n",
    "print(\"Columns:\", contrib.columns)"
   ]
  },
  {
   "cell_type": "markdown",
   "metadata": {
    "deletable": false,
    "nbgrader": {
     "checksum": "e6a198453ec4b0171a064fef0bd7c678",
     "grade": true,
     "grade_id": "cell-3bc26919169bf4aa",
     "locked": false,
     "points": 5,
     "schema_version": 1,
     "solution": true
    }
   },
   "source": [
    "1a \n",
    "- The shape tells me that there are 18 columns/variables and 654,502 rows/observations\n",
    "- All the columns in the documentation are included in the dataframe\n",
    "- The election_tp variable contains the election type (primary, general, other, ...) and the election year for which the contribution was made"
   ]
  },
  {
   "cell_type": "markdown",
   "metadata": {},
   "source": [
    "**1b.** Print out the first 5 rows from the dataset to manually look through some of your data."
   ]
  },
  {
   "cell_type": "code",
   "execution_count": 4,
   "metadata": {
    "deletable": false,
    "nbgrader": {
     "checksum": "4fbf682f1c78b3614832c6f48ecd88c7",
     "grade": true,
     "grade_id": "cell-72bc97601b84f17d",
     "locked": false,
     "points": 5,
     "schema_version": 1,
     "solution": true
    }
   },
   "outputs": [
    {
     "data": {
      "text/html": [
       "<div>\n",
       "<style scoped>\n",
       "    .dataframe tbody tr th:only-of-type {\n",
       "        vertical-align: middle;\n",
       "    }\n",
       "\n",
       "    .dataframe tbody tr th {\n",
       "        vertical-align: top;\n",
       "    }\n",
       "\n",
       "    .dataframe thead th {\n",
       "        text-align: right;\n",
       "    }\n",
       "</style>\n",
       "<table border=\"1\" class=\"dataframe\">\n",
       "  <thead>\n",
       "    <tr style=\"text-align: right;\">\n",
       "      <th></th>\n",
       "      <th>cmte_id</th>\n",
       "      <th>cand_id</th>\n",
       "      <th>cand_nm</th>\n",
       "      <th>contbr_nm</th>\n",
       "      <th>contbr_city</th>\n",
       "      <th>contbr_st</th>\n",
       "      <th>contbr_zip</th>\n",
       "      <th>contbr_employer</th>\n",
       "      <th>contbr_occupation</th>\n",
       "      <th>contb_receipt_amt</th>\n",
       "      <th>contb_receipt_dt</th>\n",
       "      <th>receipt_desc</th>\n",
       "      <th>memo_cd</th>\n",
       "      <th>memo_text</th>\n",
       "      <th>form_tp</th>\n",
       "      <th>file_num</th>\n",
       "      <th>tran_id</th>\n",
       "      <th>election_tp</th>\n",
       "    </tr>\n",
       "  </thead>\n",
       "  <tbody>\n",
       "    <tr>\n",
       "      <th>0</th>\n",
       "      <td>C00575795</td>\n",
       "      <td>P00003392</td>\n",
       "      <td>Clinton, Hillary Rodham</td>\n",
       "      <td>AULL, ANNE</td>\n",
       "      <td>LARKSPUR</td>\n",
       "      <td>CA</td>\n",
       "      <td>949,391,913.00</td>\n",
       "      <td>NaN</td>\n",
       "      <td>RETIRED</td>\n",
       "      <td>50.00</td>\n",
       "      <td>2016-04-26</td>\n",
       "      <td>NaN</td>\n",
       "      <td>X</td>\n",
       "      <td>* HILLARY VICTORY FUND</td>\n",
       "      <td>SA18</td>\n",
       "      <td>1091718</td>\n",
       "      <td>C4768722</td>\n",
       "      <td>P2016</td>\n",
       "    </tr>\n",
       "    <tr>\n",
       "      <th>1</th>\n",
       "      <td>C00575795</td>\n",
       "      <td>P00003392</td>\n",
       "      <td>Clinton, Hillary Rodham</td>\n",
       "      <td>CARROLL, MARYJEAN</td>\n",
       "      <td>CAMBRIA</td>\n",
       "      <td>CA</td>\n",
       "      <td>934,284,638.00</td>\n",
       "      <td>NaN</td>\n",
       "      <td>RETIRED</td>\n",
       "      <td>200.00</td>\n",
       "      <td>2016-04-20</td>\n",
       "      <td>NaN</td>\n",
       "      <td>X</td>\n",
       "      <td>* HILLARY VICTORY FUND</td>\n",
       "      <td>SA18</td>\n",
       "      <td>1091718</td>\n",
       "      <td>C4747242</td>\n",
       "      <td>P2016</td>\n",
       "    </tr>\n",
       "    <tr>\n",
       "      <th>2</th>\n",
       "      <td>C00575795</td>\n",
       "      <td>P00003392</td>\n",
       "      <td>Clinton, Hillary Rodham</td>\n",
       "      <td>GANDARA, DESIREE</td>\n",
       "      <td>FONTANA</td>\n",
       "      <td>CA</td>\n",
       "      <td>923,371,507.00</td>\n",
       "      <td>NaN</td>\n",
       "      <td>RETIRED</td>\n",
       "      <td>5.00</td>\n",
       "      <td>2016-04-02</td>\n",
       "      <td>NaN</td>\n",
       "      <td>X</td>\n",
       "      <td>* HILLARY VICTORY FUND</td>\n",
       "      <td>SA18</td>\n",
       "      <td>1091718</td>\n",
       "      <td>C4666603</td>\n",
       "      <td>P2016</td>\n",
       "    </tr>\n",
       "    <tr>\n",
       "      <th>3</th>\n",
       "      <td>C00577130</td>\n",
       "      <td>P60007168</td>\n",
       "      <td>Sanders, Bernard</td>\n",
       "      <td>LEE, ALAN</td>\n",
       "      <td>CAMARILLO</td>\n",
       "      <td>CA</td>\n",
       "      <td>930,111,214.00</td>\n",
       "      <td>AT&amp;T GOVERNMENT SOLUTIONS</td>\n",
       "      <td>SOFTWARE ENGINEER</td>\n",
       "      <td>40.00</td>\n",
       "      <td>2016-03-04</td>\n",
       "      <td>NaN</td>\n",
       "      <td>NaN</td>\n",
       "      <td>* EARMARKED CONTRIBUTION: SEE BELOW</td>\n",
       "      <td>SA17A</td>\n",
       "      <td>1077404</td>\n",
       "      <td>VPF7BKWA097</td>\n",
       "      <td>P2016</td>\n",
       "    </tr>\n",
       "    <tr>\n",
       "      <th>4</th>\n",
       "      <td>C00577130</td>\n",
       "      <td>P60007168</td>\n",
       "      <td>Sanders, Bernard</td>\n",
       "      <td>LEONELLI, ODETTE</td>\n",
       "      <td>REDONDO BEACH</td>\n",
       "      <td>CA</td>\n",
       "      <td>902,784,310.00</td>\n",
       "      <td>VERICOR ENTERPRISES INC.</td>\n",
       "      <td>PHARMACIST</td>\n",
       "      <td>35.00</td>\n",
       "      <td>2016-03-05</td>\n",
       "      <td>NaN</td>\n",
       "      <td>NaN</td>\n",
       "      <td>* EARMARKED CONTRIBUTION: SEE BELOW</td>\n",
       "      <td>SA17A</td>\n",
       "      <td>1077404</td>\n",
       "      <td>VPF7BKX3MB3</td>\n",
       "      <td>P2016</td>\n",
       "    </tr>\n",
       "  </tbody>\n",
       "</table>\n",
       "</div>"
      ],
      "text/plain": [
       "     cmte_id    cand_id                  cand_nm          contbr_nm  \\\n",
       "0  C00575795  P00003392  Clinton, Hillary Rodham         AULL, ANNE   \n",
       "1  C00575795  P00003392  Clinton, Hillary Rodham  CARROLL, MARYJEAN   \n",
       "2  C00575795  P00003392  Clinton, Hillary Rodham   GANDARA, DESIREE   \n",
       "3  C00577130  P60007168         Sanders, Bernard          LEE, ALAN   \n",
       "4  C00577130  P60007168         Sanders, Bernard   LEONELLI, ODETTE   \n",
       "\n",
       "     contbr_city contbr_st     contbr_zip            contbr_employer  \\\n",
       "0       LARKSPUR        CA 949,391,913.00                        NaN   \n",
       "1        CAMBRIA        CA 934,284,638.00                        NaN   \n",
       "2        FONTANA        CA 923,371,507.00                        NaN   \n",
       "3      CAMARILLO        CA 930,111,214.00  AT&T GOVERNMENT SOLUTIONS   \n",
       "4  REDONDO BEACH        CA 902,784,310.00   VERICOR ENTERPRISES INC.   \n",
       "\n",
       "   contbr_occupation  contb_receipt_amt contb_receipt_dt receipt_desc memo_cd  \\\n",
       "0            RETIRED              50.00       2016-04-26          NaN       X   \n",
       "1            RETIRED             200.00       2016-04-20          NaN       X   \n",
       "2            RETIRED               5.00       2016-04-02          NaN       X   \n",
       "3  SOFTWARE ENGINEER              40.00       2016-03-04          NaN     NaN   \n",
       "4         PHARMACIST              35.00       2016-03-05          NaN     NaN   \n",
       "\n",
       "                             memo_text form_tp  file_num      tran_id  \\\n",
       "0               * HILLARY VICTORY FUND    SA18   1091718     C4768722   \n",
       "1               * HILLARY VICTORY FUND    SA18   1091718     C4747242   \n",
       "2               * HILLARY VICTORY FUND    SA18   1091718     C4666603   \n",
       "3  * EARMARKED CONTRIBUTION: SEE BELOW   SA17A   1077404  VPF7BKWA097   \n",
       "4  * EARMARKED CONTRIBUTION: SEE BELOW   SA17A   1077404  VPF7BKX3MB3   \n",
       "\n",
       "  election_tp  \n",
       "0       P2016  \n",
       "1       P2016  \n",
       "2       P2016  \n",
       "3       P2016  \n",
       "4       P2016  "
      ]
     },
     "execution_count": 4,
     "metadata": {},
     "output_type": "execute_result"
    }
   ],
   "source": [
    "contrib.head(5)"
   ]
  },
  {
   "cell_type": "markdown",
   "metadata": {},
   "source": [
    "**1c.** When working with a new dataset, it is important to explore and sanity check your variables. Pick **three** variables from the dataset above and run some quick sanity checks. For example, you may want to examine the maximum and minimum values, a frequency count, or something else. Use markdown cells to explain if your sanity checks \"pass\" your scrutiny or if you have concerns about the integrity of your data. "
   ]
  },
  {
   "cell_type": "markdown",
   "metadata": {},
   "source": [
    "**Contribution receipt amount**"
   ]
  },
  {
   "cell_type": "code",
   "execution_count": 5,
   "metadata": {
    "deletable": false,
    "nbgrader": {
     "checksum": "0ec29a2cabd52709322d1cfd650babe7",
     "grade": true,
     "grade_id": "cell-23b51536d24c1645",
     "locked": false,
     "points": 0,
     "schema_version": 1,
     "solution": true
    },
    "scrolled": true
   },
   "outputs": [
    {
     "name": "stdout",
     "output_type": "stream",
     "text": [
      "count   654,502.00\n",
      "mean        126.50\n",
      "std         459.17\n",
      "min     -10,000.00\n",
      "25%          15.00\n",
      "50%          27.00\n",
      "75%          75.00\n",
      "max      10,800.00\n",
      "Name: contb_receipt_amt, dtype: float64\n",
      "\n",
      "Negative contributions amounts: 6977\n"
     ]
    }
   ],
   "source": [
    "print(contrib.contb_receipt_amt.describe())\n",
    "print()\n",
    "print(\"Negative contributions amounts:\", sum(contrib.contb_receipt_amt < 0))"
   ]
  },
  {
   "cell_type": "code",
   "execution_count": 6,
   "metadata": {},
   "outputs": [
    {
     "name": "stdout",
     "output_type": "stream",
     "text": [
      "SA17A    629741\n",
      "SA18      20240\n",
      "SB28A      4521\n",
      "Name: form_tp, dtype: int64\n",
      "\n"
     ]
    },
    {
     "data": {
      "text/html": [
       "<div>\n",
       "<style scoped>\n",
       "    .dataframe tbody tr th:only-of-type {\n",
       "        vertical-align: middle;\n",
       "    }\n",
       "\n",
       "    .dataframe tbody tr th {\n",
       "        vertical-align: top;\n",
       "    }\n",
       "\n",
       "    .dataframe thead tr th {\n",
       "        text-align: left;\n",
       "    }\n",
       "\n",
       "    .dataframe thead tr:last-of-type th {\n",
       "        text-align: right;\n",
       "    }\n",
       "</style>\n",
       "<table border=\"1\" class=\"dataframe\">\n",
       "  <thead>\n",
       "    <tr>\n",
       "      <th></th>\n",
       "      <th colspan=\"8\" halign=\"left\">contb_receipt_amt</th>\n",
       "      <th colspan=\"8\" halign=\"left\">file_num</th>\n",
       "    </tr>\n",
       "    <tr>\n",
       "      <th></th>\n",
       "      <th>count</th>\n",
       "      <th>mean</th>\n",
       "      <th>std</th>\n",
       "      <th>min</th>\n",
       "      <th>25%</th>\n",
       "      <th>50%</th>\n",
       "      <th>75%</th>\n",
       "      <th>max</th>\n",
       "      <th>count</th>\n",
       "      <th>mean</th>\n",
       "      <th>std</th>\n",
       "      <th>min</th>\n",
       "      <th>25%</th>\n",
       "      <th>50%</th>\n",
       "      <th>75%</th>\n",
       "      <th>max</th>\n",
       "    </tr>\n",
       "    <tr>\n",
       "      <th>form_tp</th>\n",
       "      <th></th>\n",
       "      <th></th>\n",
       "      <th></th>\n",
       "      <th></th>\n",
       "      <th></th>\n",
       "      <th></th>\n",
       "      <th></th>\n",
       "      <th></th>\n",
       "      <th></th>\n",
       "      <th></th>\n",
       "      <th></th>\n",
       "      <th></th>\n",
       "      <th></th>\n",
       "      <th></th>\n",
       "      <th></th>\n",
       "      <th></th>\n",
       "    </tr>\n",
       "  </thead>\n",
       "  <tbody>\n",
       "    <tr>\n",
       "      <th>SA17A</th>\n",
       "      <td>629,741.00</td>\n",
       "      <td>129.42</td>\n",
       "      <td>450.81</td>\n",
       "      <td>-5,400.00</td>\n",
       "      <td>15.00</td>\n",
       "      <td>27.00</td>\n",
       "      <td>75.00</td>\n",
       "      <td>10,800.00</td>\n",
       "      <td>629,741.00</td>\n",
       "      <td>1,077,059.34</td>\n",
       "      <td>15,311.39</td>\n",
       "      <td>1,003,942.00</td>\n",
       "      <td>1,077,404.00</td>\n",
       "      <td>1,077,916.00</td>\n",
       "      <td>1,081,062.00</td>\n",
       "      <td>1,108,056.00</td>\n",
       "    </tr>\n",
       "    <tr>\n",
       "      <th>SA18</th>\n",
       "      <td>20,240.00</td>\n",
       "      <td>195.86</td>\n",
       "      <td>406.65</td>\n",
       "      <td>-2,700.00</td>\n",
       "      <td>41.91</td>\n",
       "      <td>100.00</td>\n",
       "      <td>200.00</td>\n",
       "      <td>2,700.00</td>\n",
       "      <td>20,240.00</td>\n",
       "      <td>1,088,499.57</td>\n",
       "      <td>7,578.82</td>\n",
       "      <td>1,004,025.00</td>\n",
       "      <td>1,081,062.00</td>\n",
       "      <td>1,091,718.00</td>\n",
       "      <td>1,091,720.00</td>\n",
       "      <td>1,112,134.00</td>\n",
       "    </tr>\n",
       "    <tr>\n",
       "      <th>SB28A</th>\n",
       "      <td>4,521.00</td>\n",
       "      <td>-590.88</td>\n",
       "      <td>968.06</td>\n",
       "      <td>-10,000.00</td>\n",
       "      <td>-500.00</td>\n",
       "      <td>-100.00</td>\n",
       "      <td>-38.00</td>\n",
       "      <td>-0.44</td>\n",
       "      <td>4,521.00</td>\n",
       "      <td>1,079,793.24</td>\n",
       "      <td>13,922.21</td>\n",
       "      <td>1,014,957.00</td>\n",
       "      <td>1,077,404.00</td>\n",
       "      <td>1,079,445.00</td>\n",
       "      <td>1,091,718.00</td>\n",
       "      <td>1,096,260.00</td>\n",
       "    </tr>\n",
       "  </tbody>\n",
       "</table>\n",
       "</div>"
      ],
      "text/plain": [
       "        contb_receipt_amt                                                   \\\n",
       "                    count    mean    std        min     25%     50%    75%   \n",
       "form_tp                                                                      \n",
       "SA17A          629,741.00  129.42 450.81  -5,400.00   15.00   27.00  75.00   \n",
       "SA18            20,240.00  195.86 406.65  -2,700.00   41.91  100.00 200.00   \n",
       "SB28A            4,521.00 -590.88 968.06 -10,000.00 -500.00 -100.00 -38.00   \n",
       "\n",
       "                    file_num                                                   \\\n",
       "              max      count         mean       std          min          25%   \n",
       "form_tp                                                                         \n",
       "SA17A   10,800.00 629,741.00 1,077,059.34 15,311.39 1,003,942.00 1,077,404.00   \n",
       "SA18     2,700.00  20,240.00 1,088,499.57  7,578.82 1,004,025.00 1,081,062.00   \n",
       "SB28A       -0.44   4,521.00 1,079,793.24 13,922.21 1,014,957.00 1,077,404.00   \n",
       "\n",
       "                                                \n",
       "                 50%          75%          max  \n",
       "form_tp                                         \n",
       "SA17A   1,077,916.00 1,081,062.00 1,108,056.00  \n",
       "SA18    1,091,718.00 1,091,720.00 1,112,134.00  \n",
       "SB28A   1,079,445.00 1,091,718.00 1,096,260.00  "
      ]
     },
     "execution_count": 6,
     "metadata": {},
     "output_type": "execute_result"
    }
   ],
   "source": [
    "print(contrib.form_tp.value_counts())\n",
    "print()\n",
    "contrib.groupby('form_tp').describe()"
   ]
  },
  {
   "cell_type": "markdown",
   "metadata": {},
   "source": [
    "**Election type**"
   ]
  },
  {
   "cell_type": "code",
   "execution_count": 7,
   "metadata": {
    "scrolled": true
   },
   "outputs": [
    {
     "data": {
      "text/plain": [
       "count     654364\n",
       "unique         3\n",
       "top        P2016\n",
       "freq      649293\n",
       "Name: election_tp, dtype: object"
      ]
     },
     "execution_count": 7,
     "metadata": {},
     "output_type": "execute_result"
    }
   ],
   "source": [
    "contrib.election_tp.describe()"
   ]
  },
  {
   "cell_type": "code",
   "execution_count": 8,
   "metadata": {},
   "outputs": [
    {
     "data": {
      "text/plain": [
       "P2016    649293\n",
       "G2016      5064\n",
       "P2020         7\n",
       "Name: election_tp, dtype: int64"
      ]
     },
     "execution_count": 8,
     "metadata": {},
     "output_type": "execute_result"
    }
   ],
   "source": [
    "contrib.election_tp.value_counts()"
   ]
  },
  {
   "cell_type": "code",
   "execution_count": 9,
   "metadata": {},
   "outputs": [
    {
     "name": "stdout",
     "output_type": "stream",
     "text": [
      "NAs number 138\n",
      "NAs number 0.021084733125338043\n"
     ]
    }
   ],
   "source": [
    "print('NAs number', sum(pd.isna(contrib.election_tp)))\n",
    "print('NAs number', (sum(pd.isna(contrib.election_tp)) / len(contrib)) * 100)"
   ]
  },
  {
   "cell_type": "markdown",
   "metadata": {},
   "source": [
    "**Contribution receipt date**"
   ]
  },
  {
   "cell_type": "code",
   "execution_count": 10,
   "metadata": {},
   "outputs": [
    {
     "data": {
      "text/plain": [
       "count                  654502\n",
       "unique                    518\n",
       "top       2016-02-29 00:00:00\n",
       "freq                    11735\n",
       "first     2013-11-05 00:00:00\n",
       "last      2016-05-31 00:00:00\n",
       "Name: contb_receipt_dt, dtype: object"
      ]
     },
     "execution_count": 10,
     "metadata": {},
     "output_type": "execute_result"
    }
   ],
   "source": [
    "contrib.contb_receipt_dt.describe()"
   ]
  },
  {
   "cell_type": "code",
   "execution_count": 11,
   "metadata": {},
   "outputs": [
    {
     "data": {
      "text/plain": [
       "count                  140783\n",
       "unique                    366\n",
       "top       2015-12-31 00:00:00\n",
       "freq                     4595\n",
       "first     2013-11-05 00:00:00\n",
       "last      2015-12-31 00:00:00\n",
       "Name: contb_receipt_dt, dtype: object"
      ]
     },
     "execution_count": 11,
     "metadata": {},
     "output_type": "execute_result"
    }
   ],
   "source": [
    "contrib.contb_receipt_dt[contrib.contb_receipt_dt < \"2016\"].describe()"
   ]
  },
  {
   "cell_type": "markdown",
   "metadata": {
    "deletable": false,
    "nbgrader": {
     "checksum": "cfa64002e64474584dc1442b5a39b460",
     "grade": true,
     "grade_id": "cell-8a320c2ff7c24d98",
     "locked": false,
     "points": 0,
     "schema_version": 1,
     "solution": true
    }
   },
   "source": [
    "1c\n",
    "- A sanity check on **contribution receipt amount** showed that there was a significant number of negative donations (6,977). I initially suspected that negative donations meant refunds to individuals so I grouped the data by 'form type' to check if the negative observations belonged to line 28A (refunds to individuals) but there are negative values in all the forms. Therefore, unless there is some accounting rule that I am not aware of, I am concerned about the integrity of this variable.\n",
    "- A sanity check on **election type** showed two suspicious results. First, that there were 7 donations for the 2020 primaries and, second, that there are 138 donations with no type. Even though these could be errors in the data, and it is important to take them into account in further analyses, they are very few and probably not a cause for concern.\n",
    "- Finally, I didn't find anything to worry about in **receipt date**. There are no missing values and the maximum and minimum dates make sense."
   ]
  },
  {
   "cell_type": "markdown",
   "metadata": {},
   "source": [
    "## 2. Exploring Campaign Contributions\n",
    "\n",
    "Let's investigate the donations to the candidates.\n",
    "\n",
    "**2a.** \n",
    "Create a table that shows the total number of donations to each candidate. Hint: use \"groupby\" as shown in async unit 11.07.\n",
    "\n",
    "When presenting data in a table, it is best to sort the data in a meaningful way. This makes it easier for your reader to examine what you've done and to get insights out of your tables. Use \"sort_values\" to sort the data so that candidates with the largest number of donations appear on top. From now on, all tables you present in this assignment (and course) should be sorted.\n",
    "\n",
    "What candidate recieved the largest number of contributions (variable 'contb_receipt_amt')?"
   ]
  },
  {
   "cell_type": "code",
   "execution_count": 12,
   "metadata": {
    "deletable": false,
    "nbgrader": {
     "checksum": "442b24601da06376c43cbe6ef5c5348a",
     "grade": true,
     "grade_id": "cell-6a453219105384dd",
     "locked": false,
     "points": 0,
     "schema_version": 1,
     "solution": true
    }
   },
   "outputs": [
    {
     "data": {
      "text/plain": [
       "cand_nm\n",
       "Sanders, Bernard             371795\n",
       "Clinton, Hillary Rodham      163509\n",
       "Cruz, Rafael Edward 'Ted'     57136\n",
       "Carson, Benjamin S.           27342\n",
       "Rubio, Marco                  14089\n",
       "Fiorina, Carly                 4696\n",
       "Paul, Rand                     4256\n",
       "Bush, Jeb                      3114\n",
       "Kasich, John R.                2988\n",
       "Trump, Donald J.               2255\n",
       "Walker, Scott                   713\n",
       "Huckabee, Mike                  531\n",
       "O'Malley, Martin Joseph         397\n",
       "Lessig, Lawrence                372\n",
       "Graham, Lindsey O.              342\n",
       "Christie, Christopher J.        333\n",
       "Stein, Jill                     197\n",
       "Perry, James R. (Rick)          116\n",
       "Webb, James Henry Jr.           106\n",
       "Santorum, Richard J.             84\n",
       "Johnson, Gary                    77\n",
       "Jindal, Bobby                    31\n",
       "Pataki, George E.                20\n",
       "Gilmore, James S III              3\n",
       "Name: cand_nm, dtype: int64"
      ]
     },
     "execution_count": 12,
     "metadata": {},
     "output_type": "execute_result"
    }
   ],
   "source": [
    "contrib_count_cand = contrib.groupby('cand_nm').cand_nm.count().sort_values(ascending=False)\n",
    "contrib_count_cand"
   ]
  },
  {
   "cell_type": "markdown",
   "metadata": {
    "deletable": false,
    "nbgrader": {
     "checksum": "c5a1b7f30648cced7269ccb9b1532bd6",
     "grade": true,
     "grade_id": "cell-90c49bd6471a3dc9",
     "locked": false,
     "points": 0,
     "schema_version": 1,
     "solution": true
    }
   },
   "source": [
    "- 2a Bernard Sanders"
   ]
  },
  {
   "cell_type": "markdown",
   "metadata": {},
   "source": [
    "**2b.** Now, create a table that shows the total **value** of donations to each candidate. What candidate raised the most money in California?"
   ]
  },
  {
   "cell_type": "code",
   "execution_count": 13,
   "metadata": {},
   "outputs": [
    {
     "data": {
      "text/plain": [
       "cand_nm\n",
       "Clinton, Hillary Rodham     39,368,777.01\n",
       "Sanders, Bernard            18,773,871.31\n",
       "Cruz, Rafael Edward 'Ted'    6,286,460.34\n",
       "Rubio, Marco                 4,846,483.72\n",
       "Bush, Jeb                    3,325,536.83\n",
       "Carson, Benjamin S.          2,952,109.00\n",
       "Kasich, John R.              1,553,823.54\n",
       "Fiorina, Carly               1,468,489.42\n",
       "Trump, Donald J.               893,356.89\n",
       "Paul, Rand                     797,624.29\n",
       "Walker, Scott                  495,006.90\n",
       "Christie, Christopher J.       456,066.00\n",
       "Graham, Lindsey O.             408,595.00\n",
       "O'Malley, Martin Joseph        297,834.26\n",
       "Huckabee, Mike                 230,890.60\n",
       "Perry, James R. (Rick)         208,400.00\n",
       "Lessig, Lawrence               186,144.50\n",
       "Webb, James Henry Jr.           76,568.16\n",
       "Johnson, Gary                   41,187.60\n",
       "Santorum, Richard J.            36,304.88\n",
       "Pataki, George E.               30,450.00\n",
       "Stein, Jill                     27,918.00\n",
       "Jindal, Bobby                   23,231.26\n",
       "Gilmore, James S III             8,100.00\n",
       "Name: contb_receipt_amt, dtype: float64"
      ]
     },
     "execution_count": 13,
     "metadata": {},
     "output_type": "execute_result"
    }
   ],
   "source": [
    "contrib_amt_cand = contrib.groupby('cand_nm').contb_receipt_amt.apply(sum).sort_values(ascending=False)\n",
    "contrib_amt_cand"
   ]
  },
  {
   "cell_type": "code",
   "execution_count": 14,
   "metadata": {},
   "outputs": [
    {
     "data": {
      "text/plain": [
       "cand_nm\n",
       "Clinton, Hillary Rodham   39,368,777.01\n",
       "Name: contb_receipt_amt, dtype: float64"
      ]
     },
     "execution_count": 14,
     "metadata": {},
     "output_type": "execute_result"
    }
   ],
   "source": [
    "contrib[contrib.contbr_st == 'CA'].groupby('cand_nm').contb_receipt_amt.apply(sum).sort_values(ascending=False).head(1)"
   ]
  },
  {
   "cell_type": "markdown",
   "metadata": {
    "deletable": false,
    "nbgrader": {
     "checksum": "60d3e303837e9603de5b96e32af7d806",
     "grade": true,
     "grade_id": "cell-447dc63eff8ebc5f",
     "locked": false,
     "points": 0,
     "schema_version": 1,
     "solution": true
    }
   },
   "source": [
    "- 2b Hillary Rodham Clinton raised the most money"
   ]
  },
  {
   "cell_type": "markdown",
   "metadata": {},
   "source": [
    "**2c.** Combining your tables\n",
    "- What is the \"type\" of the two tables you printed above? Show if they are Series, or DataFrames.\n",
    "- Convert any Series to pandas DataFrames.\n",
    "- Update the variable (column) names to accurately describe what is shown\n",
    "- Merge together your tables to show the *count* and the *value* of donations to each candidate in one table. Use the \"join\" function."
   ]
  },
  {
   "cell_type": "code",
   "execution_count": 15,
   "metadata": {},
   "outputs": [
    {
     "name": "stdout",
     "output_type": "stream",
     "text": [
      "contrib_num_cand: <class 'pandas.core.series.Series'>\n",
      "contrib_amt_cand: <class 'pandas.core.series.Series'>\n"
     ]
    }
   ],
   "source": [
    "print(\"contrib_num_cand:\", type(contrib_count_cand))\n",
    "print(\"contrib_amt_cand:\", type(contrib_amt_cand))"
   ]
  },
  {
   "cell_type": "code",
   "execution_count": 16,
   "metadata": {},
   "outputs": [
    {
     "name": "stdout",
     "output_type": "stream",
     "text": [
      "contrib_num_cand: <class 'pandas.core.frame.DataFrame'> Columns: Index(['contrib_count'], dtype='object')\n",
      "contrib_amt_cand: <class 'pandas.core.frame.DataFrame'> Columns: Index(['contrib_amt'], dtype='object')\n"
     ]
    }
   ],
   "source": [
    "contrib_count_cand = pd.DataFrame(contrib_count_cand)\n",
    "contrib_amt_cand = pd.DataFrame(contrib_amt_cand)\n",
    "contrib_count_cand.columns = ['contrib_count']\n",
    "contrib_amt_cand.columns = ['contrib_amt']\n",
    "print(\"contrib_num_cand:\", type(contrib_count_cand), \"Columns:\", contrib_count_cand.columns)\n",
    "print(\"contrib_amt_cand:\", type(contrib_amt_cand), \"Columns:\", contrib_amt_cand.columns)"
   ]
  },
  {
   "cell_type": "code",
   "execution_count": 17,
   "metadata": {},
   "outputs": [
    {
     "data": {
      "text/html": [
       "<div>\n",
       "<style scoped>\n",
       "    .dataframe tbody tr th:only-of-type {\n",
       "        vertical-align: middle;\n",
       "    }\n",
       "\n",
       "    .dataframe tbody tr th {\n",
       "        vertical-align: top;\n",
       "    }\n",
       "\n",
       "    .dataframe thead th {\n",
       "        text-align: right;\n",
       "    }\n",
       "</style>\n",
       "<table border=\"1\" class=\"dataframe\">\n",
       "  <thead>\n",
       "    <tr style=\"text-align: right;\">\n",
       "      <th></th>\n",
       "      <th>contrib_count</th>\n",
       "      <th>contrib_amt</th>\n",
       "    </tr>\n",
       "    <tr>\n",
       "      <th>cand_nm</th>\n",
       "      <th></th>\n",
       "      <th></th>\n",
       "    </tr>\n",
       "  </thead>\n",
       "  <tbody>\n",
       "    <tr>\n",
       "      <th>Bush, Jeb</th>\n",
       "      <td>3114</td>\n",
       "      <td>3,325,536.83</td>\n",
       "    </tr>\n",
       "    <tr>\n",
       "      <th>Carson, Benjamin S.</th>\n",
       "      <td>27342</td>\n",
       "      <td>2,952,109.00</td>\n",
       "    </tr>\n",
       "    <tr>\n",
       "      <th>Christie, Christopher J.</th>\n",
       "      <td>333</td>\n",
       "      <td>456,066.00</td>\n",
       "    </tr>\n",
       "    <tr>\n",
       "      <th>Clinton, Hillary Rodham</th>\n",
       "      <td>163509</td>\n",
       "      <td>39,368,777.01</td>\n",
       "    </tr>\n",
       "    <tr>\n",
       "      <th>Cruz, Rafael Edward 'Ted'</th>\n",
       "      <td>57136</td>\n",
       "      <td>6,286,460.34</td>\n",
       "    </tr>\n",
       "  </tbody>\n",
       "</table>\n",
       "</div>"
      ],
      "text/plain": [
       "                           contrib_count   contrib_amt\n",
       "cand_nm                                               \n",
       "Bush, Jeb                           3114  3,325,536.83\n",
       "Carson, Benjamin S.                27342  2,952,109.00\n",
       "Christie, Christopher J.             333    456,066.00\n",
       "Clinton, Hillary Rodham           163509 39,368,777.01\n",
       "Cruz, Rafael Edward 'Ted'          57136  6,286,460.34"
      ]
     },
     "execution_count": 17,
     "metadata": {},
     "output_type": "execute_result"
    }
   ],
   "source": [
    "contrib_cand = contrib_count_cand.join(contrib_amt_cand, how='outer')\n",
    "contrib_cand.head()"
   ]
  },
  {
   "cell_type": "markdown",
   "metadata": {},
   "source": [
    "**2d.** Calculate and add a new variable to your table from **2c** that shows the average $ per donation."
   ]
  },
  {
   "cell_type": "code",
   "execution_count": 19,
   "metadata": {},
   "outputs": [
    {
     "data": {
      "text/html": [
       "<div>\n",
       "<style scoped>\n",
       "    .dataframe tbody tr th:only-of-type {\n",
       "        vertical-align: middle;\n",
       "    }\n",
       "\n",
       "    .dataframe tbody tr th {\n",
       "        vertical-align: top;\n",
       "    }\n",
       "\n",
       "    .dataframe thead th {\n",
       "        text-align: right;\n",
       "    }\n",
       "</style>\n",
       "<table border=\"1\" class=\"dataframe\">\n",
       "  <thead>\n",
       "    <tr style=\"text-align: right;\">\n",
       "      <th></th>\n",
       "      <th>contrib_count</th>\n",
       "      <th>contrib_amt</th>\n",
       "      <th>doll_per_donation</th>\n",
       "    </tr>\n",
       "    <tr>\n",
       "      <th>cand_nm</th>\n",
       "      <th></th>\n",
       "      <th></th>\n",
       "      <th></th>\n",
       "    </tr>\n",
       "  </thead>\n",
       "  <tbody>\n",
       "    <tr>\n",
       "      <th>Gilmore, James S III</th>\n",
       "      <td>3</td>\n",
       "      <td>8,100.00</td>\n",
       "      <td>2,700.00</td>\n",
       "    </tr>\n",
       "    <tr>\n",
       "      <th>Perry, James R. (Rick)</th>\n",
       "      <td>116</td>\n",
       "      <td>208,400.00</td>\n",
       "      <td>1,796.55</td>\n",
       "    </tr>\n",
       "    <tr>\n",
       "      <th>Pataki, George E.</th>\n",
       "      <td>20</td>\n",
       "      <td>30,450.00</td>\n",
       "      <td>1,522.50</td>\n",
       "    </tr>\n",
       "    <tr>\n",
       "      <th>Christie, Christopher J.</th>\n",
       "      <td>333</td>\n",
       "      <td>456,066.00</td>\n",
       "      <td>1,369.57</td>\n",
       "    </tr>\n",
       "    <tr>\n",
       "      <th>Graham, Lindsey O.</th>\n",
       "      <td>342</td>\n",
       "      <td>408,595.00</td>\n",
       "      <td>1,194.72</td>\n",
       "    </tr>\n",
       "    <tr>\n",
       "      <th>Bush, Jeb</th>\n",
       "      <td>3114</td>\n",
       "      <td>3,325,536.83</td>\n",
       "      <td>1,067.93</td>\n",
       "    </tr>\n",
       "    <tr>\n",
       "      <th>O'Malley, Martin Joseph</th>\n",
       "      <td>397</td>\n",
       "      <td>297,834.26</td>\n",
       "      <td>750.21</td>\n",
       "    </tr>\n",
       "    <tr>\n",
       "      <th>Jindal, Bobby</th>\n",
       "      <td>31</td>\n",
       "      <td>23,231.26</td>\n",
       "      <td>749.40</td>\n",
       "    </tr>\n",
       "    <tr>\n",
       "      <th>Webb, James Henry Jr.</th>\n",
       "      <td>106</td>\n",
       "      <td>76,568.16</td>\n",
       "      <td>722.34</td>\n",
       "    </tr>\n",
       "    <tr>\n",
       "      <th>Walker, Scott</th>\n",
       "      <td>713</td>\n",
       "      <td>495,006.90</td>\n",
       "      <td>694.26</td>\n",
       "    </tr>\n",
       "    <tr>\n",
       "      <th>Johnson, Gary</th>\n",
       "      <td>77</td>\n",
       "      <td>41,187.60</td>\n",
       "      <td>534.90</td>\n",
       "    </tr>\n",
       "    <tr>\n",
       "      <th>Kasich, John R.</th>\n",
       "      <td>2988</td>\n",
       "      <td>1,553,823.54</td>\n",
       "      <td>520.02</td>\n",
       "    </tr>\n",
       "    <tr>\n",
       "      <th>Lessig, Lawrence</th>\n",
       "      <td>372</td>\n",
       "      <td>186,144.50</td>\n",
       "      <td>500.39</td>\n",
       "    </tr>\n",
       "    <tr>\n",
       "      <th>Huckabee, Mike</th>\n",
       "      <td>531</td>\n",
       "      <td>230,890.60</td>\n",
       "      <td>434.82</td>\n",
       "    </tr>\n",
       "    <tr>\n",
       "      <th>Santorum, Richard J.</th>\n",
       "      <td>84</td>\n",
       "      <td>36,304.88</td>\n",
       "      <td>432.20</td>\n",
       "    </tr>\n",
       "    <tr>\n",
       "      <th>Trump, Donald J.</th>\n",
       "      <td>2255</td>\n",
       "      <td>893,356.89</td>\n",
       "      <td>396.17</td>\n",
       "    </tr>\n",
       "    <tr>\n",
       "      <th>Rubio, Marco</th>\n",
       "      <td>14089</td>\n",
       "      <td>4,846,483.72</td>\n",
       "      <td>343.99</td>\n",
       "    </tr>\n",
       "    <tr>\n",
       "      <th>Fiorina, Carly</th>\n",
       "      <td>4696</td>\n",
       "      <td>1,468,489.42</td>\n",
       "      <td>312.71</td>\n",
       "    </tr>\n",
       "    <tr>\n",
       "      <th>Clinton, Hillary Rodham</th>\n",
       "      <td>163509</td>\n",
       "      <td>39,368,777.01</td>\n",
       "      <td>240.77</td>\n",
       "    </tr>\n",
       "    <tr>\n",
       "      <th>Paul, Rand</th>\n",
       "      <td>4256</td>\n",
       "      <td>797,624.29</td>\n",
       "      <td>187.41</td>\n",
       "    </tr>\n",
       "    <tr>\n",
       "      <th>Stein, Jill</th>\n",
       "      <td>197</td>\n",
       "      <td>27,918.00</td>\n",
       "      <td>141.72</td>\n",
       "    </tr>\n",
       "    <tr>\n",
       "      <th>Cruz, Rafael Edward 'Ted'</th>\n",
       "      <td>57136</td>\n",
       "      <td>6,286,460.34</td>\n",
       "      <td>110.03</td>\n",
       "    </tr>\n",
       "    <tr>\n",
       "      <th>Carson, Benjamin S.</th>\n",
       "      <td>27342</td>\n",
       "      <td>2,952,109.00</td>\n",
       "      <td>107.97</td>\n",
       "    </tr>\n",
       "    <tr>\n",
       "      <th>Sanders, Bernard</th>\n",
       "      <td>371795</td>\n",
       "      <td>18,773,871.31</td>\n",
       "      <td>50.50</td>\n",
       "    </tr>\n",
       "  </tbody>\n",
       "</table>\n",
       "</div>"
      ],
      "text/plain": [
       "                           contrib_count   contrib_amt  doll_per_donation\n",
       "cand_nm                                                                  \n",
       "Gilmore, James S III                   3      8,100.00           2,700.00\n",
       "Perry, James R. (Rick)               116    208,400.00           1,796.55\n",
       "Pataki, George E.                     20     30,450.00           1,522.50\n",
       "Christie, Christopher J.             333    456,066.00           1,369.57\n",
       "Graham, Lindsey O.                   342    408,595.00           1,194.72\n",
       "Bush, Jeb                           3114  3,325,536.83           1,067.93\n",
       "O'Malley, Martin Joseph              397    297,834.26             750.21\n",
       "Jindal, Bobby                         31     23,231.26             749.40\n",
       "Webb, James Henry Jr.                106     76,568.16             722.34\n",
       "Walker, Scott                        713    495,006.90             694.26\n",
       "Johnson, Gary                         77     41,187.60             534.90\n",
       "Kasich, John R.                     2988  1,553,823.54             520.02\n",
       "Lessig, Lawrence                     372    186,144.50             500.39\n",
       "Huckabee, Mike                       531    230,890.60             434.82\n",
       "Santorum, Richard J.                  84     36,304.88             432.20\n",
       "Trump, Donald J.                    2255    893,356.89             396.17\n",
       "Rubio, Marco                       14089  4,846,483.72             343.99\n",
       "Fiorina, Carly                      4696  1,468,489.42             312.71\n",
       "Clinton, Hillary Rodham           163509 39,368,777.01             240.77\n",
       "Paul, Rand                          4256    797,624.29             187.41\n",
       "Stein, Jill                          197     27,918.00             141.72\n",
       "Cruz, Rafael Edward 'Ted'          57136  6,286,460.34             110.03\n",
       "Carson, Benjamin S.                27342  2,952,109.00             107.97\n",
       "Sanders, Bernard                  371795 18,773,871.31              50.50"
      ]
     },
     "execution_count": 19,
     "metadata": {},
     "output_type": "execute_result"
    }
   ],
   "source": [
    "contrib_cand['doll_per_donation'] = contrib_cand.contrib_amt / contrib_cand.contrib_count\n",
    "contrib_cand.sort_values('doll_per_donation', ascending=False)"
   ]
  },
  {
   "cell_type": "markdown",
   "metadata": {},
   "source": [
    "**2e.** There are several interesting conclusions you can draw from the table you have created. Please comment on the results of your data analysis in a short paragraph. What have you learned about campaign contributions in California?"
   ]
  },
  {
   "cell_type": "markdown",
   "metadata": {},
   "source": [
    "- 2e I have learned that both the amount and the number of contributions can vary greatly, for example, from only 3 contributions to 371,795. Also that the two top democrat candidates (Clinton and Sanders) have a desproportionately large share of the total number of donations but also of the amount contributed, despite their relatively low dollars per contribution. On this point, it was surprising to see that the candidate with the lowest dollars per contribution (Sanders) got the second highest amount of dollars in contributions, which hints at other socioeconomic characteristics of his donors that would be very interesting to explore. Finally, I learned that high levels of dollars per donation seem to be more concentrated in candidates with fewer contributions."
   ]
  },
  {
   "cell_type": "markdown",
   "metadata": {},
   "source": [
    "## 3. Exploring Donor Occupation\n",
    "\n",
    "Above in part 2, we saw that some simple data analysis can give us insights into the campaign of our candidates. Now let's quickly look to see what *kind* of person is donating to each campaign using the \"contbr_occupation\" variable."
   ]
  },
  {
   "cell_type": "markdown",
   "metadata": {},
   "source": [
    "**3a.** Subset your data to create a data frame with only donations for Hillary Clinton. Then use value_counts() and head() to display the top 5 occupations (contbr_occupation) for her donors. Note: we are just interested in the count of donations, not the value of those donations."
   ]
  },
  {
   "cell_type": "code",
   "execution_count": 21,
   "metadata": {
    "deletable": false,
    "nbgrader": {
     "checksum": "20a71229316bf24a2ce62c52f72d8142",
     "grade": true,
     "grade_id": "cell-963603c5ed346a99",
     "locked": false,
     "points": 0,
     "schema_version": 1,
     "solution": true
    }
   },
   "outputs": [
    {
     "data": {
      "text/plain": [
       "RETIRED                  33450\n",
       "ATTORNEY                  7315\n",
       "INFORMATION REQUESTED     4742\n",
       "TEACHER                   3591\n",
       "HOMEMAKER                 3436\n",
       "Name: contbr_occupation, dtype: int64"
      ]
     },
     "execution_count": 21,
     "metadata": {},
     "output_type": "execute_result"
    }
   ],
   "source": [
    "contrib[contrib.cand_nm.str.contains(\"Clinton\")].contbr_occupation.value_counts().head(5)"
   ]
  },
  {
   "cell_type": "code",
   "execution_count": 22,
   "metadata": {},
   "outputs": [
    {
     "name": "stdout",
     "output_type": "stream",
     "text": [
      "Retired as percentage of total: 14.921886069477045\n"
     ]
    }
   ],
   "source": [
    "occup_nas = sum(contrib.contbr_occupation.isna())\n",
    "perc_ret = (contrib[contrib.contbr_occupation == \"RETIRED\"].shape[0] /\\\n",
    "            (contrib.shape[0] - occup_nas)) * 100\n",
    "print(\"Retired as percentage of total:\", perc_ret)"
   ]
  },
  {
   "cell_type": "markdown",
   "metadata": {
    "deletable": false,
    "nbgrader": {
     "checksum": "426b589a9d6457f38381eb1c77678d4f",
     "grade": true,
     "grade_id": "cell-b6fc3f7c906c95a2",
     "locked": false,
     "points": 0,
     "schema_version": 1,
     "solution": true
    }
   },
   "source": [
    "**3b.** Imagine that you want to do the previous operation on several candidates.  To keep your work neat, you want to take the work you did on the Clinton-subset and wrap it in a function that you can apply to other subsets of the data.  Specifically, write a function called get_donors() that takes a DataFrame as input, and outputs a Series containing the counts for the top 5 occupations contained in that DataFrame."
   ]
  },
  {
   "cell_type": "code",
   "execution_count": 24,
   "metadata": {
    "deletable": false,
    "nbgrader": {
     "checksum": "81ebf2a2f96961b4464f6c35d2143427",
     "grade": true,
     "grade_id": "cell-bea2cf7a6fff8565",
     "locked": false,
     "points": 0,
     "schema_version": 1,
     "solution": true
    }
   },
   "outputs": [],
   "source": [
    "def get_donors(df):\n",
    "    \"\"\"This function takes a dataframe that contains a variable named contbr_occupation.\n",
    "    It outputs a Series containing the counts for the 5 most common values of that\n",
    "    variable.\"\"\"\n",
    "    \n",
    "    return df.contbr_occupation.value_counts().head(5)"
   ]
  },
  {
   "cell_type": "markdown",
   "metadata": {},
   "source": [
    "**3c.** Now try running your function on subsets of the dataframe corresponding to three candidates:\n",
    "    1. Hillary Clinton\n",
    "    2. Bernie Sanders\n",
    "    3. Donald Trump"
   ]
  },
  {
   "cell_type": "code",
   "execution_count": 25,
   "metadata": {
    "deletable": false,
    "nbgrader": {
     "checksum": "bffd2778d22127102347386bfb6f5b20",
     "grade": true,
     "grade_id": "cell-4ad1da24176f0450",
     "locked": false,
     "points": 0,
     "schema_version": 1,
     "solution": true
    }
   },
   "outputs": [
    {
     "data": {
      "text/plain": [
       "RETIRED                  33450\n",
       "ATTORNEY                  7315\n",
       "INFORMATION REQUESTED     4742\n",
       "TEACHER                   3591\n",
       "HOMEMAKER                 3436\n",
       "Name: contbr_occupation, dtype: int64"
      ]
     },
     "execution_count": 25,
     "metadata": {},
     "output_type": "execute_result"
    }
   ],
   "source": [
    "get_donors(contrib[contrib.cand_nm.str.contains('Clinton')])"
   ]
  },
  {
   "cell_type": "code",
   "execution_count": 26,
   "metadata": {
    "scrolled": true
   },
   "outputs": [
    {
     "data": {
      "text/plain": [
       "NOT EMPLOYED         96371\n",
       "RETIRED              15048\n",
       "TEACHER              10167\n",
       "SOFTWARE ENGINEER     7861\n",
       "ENGINEER              7094\n",
       "Name: contbr_occupation, dtype: int64"
      ]
     },
     "execution_count": 26,
     "metadata": {},
     "output_type": "execute_result"
    }
   ],
   "source": [
    "get_donors(contrib[contrib.cand_nm.str.contains('Sanders')])"
   ]
  },
  {
   "cell_type": "code",
   "execution_count": 27,
   "metadata": {
    "scrolled": true
   },
   "outputs": [
    {
     "data": {
      "text/plain": [
       "RETIRED                  849\n",
       "INFORMATION REQUESTED     70\n",
       "CEO                       57\n",
       "OWNER                     51\n",
       "PRESIDENT                 35\n",
       "Name: contbr_occupation, dtype: int64"
      ]
     },
     "execution_count": 27,
     "metadata": {},
     "output_type": "execute_result"
    }
   ],
   "source": [
    "get_donors(contrib[contrib.cand_nm.str.contains('Trump')])"
   ]
  },
  {
   "cell_type": "markdown",
   "metadata": {},
   "source": [
    "**3d.** Finally, use a groupby to divide the entire dataset by candidate.  Call .apply(get_donors) on your groupby object, which will apply the function you wrote to each subset of your data.  Look at your output and marvel at what Pandas can do in just one line!"
   ]
  },
  {
   "cell_type": "code",
   "execution_count": 28,
   "metadata": {},
   "outputs": [
    {
     "data": {
      "text/plain": [
       "cand_nm                                                          \n",
       "Bush, Jeb                  RETIRED                                     996\n",
       "                           HOMEMAKER                                   180\n",
       "                           ATTORNEY                                     92\n",
       "                           Q.A.                                         89\n",
       "                           PRESIDENT                                    84\n",
       "Carson, Benjamin S.        RETIRED                                   13692\n",
       "                           INFORMATION REQUESTED PER BEST EFFORTS     1614\n",
       "                           HOMEMAKER                                  1049\n",
       "                           PHYSICIAN                                   329\n",
       "                           R.N.                                        234\n",
       "Christie, Christopher J.   RETIRED                                      38\n",
       "                           NONE                                         22\n",
       "                           CONSULTANT                                   18\n",
       "                           CEO                                          16\n",
       "                           HOMEMAKER                                    15\n",
       "Clinton, Hillary Rodham    RETIRED                                   33450\n",
       "                           ATTORNEY                                   7315\n",
       "                           INFORMATION REQUESTED                      4742\n",
       "                           TEACHER                                    3591\n",
       "                           HOMEMAKER                                  3436\n",
       "Cruz, Rafael Edward 'Ted'  RETIRED                                   22956\n",
       "                           INFORMATION REQUESTED PER BEST EFFORTS     1651\n",
       "                           HOMEMAKER                                  1261\n",
       "                           ENGINEER                                   1080\n",
       "                           TEACHER                                     838\n",
       "Fiorina, Carly             RETIRED                                    1971\n",
       "                           HOMEMAKER                                   169\n",
       "                           ATTORNEY                                    140\n",
       "                           INFORMATION REQUESTED PER BEST EFFORTS       95\n",
       "                           INVESTOR                                     64\n",
       "                                                                     ...  \n",
       "Sanders, Bernard           NOT EMPLOYED                              96371\n",
       "                           RETIRED                                   15048\n",
       "                           TEACHER                                   10167\n",
       "                           SOFTWARE ENGINEER                          7861\n",
       "                           ENGINEER                                   7094\n",
       "Santorum, Richard J.       RETIRED                                      44\n",
       "                           ENGINEER                                      5\n",
       "                           MACHINIST                                     4\n",
       "                           INFORMATION REQUESTED                         3\n",
       "                           PSYCHOLOGIST                                  3\n",
       "Stein, Jill                RETIRED                                      32\n",
       "                           RESEARCHER                                   25\n",
       "                           WRITER                                       20\n",
       "                           SOFTWARE ENGINEER                             9\n",
       "                           FORMAL FINANCIAL SERVICES EMPLOYEE            9\n",
       "Trump, Donald J.           RETIRED                                     849\n",
       "                           INFORMATION REQUESTED                        70\n",
       "                           CEO                                          57\n",
       "                           OWNER                                        51\n",
       "                           PRESIDENT                                    35\n",
       "Walker, Scott              RETIRED                                     232\n",
       "                           INFORMATION REQUESTED                        70\n",
       "                           PRESIDENT                                    37\n",
       "                           HOMEMAKER                                    34\n",
       "                           ATTORNEY                                     31\n",
       "Webb, James Henry Jr.      RETIRED                                      14\n",
       "                           ATTORNEY                                      8\n",
       "                           DEPUTY DISTRICT ATTORNEY                      7\n",
       "                           MATH EDUCATOR                                 5\n",
       "                           NOT EMPLOYED                                  5\n",
       "Name: contbr_occupation, Length: 118, dtype: int64"
      ]
     },
     "execution_count": 28,
     "metadata": {},
     "output_type": "execute_result"
    }
   ],
   "source": [
    "contrib.groupby('cand_nm').apply(get_donors)"
   ]
  },
  {
   "cell_type": "markdown",
   "metadata": {
    "collapsed": true,
    "deletable": false,
    "nbgrader": {
     "checksum": "14c2855e3d59f0da6b1afd5cf0da2da8",
     "grade": true,
     "grade_id": "cell-fd840cdd19d2bd2a",
     "locked": false,
     "points": 0,
     "schema_version": 1,
     "solution": true
    }
   },
   "source": [
    "**3e.** Comment on your findings in a short paragraph."
   ]
  },
  {
   "cell_type": "markdown",
   "metadata": {
    "deletable": false,
    "nbgrader": {
     "checksum": "43ce3d15cee7ab73f53fd8f054c9826c",
     "grade": true,
     "grade_id": "cell-dce8d3107c1463ca",
     "locked": false,
     "points": 0,
     "schema_version": 1,
     "solution": true
    }
   },
   "source": [
    "- 3e It is surprising to find that retired are by far the largest group of donors (about 15% of total, and the main contributor in all but one of the candidates) which is likely to give them a desproportionate influence in who is chosen in the primaries. It also tells a lot about the profile of Trump and Sander that their contributors are so radically different, since the former is highly supported by CEOs, owners and presidents, while the latter is supported by teachers and engineers. I also found surprising that Carson had a high support from physicians. Even though they have a similar background as Carson, I assumed that the political inclinations of physicians would be mostly on the democrat's side (of course, given my close to null knowledge of American politics). Finally, the large amount of missing data in the form of \"Information requested\" type of responses obscures these results, since these missing values could change the picture of contributor's occupation significantly."
   ]
  },
  {
   "cell_type": "markdown",
   "metadata": {},
   "source": [
    "**3f.** Think about your findings in section 3 vs. your findings in section 2 of this assignment. Do you have any new insights into the results you got in section 2, now that you see the top occupations for each candidate?"
   ]
  },
  {
   "cell_type": "markdown",
   "metadata": {
    "deletable": false,
    "nbgrader": {
     "checksum": "a5f4e6df0f32e24c492a9589ec87fef6",
     "grade": true,
     "grade_id": "cell-9e3f68b21dac8e10",
     "locked": false,
     "points": 0,
     "schema_version": 1,
     "solution": true
    }
   },
   "source": [
    "- 3f The dollars per contribution results in section 2 could be explained in part by the occupation of contributors. For example, excluding retireds, Sander's (with the lowest dollars_per_donation, of 50) contributors are mainly employess, while Trump's (with a DPD of 396) are mainly executives or owners. This could also help explain the number of contributors in section 2 since candidates whose contributors belong to less common occupations (such as Trump, Sartorum, or Christie) are not in the top of the list of number of contributions."
   ]
  },
  {
   "cell_type": "markdown",
   "metadata": {},
   "source": [
    "\n",
    "## 4. Plotting Data\n",
    "\n",
    "There is an important element that we have not yet explored in this dataset - time."
   ]
  },
  {
   "cell_type": "markdown",
   "metadata": {},
   "source": [
    "**4a.** Please create a single line chart with the following elements:\n",
    "- Show the date on the x-axis\n",
    "- Show the contribution amount on the y-axis\n",
    "- Include a title\n",
    "- Include axis labels"
   ]
  },
  {
   "cell_type": "code",
   "execution_count": 29,
   "metadata": {
    "deletable": false,
    "nbgrader": {
     "checksum": "4f1a9e7ee0ded9d2b5af5777cb85e505",
     "grade": true,
     "grade_id": "cell-c14fbed9d72d54e3",
     "locked": false,
     "points": 0,
     "schema_version": 1,
     "solution": true
    }
   },
   "outputs": [
    {
     "data": {
      "text/plain": [
       "Text(0.5,0,'Date')"
      ]
     },
     "execution_count": 29,
     "metadata": {},
     "output_type": "execute_result"
    },
    {
     "data": {
      "image/png": "[encoded data removed]",
      "text/plain": [
       "<matplotlib.figure.Figure at 0x2c679b8d9b0>"
      ]
     },
     "metadata": {},
     "output_type": "display_data"
    }
   ],
   "source": [
    "contrib.plot(x='contb_receipt_dt', y='contb_receipt_amt', kind='line')\n",
    "plt.title('Contribution amounts by date')\n",
    "plt.ylabel('Contribution amount (USD)')\n",
    "plt.xlabel('Date')"
   ]
  },
  {
   "cell_type": "markdown",
   "metadata": {},
   "source": [
    "**4b.** This chart is messy (and you should make better plots for your project). While there are better ways we can show this data, what conclusions can you draw from just your basic plot?"
   ]
  },
  {
   "cell_type": "markdown",
   "metadata": {
    "deletable": false,
    "nbgrader": {
     "checksum": "010f5de5f6af4c7f830d1cf7a81bbc0f",
     "grade": true,
     "grade_id": "cell-5617179133b06d0c",
     "locked": false,
     "points": 0,
     "schema_version": 1,
     "solution": true
    }
   },
   "source": [
    "- 4b First, donations start as soon as the second semester of 2008 with relatively small amounts. By around February of 2015 the amount contributed significantly increases with spikes in certain months of the year (though it is hard to see which months in this chart). This trend continues for more than one year until May 2016, when the amount of donations significantly falls to low levels, similar to the peak days of 2014-8 to 2015-2."
   ]
  },
  {
   "cell_type": "markdown",
   "metadata": {},
   "source": [
    "**4c.** Brainstorm: If you were going to improve on this plot looking at donations over time, what could you display that would be more useful? You do not need to do any plotting for this question."
   ]
  },
  {
   "cell_type": "markdown",
   "metadata": {
    "deletable": false,
    "nbgrader": {
     "checksum": "6dc1481a003cdd752c5edfa9ac400879",
     "grade": true,
     "grade_id": "cell-f7a01ce9c5b10ac7",
     "locked": false,
     "points": 0,
     "schema_version": 1,
     "solution": true
    }
   },
   "source": [
    "- 4c To improve this plot, I would start by smoothing this data by adding the moving average of donations, so it doesn't look as cluttered but also to make visible, trends that cannot be seen as it is now given the noise introduced by the large day by day variation. Alternatively, to solve the same problem, I would group the donations data by weeks. I would also make the plot bigger, which may make the data more clear."
   ]
  },
  {
   "cell_type": "markdown",
   "metadata": {},
   "source": [
    "## If you have feedback for this homework, please submit it using the link below:\n",
    "\n",
    "http://goo.gl/forms/74yCiQTf6k"
   ]
  }
 ],
 "metadata": {
  "kernelspec": {
   "display_name": "Python 3",
   "language": "python",
   "name": "python3"
  },
  "language_info": {
   "codemirror_mode": {
    "name": "ipython",
    "version": 3
   },
   "file_extension": ".py",
   "mimetype": "text/x-python",
   "name": "python",
   "nbconvert_exporter": "python",
   "pygments_lexer": "ipython3",
   "version": "3.6.4"
  }
 },
 "nbformat": 4,
 "nbformat_minor": 2
}
