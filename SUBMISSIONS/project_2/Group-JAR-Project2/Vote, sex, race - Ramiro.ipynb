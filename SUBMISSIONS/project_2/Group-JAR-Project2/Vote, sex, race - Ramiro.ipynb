{
 "cells": [
  {
   "cell_type": "markdown",
   "metadata": {},
   "source": [
    "# Initial setup"
   ]
  },
  {
   "cell_type": "markdown",
   "metadata": {},
   "source": [
    "### Setup"
   ]
  },
  {
   "cell_type": "code",
   "execution_count": 54,
   "metadata": {},
   "outputs": [],
   "source": [
    "import pandas as pd\n",
    "pd.options.display.float_format = '{:,.1f}'.format\n",
    "import numpy as np\n",
    "from matplotlib import pyplot as plt\n",
    "import pprint\n",
    "import datetime\n",
    "%matplotlib inline"
   ]
  },
  {
   "cell_type": "markdown",
   "metadata": {},
   "source": [
    "### Import and clean data"
   ]
  },
  {
   "cell_type": "code",
   "execution_count": 510,
   "metadata": {},
   "outputs": [],
   "source": [
    "# Import voting, sex and race\n",
    "def dash_convert(value):\n",
    "    if value == '-':\n",
    "        return 0\n",
    "    return value\n",
    "\n",
    "def float_convert(value):\n",
    "    if value == '-':\n",
    "        return float(0)\n",
    "    return float(value)\n",
    "\n",
    "converter = {'Total Population': dash_convert, \n",
    "             'Total Citizen Population': dash_convert,\n",
    "             'Total registered': dash_convert,\n",
    "             'Percent registered\\n(Total)': dash_convert,\n",
    "             'Percent registered\\n(Citizen)': dash_convert,\n",
    "             'Total voted': dash_convert,\n",
    "             'Percent voted\\n(Total)': dash_convert,\n",
    "             'Percent voted\\n(Citizen)': dash_convert}\n",
    "\n",
    "raw_votesexrace_12 = pd.read_excel('data/all_data.xlsx', sheet_name='vote_sex_race2012', na_values=\"(B)\", converters=converter)\n",
    "raw_votesexrace_16 = pd.read_excel('data/all_data.xlsx', sheet_name='vote_sex_race2016', na_values=[\"(B)\"], converters=converter)\n",
    "\n",
    "# Clean column names\n",
    "raw_votesexrace_12.columns = raw_votesexrace_12.columns.str.lower().str.replace(' ', '_').str.replace(',', '').str.replace('(', '_').str.replace(')', '').str.replace('.','_').str.replace('\\n','_').str.replace('__','_').str.replace('-','_')\n",
    "raw_votesexrace_16.columns = raw_votesexrace_16.columns.str.lower().str.replace(' ', '_').str.replace(',', '').str.replace('(', '_').str.replace(')', '').str.replace('.','_').str.replace('\\n','_').str.replace('__','_').str.replace('-','_')\n",
    "raw_votesexrace_12.rename(columns={'race_and_hispanic_origin': raw_votesexrace_16.columns[1]}, inplace=True)\n",
    "\n",
    "# Fix percent column types\n",
    "percent_cols = ['percent_registered_total', 'percent_registered_citizen', 'percent_registered_citizen', 'percent_voted_total', 'percent_voted_citizen']\n",
    "raw_votesexrace_12[percent_cols] = raw_votesexrace_12[percent_cols].apply(pd.to_numeric)\n",
    "raw_votesexrace_16[percent_cols] = raw_votesexrace_16[percent_cols].apply(pd.to_numeric)\n",
    "\n",
    "# Delete columns that won't be used\n",
    "del(raw_votesexrace_12['margin_of_error'])\n",
    "del(raw_votesexrace_12['margin_of_error_1'])\n",
    "del(raw_votesexrace_12['margin_of_error_2'])\n",
    "del(raw_votesexrace_12['margin_of_error_3'])\n",
    "\n",
    "del(raw_votesexrace_16['margin_of_error'])\n",
    "del(raw_votesexrace_16['margin_of_error_1'])\n",
    "del(raw_votesexrace_16['margin_of_error_2'])\n",
    "del(raw_votesexrace_16['margin_of_error_3'])"
   ]
  },
  {
   "cell_type": "code",
   "execution_count": 511,
   "metadata": {
    "scrolled": true
   },
   "outputs": [
    {
     "name": "stdout",
     "output_type": "stream",
     "text": [
      "Dimensions 2012: (572, 10) \t Dimensions 2016 (572, 10)\n",
      "Same data types in 2012 and 2016: True\n",
      "Same column names: True\n",
      "\n",
      "Data types 2012:\n",
      "state                            object\n",
      "sex_race_and_hispanic_origin     object\n",
      "total_population                  int64\n",
      "total_citizen_population          int64\n",
      "total_registered                  int64\n",
      "percent_registered_total        float64\n",
      "percent_registered_citizen      float64\n",
      "total_voted                       int64\n",
      "percent_voted_total             float64\n",
      "percent_voted_citizen           float64\n",
      "dtype: object\n",
      "\n",
      "Data types 2016:\n",
      "state                            object\n",
      "sex_race_and_hispanic_origin     object\n",
      "total_population                  int64\n",
      "total_citizen_population          int64\n",
      "total_registered                  int64\n",
      "percent_registered_total        float64\n",
      "percent_registered_citizen      float64\n",
      "total_voted                       int64\n",
      "percent_voted_total             float64\n",
      "percent_voted_citizen           float64\n",
      "dtype: object\n"
     ]
    }
   ],
   "source": [
    "print('Dimensions 2012:', raw_votesexrace_12.shape, '\\t Dimensions 2016', raw_votesexrace_16.shape)\n",
    "print('Same data types in 2012 and 2016:', raw_votesexrace_12.dtypes.equals(raw_votesexrace_16.dtypes))\n",
    "print('Same column names:', raw_votesexrace_12.columns.equals(raw_votesexrace_16.columns))\n",
    "print()\n",
    "print('Data types 2012:')\n",
    "print(raw_votesexrace_12.dtypes)\n",
    "print()\n",
    "print('Data types 2016:')\n",
    "print(raw_votesexrace_16.dtypes)"
   ]
  },
  {
   "cell_type": "code",
   "execution_count": 513,
   "metadata": {},
   "outputs": [
    {
     "data": {
      "text/html": [
       "<div>\n",
       "<style scoped>\n",
       "    .dataframe tbody tr th:only-of-type {\n",
       "        vertical-align: middle;\n",
       "    }\n",
       "\n",
       "    .dataframe tbody tr th {\n",
       "        vertical-align: top;\n",
       "    }\n",
       "\n",
       "    .dataframe thead th {\n",
       "        text-align: right;\n",
       "    }\n",
       "</style>\n",
       "<table border=\"1\" class=\"dataframe\">\n",
       "  <thead>\n",
       "    <tr style=\"text-align: right;\">\n",
       "      <th></th>\n",
       "      <th>state</th>\n",
       "      <th>sex_race_and_hispanic_origin</th>\n",
       "      <th>total_population</th>\n",
       "      <th>total_citizen_population</th>\n",
       "      <th>total_registered</th>\n",
       "      <th>percent_registered_total</th>\n",
       "      <th>percent_registered_citizen</th>\n",
       "      <th>total_voted</th>\n",
       "      <th>percent_voted_total</th>\n",
       "      <th>percent_voted_citizen</th>\n",
       "    </tr>\n",
       "  </thead>\n",
       "  <tbody>\n",
       "    <tr>\n",
       "      <th>0</th>\n",
       "      <td>US</td>\n",
       "      <td>Total</td>\n",
       "      <td>245502</td>\n",
       "      <td>224059</td>\n",
       "      <td>157596</td>\n",
       "      <td>64.2</td>\n",
       "      <td>70.3</td>\n",
       "      <td>137537</td>\n",
       "      <td>56.0</td>\n",
       "      <td>61.4</td>\n",
       "    </tr>\n",
       "    <tr>\n",
       "      <th>1</th>\n",
       "      <td>US</td>\n",
       "      <td>Male</td>\n",
       "      <td>118488</td>\n",
       "      <td>107554</td>\n",
       "      <td>73761</td>\n",
       "      <td>62.3</td>\n",
       "      <td>68.6</td>\n",
       "      <td>63801</td>\n",
       "      <td>53.8</td>\n",
       "      <td>59.3</td>\n",
       "    </tr>\n",
       "    <tr>\n",
       "      <th>2</th>\n",
       "      <td>US</td>\n",
       "      <td>Female</td>\n",
       "      <td>127013</td>\n",
       "      <td>116505</td>\n",
       "      <td>83835</td>\n",
       "      <td>66.0</td>\n",
       "      <td>72.0</td>\n",
       "      <td>73735</td>\n",
       "      <td>58.1</td>\n",
       "      <td>63.3</td>\n",
       "    </tr>\n",
       "    <tr>\n",
       "      <th>3</th>\n",
       "      <td>US</td>\n",
       "      <td>White alone</td>\n",
       "      <td>192129</td>\n",
       "      <td>177865</td>\n",
       "      <td>127463</td>\n",
       "      <td>66.3</td>\n",
       "      <td>71.7</td>\n",
       "      <td>111891</td>\n",
       "      <td>58.2</td>\n",
       "      <td>62.9</td>\n",
       "    </tr>\n",
       "    <tr>\n",
       "      <th>4</th>\n",
       "      <td>US</td>\n",
       "      <td>White non-Hispanic alone</td>\n",
       "      <td>157395</td>\n",
       "      <td>154450</td>\n",
       "      <td>114151</td>\n",
       "      <td>72.5</td>\n",
       "      <td>73.9</td>\n",
       "      <td>100849</td>\n",
       "      <td>64.1</td>\n",
       "      <td>65.3</td>\n",
       "    </tr>\n",
       "    <tr>\n",
       "      <th>5</th>\n",
       "      <td>US</td>\n",
       "      <td>Black alone</td>\n",
       "      <td>30608</td>\n",
       "      <td>28808</td>\n",
       "      <td>19984</td>\n",
       "      <td>65.3</td>\n",
       "      <td>69.4</td>\n",
       "      <td>17119</td>\n",
       "      <td>55.9</td>\n",
       "      <td>59.4</td>\n",
       "    </tr>\n",
       "    <tr>\n",
       "      <th>6</th>\n",
       "      <td>US</td>\n",
       "      <td>Asian alone</td>\n",
       "      <td>14881</td>\n",
       "      <td>10283</td>\n",
       "      <td>5785</td>\n",
       "      <td>38.9</td>\n",
       "      <td>56.3</td>\n",
       "      <td>5043</td>\n",
       "      <td>33.9</td>\n",
       "      <td>49.0</td>\n",
       "    </tr>\n",
       "    <tr>\n",
       "      <th>7</th>\n",
       "      <td>US</td>\n",
       "      <td>Hispanic (of any race)</td>\n",
       "      <td>38990</td>\n",
       "      <td>26662</td>\n",
       "      <td>15267</td>\n",
       "      <td>39.2</td>\n",
       "      <td>57.3</td>\n",
       "      <td>12682</td>\n",
       "      <td>32.5</td>\n",
       "      <td>47.6</td>\n",
       "    </tr>\n",
       "    <tr>\n",
       "      <th>8</th>\n",
       "      <td>US</td>\n",
       "      <td>White alone or in combination</td>\n",
       "      <td>195716</td>\n",
       "      <td>181268</td>\n",
       "      <td>129664</td>\n",
       "      <td>66.3</td>\n",
       "      <td>71.5</td>\n",
       "      <td>113707</td>\n",
       "      <td>58.1</td>\n",
       "      <td>62.7</td>\n",
       "    </tr>\n",
       "    <tr>\n",
       "      <th>9</th>\n",
       "      <td>US</td>\n",
       "      <td>Black alone or in combination</td>\n",
       "      <td>32211</td>\n",
       "      <td>30326</td>\n",
       "      <td>20935</td>\n",
       "      <td>65.0</td>\n",
       "      <td>69.0</td>\n",
       "      <td>17875</td>\n",
       "      <td>55.5</td>\n",
       "      <td>58.9</td>\n",
       "    </tr>\n",
       "    <tr>\n",
       "      <th>10</th>\n",
       "      <td>US</td>\n",
       "      <td>Asian alone or in combination</td>\n",
       "      <td>15750</td>\n",
       "      <td>11118</td>\n",
       "      <td>6369</td>\n",
       "      <td>40.4</td>\n",
       "      <td>57.3</td>\n",
       "      <td>5542</td>\n",
       "      <td>35.2</td>\n",
       "      <td>49.9</td>\n",
       "    </tr>\n",
       "    <tr>\n",
       "      <th>11</th>\n",
       "      <td>ALABAMA</td>\n",
       "      <td>Total</td>\n",
       "      <td>3717</td>\n",
       "      <td>3651</td>\n",
       "      <td>2526</td>\n",
       "      <td>68.0</td>\n",
       "      <td>69.2</td>\n",
       "      <td>2095</td>\n",
       "      <td>56.4</td>\n",
       "      <td>57.4</td>\n",
       "    </tr>\n",
       "    <tr>\n",
       "      <th>12</th>\n",
       "      <td>ALABAMA</td>\n",
       "      <td>Male</td>\n",
       "      <td>1761</td>\n",
       "      <td>1718</td>\n",
       "      <td>1155</td>\n",
       "      <td>65.6</td>\n",
       "      <td>67.2</td>\n",
       "      <td>944</td>\n",
       "      <td>53.6</td>\n",
       "      <td>54.9</td>\n",
       "    </tr>\n",
       "    <tr>\n",
       "      <th>13</th>\n",
       "      <td>ALABAMA</td>\n",
       "      <td>Female</td>\n",
       "      <td>1955</td>\n",
       "      <td>1933</td>\n",
       "      <td>1371</td>\n",
       "      <td>70.1</td>\n",
       "      <td>70.9</td>\n",
       "      <td>1151</td>\n",
       "      <td>58.9</td>\n",
       "      <td>59.6</td>\n",
       "    </tr>\n",
       "    <tr>\n",
       "      <th>14</th>\n",
       "      <td>ALABAMA</td>\n",
       "      <td>White alone</td>\n",
       "      <td>2633</td>\n",
       "      <td>2604</td>\n",
       "      <td>1772</td>\n",
       "      <td>67.3</td>\n",
       "      <td>68.0</td>\n",
       "      <td>1465</td>\n",
       "      <td>55.6</td>\n",
       "      <td>56.2</td>\n",
       "    </tr>\n",
       "  </tbody>\n",
       "</table>\n",
       "</div>"
      ],
      "text/plain": [
       "      state   sex_race_and_hispanic_origin  total_population  \\\n",
       "0        US                          Total            245502   \n",
       "1        US                           Male            118488   \n",
       "2        US                         Female            127013   \n",
       "3        US                    White alone            192129   \n",
       "4        US       White non-Hispanic alone            157395   \n",
       "5        US                    Black alone             30608   \n",
       "6        US                    Asian alone             14881   \n",
       "7        US         Hispanic (of any race)             38990   \n",
       "8        US  White alone or in combination            195716   \n",
       "9        US  Black alone or in combination             32211   \n",
       "10       US  Asian alone or in combination             15750   \n",
       "11  ALABAMA                          Total              3717   \n",
       "12  ALABAMA                           Male              1761   \n",
       "13  ALABAMA                         Female              1955   \n",
       "14  ALABAMA                    White alone              2633   \n",
       "\n",
       "    total_citizen_population  total_registered  percent_registered_total  \\\n",
       "0                     224059            157596                      64.2   \n",
       "1                     107554             73761                      62.3   \n",
       "2                     116505             83835                      66.0   \n",
       "3                     177865            127463                      66.3   \n",
       "4                     154450            114151                      72.5   \n",
       "5                      28808             19984                      65.3   \n",
       "6                      10283              5785                      38.9   \n",
       "7                      26662             15267                      39.2   \n",
       "8                     181268            129664                      66.3   \n",
       "9                      30326             20935                      65.0   \n",
       "10                     11118              6369                      40.4   \n",
       "11                      3651              2526                      68.0   \n",
       "12                      1718              1155                      65.6   \n",
       "13                      1933              1371                      70.1   \n",
       "14                      2604              1772                      67.3   \n",
       "\n",
       "    percent_registered_citizen  total_voted  percent_voted_total  \\\n",
       "0                         70.3       137537                 56.0   \n",
       "1                         68.6        63801                 53.8   \n",
       "2                         72.0        73735                 58.1   \n",
       "3                         71.7       111891                 58.2   \n",
       "4                         73.9       100849                 64.1   \n",
       "5                         69.4        17119                 55.9   \n",
       "6                         56.3         5043                 33.9   \n",
       "7                         57.3        12682                 32.5   \n",
       "8                         71.5       113707                 58.1   \n",
       "9                         69.0        17875                 55.5   \n",
       "10                        57.3         5542                 35.2   \n",
       "11                        69.2         2095                 56.4   \n",
       "12                        67.2          944                 53.6   \n",
       "13                        70.9         1151                 58.9   \n",
       "14                        68.0         1465                 55.6   \n",
       "\n",
       "    percent_voted_citizen  \n",
       "0                    61.4  \n",
       "1                    59.3  \n",
       "2                    63.3  \n",
       "3                    62.9  \n",
       "4                    65.3  \n",
       "5                    59.4  \n",
       "6                    49.0  \n",
       "7                    47.6  \n",
       "8                    62.7  \n",
       "9                    58.9  \n",
       "10                   49.9  \n",
       "11                   57.4  \n",
       "12                   54.9  \n",
       "13                   59.6  \n",
       "14                   56.2  "
      ]
     },
     "execution_count": 513,
     "metadata": {},
     "output_type": "execute_result"
    }
   ],
   "source": [
    "raw_votesexrace_16.head(15)"
   ]
  },
  {
   "cell_type": "code",
   "execution_count": 515,
   "metadata": {
    "scrolled": true
   },
   "outputs": [
    {
     "name": "stdout",
     "output_type": "stream",
     "text": [
      "Same columns in raw_votesexrace 2012 and 2016: True\n"
     ]
    }
   ],
   "source": [
    "# Validate if column names are equal\n",
    "print(\"Same columns in raw_votesexrace 2012 and 2016:\", raw_votesexrace_12.columns.equals(raw_votesexrace_16.columns))"
   ]
  },
  {
   "cell_type": "code",
   "execution_count": 518,
   "metadata": {},
   "outputs": [],
   "source": [
    "# Add year column\n",
    "raw_votesexrace_12['year'] = 2012\n",
    "raw_votesexrace_16['year'] = 2016\n",
    "\n",
    "# Concatenate 2012 and 2016\n",
    "df_vote_sex_race = pd.concat([raw_votesexrace_12, raw_votesexrace_16])\n",
    "# del(df_vote_sex_race['sex_race_and_hispanic_origin'])\n",
    "# print(df_vote_sex_race.columns)\n",
    "# print(df_vote_sex_race.head())"
   ]
  },
  {
   "cell_type": "code",
   "execution_count": 519,
   "metadata": {},
   "outputs": [],
   "source": [
    "df_vote_sex_race.to_csv('data/df_vote_sex_race.csv')"
   ]
  },
  {
   "cell_type": "markdown",
   "metadata": {},
   "source": [
    "### Dataframes for analysis"
   ]
  },
  {
   "cell_type": "markdown",
   "metadata": {},
   "source": [
    "Import elections"
   ]
  },
  {
   "cell_type": "code",
   "execution_count": 41,
   "metadata": {
    "scrolled": true
   },
   "outputs": [
    {
     "name": "stdout",
     "output_type": "stream",
     "text": [
      "1306 826\n",
      "['2016-11-08T00:00:00.000000000']\n"
     ]
    }
   ],
   "source": [
    "df_elections = pd.read_csv('data/df_elections.csv', index_col=0, parse_dates=['general_election_date'])\n",
    "\n",
    "red_blue_list = ['FLORIDA', 'IOWA', 'MICHIGAN', 'OHIO', 'PENNSYLVANIA', 'WISCONSIN']\n",
    "df_elections['blue_to_red'] = df_elections.state.apply(lambda x: 'BTR' if x.upper() in red_blue_list else 'Other')\n",
    "\n",
    "df16_elections = df_elections.copy()[df_elections.general_election_date.dt.year == int(2016)]\n",
    "print(df_elections.shape[0], df16_elections.shape[0])\n",
    "print(df16_elections.general_election_date.unique())"
   ]
  },
  {
   "cell_type": "code",
   "execution_count": 42,
   "metadata": {},
   "outputs": [
    {
     "data": {
      "text/plain": [
       "state                            object\n",
       "state_abbreviation               object\n",
       "general_election_date    datetime64[ns]\n",
       "last_name__first                 object\n",
       "party                            object\n",
       "general_results                   int64\n",
       "general_perc                    float64\n",
       "winner_indicator                 object\n",
       "party2                           object\n",
       "blue_to_red                      object\n",
       "dtype: object"
      ]
     },
     "execution_count": 42,
     "metadata": {},
     "output_type": "execute_result"
    }
   ],
   "source": [
    "df_elections.dtypes"
   ]
  },
  {
   "cell_type": "markdown",
   "metadata": {},
   "source": [
    "Import voting, sex and race"
   ]
  },
  {
   "cell_type": "code",
   "execution_count": 9,
   "metadata": {},
   "outputs": [],
   "source": [
    "col_names = list(pd.read_csv('data/df_vote_sex_race.csv', index_col=0).columns)\n",
    "# Fix column names\n",
    "col_names[1] = 'sex_race'\n",
    "df = pd.read_csv('data/df_vote_sex_race.csv', index_col=0)\n",
    "df.columns = col_names\n",
    "\n",
    "# Fix all==US state\n",
    "all_rows = df.state == 'All'\n",
    "df.loc[all_rows, 'state'] = 'US'\n",
    "\n",
    "# Fix race labels\n",
    "df.sex_race = df.sex_race.str.replace('.', '')\n",
    "\n",
    "# Create blue_to_red variable\n",
    "red_blue_list = ['FLORIDA', 'IOWA', 'MICHIGAN', 'OHIO', 'PENNSYLVANIA', 'WISCONSIN']\n",
    "df['blue_to_red'] = df.state.apply(lambda x: 'BTR' if x in red_blue_list else 'Other')\n",
    "\n",
    "# Population percent variable\n",
    "df['population_perc'] = df.apply(lambda x: 100 * (x['total_population'] / df[(df.state == x.state) & (df.year == x.year) & (df.sex_race == 'Total')]['total_population'].sum()), axis='columns')"
   ]
  },
  {
   "cell_type": "code",
   "execution_count": 10,
   "metadata": {},
   "outputs": [],
   "source": [
    "# State\n",
    "df_state = df[(df.state != 'US') & (df.sex_race == 'Total')]\n",
    "df_state16 = df_state[df_state.year == 2016]\n",
    "\n",
    "# Gender\n",
    "df_gender = df[(df.state != 'US') & ((df.sex_race == 'Female') | (df.sex_race == 'Male'))]\n",
    "df_gender16 = df_gender[df_gender.year == 2016]\n",
    "\n",
    "# Race\n",
    "df_race = df.copy()[(df.state != 'US') & (df.sex_race != 'Total') & (df.sex_race != 'Female') & (df.sex_race != 'Male')]\n",
    "race_unique = {\n",
    "    'White alone': 'White', 'White non-Hispanic alone': 'White', 'White alone or in combination': 'White',\n",
    "    'Black alone': 'Black', 'Black alone or in combination': 'Black',\n",
    "    'Asian alone': 'Asian', 'Asian alone or in combination': 'Asian',\n",
    "    'Hispanic (of any race)': 'Hispanic'\n",
    "}\n",
    "df_race['race_grouped'] = df_race.sex_race.apply(lambda x: race_unique[x])\n",
    "df_race16 = df_race.copy()[df_race.year == 2016]"
   ]
  },
  {
   "cell_type": "code",
   "execution_count": 6,
   "metadata": {},
   "outputs": [
    {
     "data": {
      "text/html": [
       "<div>\n",
       "<style scoped>\n",
       "    .dataframe tbody tr th:only-of-type {\n",
       "        vertical-align: middle;\n",
       "    }\n",
       "\n",
       "    .dataframe tbody tr th {\n",
       "        vertical-align: top;\n",
       "    }\n",
       "\n",
       "    .dataframe thead th {\n",
       "        text-align: right;\n",
       "    }\n",
       "</style>\n",
       "<table border=\"1\" class=\"dataframe\">\n",
       "  <thead>\n",
       "    <tr style=\"text-align: right;\">\n",
       "      <th></th>\n",
       "      <th>state</th>\n",
       "      <th>sex_race</th>\n",
       "      <th>total_population</th>\n",
       "      <th>total_citizen_population</th>\n",
       "      <th>total_registered</th>\n",
       "      <th>percent_registered_total</th>\n",
       "      <th>percent_registered_citizen</th>\n",
       "      <th>total_voted</th>\n",
       "      <th>percent_voted_total</th>\n",
       "      <th>percent_voted_citizen</th>\n",
       "      <th>year</th>\n",
       "      <th>blue_to_red</th>\n",
       "      <th>population_perc</th>\n",
       "    </tr>\n",
       "  </thead>\n",
       "  <tbody>\n",
       "    <tr>\n",
       "      <th>4</th>\n",
       "      <td>US</td>\n",
       "      <td>White non-Hispanic alone</td>\n",
       "      <td>155615</td>\n",
       "      <td>152862</td>\n",
       "      <td>112706</td>\n",
       "      <td>72.4</td>\n",
       "      <td>73.7</td>\n",
       "      <td>98041</td>\n",
       "      <td>63.0</td>\n",
       "      <td>64.1</td>\n",
       "      <td>2012</td>\n",
       "      <td>Other</td>\n",
       "      <td>66.1</td>\n",
       "    </tr>\n",
       "    <tr>\n",
       "      <th>5</th>\n",
       "      <td>US</td>\n",
       "      <td>Black alone</td>\n",
       "      <td>28709</td>\n",
       "      <td>26915</td>\n",
       "      <td>19680</td>\n",
       "      <td>68.5</td>\n",
       "      <td>73.1</td>\n",
       "      <td>17813</td>\n",
       "      <td>62.0</td>\n",
       "      <td>66.2</td>\n",
       "      <td>2012</td>\n",
       "      <td>Other</td>\n",
       "      <td>12.2</td>\n",
       "    </tr>\n",
       "    <tr>\n",
       "      <th>9</th>\n",
       "      <td>US</td>\n",
       "      <td>Black alone or in combination</td>\n",
       "      <td>30043</td>\n",
       "      <td>28153</td>\n",
       "      <td>20557</td>\n",
       "      <td>68.4</td>\n",
       "      <td>73.0</td>\n",
       "      <td>18558</td>\n",
       "      <td>61.8</td>\n",
       "      <td>65.9</td>\n",
       "      <td>2012</td>\n",
       "      <td>Other</td>\n",
       "      <td>12.8</td>\n",
       "    </tr>\n",
       "    <tr>\n",
       "      <th>2</th>\n",
       "      <td>US</td>\n",
       "      <td>Female</td>\n",
       "      <td>122005</td>\n",
       "      <td>112059</td>\n",
       "      <td>81743</td>\n",
       "      <td>67.0</td>\n",
       "      <td>72.9</td>\n",
       "      <td>71397</td>\n",
       "      <td>58.5</td>\n",
       "      <td>63.7</td>\n",
       "      <td>2012</td>\n",
       "      <td>Other</td>\n",
       "      <td>51.9</td>\n",
       "    </tr>\n",
       "    <tr>\n",
       "      <th>3</th>\n",
       "      <td>US</td>\n",
       "      <td>White alone</td>\n",
       "      <td>187084</td>\n",
       "      <td>173466</td>\n",
       "      <td>124697</td>\n",
       "      <td>66.7</td>\n",
       "      <td>71.9</td>\n",
       "      <td>107846</td>\n",
       "      <td>57.6</td>\n",
       "      <td>62.2</td>\n",
       "      <td>2012</td>\n",
       "      <td>Other</td>\n",
       "      <td>79.5</td>\n",
       "    </tr>\n",
       "    <tr>\n",
       "      <th>8</th>\n",
       "      <td>US</td>\n",
       "      <td>White alone or in combination</td>\n",
       "      <td>190396</td>\n",
       "      <td>176612</td>\n",
       "      <td>126822</td>\n",
       "      <td>66.6</td>\n",
       "      <td>71.8</td>\n",
       "      <td>109603</td>\n",
       "      <td>57.6</td>\n",
       "      <td>62.1</td>\n",
       "      <td>2012</td>\n",
       "      <td>Other</td>\n",
       "      <td>80.9</td>\n",
       "    </tr>\n",
       "    <tr>\n",
       "      <th>0</th>\n",
       "      <td>US</td>\n",
       "      <td>Total</td>\n",
       "      <td>235248</td>\n",
       "      <td>215081</td>\n",
       "      <td>153157</td>\n",
       "      <td>65.1</td>\n",
       "      <td>71.2</td>\n",
       "      <td>132948</td>\n",
       "      <td>56.5</td>\n",
       "      <td>61.8</td>\n",
       "      <td>2012</td>\n",
       "      <td>Other</td>\n",
       "      <td>100.0</td>\n",
       "    </tr>\n",
       "    <tr>\n",
       "      <th>1</th>\n",
       "      <td>US</td>\n",
       "      <td>Male</td>\n",
       "      <td>113243</td>\n",
       "      <td>103022</td>\n",
       "      <td>71414</td>\n",
       "      <td>63.1</td>\n",
       "      <td>69.3</td>\n",
       "      <td>61551</td>\n",
       "      <td>54.4</td>\n",
       "      <td>59.7</td>\n",
       "      <td>2012</td>\n",
       "      <td>Other</td>\n",
       "      <td>48.1</td>\n",
       "    </tr>\n",
       "    <tr>\n",
       "      <th>10</th>\n",
       "      <td>US</td>\n",
       "      <td>Asian alone or in combination</td>\n",
       "      <td>13335</td>\n",
       "      <td>9033</td>\n",
       "      <td>5173</td>\n",
       "      <td>38.8</td>\n",
       "      <td>57.3</td>\n",
       "      <td>4331</td>\n",
       "      <td>32.5</td>\n",
       "      <td>47.9</td>\n",
       "      <td>2012</td>\n",
       "      <td>Other</td>\n",
       "      <td>5.7</td>\n",
       "    </tr>\n",
       "    <tr>\n",
       "      <th>7</th>\n",
       "      <td>US</td>\n",
       "      <td>Hispanic (of any race)</td>\n",
       "      <td>35204</td>\n",
       "      <td>23329</td>\n",
       "      <td>13697</td>\n",
       "      <td>38.9</td>\n",
       "      <td>58.7</td>\n",
       "      <td>11188</td>\n",
       "      <td>31.8</td>\n",
       "      <td>48.0</td>\n",
       "      <td>2012</td>\n",
       "      <td>Other</td>\n",
       "      <td>15.0</td>\n",
       "    </tr>\n",
       "    <tr>\n",
       "      <th>6</th>\n",
       "      <td>US</td>\n",
       "      <td>Asian alone</td>\n",
       "      <td>12493</td>\n",
       "      <td>8254</td>\n",
       "      <td>4649</td>\n",
       "      <td>37.2</td>\n",
       "      <td>56.3</td>\n",
       "      <td>3904</td>\n",
       "      <td>31.3</td>\n",
       "      <td>47.3</td>\n",
       "      <td>2012</td>\n",
       "      <td>Other</td>\n",
       "      <td>5.3</td>\n",
       "    </tr>\n",
       "  </tbody>\n",
       "</table>\n",
       "</div>"
      ],
      "text/plain": [
       "   state                       sex_race  total_population  \\\n",
       "4     US       White non-Hispanic alone            155615   \n",
       "5     US                    Black alone             28709   \n",
       "9     US  Black alone or in combination             30043   \n",
       "2     US                         Female            122005   \n",
       "3     US                    White alone            187084   \n",
       "8     US  White alone or in combination            190396   \n",
       "0     US                          Total            235248   \n",
       "1     US                           Male            113243   \n",
       "10    US  Asian alone or in combination             13335   \n",
       "7     US         Hispanic (of any race)             35204   \n",
       "6     US                    Asian alone             12493   \n",
       "\n",
       "    total_citizen_population  total_registered  percent_registered_total  \\\n",
       "4                     152862            112706                      72.4   \n",
       "5                      26915             19680                      68.5   \n",
       "9                      28153             20557                      68.4   \n",
       "2                     112059             81743                      67.0   \n",
       "3                     173466            124697                      66.7   \n",
       "8                     176612            126822                      66.6   \n",
       "0                     215081            153157                      65.1   \n",
       "1                     103022             71414                      63.1   \n",
       "10                      9033              5173                      38.8   \n",
       "7                      23329             13697                      38.9   \n",
       "6                       8254              4649                      37.2   \n",
       "\n",
       "    percent_registered_citizen  total_voted  percent_voted_total  \\\n",
       "4                         73.7        98041                 63.0   \n",
       "5                         73.1        17813                 62.0   \n",
       "9                         73.0        18558                 61.8   \n",
       "2                         72.9        71397                 58.5   \n",
       "3                         71.9       107846                 57.6   \n",
       "8                         71.8       109603                 57.6   \n",
       "0                         71.2       132948                 56.5   \n",
       "1                         69.3        61551                 54.4   \n",
       "10                        57.3         4331                 32.5   \n",
       "7                         58.7        11188                 31.8   \n",
       "6                         56.3         3904                 31.3   \n",
       "\n",
       "    percent_voted_citizen  year blue_to_red  population_perc  \n",
       "4                    64.1  2012       Other             66.1  \n",
       "5                    66.2  2012       Other             12.2  \n",
       "9                    65.9  2012       Other             12.8  \n",
       "2                    63.7  2012       Other             51.9  \n",
       "3                    62.2  2012       Other             79.5  \n",
       "8                    62.1  2012       Other             80.9  \n",
       "0                    61.8  2012       Other            100.0  \n",
       "1                    59.7  2012       Other             48.1  \n",
       "10                   47.9  2012       Other              5.7  \n",
       "7                    48.0  2012       Other             15.0  \n",
       "6                    47.3  2012       Other              5.3  "
      ]
     },
     "execution_count": 6,
     "metadata": {},
     "output_type": "execute_result"
    }
   ],
   "source": [
    "df[(df.state == \"US\") & (df.year == 2012)].sort_values('percent_voted_total', ascending=False)"
   ]
  },
  {
   "cell_type": "markdown",
   "metadata": {},
   "source": [
    "### Exploratory analysis"
   ]
  },
  {
   "cell_type": "code",
   "execution_count": 539,
   "metadata": {},
   "outputs": [
    {
     "data": {
      "text/plain": [
       "(1144, 12)"
      ]
     },
     "execution_count": 539,
     "metadata": {},
     "output_type": "execute_result"
    }
   ],
   "source": [
    "df.shape"
   ]
  },
  {
   "cell_type": "code",
   "execution_count": 7,
   "metadata": {},
   "outputs": [
    {
     "data": {
      "text/plain": [
       "Index(['state', 'sex_race', 'total_population', 'total_citizen_population',\n",
       "       'total_registered', 'percent_registered_total',\n",
       "       'percent_registered_citizen', 'total_voted', 'percent_voted_total',\n",
       "       'percent_voted_citizen', 'year', 'blue_to_red', 'population_perc'],\n",
       "      dtype='object')"
      ]
     },
     "execution_count": 7,
     "metadata": {},
     "output_type": "execute_result"
    }
   ],
   "source": [
    "cols = df.columns\n",
    "cols"
   ]
  },
  {
   "cell_type": "code",
   "execution_count": 540,
   "metadata": {
    "scrolled": true
   },
   "outputs": [
    {
     "data": {
      "text/html": [
       "<div>\n",
       "<style scoped>\n",
       "    .dataframe tbody tr th:only-of-type {\n",
       "        vertical-align: middle;\n",
       "    }\n",
       "\n",
       "    .dataframe tbody tr th {\n",
       "        vertical-align: top;\n",
       "    }\n",
       "\n",
       "    .dataframe thead th {\n",
       "        text-align: right;\n",
       "    }\n",
       "</style>\n",
       "<table border=\"1\" class=\"dataframe\">\n",
       "  <thead>\n",
       "    <tr style=\"text-align: right;\">\n",
       "      <th></th>\n",
       "      <th>state</th>\n",
       "      <th>sex_race</th>\n",
       "      <th>total_population</th>\n",
       "      <th>total_citizen_population</th>\n",
       "      <th>total_registered</th>\n",
       "      <th>percent_registered_total</th>\n",
       "      <th>percent_registered_citizen</th>\n",
       "      <th>total_voted</th>\n",
       "      <th>percent_voted_total</th>\n",
       "      <th>percent_voted_citizen</th>\n",
       "      <th>year</th>\n",
       "      <th>blue_to_red</th>\n",
       "    </tr>\n",
       "  </thead>\n",
       "  <tbody>\n",
       "    <tr>\n",
       "      <th>0</th>\n",
       "      <td>US</td>\n",
       "      <td>Total</td>\n",
       "      <td>235248</td>\n",
       "      <td>215081</td>\n",
       "      <td>153157</td>\n",
       "      <td>65.1</td>\n",
       "      <td>71.2</td>\n",
       "      <td>132948</td>\n",
       "      <td>56.5</td>\n",
       "      <td>61.8</td>\n",
       "      <td>2012</td>\n",
       "      <td>Other</td>\n",
       "    </tr>\n",
       "    <tr>\n",
       "      <th>1</th>\n",
       "      <td>US</td>\n",
       "      <td>Male</td>\n",
       "      <td>113243</td>\n",
       "      <td>103022</td>\n",
       "      <td>71414</td>\n",
       "      <td>63.1</td>\n",
       "      <td>69.3</td>\n",
       "      <td>61551</td>\n",
       "      <td>54.4</td>\n",
       "      <td>59.7</td>\n",
       "      <td>2012</td>\n",
       "      <td>Other</td>\n",
       "    </tr>\n",
       "    <tr>\n",
       "      <th>2</th>\n",
       "      <td>US</td>\n",
       "      <td>Female</td>\n",
       "      <td>122005</td>\n",
       "      <td>112059</td>\n",
       "      <td>81743</td>\n",
       "      <td>67.0</td>\n",
       "      <td>72.9</td>\n",
       "      <td>71397</td>\n",
       "      <td>58.5</td>\n",
       "      <td>63.7</td>\n",
       "      <td>2012</td>\n",
       "      <td>Other</td>\n",
       "    </tr>\n",
       "    <tr>\n",
       "      <th>3</th>\n",
       "      <td>US</td>\n",
       "      <td>White alone</td>\n",
       "      <td>187084</td>\n",
       "      <td>173466</td>\n",
       "      <td>124697</td>\n",
       "      <td>66.7</td>\n",
       "      <td>71.9</td>\n",
       "      <td>107846</td>\n",
       "      <td>57.6</td>\n",
       "      <td>62.2</td>\n",
       "      <td>2012</td>\n",
       "      <td>Other</td>\n",
       "    </tr>\n",
       "    <tr>\n",
       "      <th>4</th>\n",
       "      <td>US</td>\n",
       "      <td>White non-Hispanic alone</td>\n",
       "      <td>155615</td>\n",
       "      <td>152862</td>\n",
       "      <td>112706</td>\n",
       "      <td>72.4</td>\n",
       "      <td>73.7</td>\n",
       "      <td>98041</td>\n",
       "      <td>63.0</td>\n",
       "      <td>64.1</td>\n",
       "      <td>2012</td>\n",
       "      <td>Other</td>\n",
       "    </tr>\n",
       "    <tr>\n",
       "      <th>5</th>\n",
       "      <td>US</td>\n",
       "      <td>Black alone</td>\n",
       "      <td>28709</td>\n",
       "      <td>26915</td>\n",
       "      <td>19680</td>\n",
       "      <td>68.5</td>\n",
       "      <td>73.1</td>\n",
       "      <td>17813</td>\n",
       "      <td>62.0</td>\n",
       "      <td>66.2</td>\n",
       "      <td>2012</td>\n",
       "      <td>Other</td>\n",
       "    </tr>\n",
       "    <tr>\n",
       "      <th>6</th>\n",
       "      <td>US</td>\n",
       "      <td>Asian alone</td>\n",
       "      <td>12493</td>\n",
       "      <td>8254</td>\n",
       "      <td>4649</td>\n",
       "      <td>37.2</td>\n",
       "      <td>56.3</td>\n",
       "      <td>3904</td>\n",
       "      <td>31.3</td>\n",
       "      <td>47.3</td>\n",
       "      <td>2012</td>\n",
       "      <td>Other</td>\n",
       "    </tr>\n",
       "    <tr>\n",
       "      <th>7</th>\n",
       "      <td>US</td>\n",
       "      <td>Hispanic (of any race)</td>\n",
       "      <td>35204</td>\n",
       "      <td>23329</td>\n",
       "      <td>13697</td>\n",
       "      <td>38.9</td>\n",
       "      <td>58.7</td>\n",
       "      <td>11188</td>\n",
       "      <td>31.8</td>\n",
       "      <td>48.0</td>\n",
       "      <td>2012</td>\n",
       "      <td>Other</td>\n",
       "    </tr>\n",
       "    <tr>\n",
       "      <th>8</th>\n",
       "      <td>US</td>\n",
       "      <td>White alone or in combination</td>\n",
       "      <td>190396</td>\n",
       "      <td>176612</td>\n",
       "      <td>126822</td>\n",
       "      <td>66.6</td>\n",
       "      <td>71.8</td>\n",
       "      <td>109603</td>\n",
       "      <td>57.6</td>\n",
       "      <td>62.1</td>\n",
       "      <td>2012</td>\n",
       "      <td>Other</td>\n",
       "    </tr>\n",
       "    <tr>\n",
       "      <th>9</th>\n",
       "      <td>US</td>\n",
       "      <td>Black alone or in combination</td>\n",
       "      <td>30043</td>\n",
       "      <td>28153</td>\n",
       "      <td>20557</td>\n",
       "      <td>68.4</td>\n",
       "      <td>73.0</td>\n",
       "      <td>18558</td>\n",
       "      <td>61.8</td>\n",
       "      <td>65.9</td>\n",
       "      <td>2012</td>\n",
       "      <td>Other</td>\n",
       "    </tr>\n",
       "    <tr>\n",
       "      <th>10</th>\n",
       "      <td>US</td>\n",
       "      <td>Asian alone or in combination</td>\n",
       "      <td>13335</td>\n",
       "      <td>9033</td>\n",
       "      <td>5173</td>\n",
       "      <td>38.8</td>\n",
       "      <td>57.3</td>\n",
       "      <td>4331</td>\n",
       "      <td>32.5</td>\n",
       "      <td>47.9</td>\n",
       "      <td>2012</td>\n",
       "      <td>Other</td>\n",
       "    </tr>\n",
       "    <tr>\n",
       "      <th>11</th>\n",
       "      <td>ALABAMA</td>\n",
       "      <td>Total</td>\n",
       "      <td>3594</td>\n",
       "      <td>3479</td>\n",
       "      <td>2556</td>\n",
       "      <td>71.1</td>\n",
       "      <td>73.5</td>\n",
       "      <td>2154</td>\n",
       "      <td>59.9</td>\n",
       "      <td>61.9</td>\n",
       "      <td>2012</td>\n",
       "      <td>Other</td>\n",
       "    </tr>\n",
       "    <tr>\n",
       "      <th>12</th>\n",
       "      <td>ALABAMA</td>\n",
       "      <td>Male</td>\n",
       "      <td>1703</td>\n",
       "      <td>1649</td>\n",
       "      <td>1201</td>\n",
       "      <td>70.5</td>\n",
       "      <td>72.9</td>\n",
       "      <td>1009</td>\n",
       "      <td>59.2</td>\n",
       "      <td>61.2</td>\n",
       "      <td>2012</td>\n",
       "      <td>Other</td>\n",
       "    </tr>\n",
       "    <tr>\n",
       "      <th>13</th>\n",
       "      <td>ALABAMA</td>\n",
       "      <td>Female</td>\n",
       "      <td>1891</td>\n",
       "      <td>1831</td>\n",
       "      <td>1354</td>\n",
       "      <td>71.6</td>\n",
       "      <td>74.0</td>\n",
       "      <td>1145</td>\n",
       "      <td>60.6</td>\n",
       "      <td>62.6</td>\n",
       "      <td>2012</td>\n",
       "      <td>Other</td>\n",
       "    </tr>\n",
       "    <tr>\n",
       "      <th>14</th>\n",
       "      <td>ALABAMA</td>\n",
       "      <td>White alone</td>\n",
       "      <td>2580</td>\n",
       "      <td>2502</td>\n",
       "      <td>1878</td>\n",
       "      <td>72.8</td>\n",
       "      <td>75.1</td>\n",
       "      <td>1530</td>\n",
       "      <td>59.3</td>\n",
       "      <td>61.2</td>\n",
       "      <td>2012</td>\n",
       "      <td>Other</td>\n",
       "    </tr>\n",
       "  </tbody>\n",
       "</table>\n",
       "</div>"
      ],
      "text/plain": [
       "      state                       sex_race  total_population  \\\n",
       "0        US                          Total            235248   \n",
       "1        US                           Male            113243   \n",
       "2        US                         Female            122005   \n",
       "3        US                    White alone            187084   \n",
       "4        US       White non-Hispanic alone            155615   \n",
       "5        US                    Black alone             28709   \n",
       "6        US                    Asian alone             12493   \n",
       "7        US         Hispanic (of any race)             35204   \n",
       "8        US  White alone or in combination            190396   \n",
       "9        US  Black alone or in combination             30043   \n",
       "10       US  Asian alone or in combination             13335   \n",
       "11  ALABAMA                          Total              3594   \n",
       "12  ALABAMA                           Male              1703   \n",
       "13  ALABAMA                         Female              1891   \n",
       "14  ALABAMA                    White alone              2580   \n",
       "\n",
       "    total_citizen_population  total_registered  percent_registered_total  \\\n",
       "0                     215081            153157                      65.1   \n",
       "1                     103022             71414                      63.1   \n",
       "2                     112059             81743                      67.0   \n",
       "3                     173466            124697                      66.7   \n",
       "4                     152862            112706                      72.4   \n",
       "5                      26915             19680                      68.5   \n",
       "6                       8254              4649                      37.2   \n",
       "7                      23329             13697                      38.9   \n",
       "8                     176612            126822                      66.6   \n",
       "9                      28153             20557                      68.4   \n",
       "10                      9033              5173                      38.8   \n",
       "11                      3479              2556                      71.1   \n",
       "12                      1649              1201                      70.5   \n",
       "13                      1831              1354                      71.6   \n",
       "14                      2502              1878                      72.8   \n",
       "\n",
       "    percent_registered_citizen  total_voted  percent_voted_total  \\\n",
       "0                         71.2       132948                 56.5   \n",
       "1                         69.3        61551                 54.4   \n",
       "2                         72.9        71397                 58.5   \n",
       "3                         71.9       107846                 57.6   \n",
       "4                         73.7        98041                 63.0   \n",
       "5                         73.1        17813                 62.0   \n",
       "6                         56.3         3904                 31.3   \n",
       "7                         58.7        11188                 31.8   \n",
       "8                         71.8       109603                 57.6   \n",
       "9                         73.0        18558                 61.8   \n",
       "10                        57.3         4331                 32.5   \n",
       "11                        73.5         2154                 59.9   \n",
       "12                        72.9         1009                 59.2   \n",
       "13                        74.0         1145                 60.6   \n",
       "14                        75.1         1530                 59.3   \n",
       "\n",
       "    percent_voted_citizen  year blue_to_red  \n",
       "0                    61.8  2012       Other  \n",
       "1                    59.7  2012       Other  \n",
       "2                    63.7  2012       Other  \n",
       "3                    62.2  2012       Other  \n",
       "4                    64.1  2012       Other  \n",
       "5                    66.2  2012       Other  \n",
       "6                    47.3  2012       Other  \n",
       "7                    48.0  2012       Other  \n",
       "8                    62.1  2012       Other  \n",
       "9                    65.9  2012       Other  \n",
       "10                   47.9  2012       Other  \n",
       "11                   61.9  2012       Other  \n",
       "12                   61.2  2012       Other  \n",
       "13                   62.6  2012       Other  \n",
       "14                   61.2  2012       Other  "
      ]
     },
     "execution_count": 540,
     "metadata": {},
     "output_type": "execute_result"
    }
   ],
   "source": [
    "df.head(15)"
   ]
  },
  {
   "cell_type": "markdown",
   "metadata": {},
   "source": [
    "#### State"
   ]
  },
  {
   "cell_type": "code",
   "execution_count": 545,
   "metadata": {},
   "outputs": [
    {
     "name": "stdout",
     "output_type": "stream",
     "text": [
      "Unique states: 51\n"
     ]
    },
    {
     "data": {
      "text/plain": [
       "array(['ALABAMA', 'ALASKA', 'ARIZONA', 'ARKANSAS', 'CALIFORNIA',\n",
       "       'COLORADO', 'CONNECTICUT', 'DELAWARE', 'DISTRICT OF COLUMBIA',\n",
       "       'FLORIDA', 'GEORGIA', 'HAWAII', 'IDAHO', 'ILLINOIS', 'INDIANA',\n",
       "       'IOWA', 'KANSAS', 'KENTUCKY', 'LOUISIANA', 'MAINE', 'MARYLAND',\n",
       "       'MASSACHUSETTS', 'MICHIGAN', 'MINNESOTA', 'MISSISSIPPI',\n",
       "       'MISSOURI', 'MONTANA', 'NEBRASKA', 'NEVADA', 'NEW HAMPSHIRE',\n",
       "       'NEW JERSEY', 'NEW MEXICO', 'NEW YORK', 'NORTH CAROLINA',\n",
       "       'NORTH DAKOTA', 'OHIO', 'OKLAHOMA', 'OREGON', 'PENNSYLVANIA',\n",
       "       'RHODE ISLAND', 'SOUTH CAROLINA', 'SOUTH DAKOTA', 'TENNESSEE',\n",
       "       'TEXAS', 'UTAH', 'VERMONT', 'VIRGINIA', 'WASHINGTON',\n",
       "       'WEST VIRGINIA', 'WISCONSIN', 'WYOMING'], dtype=object)"
      ]
     },
     "execution_count": 545,
     "metadata": {},
     "output_type": "execute_result"
    }
   ],
   "source": [
    "print(\"Unique states:\", len(df_state.state.unique()))\n",
    "df_state.state.unique()"
   ]
  },
  {
   "cell_type": "markdown",
   "metadata": {},
   "source": [
    "#### Sex and race"
   ]
  },
  {
   "cell_type": "code",
   "execution_count": 551,
   "metadata": {},
   "outputs": [
    {
     "data": {
      "text/plain": [
       "count                         1144\n",
       "unique                          11\n",
       "top       White non-Hispanic alone\n",
       "freq                           104\n",
       "Name: sex_race, dtype: object"
      ]
     },
     "execution_count": 551,
     "metadata": {},
     "output_type": "execute_result"
    }
   ],
   "source": [
    "df.sex_race.describe()"
   ]
  },
  {
   "cell_type": "code",
   "execution_count": 552,
   "metadata": {},
   "outputs": [
    {
     "data": {
      "text/plain": [
       "array(['Total', 'Male', 'Female', 'White alone',\n",
       "       'White non-Hispanic alone', 'Black alone', 'Asian alone',\n",
       "       'Hispanic (of any race)', 'White alone or in combination',\n",
       "       'Black alone or in combination', 'Asian alone or in combination'],\n",
       "      dtype=object)"
      ]
     },
     "execution_count": 552,
     "metadata": {},
     "output_type": "execute_result"
    }
   ],
   "source": [
    "df.sex_race.unique()"
   ]
  },
  {
   "cell_type": "markdown",
   "metadata": {},
   "source": [
    "#### Rest of variables"
   ]
  },
  {
   "cell_type": "markdown",
   "metadata": {},
   "source": [
    "Descriptive statistics - general"
   ]
  },
  {
   "cell_type": "code",
   "execution_count": 554,
   "metadata": {},
   "outputs": [
    {
     "data": {
      "text/html": [
       "<div>\n",
       "<style scoped>\n",
       "    .dataframe tbody tr th:only-of-type {\n",
       "        vertical-align: middle;\n",
       "    }\n",
       "\n",
       "    .dataframe tbody tr th {\n",
       "        vertical-align: top;\n",
       "    }\n",
       "\n",
       "    .dataframe thead th {\n",
       "        text-align: right;\n",
       "    }\n",
       "</style>\n",
       "<table border=\"1\" class=\"dataframe\">\n",
       "  <thead>\n",
       "    <tr style=\"text-align: right;\">\n",
       "      <th></th>\n",
       "      <th>total_population</th>\n",
       "      <th>total_citizen_population</th>\n",
       "      <th>total_registered</th>\n",
       "      <th>percent_registered_total</th>\n",
       "      <th>percent_registered_citizen</th>\n",
       "      <th>total_voted</th>\n",
       "      <th>percent_voted_total</th>\n",
       "      <th>percent_voted_citizen</th>\n",
       "    </tr>\n",
       "  </thead>\n",
       "  <tbody>\n",
       "    <tr>\n",
       "      <th>count</th>\n",
       "      <td>102.0</td>\n",
       "      <td>102.0</td>\n",
       "      <td>102.0</td>\n",
       "      <td>102.0</td>\n",
       "      <td>102.0</td>\n",
       "      <td>102.0</td>\n",
       "      <td>102.0</td>\n",
       "      <td>102.0</td>\n",
       "    </tr>\n",
       "    <tr>\n",
       "      <th>mean</th>\n",
       "      <td>4,713.2</td>\n",
       "      <td>4,305.3</td>\n",
       "      <td>3,046.6</td>\n",
       "      <td>67.6</td>\n",
       "      <td>71.9</td>\n",
       "      <td>2,651.8</td>\n",
       "      <td>58.9</td>\n",
       "      <td>62.7</td>\n",
       "    </tr>\n",
       "    <tr>\n",
       "      <th>std</th>\n",
       "      <td>5,331.4</td>\n",
       "      <td>4,569.5</td>\n",
       "      <td>3,068.6</td>\n",
       "      <td>5.9</td>\n",
       "      <td>4.8</td>\n",
       "      <td>2,667.4</td>\n",
       "      <td>6.1</td>\n",
       "      <td>5.7</td>\n",
       "    </tr>\n",
       "    <tr>\n",
       "      <th>min</th>\n",
       "      <td>427.0</td>\n",
       "      <td>419.0</td>\n",
       "      <td>268.0</td>\n",
       "      <td>49.8</td>\n",
       "      <td>54.4</td>\n",
       "      <td>247.0</td>\n",
       "      <td>43.3</td>\n",
       "      <td>47.3</td>\n",
       "    </tr>\n",
       "    <tr>\n",
       "      <th>25%</th>\n",
       "      <td>1,260.8</td>\n",
       "      <td>1,186.5</td>\n",
       "      <td>847.8</td>\n",
       "      <td>64.3</td>\n",
       "      <td>68.8</td>\n",
       "      <td>716.2</td>\n",
       "      <td>55.3</td>\n",
       "      <td>59.2</td>\n",
       "    </tr>\n",
       "    <tr>\n",
       "      <th>50%</th>\n",
       "      <td>3,306.0</td>\n",
       "      <td>3,216.5</td>\n",
       "      <td>2,278.0</td>\n",
       "      <td>68.1</td>\n",
       "      <td>72.1</td>\n",
       "      <td>1,919.5</td>\n",
       "      <td>59.2</td>\n",
       "      <td>62.5</td>\n",
       "    </tr>\n",
       "    <tr>\n",
       "      <th>75%</th>\n",
       "      <td>5,338.0</td>\n",
       "      <td>4,943.2</td>\n",
       "      <td>3,734.2</td>\n",
       "      <td>71.6</td>\n",
       "      <td>74.6</td>\n",
       "      <td>3,365.2</td>\n",
       "      <td>62.5</td>\n",
       "      <td>66.3</td>\n",
       "    </tr>\n",
       "    <tr>\n",
       "      <th>max</th>\n",
       "      <td>29,894.0</td>\n",
       "      <td>24,890.0</td>\n",
       "      <td>16,096.0</td>\n",
       "      <td>82.8</td>\n",
       "      <td>84.2</td>\n",
       "      <td>14,416.0</td>\n",
       "      <td>73.3</td>\n",
       "      <td>75.9</td>\n",
       "    </tr>\n",
       "  </tbody>\n",
       "</table>\n",
       "</div>"
      ],
      "text/plain": [
       "       total_population  total_citizen_population  total_registered  \\\n",
       "count             102.0                     102.0             102.0   \n",
       "mean            4,713.2                   4,305.3           3,046.6   \n",
       "std             5,331.4                   4,569.5           3,068.6   \n",
       "min               427.0                     419.0             268.0   \n",
       "25%             1,260.8                   1,186.5             847.8   \n",
       "50%             3,306.0                   3,216.5           2,278.0   \n",
       "75%             5,338.0                   4,943.2           3,734.2   \n",
       "max            29,894.0                  24,890.0          16,096.0   \n",
       "\n",
       "       percent_registered_total  percent_registered_citizen  total_voted  \\\n",
       "count                     102.0                       102.0        102.0   \n",
       "mean                       67.6                        71.9      2,651.8   \n",
       "std                         5.9                         4.8      2,667.4   \n",
       "min                        49.8                        54.4        247.0   \n",
       "25%                        64.3                        68.8        716.2   \n",
       "50%                        68.1                        72.1      1,919.5   \n",
       "75%                        71.6                        74.6      3,365.2   \n",
       "max                        82.8                        84.2     14,416.0   \n",
       "\n",
       "       percent_voted_total  percent_voted_citizen  \n",
       "count                102.0                  102.0  \n",
       "mean                  58.9                   62.7  \n",
       "std                    6.1                    5.7  \n",
       "min                   43.3                   47.3  \n",
       "25%                   55.3                   59.2  \n",
       "50%                   59.2                   62.5  \n",
       "75%                   62.5                   66.3  \n",
       "max                   73.3                   75.9  "
      ]
     },
     "execution_count": 554,
     "metadata": {},
     "output_type": "execute_result"
    }
   ],
   "source": [
    "df_state.loc[:,'total_population':'percent_voted_citizen'].describe()"
   ]
  },
  {
   "cell_type": "markdown",
   "metadata": {},
   "source": [
    "# Analysis"
   ]
  },
  {
   "cell_type": "markdown",
   "metadata": {},
   "source": [
    "### Questions"
   ]
  },
  {
   "cell_type": "markdown",
   "metadata": {},
   "source": [
    "1. What happened in 2016?\n",
    "1. How do blue-to-red (BTR) states look like?\n",
    "1. How were BTR states different than the rest in 2016?\n",
    "1. What changed in BTR states between 2012 and 2016?"
   ]
  },
  {
   "cell_type": "markdown",
   "metadata": {},
   "source": [
    "### What happened in 2016?"
   ]
  },
  {
   "cell_type": "markdown",
   "metadata": {},
   "source": [
    "#### Popular vote"
   ]
  },
  {
   "cell_type": "code",
   "execution_count": 11,
   "metadata": {},
   "outputs": [
    {
     "data": {
      "text/plain": [
       "array(['2016-11-08T00:00:00.000000000'], dtype='datetime64[ns]')"
      ]
     },
     "execution_count": 11,
     "metadata": {},
     "output_type": "execute_result"
    }
   ],
   "source": [
    "df16_elections.general_election_date.unique()"
   ]
  },
  {
   "cell_type": "code",
   "execution_count": 86,
   "metadata": {},
   "outputs": [
    {
     "data": {
      "text/plain": [
       "Text(0,0.5,'Number of votes')"
      ]
     },
     "execution_count": 86,
     "metadata": {},
     "output_type": "execute_result"
    },
    {
     "data": {
      "image/png": "[encoded data removed]",
      "text/plain": [
       "<Figure size 432x288 with 1 Axes>"
      ]
     },
     "metadata": {},
     "output_type": "display_data"
    }
   ],
   "source": [
    "df16_elections = df16_elections[df16_elections.party.isin(['DEM', 'REP'])]\n",
    "\n",
    "df16_elections.groupby('party2').general_results.apply(np.sum).sort_values(ascending=False).plot(kind='bar', color=['DarkBlue', 'Red'])\n",
    "plt.title('Popular vote (2016)')\n",
    "plt.xlabel('Party')\n",
    "plt.ylabel('Number of votes')"
   ]
  },
  {
   "cell_type": "markdown",
   "metadata": {},
   "source": [
    "#### Electoral college"
   ]
  },
  {
   "cell_type": "code",
   "execution_count": 64,
   "metadata": {},
   "outputs": [],
   "source": [
    "# Get electoral college data\n",
    "elect_college = pd.read_html(\"https://www.archives.gov/federal-register/electoral-college/allocation.html\")[0][[0, 1]].iloc[8:59]\n",
    "elect_college.columns = ['state', 'electoral_votes']\n",
    "elect_college.reset_index(inplace=True)\n",
    "state_votes = {}\n",
    "for row in elect_college.itertuples():\n",
    "    state_votes[row.state] = int(row.electoral_votes)\n",
    "\n",
    "# Add electoral college votes\n",
    "df16_elections['electoral_votes'] = df16_elections.apply(lambda x: state_votes[x.state] if x.winner_indicator == 'Yes' else 0 , axis='columns')"
   ]
  },
  {
   "cell_type": "code",
   "execution_count": 85,
   "metadata": {},
   "outputs": [
    {
     "name": "stdout",
     "output_type": "stream",
     "text": [
      "party2\n",
      "Republican    305\n",
      "Democrat      233\n",
      "Name: electoral_votes, dtype: int64\n"
     ]
    },
    {
     "data": {
      "text/plain": [
       "Text(0,0.5,'Number of votes')"
      ]
     },
     "execution_count": 85,
     "metadata": {},
     "output_type": "execute_result"
    },
    {
     "data": {
      "image/png": "[encoded data removed]",
      "text/plain": [
       "<Figure size 432x288 with 1 Axes>"
      ]
     },
     "metadata": {},
     "output_type": "display_data"
    }
   ],
   "source": [
    "print(df16_elections.groupby('party2').electoral_votes.sum().sort_values(ascending=False))\n",
    "df16_elections.groupby('party2').electoral_votes.sum().plot(kind='bar', color=['DarkBlue', 'Red'])\n",
    "plt.title('Electoral college vote (2016)')\n",
    "plt.xlabel('Party')\n",
    "plt.ylabel('Number of votes')"
   ]
  },
  {
   "cell_type": "markdown",
   "metadata": {},
   "source": [
    "**Note**: something's off with this one. Wikipedia entry for 2016 elections reports 304-227 = 531. But, another entry says there is 538, which is what I got (305 + 233 "
   ]
  },
  {
   "cell_type": "markdown",
   "metadata": {},
   "source": [
    "#### Which states made the difference?"
   ]
  },
  {
   "cell_type": "code",
   "execution_count": 18,
   "metadata": {
    "scrolled": true
   },
   "outputs": [],
   "source": [
    "!pip install plotly       # Run only if plotly is not installed already"
   ]
  },
  {
   "cell_type": "code",
   "execution_count": 19,
   "metadata": {},
   "outputs": [],
   "source": [
    "import plotly\n",
    "plotly.tools.set_credentials_file(username='ramirocadavid', api_key='2IhWDA4l7BUMjuYgnpCx')"
   ]
  },
  {
   "cell_type": "code",
   "execution_count": 20,
   "metadata": {},
   "outputs": [],
   "source": [
    "import plotly.plotly as py\n",
    "\n",
    "df = df16_elections\n",
    "\n",
    "for col in df.columns:\n",
    "    df[col] = df[col].astype(str)\n",
    "\n",
    "scl = [[0.0, 'rgb(169,169,169)'], [1.0, 'rgb(139,0,0)']]\n",
    "\n",
    "df['text'] = df['state']\n",
    "\n",
    "data = [ dict(\n",
    "        type='choropleth',\n",
    "        colorscale = scl,\n",
    "        autocolorscale = False,\n",
    "        showscale=False,\n",
    "        locations = df['state_abbreviation'],\n",
    "        z = df['blue_to_red'].apply(lambda x: 1 if x == 'BTR' else 0).astype(float),\n",
    "        locationmode = 'USA-states',\n",
    "        text = df['text'],\n",
    "        marker = dict(\n",
    "            line = dict (\n",
    "                color = 'rgb(255,255,255)',\n",
    "                width = 2\n",
    "            )\n",
    "        ),\n",
    "        colorbar = dict(\n",
    "            title = \"Blue to red\"\n",
    "        )\n",
    "    ) ]\n",
    "\n",
    "layout = dict(\n",
    "        title = '2016 General Election <br> Blue-to-Red States',\n",
    "        geo = dict(\n",
    "            scope='usa',\n",
    "            projection=dict( type='albers usa' ),\n",
    "            showlakes = True,\n",
    "            lakecolor = 'rgb(255, 255, 255)',\n",
    "        ),\n",
    "    )\n",
    "\n",
    "fig = dict( data=data, layout=layout )\n",
    "\n",
    "url = py.plot( fig, filename='btr-cloropleth-map' )"
   ]
  },
  {
   "cell_type": "markdown",
   "metadata": {},
   "source": [
    "![Blue to red states - map](btr-cloropleth-map.png)"
   ]
  },
  {
   "cell_type": "markdown",
   "metadata": {},
   "source": [
    "Popular vote in Blue-to-red-States"
   ]
  },
  {
   "cell_type": "code",
   "execution_count": 121,
   "metadata": {},
   "outputs": [
    {
     "name": "stdout",
     "output_type": "stream",
     "text": [
      "party2\n",
      "Democrat      14130624\n",
      "Republican    14915434\n",
      "Name: general_results, dtype: int64\n",
      "\n",
      "Difference in votes (Rep - Dem) 784810.0\n",
      "Percentage difference in votes - State 2.701950123490079\n",
      "Percentage difference in votes - US 0.6315828678151564\n"
     ]
    },
    {
     "data": {
      "image/png": "[encoded data removed]",
      "text/plain": [
       "<Figure size 432x288 with 1 Axes>"
      ]
     },
     "metadata": {},
     "output_type": "display_data"
    }
   ],
   "source": [
    "print(df16_elections[df16_elections.blue_to_red == 'BTR'].groupby('party2').general_results.apply(np.sum))\n",
    "df16_elections[df16_elections.blue_to_red == 'BTR'].groupby('party2').general_results.apply(np.sum).plot(kind='barh', color=['DarkBlue', 'Red'])\n",
    "plt.title('Popular vote in BTR states')\n",
    "plt.xlabel('Party')\n",
    "plt.ylabel('Votes')\n",
    "print()\n",
    "diff_vote = 14915434.0 - 14130624\n",
    "perc_diff_vote = (diff_vote / (14915434.0 + 14130624)) * 100\n",
    "perc_diff_vote_all = (diff_vote / df16_elections.general_results.sum()) * 100\n",
    "print('Difference in votes (Rep - Dem)', diff_vote)\n",
    "print('Percentage difference in votes - State', perc_diff_vote)\n",
    "print('Percentage difference in votes - US', perc_diff_vote_all)\n"
   ]
  },
  {
   "cell_type": "code",
   "execution_count": 125,
   "metadata": {},
   "outputs": [
    {
     "name": "stdout",
     "output_type": "stream",
     "text": [
      "party2\n",
      "Democrat       0\n",
      "Republican    99\n",
      "Name: electoral_votes, dtype: int64\n",
      "\n",
      "Difference in votes (Rep - Dem) 784810.0\n",
      "Electoral votes as percentage of total 18.401486988847584\n"
     ]
    },
    {
     "data": {
      "image/png": "[encoded data removed]",
      "text/plain": [
       "<Figure size 432x288 with 1 Axes>"
      ]
     },
     "metadata": {},
     "output_type": "display_data"
    }
   ],
   "source": [
    "print(df16_elections[df16_elections.blue_to_red == 'BTR'].groupby('party2').electoral_votes.apply(np.sum))\n",
    "df16_elections[df16_elections.blue_to_red == 'BTR'].groupby('party2').electoral_votes.apply(np.sum).plot(kind='barh', color=['DarkBlue', 'Red'])\n",
    "plt.title('Electoral vote in BTR states')\n",
    "plt.xlabel('Party')\n",
    "plt.ylabel('Votes')\n",
    "print()\n",
    "print('Difference in votes (Rep - Dem)', 14915434.0 - 14130624)\n",
    "print('Electoral votes as percentage of total',\\\n",
    "     (df16_elections[df16_elections.blue_to_red == 'BTR'].electoral_votes.sum()\\\n",
    "     / df16_elections.electoral_votes.sum()) * 100)"
   ]
  },
  {
   "cell_type": "markdown",
   "metadata": {},
   "source": [
    "### How were BTR states different than the rest in 2016?"
   ]
  },
  {
   "cell_type": "markdown",
   "metadata": {},
   "source": [
    "#### Aggregate"
   ]
  },
  {
   "cell_type": "markdown",
   "metadata": {},
   "source": [
    "Number of states"
   ]
  },
  {
   "cell_type": "code",
   "execution_count": 189,
   "metadata": {
    "scrolled": true
   },
   "outputs": [
    {
     "data": {
      "text/plain": [
       "Text(0,0.5,'Number of states')"
      ]
     },
     "execution_count": 189,
     "metadata": {},
     "output_type": "execute_result"
    },
    {
     "data": {
      "image/png": "[encoded data removed]",
      "text/plain": [
       "<Figure size 432x288 with 1 Axes>"
      ]
     },
     "metadata": {},
     "output_type": "display_data"
    }
   ],
   "source": [
    "df_state16.groupby('blue_to_red').sex_race.apply(lambda x: x.count()).plot(kind='bar', color=['maroon', 'gray'])\n",
    "plt.title('Number of states - BTR vs rest')\n",
    "plt.xlabel('Blue-to-red state')\n",
    "plt.ylabel('Number of states')"
   ]
  },
  {
   "cell_type": "markdown",
   "metadata": {},
   "source": [
    "Average population"
   ]
  },
  {
   "cell_type": "code",
   "execution_count": 150,
   "metadata": {
    "scrolled": true
   },
   "outputs": [
    {
     "data": {
      "text/plain": [
       "blue_to_red\n",
       "BTR     8,246.0\n",
       "Other   4,356.1\n",
       "Name: total_population, dtype: float64"
      ]
     },
     "execution_count": 150,
     "metadata": {},
     "output_type": "execute_result"
    },
    {
     "data": {
      "image/png": "[encoded data removed]",
      "text/plain": [
       "<Figure size 432x288 with 1 Axes>"
      ]
     },
     "metadata": {},
     "output_type": "display_data"
    }
   ],
   "source": [
    "# 2016: BTR vs rest\n",
    "df_state16.groupby(['blue_to_red']).mean()['total_population'].plot(kind='bar', color=['DarkRed', 'gray'])\n",
    "plt.title('BTR - Population')\n",
    "plt.xlabel('Blue-to-red state')\n",
    "plt.ylabel('Average population (thousand)')\n",
    "df_state16.groupby(['blue_to_red']).mean()['total_population']"
   ]
  },
  {
   "cell_type": "markdown",
   "metadata": {},
   "source": [
    "Registered"
   ]
  },
  {
   "cell_type": "code",
   "execution_count": 152,
   "metadata": {
    "scrolled": false
   },
   "outputs": [
    {
     "data": {
      "text/plain": [
       "Text(0,0.5,'Percent registered')"
      ]
     },
     "execution_count": 152,
     "metadata": {},
     "output_type": "execute_result"
    },
    {
     "data": {
      "image/png": "[encoded data removed]",
      "text/plain": [
       "<Figure size 432x288 with 1 Axes>"
      ]
     },
     "metadata": {},
     "output_type": "display_data"
    }
   ],
   "source": [
    "# 2016: BTR vs rest\n",
    "df_state16.groupby(['blue_to_red']).mean()['percent_registered_total'].plot(kind='bar', color=['DarkRed', 'gray'])\n",
    "plt.title('BTR - Registration')\n",
    "plt.xlabel('Blue-to-red state')\n",
    "plt.ylabel('Percent registered')"
   ]
  },
  {
   "cell_type": "markdown",
   "metadata": {},
   "source": [
    "Voted"
   ]
  },
  {
   "cell_type": "code",
   "execution_count": 153,
   "metadata": {
    "scrolled": true
   },
   "outputs": [
    {
     "data": {
      "text/plain": [
       "blue_to_red\n",
       "BTR     60.9\n",
       "Other   58.3\n",
       "Name: percent_voted_total, dtype: float64"
      ]
     },
     "execution_count": 153,
     "metadata": {},
     "output_type": "execute_result"
    },
    {
     "data": {
      "image/png": "[encoded data removed]",
      "text/plain": [
       "<Figure size 432x288 with 1 Axes>"
      ]
     },
     "metadata": {},
     "output_type": "display_data"
    }
   ],
   "source": [
    "# 2016: BTR vs rest\n",
    "df_state16.groupby(['blue_to_red']).mean()['percent_voted_total'].plot(kind='bar', color=['DarkRed', 'gray'])\n",
    "plt.title('Gender - Blue-to-red vs other states')\n",
    "plt.xlabel('Blue-to-red state')\n",
    "plt.ylabel('Percent voted')\n",
    "\n",
    "df_state16.groupby(['blue_to_red']).mean()['percent_voted_total']"
   ]
  },
  {
   "cell_type": "markdown",
   "metadata": {},
   "source": [
    "Total population"
   ]
  },
  {
   "cell_type": "markdown",
   "metadata": {},
   "source": [
    "#### Gender"
   ]
  },
  {
   "cell_type": "markdown",
   "metadata": {},
   "source": [
    "Total population"
   ]
  },
  {
   "cell_type": "code",
   "execution_count": 154,
   "metadata": {},
   "outputs": [
    {
     "data": {
      "text/plain": [
       "Text(0,0.5,'Percentage of population')"
      ]
     },
     "execution_count": 154,
     "metadata": {},
     "output_type": "execute_result"
    },
    {
     "data": {
      "image/png": "[encoded data removed]",
      "text/plain": [
       "<Figure size 432x288 with 1 Axes>"
      ]
     },
     "metadata": {},
     "output_type": "display_data"
    }
   ],
   "source": [
    "# 2016: BTR vs rest\n",
    "df_gender16.groupby(['sex_race', 'blue_to_red']).population_perc.mean().unstack().plot(kind='bar', color=['DarkRed', 'gray'])\n",
    "plt.title('Gender - Blue-to-red vs other states')\n",
    "plt.xlabel('Gender')\n",
    "plt.ylabel('Percentage of population')"
   ]
  },
  {
   "cell_type": "markdown",
   "metadata": {},
   "source": [
    "Registered population"
   ]
  },
  {
   "cell_type": "code",
   "execution_count": 155,
   "metadata": {
    "scrolled": true
   },
   "outputs": [
    {
     "data": {
      "text/plain": [
       "Text(0,0.5,'Percentage registered')"
      ]
     },
     "execution_count": 155,
     "metadata": {},
     "output_type": "execute_result"
    },
    {
     "data": {
      "image/png": "[encoded data removed]",
      "text/plain": [
       "<Figure size 432x288 with 1 Axes>"
      ]
     },
     "metadata": {},
     "output_type": "display_data"
    }
   ],
   "source": [
    "# 2016: BTR vs rest\n",
    "df_gender16.groupby(['sex_race', 'blue_to_red']).mean()['percent_registered_total'].unstack().plot(kind='bar', color=['DarkRed', 'gray'])\n",
    "plt.title('Gender - Blue-to-red vs other states')\n",
    "plt.xlabel('Gender')\n",
    "plt.ylabel('Percentage registered')"
   ]
  },
  {
   "cell_type": "markdown",
   "metadata": {},
   "source": [
    "Voted"
   ]
  },
  {
   "cell_type": "code",
   "execution_count": 156,
   "metadata": {},
   "outputs": [
    {
     "data": {
      "text/html": [
       "<div>\n",
       "<style scoped>\n",
       "    .dataframe tbody tr th:only-of-type {\n",
       "        vertical-align: middle;\n",
       "    }\n",
       "\n",
       "    .dataframe tbody tr th {\n",
       "        vertical-align: top;\n",
       "    }\n",
       "\n",
       "    .dataframe thead th {\n",
       "        text-align: right;\n",
       "    }\n",
       "</style>\n",
       "<table border=\"1\" class=\"dataframe\">\n",
       "  <thead>\n",
       "    <tr style=\"text-align: right;\">\n",
       "      <th>blue_to_red</th>\n",
       "      <th>BTR</th>\n",
       "      <th>Other</th>\n",
       "    </tr>\n",
       "    <tr>\n",
       "      <th>sex_race</th>\n",
       "      <th></th>\n",
       "      <th></th>\n",
       "    </tr>\n",
       "  </thead>\n",
       "  <tbody>\n",
       "    <tr>\n",
       "      <th>Female</th>\n",
       "      <td>63.3</td>\n",
       "      <td>60.4</td>\n",
       "    </tr>\n",
       "    <tr>\n",
       "      <th>Male</th>\n",
       "      <td>58.4</td>\n",
       "      <td>56.0</td>\n",
       "    </tr>\n",
       "  </tbody>\n",
       "</table>\n",
       "</div>"
      ],
      "text/plain": [
       "blue_to_red  BTR  Other\n",
       "sex_race               \n",
       "Female      63.3   60.4\n",
       "Male        58.4   56.0"
      ]
     },
     "execution_count": 156,
     "metadata": {},
     "output_type": "execute_result"
    },
    {
     "data": {
      "image/png": "[encoded data removed]",
      "text/plain": [
       "<Figure size 432x288 with 1 Axes>"
      ]
     },
     "metadata": {},
     "output_type": "display_data"
    }
   ],
   "source": [
    "# 2016: BTR vs rest\n",
    "df_gender16.groupby(['sex_race', 'blue_to_red']).mean()['percent_voted_total'].unstack().plot(kind='bar', color=['DarkRed', 'gray'])\n",
    "plt.title('Gender - Blue-to-red vs other states')\n",
    "plt.xlabel('Gender')\n",
    "plt.ylabel('Percentage voted')\n",
    "\n",
    "df_gender16.groupby(['sex_race', 'blue_to_red']).mean()['percent_voted_total'].unstack()"
   ]
  },
  {
   "cell_type": "markdown",
   "metadata": {},
   "source": [
    "#### Race"
   ]
  },
  {
   "cell_type": "markdown",
   "metadata": {},
   "source": [
    "Population"
   ]
  },
  {
   "cell_type": "code",
   "execution_count": 157,
   "metadata": {},
   "outputs": [
    {
     "data": {
      "text/plain": [
       "Text(0,0.5,'Percentage of population')"
      ]
     },
     "execution_count": 157,
     "metadata": {},
     "output_type": "execute_result"
    },
    {
     "data": {
      "image/png": "[encoded data removed]",
      "text/plain": [
       "<Figure size 432x288 with 1 Axes>"
      ]
     },
     "metadata": {},
     "output_type": "display_data"
    }
   ],
   "source": [
    "# 2016: BTR vs rest\n",
    "df_race16.groupby(['sex_race', 'blue_to_red']).population_perc.mean().unstack().plot(kind='bar', color=['DarkRed', 'gray'])\n",
    "plt.title('Race - Blue-to-red vs other states')\n",
    "plt.xlabel('Race')\n",
    "plt.ylabel('Percentage of population')"
   ]
  },
  {
   "cell_type": "code",
   "execution_count": 158,
   "metadata": {},
   "outputs": [
    {
     "data": {
      "text/plain": [
       "Text(0,0.5,'Percentage of population')"
      ]
     },
     "execution_count": 158,
     "metadata": {},
     "output_type": "execute_result"
    },
    {
     "data": {
      "image/png": "[encoded data removed]",
      "text/plain": [
       "<Figure size 432x288 with 1 Axes>"
      ]
     },
     "metadata": {},
     "output_type": "display_data"
    }
   ],
   "source": [
    "df_race16.groupby(['race_grouped', 'blue_to_red']).population_perc.mean().unstack().plot(kind='bar', color=['DarkRed', 'gray'])\n",
    "plt.title('Race - Blue-to-red vs other states')\n",
    "plt.xlabel('Race')\n",
    "plt.ylabel('Percentage of population')"
   ]
  },
  {
   "cell_type": "markdown",
   "metadata": {},
   "source": [
    "Registered"
   ]
  },
  {
   "cell_type": "code",
   "execution_count": 144,
   "metadata": {},
   "outputs": [
    {
     "data": {
      "text/plain": [
       "Text(0,0.5,'Percent registered')"
      ]
     },
     "execution_count": 144,
     "metadata": {},
     "output_type": "execute_result"
    },
    {
     "data": {
      "image/png": "[encoded data removed]",
      "text/plain": [
       "<Figure size 432x288 with 1 Axes>"
      ]
     },
     "metadata": {},
     "output_type": "display_data"
    }
   ],
   "source": [
    "# 2016: BTR vs rest\n",
    "df_race16.groupby(['sex_race', 'blue_to_red']).percent_registered_total\\\n",
    ".mean().unstack().plot(kind='bar', color=['DarkRed', 'LightGray'])\n",
    "plt.title('Race - Blue-to-red vs other states')\n",
    "plt.xlabel('Race')\n",
    "plt.ylabel('Percent registered')"
   ]
  },
  {
   "cell_type": "code",
   "execution_count": 159,
   "metadata": {},
   "outputs": [
    {
     "data": {
      "text/plain": [
       "Text(0,0.5,'Percent registered')"
      ]
     },
     "execution_count": 159,
     "metadata": {},
     "output_type": "execute_result"
    },
    {
     "data": {
      "image/png": "[encoded data removed]",
      "text/plain": [
       "<Figure size 432x288 with 1 Axes>"
      ]
     },
     "metadata": {},
     "output_type": "display_data"
    }
   ],
   "source": [
    "df_race16.groupby(['race_grouped', 'blue_to_red']).percent_registered_total\\\n",
    ".mean().unstack().plot(kind='bar', color=['DarkRed', 'gray'])\n",
    "plt.title('Race - Blue-to-red vs other states')\n",
    "plt.xlabel('Race')\n",
    "plt.ylabel('Percent registered')"
   ]
  },
  {
   "cell_type": "markdown",
   "metadata": {},
   "source": [
    "Voted"
   ]
  },
  {
   "cell_type": "code",
   "execution_count": 160,
   "metadata": {},
   "outputs": [
    {
     "data": {
      "text/plain": [
       "Text(0,0.5,'Percentage voted')"
      ]
     },
     "execution_count": 160,
     "metadata": {},
     "output_type": "execute_result"
    },
    {
     "data": {
      "image/png": "[encoded data removed]",
      "text/plain": [
       "<Figure size 432x288 with 1 Axes>"
      ]
     },
     "metadata": {},
     "output_type": "display_data"
    }
   ],
   "source": [
    "# 2016: BTR vs rest\n",
    "df_race16.groupby(['sex_race', 'blue_to_red']).percent_voted_total\\\n",
    ".mean().unstack().plot(kind='bar', color=['DarkRed', 'gray'])\n",
    "plt.title('Race - Blue-to-red vs other states')\n",
    "plt.xlabel('Race')\n",
    "plt.ylabel('Percentage voted')"
   ]
  },
  {
   "cell_type": "code",
   "execution_count": 162,
   "metadata": {},
   "outputs": [
    {
     "data": {
      "text/plain": [
       "Text(0,0.5,'Percentage of population')"
      ]
     },
     "execution_count": 162,
     "metadata": {},
     "output_type": "execute_result"
    },
    {
     "data": {
      "image/png": "[encoded data removed]",
      "text/plain": [
       "<Figure size 432x288 with 1 Axes>"
      ]
     },
     "metadata": {},
     "output_type": "display_data"
    }
   ],
   "source": [
    "df_race16.groupby(['race_grouped', 'blue_to_red']).percent_voted_total\\\n",
    ".mean().unstack().plot(kind='bar', color=['DarkRed', 'gray'])\n",
    "plt.title('Race - Blue-to-red vs other states')\n",
    "plt.xlabel('Race')\n",
    "plt.ylabel('Percentage of population')"
   ]
  },
  {
   "cell_type": "markdown",
   "metadata": {},
   "source": [
    "### What changed between 2012 and 2016 in BTR states?"
   ]
  },
  {
   "cell_type": "markdown",
   "metadata": {},
   "source": [
    "#### Aggregate"
   ]
  },
  {
   "cell_type": "markdown",
   "metadata": {},
   "source": [
    "Average population"
   ]
  },
  {
   "cell_type": "code",
   "execution_count": 165,
   "metadata": {
    "scrolled": true
   },
   "outputs": [
    {
     "data": {
      "text/plain": [
       "Text(0,0.5,'Average population')"
      ]
     },
     "execution_count": 165,
     "metadata": {},
     "output_type": "execute_result"
    },
    {
     "data": {
      "image/png": "[encoded data removed]",
      "text/plain": [
       "<Figure size 432x288 with 1 Axes>"
      ]
     },
     "metadata": {},
     "output_type": "display_data"
    }
   ],
   "source": [
    "# BTR: 2012 vs 2016\n",
    "df_gender[df_gender.blue_to_red == 'BTR'].groupby(['year'])['total_population'].mean()\\\n",
    ".plot(kind='bar', color=['navy', 'crimson'])\n",
    "plt.title('Population in Blue-to-red states (2012 vs 2016)')\n",
    "plt.xlabel('Year')\n",
    "plt.ylabel('Average population')"
   ]
  },
  {
   "cell_type": "markdown",
   "metadata": {},
   "source": [
    "Percent registered"
   ]
  },
  {
   "cell_type": "code",
   "execution_count": 166,
   "metadata": {
    "scrolled": true
   },
   "outputs": [
    {
     "data": {
      "text/plain": [
       "Text(0,0.5,'Percentage registered')"
      ]
     },
     "execution_count": 166,
     "metadata": {},
     "output_type": "execute_result"
    },
    {
     "data": {
      "image/png": "[encoded data removed]",
      "text/plain": [
       "<Figure size 432x288 with 1 Axes>"
      ]
     },
     "metadata": {},
     "output_type": "display_data"
    }
   ],
   "source": [
    "# BTR: 2012 vs 2016\n",
    "df_gender[df_gender.blue_to_red == 'BTR'].groupby(['year'])['percent_registered_total']\\\n",
    ".mean().plot(kind='bar', color=['navy', 'crimson'])\n",
    "plt.title('Registration in Blue-to-red states (2012 vs 2016)')\n",
    "plt.xlabel('Year')\n",
    "plt.ylabel('Percentage registered')"
   ]
  },
  {
   "cell_type": "markdown",
   "metadata": {},
   "source": [
    "Percent voted"
   ]
  },
  {
   "cell_type": "code",
   "execution_count": 167,
   "metadata": {
    "scrolled": false
   },
   "outputs": [
    {
     "data": {
      "text/plain": [
       "Text(0,0.5,'Percent voted')"
      ]
     },
     "execution_count": 167,
     "metadata": {},
     "output_type": "execute_result"
    },
    {
     "data": {
      "image/png": "[encoded data removed]",
      "text/plain": [
       "<Figure size 432x288 with 1 Axes>"
      ]
     },
     "metadata": {},
     "output_type": "display_data"
    }
   ],
   "source": [
    "# BTR: 2012 vs 2016\n",
    "df_gender[df_gender.blue_to_red == 'BTR'].groupby(['year'])['percent_voted_total']\\\n",
    ".mean().plot(kind='bar', color=['navy', 'crimson'])\n",
    "plt.title('Turnout in Blue-to-red states (2012 vs 2016)')\n",
    "plt.xlabel('Year')\n",
    "plt.ylabel('Percent voted')"
   ]
  },
  {
   "cell_type": "markdown",
   "metadata": {},
   "source": [
    "#### Gender"
   ]
  },
  {
   "cell_type": "markdown",
   "metadata": {},
   "source": [
    "Population"
   ]
  },
  {
   "cell_type": "code",
   "execution_count": 168,
   "metadata": {
    "scrolled": false
   },
   "outputs": [
    {
     "data": {
      "text/plain": [
       "Text(0,0.5,'Percentage of total population')"
      ]
     },
     "execution_count": 168,
     "metadata": {},
     "output_type": "execute_result"
    },
    {
     "data": {
      "image/png": "[encoded data removed]",
      "text/plain": [
       "<Figure size 432x288 with 1 Axes>"
      ]
     },
     "metadata": {},
     "output_type": "display_data"
    }
   ],
   "source": [
    "df_gender[df_gender.blue_to_red == 'BTR'].groupby(['sex_race', 'year']).population_perc\\\n",
    ".mean().unstack().plot(kind='bar', color=['navy', 'crimson'])\n",
    "plt.title('Gender - Blue-to-red states (2012 vs 2016)')\n",
    "plt.xlabel('Gender')\n",
    "plt.ylabel('Percentage of total population')"
   ]
  },
  {
   "cell_type": "markdown",
   "metadata": {},
   "source": [
    "Percent registered"
   ]
  },
  {
   "cell_type": "code",
   "execution_count": 169,
   "metadata": {
    "scrolled": true
   },
   "outputs": [
    {
     "data": {
      "text/plain": [
       "Text(0,0.5,'Percent registered')"
      ]
     },
     "execution_count": 169,
     "metadata": {},
     "output_type": "execute_result"
    },
    {
     "data": {
      "image/png": "[encoded data removed]",
      "text/plain": [
       "<Figure size 432x288 with 1 Axes>"
      ]
     },
     "metadata": {},
     "output_type": "display_data"
    }
   ],
   "source": [
    "# BTR: 2012 vs 2016\n",
    "df_gender[df_gender.blue_to_red == 'BTR'].groupby(['sex_race', 'year'])['percent_registered_total']\\\n",
    ".mean().unstack().plot(kind='bar', color=['navy', 'crimson'])\n",
    "plt.title('Gender - Blue-to-red states (2012 vs 2016)')\n",
    "plt.xlabel('Gender')\n",
    "plt.ylabel('Percent registered')"
   ]
  },
  {
   "cell_type": "markdown",
   "metadata": {},
   "source": [
    "Percent voted"
   ]
  },
  {
   "cell_type": "code",
   "execution_count": 170,
   "metadata": {
    "scrolled": false
   },
   "outputs": [
    {
     "data": {
      "text/plain": [
       "Text(0,0.5,'Percent voted')"
      ]
     },
     "execution_count": 170,
     "metadata": {},
     "output_type": "execute_result"
    },
    {
     "data": {
      "image/png": "[encoded data removed]",
      "text/plain": [
       "<Figure size 432x288 with 1 Axes>"
      ]
     },
     "metadata": {},
     "output_type": "display_data"
    }
   ],
   "source": [
    "# BTR: 2012 vs 2016\n",
    "df_gender[df_gender.blue_to_red == 'BTR'].groupby(['sex_race', 'year'])['percent_voted_total'].mean().unstack().plot(kind='bar', color=['navy', 'crimson'])\n",
    "plt.title('Gender - Blue-to-red states (2012 vs 2016)')\n",
    "plt.xlabel('Gender')\n",
    "plt.ylabel('Percent voted')"
   ]
  },
  {
   "cell_type": "markdown",
   "metadata": {},
   "source": [
    "#### Race"
   ]
  },
  {
   "cell_type": "markdown",
   "metadata": {},
   "source": [
    "Population"
   ]
  },
  {
   "cell_type": "code",
   "execution_count": 171,
   "metadata": {
    "scrolled": false
   },
   "outputs": [
    {
     "data": {
      "text/plain": [
       "Text(0,0.5,'Percentage of total population')"
      ]
     },
     "execution_count": 171,
     "metadata": {},
     "output_type": "execute_result"
    },
    {
     "data": {
      "image/png": "[encoded data removed]",
      "text/plain": [
       "<Figure size 432x288 with 1 Axes>"
      ]
     },
     "metadata": {},
     "output_type": "display_data"
    }
   ],
   "source": [
    "df_race[df_race.blue_to_red == 'BTR'].groupby(['sex_race', 'year']).population_perc\\\n",
    ".mean().unstack().plot(kind='bar', color=['navy', 'crimson'])\n",
    "plt.title('Race - Blue-to-red states (2012 vs 2016)')\n",
    "plt.xlabel('Race')\n",
    "plt.ylabel('Percentage of total population')"
   ]
  },
  {
   "cell_type": "code",
   "execution_count": 172,
   "metadata": {
    "scrolled": false
   },
   "outputs": [
    {
     "data": {
      "text/plain": [
       "Text(0,0.5,'Percentage of total population')"
      ]
     },
     "execution_count": 172,
     "metadata": {},
     "output_type": "execute_result"
    },
    {
     "data": {
      "image/png": "[encoded data removed]",
      "text/plain": [
       "<Figure size 432x288 with 1 Axes>"
      ]
     },
     "metadata": {},
     "output_type": "display_data"
    }
   ],
   "source": [
    "df_race[df_race.blue_to_red == 'BTR'].groupby(['race_grouped', 'year']).population_perc\\\n",
    ".mean().unstack().plot(kind='bar', color=['navy', 'crimson'])\n",
    "plt.title('Race - Blue-to-red states (2012 vs 2016)')\n",
    "plt.xlabel('Race')\n",
    "plt.ylabel('Percentage of total population')"
   ]
  },
  {
   "cell_type": "markdown",
   "metadata": {},
   "source": [
    "Percent registered"
   ]
  },
  {
   "cell_type": "code",
   "execution_count": 173,
   "metadata": {
    "scrolled": true
   },
   "outputs": [
    {
     "data": {
      "text/plain": [
       "Text(0,0.5,'Percent registered')"
      ]
     },
     "execution_count": 173,
     "metadata": {},
     "output_type": "execute_result"
    },
    {
     "data": {
      "image/png": "[encoded data removed]",
      "text/plain": [
       "<Figure size 432x288 with 1 Axes>"
      ]
     },
     "metadata": {},
     "output_type": "display_data"
    }
   ],
   "source": [
    "# BTR: 2012 vs 2016\n",
    "df_race[df_race.blue_to_red == 'BTR'].groupby(['sex_race', 'year'])['percent_registered_total']\\\n",
    ".mean().unstack().plot(kind='bar', color=['navy', 'crimson'])\n",
    "plt.title('Race - Blue-to-red states (2012 vs 2016)')\n",
    "plt.xlabel('Race')\n",
    "plt.ylabel('Percent registered')"
   ]
  },
  {
   "cell_type": "code",
   "execution_count": 174,
   "metadata": {
    "scrolled": false
   },
   "outputs": [
    {
     "data": {
      "text/plain": [
       "Text(0,0.5,'Percent registered')"
      ]
     },
     "execution_count": 174,
     "metadata": {},
     "output_type": "execute_result"
    },
    {
     "data": {
      "image/png": "[encoded data removed]",
      "text/plain": [
       "<Figure size 432x288 with 1 Axes>"
      ]
     },
     "metadata": {},
     "output_type": "display_data"
    }
   ],
   "source": [
    "# BTR: 2012 vs 2016\n",
    "df_race[df_race.blue_to_red == 'BTR'].groupby(['race_grouped', 'year'])['percent_registered_total']\\\n",
    ".mean().unstack().plot(kind='bar', color=['navy', 'crimson'])\n",
    "plt.title('Race - Blue-to-red states (2012 vs 2016)')\n",
    "plt.xlabel('Race')\n",
    "plt.ylabel('Percent registered')"
   ]
  },
  {
   "cell_type": "markdown",
   "metadata": {},
   "source": [
    "Percent voted"
   ]
  },
  {
   "cell_type": "code",
   "execution_count": 175,
   "metadata": {
    "scrolled": false
   },
   "outputs": [
    {
     "data": {
      "text/plain": [
       "Text(0,0.5,'Percent voted')"
      ]
     },
     "execution_count": 175,
     "metadata": {},
     "output_type": "execute_result"
    },
    {
     "data": {
      "image/png": "[encoded data removed]",
      "text/plain": [
       "<Figure size 432x288 with 1 Axes>"
      ]
     },
     "metadata": {},
     "output_type": "display_data"
    }
   ],
   "source": [
    "# BTR: 2012 vs 2016\n",
    "df_race[df_race.blue_to_red == 'BTR'].groupby(['sex_race', 'year'])['percent_voted_total']\\\n",
    ".mean().unstack().plot(kind='bar', color=['navy', 'crimson'])\n",
    "plt.title('Race - Blue-to-red states (2012 vs 2016)')\n",
    "plt.xlabel('Race')\n",
    "plt.ylabel('Percent voted')"
   ]
  },
  {
   "cell_type": "code",
   "execution_count": 184,
   "metadata": {
    "scrolled": false
   },
   "outputs": [
    {
     "data": {
      "text/plain": [
       "year\n",
       "2012   24.3\n",
       "2016   18.0\n",
       "dtype: float64"
      ]
     },
     "execution_count": 184,
     "metadata": {},
     "output_type": "execute_result"
    },
    {
     "data": {
      "image/png": "[encoded data removed]",
      "text/plain": [
       "<Figure size 432x288 with 1 Axes>"
      ]
     },
     "metadata": {},
     "output_type": "display_data"
    }
   ],
   "source": [
    "# BTR: 2012 vs 2016\n",
    "df_race[df_race.blue_to_red == 'BTR'].groupby(['race_grouped', 'year'])['percent_voted_total']\\\n",
    ".mean().unstack().plot(kind='bar', color=['navy', 'crimson'])\n",
    "plt.title('Race - Blue-to-red states (2012 vs 2016)')\n",
    "plt.xlabel('Race')\n",
    "plt.ylabel('Percent voted')\n",
    "\n",
    "df_race[df_race.blue_to_red == 'BTR'].groupby(['race_grouped', 'year'])['percent_voted_total']\\\n",
    ".mean().unstack().apply(lambda x: (x[1] - x[2]), axis=0)"
   ]
  }
 ],
 "metadata": {
  "kernelspec": {
   "display_name": "Python 3",
   "language": "python",
   "name": "python3"
  },
  "language_info": {
   "codemirror_mode": {
    "name": "ipython",
    "version": 3
   },
   "file_extension": ".py",
   "mimetype": "text/x-python",
   "name": "python",
   "nbconvert_exporter": "python",
   "pygments_lexer": "ipython3",
   "version": "3.6.4"
  }
 },
 "nbformat": 4,
 "nbformat_minor": 2
}
