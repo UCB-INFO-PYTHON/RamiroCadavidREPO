{
 "cells": [
  {
   "cell_type": "markdown",
   "metadata": {},
   "source": [
    "## Research questions\n",
    "\n",
    "### Sources\n",
    "- [Census topics](https://www.census.gov/topics.html)\n",
    "- [Center for Economics Studies - Research topics](https://ideas.repec.org/s/cen/wpaper.html)\n",
    "- [Census working papers](https://www.census.gov/content/census/en/library/working-papers.All.html/)\n",
    "- [American Fact Finder](https://factfinder.census.gov/faces/nav/jsf/pages/index.xhtml)\n",
    "\n",
    "### Questions\n",
    "- Economic Security and Marriage Rates for Young Adults. [Source](https://www.census.gov/library/working-papers/2018/demo/SEHSD-WP2018-09.html).\n",
    "- Education and voting\n",
    "- Education and internal migration\n",
    "- Education and civic engagement\n",
    "- Characterization of population by income brackets\n",
    "- Income of veterans vs non-veterans [Source](https://www.census.gov/content/census/en/library/working-papers/2009/demo/we-want-you-explaining-the-vet-nonvet-earnings-differential.html).\n",
    "- Income and income inequality geographical distribution. [Source](https://www.census.gov/content/census/en/library/working-papers/2017/demo/FY2016-129.html)"
   ]
  },
  {
   "cell_type": "markdown",
   "metadata": {},
   "source": [
    "## Census API"
   ]
  },
  {
   "cell_type": "markdown",
   "metadata": {},
   "source": [
    "- [Python wrapper for the Census API](https://github.com/datamade/census)\n",
    "- [Census Data API User Guide](https://www.census.gov/content/dam/Census/data/developers/api-user-guide/api-guide.pdf)"
   ]
  },
  {
   "cell_type": "code",
   "execution_count": null,
   "metadata": {},
   "outputs": [],
   "source": [
    "!pip install census\n",
    "!pip install us"
   ]
  },
  {
   "cell_type": "code",
   "execution_count": 1,
   "metadata": {},
   "outputs": [],
   "source": [
    "from census import Census\n",
    "from us import states"
   ]
  },
  {
   "cell_type": "code",
   "execution_count": 6,
   "metadata": {},
   "outputs": [
    {
     "data": {
      "text/plain": [
       "[{'B25034_010E': 133511.0, 'NAME': 'Maryland', 'state': '24'}]"
      ]
     },
     "execution_count": 6,
     "metadata": {},
     "output_type": "execute_result"
    }
   ],
   "source": [
    "c = Census(\"f23aea1bd54d54d785c8e156cee592217e6945bf\")\n",
    "c.acs5.state(('NAME', 'B25034_010E'), states.MD.fips)"
   ]
  },
  {
   "cell_type": "markdown",
   "metadata": {},
   "source": [
    "## Decenial Census"
   ]
  },
  {
   "cell_type": "markdown",
   "metadata": {},
   "source": [
    "### Resources\n",
    "\n",
    "- [**IPUMS**](https://usa.ipums.org/usa/): IPUMS USA collects, preserves and harmonizes U.S. census microdata and provides easy access to this data with enhanced documentation. Data includes decennial censuses from 1790 to 2010 and American Community Surveys (ACS) from 2000 to the present.\n",
    "\n",
    "Many federal, state, local and tribal governments use census data to:\n",
    "- Decide the location of new housing and public facilities,\n",
    "- Examine the demographic characteristics of communities, states, and the USA,\n",
    "- Plan transportation systems and roadways,\n",
    "- Determine quotas and creation of police and fire precincts, and\n",
    "- Create localized areas for elections, schools, utilities, etc.\n",
    "\n",
    "### Questions\n",
    "1. How many people were living or staying in this house, apartment, or mobile home on April 1, 2010?\n",
    "2. Were there any additional people staying here on April 1, 2010 that you did not include in Question 1? Mark all that apply: (checkboxes for: children; relatives; non-relatives; people staying temporarily; none)\n",
    "3. Is this house, apartment, or mobile home – [Checkboxes for owned with a mortgage, owned free and clear, rented, occupied without rent.]\n",
    "4. What is your telephone number?\n",
    "5. What is Person 1's name? (last, first)\n",
    "6. What is Person 1's sex? (male, female)\n",
    "7. What is Person 1's age and Person 1's date of birth?\n",
    "8. Is Person 1 of Hispanic, Latino, or Spanish origin? (checkboxes for: \"No\", and several for \"Yes\" which specify groups of countries)\n",
    "9. What is Person 1's race? (checkboxes for 14 including \"other\". One possibility was \"Black, African Am., or Negro\")\n",
    "10. Does Person 1 sometimes live or stay somewhere else? (checkboxes for \"No\", and several locations for \"Yes\")"
   ]
  },
  {
   "cell_type": "markdown",
   "metadata": {},
   "source": [
    "## American Community Survey (ACS)"
   ]
  },
  {
   "cell_type": "markdown",
   "metadata": {},
   "source": [
    "- [American Community Survey](https://www.census.gov/programs-surveys/acs/)\n",
    "- [ACS Information Guide](https://www.census.gov/content/dam/Census/programs-surveys/acs/about/ACS_Information_Guide.pdf)"
   ]
  }
 ],
 "metadata": {
  "kernelspec": {
   "display_name": "Python 3",
   "language": "python",
   "name": "python3"
  },
  "language_info": {
   "codemirror_mode": {
    "name": "ipython",
    "version": 3
   },
   "file_extension": ".py",
   "mimetype": "text/x-python",
   "name": "python",
   "nbconvert_exporter": "python",
   "pygments_lexer": "ipython3",
   "version": "3.6.4"
  }
 },
 "nbformat": 4,
 "nbformat_minor": 2
}
