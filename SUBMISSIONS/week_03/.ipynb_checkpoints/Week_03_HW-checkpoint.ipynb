{
 "cells": [
  {
   "cell_type": "markdown",
   "metadata": {},
   "source": [
    "## Week 3 Assignment - W200 Python Fundamentals for Data Science, UC Berkeley MIDS"
   ]
  },
  {
   "cell_type": "markdown",
   "metadata": {},
   "source": [
    "Write code in this jupyter Notebook to solve the following problems. Please upload this **Notebook** with your solutions to your GitHub repository in your SUBMISSIONS/week_03 folder by 11:59PM PST the night before class."
   ]
  },
  {
   "cell_type": "markdown",
   "metadata": {},
   "source": [
    "## Objectives:\n",
    "\n",
    "- More practice with while loops, if statements and gathering user inputs\n",
    "- Demonstrate use of Python data structures such as lists, tuples, and dictionaries\n",
    "- Understand how to add items to these data structures and print the contents of each to the user"
   ]
  },
  {
   "cell_type": "markdown",
   "metadata": {},
   "source": [
    "## General Guidelines:\n",
    "\n",
    "- In each code block please fill in the ### comment at the top of a cell with your name  for ease of grading\n",
    "- Limited user input validation and error checking is encouraged on this assignment. Each question below will indicate the type of input that you can expect. (for example, if the question states the input will be an integer, you can expect the user to input an integer and do not need to check to ensure it is an integer versus a float or a string)\n",
    "- Adding comments in your code is strongly suggested but won't be graded.\n",
    "- The examples given are samples of how we will test/grade your code. Please ensure your code outputs the same information.\n",
    "- If you are stuck on a problem or do not understand a question - please come to office hours or ask questions to the class Google group (please don't post your code though). If it is a coding problem send a private email to all of the instructors."
   ]
  },
  {
   "cell_type": "markdown",
   "metadata": {
    "collapsed": true
   },
   "source": [
    "### 3-1. Pig Latin Translator\n",
    "\n",
    "Write code that translates names into a (simplified) Pig Latin (please do not make this a 'real' pig-latin translator). Have your script ask the user for their name(s). **For each part of the name, move the first letter to the end of the name and add the letters \"ay\"**.  Make sure that only the first letter of each word in your output is capitalized. You can use the `split()` method on the string to create a list of the name segments. Be sure that your script can handle one, two or three names separated by spaces. This will likely involve a loop.\n",
    "\n",
    "Your script should re-create the following example exactly:\n",
    "\n",
    "```\n",
    "Enter your name: Paul Laskowski\n",
    "\n",
    "Aulpay Askowskilay\n",
    "```"
   ]
  },
  {
   "cell_type": "code",
   "execution_count": 6,
   "metadata": {},
   "outputs": [
    {
     "name": "stdout",
     "output_type": "stream",
     "text": [
      "Enter your full name: Paul Laskowski\n",
      "Aulpay Askowskilay\n"
     ]
    }
   ],
   "source": [
    "### Ramiro Cadavid\n",
    "\n",
    "# Request name\n",
    "name = input('Enter your full name: ')\n",
    "\n",
    "# Create a list with characters of the name\n",
    "name_list = list(name)\n",
    "\n",
    "# For each word in name\n",
    "words = name.count(' ') + 1\n",
    "count = 1\n",
    "start = 0\n",
    "while count <= words:    \n",
    "    # If word is followed by space\n",
    "    if count < words:\n",
    "        # Move first letter of word (and 'ay') to where the first space is\n",
    "        space_ind = name_list.index(' ', start)\n",
    "        first = name_list.pop(start)        \n",
    "        name_list.insert(space_ind - 1, first)\n",
    "        name_list.insert(space_ind, 'ay')\n",
    "        # Redefine start\n",
    "        start = space_ind + 2\n",
    "    # If word is not followed by space\n",
    "    else:\n",
    "        # Move first letter of word (and 'ay') to the end of name\n",
    "        first = name_list.pop(start)\n",
    "        name_list.append(first)\n",
    "        name_list.append('ay')\n",
    "    count += 1\n",
    "\n",
    "name_lat = ''.join(name_list)\n",
    "name_lat = name_lat.title()\n",
    "print(name_lat)"
   ]
  },
  {
   "cell_type": "markdown",
   "metadata": {
    "collapsed": true
   },
   "source": [
    "### 3-2. Matrix Inverter\n",
    "\n",
    "One place where the usage of tuples is convenient is in the representation of matrices.  The values in a 2x2 matrix are labeled as follows:\n",
    "$$\n",
    "\\begin{bmatrix}\n",
    "    a       & b  \\\\\n",
    "    c       & d\n",
    "\\end{bmatrix}\n",
    "$$\n",
    "\n",
    "Write code that asks the user for a text string including the four **numbers**, a, b, c, and d, separated by spaces.  You can use the `split()` method on the string to create a list of the four values in order.\n",
    "\n",
    "Create a tuple that represents each row, then create a tuple that contains those two tuples.  It should have the form `((a, b), (c, d))`.  **Print this representation.**\n",
    "\n",
    "The inverse of the matrix above is given by the formula:\n",
    "\n",
    "$$\n",
    "\\frac{1}{ad-bc} \\begin{bmatrix}\n",
    "    d       & -b  \\\\\n",
    "    -c       & a\n",
    "\\end{bmatrix}\n",
    "$$\n",
    "\n",
    "Compute the inverse of the given matrix, again represented as nested tuples, and **print this representation**. Use the example below to make sure you understand the equation correctly:\n",
    "\n",
    "\n",
    "```\n",
    "Please enter four numbers separated by spaces: 1 2 3 4\n",
    "\n",
    "matrix: ((1.0, 2.0), (3.0, 4.0))\n",
    "inverse: ((-2.0, 1.0), (1.5, -0.5))\n",
    "```"
   ]
  },
  {
   "cell_type": "code",
   "execution_count": 2,
   "metadata": {},
   "outputs": [
    {
     "name": "stdout",
     "output_type": "stream",
     "text": [
      "Please enter four numbers separated by spaces: 1 2 3 4\n",
      "Matrix entered:  ((1.0, 2.0), (3.0, 4.0))\n",
      "Inverse of matrix entered:  ((-2.0, 1.0), (1.5, -0.5))\n"
     ]
    }
   ],
   "source": [
    "## Ramiro Cadavid\n",
    "\n",
    "entry = input(\"Please enter four numbers separated by spaces: \")\n",
    "\n",
    "# Create a tuple that represents each row, then a tuple that contains these tuples\n",
    "entry_list = entry.split(' ')\n",
    "matrix = ((float(entry_list[0]), float(entry_list[1])), (float(entry_list[2]), float(entry_list[3])))\n",
    "print('Matrix entered: ', matrix)\n",
    "\n",
    "# Create a list with the inverse\n",
    "coef = 1 / (matrix[0][0]*matrix[1][1] - matrix[0][1]*matrix[1][0])\n",
    "inv_list = [matrix[1][1], -matrix[0][1], -matrix[1][0], matrix[0][0]]\n",
    "count = 0\n",
    "while count < len(entry_list):\n",
    "    inv_list[count] = coef * inv_list[count]\n",
    "    count += 1\n",
    "\n",
    "# Transform list into a tuple\n",
    "inv_matrix = ((inv_list[0],inv_list[1]),(inv_list[2],inv_list[3]))\n",
    "print('Inverse of matrix entered: ', inv_matrix)"
   ]
  },
  {
   "cell_type": "markdown",
   "metadata": {},
   "source": [
    "### 3-3. Create a to-do list program using a dictionary of lists\n",
    "\n",
    "Write a program that stores a to-do list for each day of the week (Sunday through Saturday). Your program needs to have the following elements:\n",
    "\n",
    "- An empty dictionary to store information\n",
    "- A key in the dictionary for each day of the week\n",
    "- Each key has a value of a list that stores the to-do list items\n",
    "\n",
    "- User can type \"add\" and the program will ask what day, then ask what item to add to that day. Ensure the user can add multiple items per day\n",
    "- User can type \"get\" and the program will ask for the day and print the values\n",
    "- The program will loop, using a while loop, until the user specifies \"quit\"\n",
    "\n",
    "- Some user error checking is required, specifically: upper/lowercase for the days of the week, incorrect day of the week, or an incorrect command\n",
    "- ** Hint: This task requires you to use tools you learned about in Unit 2 (\"if\" and \"loops\") along with dictionaries and lists.**\n",
    "\n",
    "Example:\n",
    "```\n",
    "Prompt: What would you like to do?\n",
    "> add\n",
    "\n",
    "Prompt: What day?\n",
    "> Friday\n",
    "\n",
    "Prompt: What would you like to add to Friday's to-do list?\n",
    "> practice clarinet\n",
    "\n",
    "Prompt: What would you like to do?\n",
    "> get\n",
    "\n",
    "Prompt: What day?\n",
    "> funday\n",
    "Invalid entry - please enter a correct day of the week (like Monday or monday).\n",
    "\n",
    "Prompt: What day?\n",
    "> friday\n",
    "\n",
    "Response: You have to practice clarinet.\n",
    "\n",
    "Prompt: What would you like to do?\n",
    "> quit\n",
    "\n",
    "Response: Ending program. Thank you for using the to-do list!\n",
    "3```"
   ]
  },
  {
   "cell_type": "code",
   "execution_count": 1,
   "metadata": {},
   "outputs": [
    {
     "name": "stdout",
     "output_type": "stream",
     "text": [
      "What would you like to do? add\n",
      "What day? Friday\n",
      "What would you like to add to Friday's to-do list? practice clarinet\n",
      "What would you like to do? get\n",
      "What day? funday\n",
      "Invalid entry - please enter a correct day of the week (like Monday or monday).\n",
      "What day? Friday\n",
      "You have to practice clarinet.\n",
      "What would you like to do? quit\n",
      "Ending program. Thank you for using the to-do list!\n"
     ]
    }
   ],
   "source": [
    "## Ramiro Cadavid\n",
    "\n",
    "# Create empty dictionary if it doesn't exist\n",
    "if 'todo' not in vars():\n",
    "    todo = {'Monday': [], 'Tuesday': [], 'Wednesday': [], 'Thursday': [], \\\n",
    "            'Friday': [], 'Saturday': [], 'Sunday': []}\n",
    "operation = ''\n",
    "operations = ['get', 'add', 'quit']\n",
    "\n",
    "# Iterate until the user quits\n",
    "while operation != 'quit':    \n",
    "    # Ask for operation (add, get or quit)\n",
    "    operation = input('What would you like to do? ')\n",
    "    if operation == 'quit':\n",
    "        print('Ending program. Thank you for using the to-do list!')\n",
    "    elif operation not in operations:\n",
    "        print('Invalid entry - please enter a correct command (get, add or quit)')\n",
    "    else:\n",
    "        # Ask for day, if incorrect, prompt for correct spelling\n",
    "        day = input('What day? ')\n",
    "        day = day.title()\n",
    "        while day not in todo.keys():\n",
    "            print('Invalid entry - please enter a correct day of the week (like Monday or monday).')\n",
    "            day = input('What day? ')\n",
    "            day = day.title()\n",
    "        # If add\n",
    "        if operation == 'add':\n",
    "            # Ask which item and add it to corresponding day\n",
    "            activity = input('What would you like to add to ' + day + '\\'s to-do list? ')\n",
    "            todo[day].append(activity)\n",
    "        # If get, print the items of the day selected\n",
    "        elif operation == 'get':\n",
    "            print('You have to ' + ' '.join(todo[day]) + '.')"
   ]
  },
  {
   "cell_type": "markdown",
   "metadata": {},
   "source": [
    "### 3-4. Fibonacci\n",
    "\n",
    "The Fibonacci numbers begin with 1, 1.  After the first two numbers, each number is the sum of the previous two. 1 + 1 = 2, so 2 is the third number. Then 1 + 2 = 3, so 3 is the next one, and so on. Write a script that prompts the user for a number, then prints all the Fibonacci numbers that are less than or equal to the input, in order.\n",
    "\n",
    "Example:\n",
    "```\n",
    "Enter a number: 15\n",
    "\n",
    "1 1 2 3 5 8 13\n",
    "```"
   ]
  },
  {
   "cell_type": "code",
   "execution_count": 2,
   "metadata": {},
   "outputs": [
    {
     "name": "stdout",
     "output_type": "stream",
     "text": [
      "Enter a number: 15\n",
      "1 1 2 3 5 8 13 are the Fibonacci numbers that are less than or equal to 15\n"
     ]
    }
   ],
   "source": [
    "### Ramiro Cadavid\n",
    "\n",
    "n = int(input(\"Enter a number: \"))\n",
    "last = 1\n",
    "second_last = 1\n",
    "nxt_num = 2\n",
    "fibon = ['1', '1']\n",
    "\n",
    "# While next number calculated is <= n\n",
    "while last + second_last <= n:\n",
    "    current = last + second_last\n",
    "    fibon.append(str(current))\n",
    "    second_last = last\n",
    "    last = current\n",
    "\n",
    "print(' '.join(fibon), 'are the Fibonacci numbers that are less than or equal to', n)"
   ]
  },
  {
   "cell_type": "markdown",
   "metadata": {},
   "source": [
    "### 3-5. Pascal's Triangle\n",
    "\n",
    "Pascal's triangle is a triangle of numbers that is computed as follows. The first row contains a 1.  Each row after that begins and ends with a 1, and every other number is the sum of the two numbers above it. The first six rows of Pascal's triangle are shown below.\n",
    "```\n",
    "      1\n",
    "     1 1\n",
    "    1 2 1\n",
    "  1  3 3  1\n",
    " 1 4  6  4 1\n",
    "1 5 10 10 5 1\n",
    "```\n",
    "Write a script to compute and print the *n*th row of Pascal's triangle. Do not spend time trying to print the entire triangle in the format above (it is for illustrative purposes only).\n",
    "\n",
    "** Hint: Think about the type of objects you need to solve the problem. What are you iterating over? It may help to calculate a couple of rows by hand and think about the process you take. **\n"
   ]
  },
  {
   "cell_type": "code",
   "execution_count": 5,
   "metadata": {},
   "outputs": [
    {
     "name": "stdout",
     "output_type": "stream",
     "text": [
      "Enter a row number: 6\n",
      "The numbers in the 6th line of Pascal's triangle are the following:\n",
      "1 5 10 10 5 1 "
     ]
    }
   ],
   "source": [
    "### Ramiro Cadavid\n",
    "n = int(input(\"Enter a row number: \"))\n",
    "count = 0\n",
    "\n",
    "while count < n:\n",
    "    # Create list with n items and replace first and last items with 1\n",
    "    curr_line = list(range(count + 1))\n",
    "    curr_line[0] = 1\n",
    "    curr_line[len(curr_line) - 1] = 1\n",
    "    # If n > 2, For each item in list\n",
    "    if count >= 2:\n",
    "        curr_line[1] = 2\n",
    "        count2 = 0\n",
    "        while count2 < count:\n",
    "            # If item != 1\n",
    "            if curr_line[count2] != 1:\n",
    "                curr_line[count2] = prev_line[count2 - 1] + prev_line[count2]\n",
    "            count2 += 1\n",
    "    count += 1\n",
    "    prev_line = curr_line\n",
    "\n",
    "count_print = 0\n",
    "print('The numbers in the ' + str(n) + 'th line of Pascal\\'s triangle are the following:')\n",
    "while count_print < len(curr_line):\n",
    "    print(curr_line[count_print], end=' ')\n",
    "    count_print += 1\n"
   ]
  },
  {
   "cell_type": "markdown",
   "metadata": {},
   "source": [
    "## If you have feedback for this homework, please submit it using the link below:\n",
    "\n",
    "http://goo.gl/forms/74yCiQTf6k"
   ]
  }
 ],
 "metadata": {
  "anaconda-cloud": {},
  "kernelspec": {
   "display_name": "Python 3",
   "language": "python",
   "name": "python3"
  },
  "language_info": {
   "codemirror_mode": {
    "name": "ipython",
    "version": 3
   },
   "file_extension": ".py",
   "mimetype": "text/x-python",
   "name": "python",
   "nbconvert_exporter": "python",
   "pygments_lexer": "ipython3",
   "version": "3.6.4"
  }
 },
 "nbformat": 4,
 "nbformat_minor": 1
}
