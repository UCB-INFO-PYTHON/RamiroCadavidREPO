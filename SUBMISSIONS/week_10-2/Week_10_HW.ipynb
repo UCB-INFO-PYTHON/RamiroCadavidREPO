{
 "cells": [
  {
   "cell_type": "markdown",
   "metadata": {
    "deletable": false,
    "editable": false,
    "nbgrader": {
     "checksum": "e7277fe4563989179a2ec4bb4b0259e7",
     "grade": false,
     "grade_id": "cell-76038a88b4d3af8c",
     "locked": true,
     "schema_version": 1,
     "solution": false
    }
   },
   "source": [
    "## Week 10 Assignment - W200 Python Fundamentals for Data Science, UC Berkeley MIDS\n",
    "\n",
    "Write code in this Jupyter Notebook to solve the following problems. Please upload this **Notebook and the five .csv files** with your solutions to your GitHub repository in your SUBMISSIONS/week_10 folder by 11:59PM PST the night before class."
   ]
  },
  {
   "cell_type": "markdown",
   "metadata": {
    "deletable": false,
    "editable": false,
    "nbgrader": {
     "checksum": "41484a8a03085b2191cdd48cd198a8c6",
     "grade": false,
     "grade_id": "cell-ae5d30c3c3f47580",
     "locked": true,
     "schema_version": 1,
     "solution": false
    }
   },
   "source": [
    "This homework assignment is Week 10 which corresponds to the Unit #9 async. If you turn-in anything on ISVC please do so under the Week 10 Assignment category. (Apologies for the confusion)"
   ]
  },
  {
   "cell_type": "code",
   "execution_count": null,
   "metadata": {
    "deletable": false,
    "editable": false,
    "nbgrader": {
     "checksum": "cb18e0aff969027291271a6ee824bae3",
     "grade": true,
     "grade_id": "cell-91b70a2e4950e176",
     "locked": true,
     "points": 0,
     "schema_version": 1,
     "solution": false
    }
   },
   "outputs": [],
   "source": [
    "# Autograde cell - do not erase/delete"
   ]
  },
  {
   "cell_type": "markdown",
   "metadata": {
    "deletable": false,
    "editable": false,
    "nbgrader": {
     "checksum": "6b52c4ac0395c1e0a459473b439e2153",
     "grade": false,
     "grade_id": "cell-5977c1d8f1d55d67",
     "locked": true,
     "schema_version": 1,
     "solution": false
    }
   },
   "source": [
    "## Objectives\n",
    "\n",
    "- Demonstrate how to import different data files\n",
    "- Get a small glimpse on how messy data can be\n",
    "- Design and implement an algorithm to standardize the information and fix the messiness\n",
    "- Work with Python data structures to sort and output the correct information\n",
    "- Demonstrate how to export required information to a .csv file"
   ]
  },
  {
   "cell_type": "markdown",
   "metadata": {
    "deletable": false,
    "editable": false,
    "nbgrader": {
     "checksum": "3017559e8ef8658ffaf9c3d19950e1e7",
     "grade": false,
     "grade_id": "cell-f3df226b1112e4f1",
     "locked": true,
     "schema_version": 1,
     "solution": false
    }
   },
   "source": [
    "## Reading and Writing Data\n",
    "\n",
    "In this assignment, you will be reading and writing data. Yes, finally some data science (or at least some exploratory data analysis)! In the week_10 assignment folder, there are three data files ending in `csv`, `json` and `pkl` named: \n",
    "\n",
    "* data.csv\n",
    "* data.json\n",
    "* data.pkl\n",
    "\n",
    "These are three common types of file formats that exist for storing data. You can run the following **on the bash command line** to see what is in each file (this will not work from a Windows prompt but will work in git bash):\n",
    "\n",
    "```sh\n",
    "head data.csv # (or .pkl or .json )\n",
    "```\n",
    "\n",
    "You'll see that there is some method to the madness but that each file has its peculiarities. Each file contains a portion of the total dataset that consists of 100 records, so you will need to **read in all of the files and combine them into some standard format** with which you are comfortable. Aim for something standard where each \"row\" is the same format.\n",
    "\n",
    "After you've standardized all of the data, report the following bits of information by **writing them to a .csv file** labeled `question_1.csv`, `question_2.csv` etc. There needs to be separate .csv files for each question below. \n",
    "\n",
    "We will be using a script to examine and grade your .csv files so please make sure: \n",
    "- The answers are all in one **column** with one answer entry per cell, sorted as stated in the question below. (That is: looking at the .csv in a spreadsheet editor like Google Sheets all answers would be in the 'A' column, with the first entry in A1, the second in A2 etc). \n",
    "- It is strongly recommended that you open each .csv file to ensure the answers are there and displayed correctly! \n",
    "- Don't include quotes around the list items (that is please strip the leading and trailing quotes from an item when you write to the .csv files) (for example, the file should say ```Spain``` instead of ```\"Spain\"```)\n",
    "\n",
    "In addition, show all of your work in this **Jupyter notebook**.\n",
    "\n",
    "1. What are the unique countries in the dataset, sorted alphabetically?\n",
    "2. What are the unique email domains in the dataset, sorted alphabetically?\n",
    "3. What are the first names of everyone that does not have a P.O. Box address, sorted alphabetically?\n",
    "4. What are the names of the first 5 people when you sort the data alphabetically by Country?\n",
    "5. What are the names of the first 5 people when you sort the data numerically ascending by phone number?"
   ]
  },
  {
   "cell_type": "markdown",
   "metadata": {
    "deletable": false,
    "editable": false,
    "nbgrader": {
     "checksum": "d003679b43630f9f08997dd17b0483a6",
     "grade": false,
     "grade_id": "cell-ad4b864c26503a51",
     "locked": true,
     "schema_version": 1,
     "solution": false
    }
   },
   "source": [
    "### Assumptions\n",
    "\n",
    "- You might have to make decisions about the data; for example, what to do with ties or how to sort the phone numbers numerically. \n",
    "- Please write your assumptions in this Jupyter notebook at the top of your code under the heading below that says ASSUMPTIONS\n",
    "- This is a good habit to get into as you analyze data so not only you can remember why you made the decisions you did but also other people can follow your analysis later!"
   ]
  },
  {
   "cell_type": "markdown",
   "metadata": {
    "deletable": false,
    "editable": false,
    "nbgrader": {
     "checksum": "57450666cda1cb410247d946aa6801fe",
     "grade": false,
     "grade_id": "cell-ac3d57f37fc71750",
     "locked": true,
     "schema_version": 1,
     "solution": false
    }
   },
   "source": [
    "### Restrictions\n",
    "You should use these standard library imports:\n",
    "\n",
    "```python\n",
    "import json\n",
    "import csv\n",
    "import pickle\n",
    "```\n",
    "\n",
    "Some of you may be familiar with a Python package called `pandas` which would greatly speed up this sort of file processing.  The point of this homework is to do the work manually.  You can use `pandas` to independently check your work if you are so inclined but do not use `pandas` as the sole solution method. Don't worry if you are not familiar with `pandas`.  We will do this homework as a class exercise using `pandas` in the near future."
   ]
  },
  {
   "cell_type": "markdown",
   "metadata": {
    "deletable": false,
    "editable": false,
    "nbgrader": {
     "checksum": "37f055bd953aed4082e42452ea4849db",
     "grade": false,
     "grade_id": "cell-f8df9d752522f9cd",
     "locked": true,
     "schema_version": 1,
     "solution": false
    }
   },
   "source": [
    "### Hints (optional)\n",
    "\n",
    "- You may use regular expressions if you wish to extract data from each row. You do not need to use them if you do not want to or see a need to. The Python regular expression module is called `re`.\n",
    "- You may want to use the `operator` module to help in sorting.\n",
    "- There are many data structures and formats that you might use to solve this problem.  You will have to decide if you want to keep the information for each person together as one record or all the information for each of the fields together.\n",
    "- You can put these files into sensible structures such as lists or or dictionaries. The async covers how to do this for csv and json. For pickle this might help https://wiki.python.org/moin/UsingPickle \n",
    "- .items() or .key() can be useful for dictionaries\n",
    "- Once again, it is strongly recommended that you open each .csv file to ensure the answers are there and displayed correctly! "
   ]
  },
  {
   "cell_type": "markdown",
   "metadata": {},
   "source": [
    "### ASSUMPTIONS\n",
    "\n",
    "1. If there is a tie while sorting, the data will be ordered by name, in ascending order, for observations containing the same values.\n",
    "\n",
    "1. To sort phone numbers, the whole number will be taken into account, regardless of whether it contains a prefix. However, any character that is not a number will not be taken into account when sorting (it will be skipped)."
   ]
  },
  {
   "cell_type": "code",
   "execution_count": 91,
   "metadata": {
    "deletable": false,
    "nbgrader": {
     "checksum": "a9a1953b30c5c007240c3a39fe6b34e7",
     "grade": true,
     "grade_id": "cell-75a5e5501709371b",
     "locked": false,
     "points": 0,
     "schema_version": 1,
     "solution": true
    }
   },
   "outputs": [],
   "source": [
    "# ASSUMPTIONS\n",
    "\n",
    "# - If there is a tie while sorting, the data will be ordered by name,\n",
    "#     in ascending order, for observations containing the same values.\n",
    "\n",
    "# - To sort phone numbers, the whole number will be taken into account,\n",
    "#     regardless of whether it contains a prefix. However, any character\n",
    "#     that is not a number will not be taken into account when sorting\n",
    "#     (it will be skipped).\n",
    "\n",
    "import json\n",
    "import csv\n",
    "import pickle\n",
    "from operator import itemgetter\n",
    "import re\n",
    "\n",
    "# Import csv\n",
    "\n",
    "data = dict()\n",
    "with open('data.csv', 'rt', encoding='utf-8') as f:\n",
    "    data_csv = csv.reader(f)\n",
    "    for row in data_csv:\n",
    "        if row[0] == '':\n",
    "            data['var_names'] = row[1:]\n",
    "        else:\n",
    "            data[int(row[0])] = row[1:]\n",
    "\n",
    "\n",
    "# Import json\n",
    "\n",
    "with open('data.json', 'rt', encoding='utf-8') as f:\n",
    "    data_json = json.loads(f.read())\n",
    "\n",
    "data_json_obs = len(data_json['Name'])\n",
    "data_len = len(data) - 1\n",
    "\n",
    "for obs in range(data_len, data_len + data_json_obs):\n",
    "    temp_list = []\n",
    "    for var in data_json.keys():\n",
    "        temp_list.append(data_json[var][str(obs)])\n",
    "    data[obs] = temp_list\n",
    "\n",
    "\n",
    "# Import pickle\n",
    "\n",
    "with open('data.pkl', 'rb') as p:\n",
    "    data_pkl = pickle.load(p)\n",
    "\n",
    "var_order = data['var_names']\n",
    "obs_pkl = data_pkl['Phone'].keys()\n",
    "\n",
    "for obs in obs_pkl:\n",
    "    temp_list = []\n",
    "    for var in var_order:\n",
    "        temp_list.append(data_pkl[var][obs])\n",
    "    data[obs] = temp_list\n",
    "\n",
    "\n",
    "# Export consolidated dataset to .csv\n",
    "with open('data_all.csv', 'wt', newline='', encoding='utf-8') as d:\n",
    "    csv_out = csv.writer(d)\n",
    "    csv_out.writerows(list(data.values()))\n",
    "\n",
    "\n",
    "# 1. What are the unique countries in the dataset, sorted alphabetically?\n",
    "\n",
    "data_obs = len(data) - 1\n",
    "iter_obs = range(data_obs)\n",
    "countries = []\n",
    "\n",
    "for obs in iter_obs:\n",
    "    countries.append(data[obs][4])\n",
    "countries_sorted = sorted(set(countries))\n",
    "\n",
    "with open('question_1.csv', 'wt', newline='', encoding='utf-8') as f:\n",
    "    csv_out = csv.writer(f, delimiter=',')\n",
    "    for row in countries_sorted:\n",
    "        csv_out.writerow([row])\n",
    "    \n",
    "\n",
    "# 2. What are the unique email domains in the dataset, sorted alphabetically?\n",
    "\n",
    "domains = []\n",
    "for obs in iter_obs:\n",
    "    email = data[obs][5]\n",
    "    domain = re.search(r\"@.*\", email).group()\n",
    "    domains.append(re.sub(\"@\", \"\", domain))\n",
    "domains_sorted = sorted(set(domains), key=str.lower)\n",
    "\n",
    "with open('question_2.csv', 'wt', newline='', encoding='utf-8') as f:\n",
    "    csv_out = csv.writer(f)\n",
    "    for row in domains_sorted:\n",
    "        csv_out.writerow([row])\n",
    "\n",
    "\n",
    "# 3. What are the first names of everyone that does not have a P.O. Box address, sorted alphabetically?\n",
    "\n",
    "names_no_po = []\n",
    "for obs in iter_obs:\n",
    "    address = data[obs][2]\n",
    "    if re.search('P.O.', address) is None:\n",
    "        names_no_po.append(data[obs][0])\n",
    "\n",
    "names_no_po_sorted = sorted(names_no_po)\n",
    "# for obs in iter_obs:\n",
    "#     print(names_no_po_sorted)\n",
    "\n",
    "with open('question_3.csv', 'wt', newline='', encoding='utf-8') as f:\n",
    "    csv_out = csv.writer(f)\n",
    "    for name in names_no_po_sorted:\n",
    "        csv_out.writerow([re.sub(' .*', '', name)])\n",
    "    \n",
    "    \n",
    "# 4. What are the names of the first 5 people when you sort the data alphabetically by Country?\n",
    "\n",
    "data_sort_country = sorted(list(data.values())[1:], key=itemgetter(4, 0))\n",
    "\n",
    "with open('question_4.csv', 'wt', newline='', encoding='utf-8') as f:\n",
    "    csv_out = csv.writer(f)\n",
    "    for row in range(5):\n",
    "        csv_out.writerow([data_sort_country[row][0]])\n",
    "\n",
    "\n",
    "# 5. What are the names of the first 5 people when you sort the data numerically ascending by phone number?\n",
    "\n",
    "data_sort_phone = sorted(list(data.values())[1:], key=lambda x: re.sub(\"\\D\", \"\", x[1]))\n",
    "                         \n",
    "with open('question_5.csv', 'wt', newline='', encoding='utf-8') as f:\n",
    "    csv_out = csv.writer(f)\n",
    "    for obs in range(5):\n",
    "        csv_out.writerow([data_sort_phone[obs][0]])"
   ]
  }
 ],
 "metadata": {
  "anaconda-cloud": {},
  "kernelspec": {
   "display_name": "Python 3",
   "language": "python",
   "name": "python3"
  },
  "language_info": {
   "codemirror_mode": {
    "name": "ipython",
    "version": 3
   },
   "file_extension": ".py",
   "mimetype": "text/x-python",
   "name": "python",
   "nbconvert_exporter": "python",
   "pygments_lexer": "ipython3",
   "version": "3.6.4"
  }
 },
 "nbformat": 4,
 "nbformat_minor": 1
}
