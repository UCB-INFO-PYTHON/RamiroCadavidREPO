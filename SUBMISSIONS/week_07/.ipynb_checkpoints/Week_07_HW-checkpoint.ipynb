{
 "cells": [
  {
   "cell_type": "markdown",
   "metadata": {
    "deletable": false,
    "editable": false,
    "nbgrader": {
     "checksum": "dce1061b7461c33b3b0221e40b8eda98",
     "grade": false,
     "grade_id": "cell-527229cf042812ef",
     "locked": true,
     "schema_version": 1,
     "solution": false
    }
   },
   "source": [
    "## Week 7 Assignment - W200 Python for Data Science, UC Berkeley MIDS\n",
    "\n",
    "Write code in this Jupyter Notebook to solve each of the following problems. Each problem should have its solution in a separate cell. Please upload this **Notebook** with your solutions to your GitHub repository in your SUBMISSIONS/week_07 folder by 11:59PM PST the night before class the sync week 9 class."
   ]
  },
  {
   "cell_type": "markdown",
   "metadata": {
    "deletable": false,
    "editable": false,
    "nbgrader": {
     "checksum": "cadccc143ff9bf2d28a6f48ce9a1aba0",
     "grade": false,
     "grade_id": "cell-1b44a7b98ed62731",
     "locked": true,
     "schema_version": 1,
     "solution": false
    }
   },
   "source": [
    "## Objectives:\n",
    "\n",
    "- Demonstrate how to define classes\n",
    "- Design and implement class objects and class interactions\n",
    "- Understand how to call methods from both inside and outside of classes\n",
    "- Understand how to set internal attribute within a class"
   ]
  },
  {
   "cell_type": "markdown",
   "metadata": {
    "deletable": false,
    "editable": false,
    "nbgrader": {
     "checksum": "f53ff456f05b51d8130042e00e0a33ca",
     "grade": false,
     "grade_id": "cell-cfac900eae3841cc",
     "locked": true,
     "schema_version": 1,
     "solution": false
    }
   },
   "source": [
    "## General Guidelines:\n",
    "\n",
    "- All calculations need to be done in the classes (that includes any formatting of the output)\n",
    "- Name your classes exactly as written in the problem statement\n",
    "- Do NOT make separate input() statements.  The classes will be passed the input as shown in the examples\n",
    "- The examples given are samples of how we will test/grade your code. Please ensure your classes output the same information\n",
    "- Answer format is graded - please match the examples\n",
    "- User / function inputs do need to be validated or checked. (For example, if the problem states input an integer we will check it by inputting an integer)\n",
    "- Comments in your code are strongly suggested but won't be graded\n",
    "- This homework is mostly auto-graded. The blank code blocks are the auto-grading scripts - please do not delete these!\n",
    "- Your code needs to be written in the #Your Code Here blocks or it wont be graded correctly."
   ]
  },
  {
   "cell_type": "markdown",
   "metadata": {
    "deletable": false,
    "editable": false,
    "nbgrader": {
     "checksum": "dcbd2ad1965deb003b1af63b660d4baa",
     "grade": false,
     "grade_id": "cell-783896db972e3f83",
     "locked": true,
     "schema_version": 1,
     "solution": false
    }
   },
   "source": [
    "## Project Proposal\n",
    "\n",
    "**Reminder!** Please complete your project proposal, as discussed in class and outlined in the project_1 folder.  You may submit your 1-2 page proposal in a Google Doc or PDF.  Please store your proposal (or a link to it) in your repo under the project_1 folder.  This is due by 11:59PM PST the night before class the sync week 8 class! (not when this homework is due!)\n",
    "\n",
    "This is worth 10 points of your **project** grade (not the grade for this homework)."
   ]
  },
  {
   "cell_type": "markdown",
   "metadata": {
    "deletable": false,
    "editable": false,
    "nbgrader": {
     "checksum": "aac9a3df253b574b0adf2577e432d548",
     "grade": false,
     "grade_id": "cell-696344d235251439",
     "locked": true,
     "schema_version": 1,
     "solution": false
    }
   },
   "source": [
    "## 7-1. A Quick Reading\n",
    "\n",
    "Please read the following article and write a couple sentences of reaction. What is the most interesting part?\n",
    "\n",
    "<a href=\"http://programmingisterrible.com/post/139222674273/write-code-that-is-easy-to-delete-not-easy-to\">Write code that is easy to delete, not easy to extend</a> \n",
    "\n",
    "This article is to explain an \"architectural\" perspective towards thinking about writing in large code bases. This might not really apply to the work that you are doing now but should provide some food for thought on upcoming projects. Think about the author's perspective and why he seems to have come to it. Please don't worry about knowing all the terminology or programs/systems that he refers to. We want you to extract what he's trying to say about writing code rather than the intricacies of the low-level systems that is referring to.\n"
   ]
  },
  {
   "cell_type": "markdown",
   "metadata": {
    "deletable": false,
    "nbgrader": {
     "checksum": "a7015f0e83e7f04451f4e0b75aee2716",
     "grade": true,
     "grade_id": "cell-ec8be46bbe5effd3",
     "locked": false,
     "points": 20,
     "schema_version": 1,
     "solution": true
    }
   },
   "source": [
    "YOUR ANSWER HERE"
   ]
  },
  {
   "cell_type": "markdown",
   "metadata": {
    "deletable": false,
    "editable": false,
    "nbgrader": {
     "checksum": "3bb2b266f3e1eca77bf3716a3f2de18b",
     "grade": false,
     "grade_id": "cell-7804e7ebc0429dcc",
     "locked": true,
     "schema_version": 1,
     "solution": false
    }
   },
   "source": [
    "--------------------------------------------------------------------------------------------------------------------------------\n",
    "#                               Please do 2 out of the 3 parts below.  \n",
    "#                        That is, please do two parts of Parts 7-2, 7-3 or 7-4.\n",
    "If you want to do all three parts please write a comment on which two parts to grade.  If a comment isn't found Parts 7-2 & 7-3 will be graded."
   ]
  },
  {
   "cell_type": "markdown",
   "metadata": {
    "deletable": false,
    "editable": false,
    "nbgrader": {
     "checksum": "d8979f8aca4820437334a07780889142",
     "grade": false,
     "grade_id": "cell-03f9229475d9a257",
     "locked": true,
     "schema_version": 1,
     "solution": false
    }
   },
   "source": [
    "## 7-2. Deck of Cards\n",
    "\n",
    "Please design two classes in this notebook as follows:\n",
    "\n",
    "1\\. Please create a class called **PlayingCard**. This class should have: <br>\n",
    "- An attribute, \"rank\" that takes a value of 2-10, J, Q, K, or A. <br>\n",
    "- An attribute, \"suit\" that takes a value of \"♠\" \"♥\" \"♦\" or \"♣\". (If you don't know how to make these characters you can cut and paste from this block)<br>  \n",
    "- An __init__ function \n",
    "\n",
    "2\\. Please create a class called **Deck**.  This class should have: <br>\n",
    "- An attribute, \"cards\", that holds a list of PlayingCard objects. <br>\n",
    "- An __init__ function that: \n",
    "\n",
    "    - By default stores a full deck of 52 playing card (with proper numbers and suits) in the \"cards\" list. Each cards will be  of the class PlayingCard above<br>\n",
    "    - Allows the user to specify a specific suit (of the 4 - \"♠\" \"♥\" \"♦\" or \"♣\").  In this case, the program should only populate the deck with the 13 cards of that suit.\n",
    "    - After the cards object is initialized, call the \"shuffle_deck()\" function (below).<br>\n",
    "    \n",
    "- A \"shuffle_deck()\" function that randomly changes the order of cards in the deck.<br>\n",
    "- A \"deal_card(card_count)\" function that removes the first X cards from the deck and returns them as a list.<br>\n",
    "    - Make sure this function gives an appropriate response when the deck is out of cards.\n",
    "    \n",
    "3\\. You might have to write ```__str__ or __repr__``` methods to display the cards correctly.\n",
    "\n",
    "\n",
    "Example:\n",
    "```\n",
    ">>> card1 = PlayingCard(\"A\", \"♠\")\n",
    ">>> print(card1)\n",
    "'A' of ♠\n",
    "\n",
    ">>> card2 = PlayingCard(15, \"♠\")\n",
    "Invalid rank!\n",
    "\n",
    ">>> card2 = PlayingCard(10, \"bunnies\")\n",
    "Invalid suit!\n",
    "\n",
    ">>> deck1 = Deck()\n",
    ">>> print(deck1.cards)\n",
    "['K' of ♠, 'A' of ♥, 6 of ♣, 7 of ♠, 'J' of ♦, 6 of ♠, 'Q' of ♦, 5 of ♣, 10 of ♦, 2 of ♥, 8 of ♣, 8 of ♦, 4 of ♦, 7 of ♦, 3 of ♣, 'K' of ♣, 9 of ♠, 4 of ♥, 10 of ♥, 10 of ♣, 'A' of ♠, 9 of ♥, 7 of ♥, 9 of ♣, 7 of ♣, 5 of ♠, 3 of ♦, 10 of ♠, 'Q' of ♥, 'J' of ♣, 5 of ♥, 'K' of ♥, 'K' of ♦, 2 of ♠, 8 of ♠, 'Q' of ♣, 3 of ♠, 6 of ♥, 6 of ♦, 'A' of ♣, 'A' of ♦, 3 of ♥, 'J' of ♠, 4 of ♣, 5 of ♦, 2 of ♦, 4 of ♠, 2 of ♣, 'Q' of ♠, 'J' of ♥, 8 of ♥, 9 of ♦] \n",
    "\n",
    ">>> deck2 = Deck('♠')\n",
    ">>> deck2.shuffle_deck()\n",
    ">>> print(deck2.cards)\n",
    "['A' of ♠, 10 of ♠, 3 of ♠, 7 of ♠, 5 of ♠, 4 of ♠, 8 of ♠, 'J' of ♠, 9 of ♠, 'Q' of ♠, 6 of ♠, 2 of ♠, 'K' of ♠]\n",
    "\n",
    ">>> deck2.deal_card(7)\n",
    "['A' of ♠, 10 of ♠, 3 of ♠, 7 of ♠, 5 of ♠, 4 of ♠, 8 of ♠]\n",
    "\n",
    ">>> deck2.deal_card(8)\n",
    "Cannot deal 7 cards. The deck only has 6 cards left!\n",
    "```"
   ]
  },
  {
   "cell_type": "code",
   "execution_count": 47,
   "metadata": {
    "deletable": false,
    "nbgrader": {
     "checksum": "065c7730f5f4def3d7b686213c4515c3",
     "grade": false,
     "grade_id": "cell-1a340c9ca6b682a1",
     "locked": false,
     "schema_version": 1,
     "solution": true
    }
   },
   "outputs": [],
   "source": [
    "# Ramiro Cadavid\n",
    "\n",
    "from random import shuffle\n",
    "\n",
    "class PlayingCard:\n",
    "    \"\"\"Represents a card, that may be included in a particular deck\"\"\"\n",
    "    \n",
    "    ranks = [2, 3, 4, 5, 6, 7, 8, 9, 10, 'J', 'Q', 'K', 'A']\n",
    "    suits = [\"♠\", \"♥\", \"♦\", \"♣\"]\n",
    "    \n",
    "    def __init__(self, rank, suit):\n",
    "        if rank not in PlayingCard.ranks:\n",
    "            raise Exception(\"Invalid rank!\")\n",
    "        elif suit not in PlayingCard.suits:\n",
    "            raise Exception(\"Invalid suit!\")\n",
    "        else:\n",
    "            self.rank = rank\n",
    "            self.suit = suit\n",
    "        \n",
    "    def __repr__(self):\n",
    "        return '\\'' + str(self.rank) + '\\'' + ' of ' + self.suit\n",
    "        \n",
    "\n",
    "class Deck:\n",
    "    \"\"\"Deck of cards of the same suit. Can be shuffled and deal cards\"\"\"\n",
    "    \n",
    "    ranks = [2, 3, 4, 5, 6, 7, 8, 9, 10, 'J', 'Q', 'K', 'A']\n",
    "    suits = [\"♠\", \"♥\", \"♦\", \"♣\"]\n",
    "    \n",
    "    def __init__(self, suit = None):\n",
    "        self.cards = []\n",
    "        if suit is None:\n",
    "            for r in Deck.ranks:\n",
    "                for s in Deck.suits:\n",
    "                    self.cards.append(PlayingCard(r, s))             \n",
    "        else:\n",
    "            for r in Deck.ranks:\n",
    "                self.cards.append(PlayingCard(r, self.suit))\n",
    "                \n",
    "    def shuffle_deck(self):\n",
    "        \"\"\"Randomly change the order of cards in deck\"\"\"\n",
    "        shuffle(self)\n",
    "        \n",
    "    def deal_card(self, card_count):\n",
    "        \"\"\"Removes the first X cards and returns them as a list\"\"\"\n",
    "        if card_count > len(self):\n",
    "            return \"Please enter a number of cards up to the number of cards in the deck. Currently, there are \" + str(len(self)) + \" cards in the deck\"\n",
    "        deal = []\n",
    "        for i in range(self.card_count):\n",
    "            deal.append(self.pop(0))\n",
    "        return deal       "
   ]
  },
  {
   "cell_type": "code",
   "execution_count": 50,
   "metadata": {},
   "outputs": [
    {
     "name": "stdout",
     "output_type": "stream",
     "text": [
      "'A' of ♠\n",
      "['2' of ♠, '2' of ♥, '2' of ♦, '2' of ♣, '3' of ♠, '3' of ♥, '3' of ♦, '3' of ♣, '4' of ♠, '4' of ♥, '4' of ♦, '4' of ♣, '5' of ♠, '5' of ♥, '5' of ♦, '5' of ♣, '6' of ♠, '6' of ♥, '6' of ♦, '6' of ♣, '7' of ♠, '7' of ♥, '7' of ♦, '7' of ♣, '8' of ♠, '8' of ♥, '8' of ♦, '8' of ♣, '9' of ♠, '9' of ♥, '9' of ♦, '9' of ♣, '10' of ♠, '10' of ♥, '10' of ♦, '10' of ♣, 'J' of ♠, 'J' of ♥, 'J' of ♦, 'J' of ♣, 'Q' of ♠, 'Q' of ♥, 'Q' of ♦, 'Q' of ♣, 'K' of ♠, 'K' of ♥, 'K' of ♦, 'K' of ♣, 'A' of ♠, 'A' of ♥, 'A' of ♦, 'A' of ♣]\n"
     ]
    }
   ],
   "source": [
    "card1 = PlayingCard('A', '♠')\n",
    "print(card1)\n",
    "# card2 = PlayingCard(15, '♠')\n",
    "# card2 = PlayingCard(10, 'Bunnies')\n",
    "\n",
    "deck1 = Deck()\n",
    "print(deck1.cards)"
   ]
  },
  {
   "cell_type": "code",
   "execution_count": null,
   "metadata": {
    "deletable": false,
    "editable": false,
    "nbgrader": {
     "checksum": "9f4518d3c581447f2cd8f61880072bfc",
     "grade": true,
     "grade_id": "cell-b253eb962f2579b8",
     "locked": true,
     "points": 0,
     "schema_version": 1,
     "solution": false
    }
   },
   "outputs": [],
   "source": [
    "# Autograde cell - do not erase/delete"
   ]
  },
  {
   "cell_type": "code",
   "execution_count": null,
   "metadata": {
    "deletable": false,
    "editable": false,
    "nbgrader": {
     "checksum": "21b434958836514b99a4752fe674d868",
     "grade": true,
     "grade_id": "cell-7904a48b935e84c2",
     "locked": true,
     "points": 0,
     "schema_version": 1,
     "solution": false
    }
   },
   "outputs": [],
   "source": [
    "# Autograde cell - do not erase/delete"
   ]
  },
  {
   "cell_type": "code",
   "execution_count": null,
   "metadata": {
    "deletable": false,
    "editable": false,
    "nbgrader": {
     "checksum": "6e051c587644406b19d30c6fe6986fe3",
     "grade": true,
     "grade_id": "cell-eddb8a271f9474ac",
     "locked": true,
     "points": 0,
     "schema_version": 1,
     "solution": false
    }
   },
   "outputs": [],
   "source": [
    "# Autograde cell - do not erase/delete"
   ]
  },
  {
   "cell_type": "code",
   "execution_count": null,
   "metadata": {
    "deletable": false,
    "editable": false,
    "nbgrader": {
     "checksum": "f35d5e98febd9b6a502e7c8d6971ac1f",
     "grade": true,
     "grade_id": "cell-323b480c599a17ca",
     "locked": true,
     "points": 0,
     "schema_version": 1,
     "solution": false
    }
   },
   "outputs": [],
   "source": [
    "# Autograde cell - do not erase/delete"
   ]
  },
  {
   "cell_type": "code",
   "execution_count": null,
   "metadata": {
    "deletable": false,
    "editable": false,
    "nbgrader": {
     "checksum": "5dc20bddf3a67d29c35264bc3ee99cfe",
     "grade": true,
     "grade_id": "cell-5bd83bb060e3098d",
     "locked": true,
     "points": 0,
     "schema_version": 1,
     "solution": false
    }
   },
   "outputs": [],
   "source": [
    "# Autograde cell - do not erase/delete"
   ]
  },
  {
   "cell_type": "markdown",
   "metadata": {
    "deletable": false,
    "editable": false,
    "nbgrader": {
     "checksum": "e0ce52680d35ff50bb71e7c84573c696",
     "grade": false,
     "grade_id": "cell-2d3fb17759ce7be6",
     "locked": true,
     "schema_version": 1,
     "solution": false
    }
   },
   "source": [
    "**7-2. Extra Credit:** (2 points) Write a method called **war** that deals a card to the player and a card to the dealer from your deck.  Whomever has the highest ranked card wins - print them a nice message! (2 is the lowest rank and A is the highest).  If it is a tie - print a different message."
   ]
  },
  {
   "cell_type": "code",
   "execution_count": null,
   "metadata": {
    "deletable": false,
    "nbgrader": {
     "checksum": "5570ebf8a3b08dcf6b0de218e7966b37",
     "grade": true,
     "grade_id": "cell-f792b0aacbf4aeb1",
     "locked": false,
     "points": 2,
     "schema_version": 1,
     "solution": true
    }
   },
   "outputs": [],
   "source": [
    "# YOUR CODE HERE"
   ]
  },
  {
   "cell_type": "markdown",
   "metadata": {
    "deletable": false,
    "editable": false,
    "nbgrader": {
     "checksum": "08b4dadb0a017c2fe72aa4fec522243a",
     "grade": false,
     "grade_id": "cell-9fb0d10895402417",
     "locked": true,
     "schema_version": 1,
     "solution": false
    }
   },
   "source": [
    "## 7-3. Galton's Box\n",
    "\n",
    "The following figure depicts Galton's box, a game in which marbles are dropped through N rows of pins.  In row 0, there is one position a marble can be in (labeled 0), in row 1, there are two positions (labeled 0 and 1), and so forth.  Each time the marble bounces from one row to the next, there is a 50% probability it bounces left and a 50% probability it bounces right.\n",
    "\n",
    "<img src=\"Galton_Box.png\">\n",
    "<img src=\"Galton2.jpg\">\n",
    "\n",
    "Notice that if a marble is in position x of row y, and it bounces left, it ends up in position x of row y+1.  If it bounces right, it ends up in position x+1.\n",
    "\n",
    "1\\. Create a class, **Marble**, to represent a single Marble that will drop through Galton's Box. \n",
    "- Include attributes to represent the position of the marble.  \n",
    "- The ```__init__``` method should accept a one-character label for use when printing the Marble.\n",
    "\n",
    "2\\. Create a class, **GaltonBox**, to represent the overall setup.  You should include the following methods:\n",
    "\n",
    "- ```__init__``` - Your initializer should accept the size of the box, N.\n",
    "- ```insert_marble``` - This method should accept a Marble instance and sets its position to position 0, row 0.\n",
    "- ```time_step``` - This method should cause all Marbles in Galton's box to bounce to the next row, dropping left or right with equal probability.  When a marble reaches row N-1 at the bottom of the box, it should not move any more.  Note that you should simply allow marbles to occupy the same position (instead of working out a system to prevent a Marble from entering a position if another Marble is already there).\n",
    "- ```__str__ and __repr__``` - Include methods to display the Marbles currently in the box.  To keep things simple, if there are multiple Marbles in a given position, you only have to display one of the labels.\n",
    "\n",
    "Your classes should mimic the following behavior (except that the horizontal positions are random):\n",
    "\n",
    "```\n",
    ">>> m1 = Marble(\"x\")\n",
    ">>> m2 = Marble(\"o\")\n",
    ">>> box = GaltonBox(3)\n",
    ">>> box.insert_marble(m1)\n",
    ">>> box\n",
    "x\n",
    "--\n",
    "---\n",
    ">>> box.time_step()\n",
    ">>> box\n",
    "-\n",
    "-x\n",
    "---\n",
    ">>> box.insert_marble(m2)\n",
    ">>> box\n",
    "o\n",
    "-x\n",
    "---\n",
    ">>> box.time_step()\n",
    ">>> box\n",
    "-\n",
    "o-\n",
    "-x-\n",
    ">>> box.time_step()\n",
    ">>> box\n",
    "-\n",
    "--\n",
    "ox-\n",
    "```\n",
    "\n"
   ]
  },
  {
   "cell_type": "code",
   "execution_count": 2,
   "metadata": {
    "deletable": false,
    "nbgrader": {
     "checksum": "8781b079a4a85535107b3011845cfa2d",
     "grade": false,
     "grade_id": "cell-8dc0d52c853e6e25",
     "locked": false,
     "schema_version": 1,
     "solution": true
    }
   },
   "outputs": [],
   "source": [
    "# Ramiro Cadavid\n",
    "\n",
    "import random\n",
    "\n",
    "class Marble:\n",
    "    \"\"\" Represent a marble that will be dropped through the Galton's Box \"\"\"\n",
    "\n",
    "    def __init__(self, name):\n",
    "        self.name = name\n",
    "        self.position = None\n",
    "\n",
    "class GaltonBox:\n",
    "    \"\"\" Represent the overall setup of the game \"\"\"\n",
    "\n",
    "    def __init__(self, rows):\n",
    "        self.marbles = []\n",
    "        self.rows = rows\n",
    "    \n",
    "    def insert_marble(self, marble):\n",
    "        if marble in self.marbles:\n",
    "            print(\"The marble selected is already in the board. Please choose a different marble\")\n",
    "        else:\n",
    "            self.marbles.append(marble)\n",
    "            marble.position = [0, 0]        # column, row\n",
    "\n",
    "    def time_step(self):\n",
    "        for marble in self.marbles:\n",
    "            if marble.position[0] < self.rows - 1:\n",
    "                if random.choice(['Left', 'Right']) is 'Left':\n",
    "                    marble.position[0] += 1\n",
    "                else:\n",
    "                    marble.position[0] += 1 \n",
    "                    marble.position[1] += 1\n",
    "\n",
    "    def __repr__(self):\n",
    "        box_setup = []\n",
    "        \n",
    "        # Create the structure of the box with all '-'\n",
    "        for r in range(1, self.rows + 1):\n",
    "            box_setup.append(list('-' * r))\n",
    "        \n",
    "        # Place each marble in its position in the board\n",
    "        for m in self.marbles:\n",
    "            box_setup[m.position[0]][m.position[1]] = m.name\n",
    "        \n",
    "        # Make each row of box_setup a string\n",
    "        box_print = []\n",
    "        for i in range(len(box_setup)):\n",
    "                box_print.append(''.join(box_setup[i]) + '\\n')\n",
    "        \n",
    "        return str(''.join(box_print))"
   ]
  },
  {
   "cell_type": "code",
   "execution_count": 3,
   "metadata": {},
   "outputs": [
    {
     "name": "stdout",
     "output_type": "stream",
     "text": [
      "x\n",
      "--\n",
      "---\n",
      "----\n",
      "-----\n",
      "------\n",
      "-------\n",
      "--------\n",
      "\n",
      "-\n",
      "x-\n",
      "---\n",
      "----\n",
      "-----\n",
      "------\n",
      "-------\n",
      "--------\n",
      "\n",
      "o\n",
      "x-\n",
      "---\n",
      "----\n",
      "-----\n",
      "------\n",
      "-------\n",
      "--------\n",
      "\n",
      "n\n",
      "o-\n",
      "-x-\n",
      "----\n",
      "-----\n",
      "------\n",
      "-------\n",
      "--------\n",
      "\n"
     ]
    }
   ],
   "source": [
    "# The following two cells are used for testing\n",
    "m1 = Marble(\"x\")\n",
    "m2 = Marble(\"o\")\n",
    "m3 = Marble(\"n\")\n",
    "\n",
    "box = GaltonBox(8)\n",
    "box.insert_marble(m1)\n",
    "print(box)\n",
    "\n",
    "box.time_step()\n",
    "print(box)\n",
    "box.insert_marble(m2)\n",
    "print(box)\n",
    "box.time_step()\n",
    "box.insert_marble(m3)\n",
    "print(box)"
   ]
  },
  {
   "cell_type": "code",
   "execution_count": 10,
   "metadata": {},
   "outputs": [
    {
     "data": {
      "text/plain": [
       "-\n",
       "--\n",
       "---\n",
       "----\n",
       "-----\n",
       "------\n",
       "-------\n",
       "---n-o--"
      ]
     },
     "execution_count": 10,
     "metadata": {},
     "output_type": "execute_result"
    }
   ],
   "source": [
    "box.time_step()\n",
    "box"
   ]
  },
  {
   "cell_type": "code",
   "execution_count": null,
   "metadata": {
    "deletable": false,
    "editable": false,
    "nbgrader": {
     "checksum": "759a65e783dcb5d8eb9da0654d32ab01",
     "grade": true,
     "grade_id": "cell-4ef5047c5cc385e7",
     "locked": true,
     "points": 0,
     "schema_version": 1,
     "solution": false
    }
   },
   "outputs": [],
   "source": [
    "# Autograde cell - do not erase/delete"
   ]
  },
  {
   "cell_type": "code",
   "execution_count": null,
   "metadata": {
    "deletable": false,
    "editable": false,
    "nbgrader": {
     "checksum": "bff50a6b0d689e68e6860350d781cd30",
     "grade": true,
     "grade_id": "cell-cf2e80a27d490ec5",
     "locked": true,
     "points": 0,
     "schema_version": 1,
     "solution": false
    }
   },
   "outputs": [],
   "source": [
    "# Autograde cell - do not erase/delete"
   ]
  },
  {
   "cell_type": "code",
   "execution_count": null,
   "metadata": {
    "deletable": false,
    "editable": false,
    "nbgrader": {
     "checksum": "9efa1da4de2596b0c587b2bc51085587",
     "grade": true,
     "grade_id": "cell-4cf5d21d4f7ffb1b",
     "locked": true,
     "points": 0,
     "schema_version": 1,
     "solution": false
    }
   },
   "outputs": [],
   "source": [
    "# Autograde cell - do not erase/delete"
   ]
  },
  {
   "cell_type": "code",
   "execution_count": null,
   "metadata": {
    "deletable": false,
    "editable": false,
    "nbgrader": {
     "checksum": "4f6afa7bc8b6b035c076c67d1c4b07a7",
     "grade": true,
     "grade_id": "cell-cecaa549ab10f02b",
     "locked": true,
     "points": 0,
     "schema_version": 1,
     "solution": false
    }
   },
   "outputs": [],
   "source": [
    "# Autograde cell - do not erase/delete"
   ]
  },
  {
   "cell_type": "markdown",
   "metadata": {
    "deletable": false,
    "editable": false,
    "nbgrader": {
     "checksum": "61faf138d1a4d30bd635df186f413f8f",
     "grade": false,
     "grade_id": "cell-0d6fbf3d0326cbc4",
     "locked": true,
     "schema_version": 1,
     "solution": false
    }
   },
   "source": [
    "**7-3. Extra Credit: ** (2 points) Once your code is working, write a script to create a box with 20 rows, insert a few dozen Marbles, and repeatedly call time_step() until all Marbles are at the bottom.  Now adapt the following code to display a histogram of the final Marble positions.  What does the shape of the distribution look like?"
   ]
  },
  {
   "cell_type": "code",
   "execution_count": 11,
   "metadata": {
    "deletable": false,
    "editable": false,
    "nbgrader": {
     "checksum": "e226d32cb8dee9743e16faf4ac2b1829",
     "grade": false,
     "grade_id": "cell-ff1d95ccd995a9d3",
     "locked": true,
     "schema_version": 1,
     "solution": false
    }
   },
   "outputs": [
    {
     "data": {
      "text/plain": [
       "(array([1., 2., 3., 2., 0., 1.]),\n",
       " array([0.5, 1.5, 2.5, 3.5, 4.5, 5.5, 6.5]),\n",
       " <a list of 6 Patch objects>)"
      ]
     },
     "execution_count": 11,
     "metadata": {},
     "output_type": "execute_result"
    },
    {
     "data": {
      "image/png": "[encoded data removed]",
      "text/plain": [
       "<matplotlib.figure.Figure at 0x253cf4a8a20>"
      ]
     },
     "metadata": {},
     "output_type": "display_data"
    }
   ],
   "source": [
    "# Sample code below - you will have to adjust it to work for your code.\n",
    "\n",
    "%matplotlib inline\n",
    "import matplotlib.pyplot as plt\n",
    "import numpy as np\n",
    "\n",
    "x_positions = (2,3,4,6,7,4,3,2,3,1)\n",
    "cutoffs = np.arange(min(x_positions) - .5, max(x_positions)+.5)\n",
    "plt.hist(x_positions, bins = cutoffs)"
   ]
  },
  {
   "cell_type": "code",
   "execution_count": null,
   "metadata": {
    "deletable": false,
    "nbgrader": {
     "checksum": "495bc16160e16b5947cd5524c5bbbc92",
     "grade": true,
     "grade_id": "cell-d4119824e9396a02",
     "locked": false,
     "points": 1,
     "schema_version": 1,
     "solution": true
    }
   },
   "outputs": [],
   "source": [
    "# Ramiro Cadavid\n",
    "\n",
    "# Create a box with 20 rows\n",
    "\n",
    "# Insert a few dozen marbles\n",
    "\n",
    "# Repeat time_step() until all marbles are at the botton\n",
    "\n",
    "# Display histogram of the final marble positions (adapt code above)"
   ]
  },
  {
   "cell_type": "markdown",
   "metadata": {
    "deletable": false,
    "nbgrader": {
     "checksum": "234191f8d25e07f5c92cb3d66867b992",
     "grade": true,
     "grade_id": "cell-e86742ae1d24a577",
     "locked": false,
     "points": 1,
     "schema_version": 1,
     "solution": true
    }
   },
   "source": [
    "YOUR ANSWER HERE"
   ]
  },
  {
   "cell_type": "markdown",
   "metadata": {
    "deletable": false,
    "editable": false,
    "nbgrader": {
     "checksum": "cca6b855dacf8c961fe55378b3408684",
     "grade": false,
     "grade_id": "cell-d8aa3306267a8c97",
     "locked": true,
     "schema_version": 1,
     "solution": false
    }
   },
   "source": [
    "## 7-4. Sorting Marbles\n",
    "\n",
    "In a particular board game, there are N spaces in a row, numbered 0 through N - 1 from left to right. There are also N marbles, numbered 0 through N - 1, initially placed in some arbitrary order. After that, there are two moves available:\n",
    "\n",
    "- Switch: Switch the marbles in positions 0 and 1.\n",
    "- Rotate: Move the marble in position 0 to position N - 1, and move all other marbles one space to the left (one index lower).\n",
    "\n",
    "The objective is to arrange the marbles in order, with each marble i in position i.\n",
    "\n",
    "1\\. Write a class, **MarblesBoard**, to represent the game above. The class should be initialized with a particular sequence of Marbles.  \n",
    "- Write an ```__init__``` function that takes a starting sequence set of marbles (the number of each marble listed in the positions from 0 to N - 1). (Notice the sequence is a set)\n",
    "- Next, write switch() and rotate() methods to simulate the player's moves as described above. \n",
    "- Write a method, is_solved(), that returns True if the marbles are in the correct order.\n",
    "- Additionally, you may want to write ```__str__ and __repr__``` methods that display the current state of the board. \n",
    "\n",
    "Your class should behave like the following example:\n",
    "```\n",
    ">>> board = MarblesBoard((3,6,7,4,1,0,8,2,5)) \n",
    ">>> board \n",
    "3 6 7 4 1 0 8 2 5 \n",
    ">>> board.switch() \n",
    ">>> board \n",
    "6 3 7 4 1 0 8 2 5 \n",
    ">>> board.rotate() \n",
    ">>> board \n",
    "3 7 4 1 0 8 2 5 6 \n",
    ">>> board.switch() \n",
    ">>> board \n",
    "7 3 4 1 0 8 2 5 6\n",
    "```\n",
    "\n",
    "2\\. Write a second class, **Solver**, that actually plays the MarblesGame. \n",
    "- Your class will take a MarblesBoard in its initializer. \n",
    "- Write a solve() method that repeatedly calls the switch() and rotate() methods of the given MarblesBoard until the game is solved.  You should print the state of the board after each move.  Additionally, print out the total number of moves at the end.\n",
    "\n",
    "You are to come up with your own algorithm for solving the marbles game.  Before you write your solve() method, you may want to practice solving some small versions of the marbles game yourself.  \n",
    "\n",
    "Here is an example:\n",
    "\n",
    "```\n",
    ">>> board2 = MarblesBoard((1,3,0,2))\n",
    ">>> solver = Solver(board2)\n",
    ">>> solver.solve()\n",
    "1 3 0 2 \n",
    "3 0 2 1 \n",
    "0 2 1 3 \n",
    "2 1 3 0 \n",
    "1 2 3 0 \n",
    "2 3 0 1 \n",
    "3 0 1 2 \n",
    "0 1 2 3 \n",
    "total steps: 7\n",
    "```\n",
    "\n",
    "Your Solver does not need to follow the fastest possible running time but you should strive to make it reasonably efficient.   \n",
    "\n",
    "You may be interested to know that your program is a variation of a well-known sorting algorithm called bubble sort.  Bubble sort would normally be used on a list of items, not on a rotating track, but adapting your algorithm to this setting would be easy."
   ]
  },
  {
   "cell_type": "code",
   "execution_count": null,
   "metadata": {
    "deletable": false,
    "nbgrader": {
     "checksum": "cfffb8bf30abfb18983b116b83a8ecfa",
     "grade": false,
     "grade_id": "cell-4591333e9bb4a2db",
     "locked": false,
     "schema_version": 1,
     "solution": true
    }
   },
   "outputs": [],
   "source": [
    "# YOUR CODE HERE"
   ]
  },
  {
   "cell_type": "code",
   "execution_count": null,
   "metadata": {
    "deletable": false,
    "editable": false,
    "nbgrader": {
     "checksum": "5c4ea206c0c86ddfaadae180e07487ac",
     "grade": true,
     "grade_id": "cell-4fb9194c51a4218d",
     "locked": true,
     "points": 0,
     "schema_version": 1,
     "solution": false
    }
   },
   "outputs": [],
   "source": [
    "# Autograde cell - do not erase/delete"
   ]
  },
  {
   "cell_type": "code",
   "execution_count": null,
   "metadata": {
    "deletable": false,
    "editable": false,
    "nbgrader": {
     "checksum": "e150c39c4a4311c5046e7682ba148afe",
     "grade": true,
     "grade_id": "cell-cbba3ccd48d3e180",
     "locked": true,
     "points": 0,
     "schema_version": 1,
     "solution": false
    }
   },
   "outputs": [],
   "source": [
    "# Autograde cell - do not erase/delete"
   ]
  },
  {
   "cell_type": "code",
   "execution_count": null,
   "metadata": {
    "deletable": false,
    "editable": false,
    "nbgrader": {
     "checksum": "ab12436916bc522d201f7cdc7bab7a5f",
     "grade": true,
     "grade_id": "cell-7453b5dbb1ec30fd",
     "locked": true,
     "points": 0,
     "schema_version": 1,
     "solution": false
    }
   },
   "outputs": [],
   "source": [
    "# Autograde cell - do not erase/delete"
   ]
  },
  {
   "cell_type": "code",
   "execution_count": null,
   "metadata": {
    "deletable": false,
    "editable": false,
    "nbgrader": {
     "checksum": "4001c908fb115231d041a67e3c5d801c",
     "grade": true,
     "grade_id": "cell-66c5e7635b517fa8",
     "locked": true,
     "points": 0,
     "schema_version": 1,
     "solution": false
    }
   },
   "outputs": [],
   "source": [
    "# Autograde cell - do not erase/delete"
   ]
  },
  {
   "cell_type": "code",
   "execution_count": null,
   "metadata": {
    "deletable": false,
    "editable": false,
    "nbgrader": {
     "checksum": "cd32e671cb40af6048014cda44153278",
     "grade": true,
     "grade_id": "cell-5bdc859879cfd92e",
     "locked": true,
     "points": 0,
     "schema_version": 1,
     "solution": false
    }
   },
   "outputs": [],
   "source": [
    "# Autograde cell - do not erase/delete"
   ]
  },
  {
   "cell_type": "markdown",
   "metadata": {
    "deletable": false,
    "editable": false,
    "nbgrader": {
     "checksum": "41bc1a8ffcf1988feb8ef9170337a359",
     "grade": false,
     "grade_id": "cell-e55bf2766c88246f",
     "locked": true,
     "schema_version": 1,
     "solution": false
    }
   },
   "source": [
    "**7-4. Extra Credit:** (2 points) Below, explain what the big-O running time of your algorithm is."
   ]
  },
  {
   "cell_type": "markdown",
   "metadata": {
    "deletable": false,
    "nbgrader": {
     "checksum": "a609412249a8763f7c578b692d9e7fc9",
     "grade": true,
     "grade_id": "cell-fc4969c14c4704e8",
     "locked": false,
     "points": 0,
     "schema_version": 1,
     "solution": true
    }
   },
   "source": [
    "YOUR ANSWER HERE"
   ]
  }
 ],
 "metadata": {
  "kernelspec": {
   "display_name": "Python 3",
   "language": "python",
   "name": "python3"
  },
  "language_info": {
   "codemirror_mode": {
    "name": "ipython",
    "version": 3
   },
   "file_extension": ".py",
   "mimetype": "text/x-python",
   "name": "python",
   "nbconvert_exporter": "python",
   "pygments_lexer": "ipython3",
   "version": "3.6.4"
  }
 },
 "nbformat": 4,
 "nbformat_minor": 1
}
